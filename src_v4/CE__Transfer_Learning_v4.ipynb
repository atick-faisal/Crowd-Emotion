{
  "nbformat": 4,
  "nbformat_minor": 0,
  "metadata": {
    "colab": {
      "name": "CE_TE_MobileNet_v4.ipynb",
      "provenance": [],
      "mount_file_id": "https://github.com/atick-faisal/Crowd-Emotion/blob/main/src_v4/CE__Transfer_Learning_v4.ipynb",
      "authorship_tag": "ABX9TyNQql09UeZvJ1UHHdlYrwXS",
      "include_colab_link": true
    },
    "kernelspec": {
      "name": "python3",
      "display_name": "Python 3"
    },
    "language_info": {
      "name": "python"
    },
    "accelerator": "GPU"
  },
  "cells": [
    {
      "cell_type": "markdown",
      "metadata": {
        "id": "view-in-github",
        "colab_type": "text"
      },
      "source": [
        "<a href=\"https://colab.research.google.com/github/atick-faisal/Crowd-Emotion/blob/main/src_v4/CE__Transfer_Learning_v4.ipynb\" target=\"_parent\"><img src=\"https://colab.research.google.com/assets/colab-badge.svg\" alt=\"Open In Colab\"/></a>"
      ]
    },
    {
      "cell_type": "code",
      "metadata": {
        "id": "aplzJ78m29hE",
        "colab": {
          "base_uri": "https://localhost:8080/",
          "height": 35
        },
        "outputId": "ef30589d-92ed-47c0-89f8-41aa75014fd3"
      },
      "source": [
        "import os\n",
        "import time\n",
        "import json\n",
        "import joblib\n",
        "import datetime\n",
        "import numpy as np\n",
        "import seaborn as sns\n",
        "import matplotlib.pyplot as plt\n",
        "\n",
        "import tensorflow as tf\n",
        "\n",
        "from sklearn.utils import shuffle\n",
        "from sklearn.metrics import classification_report, confusion_matrix\n",
        "\n",
        "tf.random.set_seed(42)\n",
        "\n",
        "tf.__version__"
      ],
      "execution_count": 20,
      "outputs": [
        {
          "output_type": "execute_result",
          "data": {
            "application/vnd.google.colaboratory.intrinsic+json": {
              "type": "string"
            },
            "text/plain": [
              "'2.4.1'"
            ]
          },
          "metadata": {
            "tags": []
          },
          "execution_count": 20
        }
      ]
    },
    {
      "cell_type": "code",
      "metadata": {
        "id": "ZLcNGdYIWzJN"
      },
      "source": [
        "CONFIG = {\n",
        "    'timestamp'             : str(datetime.datetime.now()),\n",
        "    'base_model'            : 'mobile_net_v2',\n",
        "    'img_shape'             : (288, 288, 3),\n",
        "    'input_shape'           : (160, 160, 3),\n",
        "    'spec_config'           : 'LOG_SPEC_W400_H200_HAMM_IMG288',\n",
        "    'test_fold'             : 'Fold 1',\n",
        "    'architecture'          : '',\n",
        "    'batch_size'            : 32,\n",
        "    'epochs'                : 0,\n",
        "    'learning_rate'         : 0.0001,\n",
        "    'monitor'               : 'val_loss',\n",
        "    'patience'              : 3,\n",
        "    'class_weight'          : { 0: 0.71, 1:  2.32, 2: 0.86 },\n",
        "    'training_time'         : 0,\n",
        "    'testing_time'          : 0,\n",
        "    'cm_atick'              : '',\n",
        "    'cr_atick'              : '',\n",
        "    'cm_valentina'          : '',\n",
        "    'cr_valentina'          : ''\n",
        "}"
      ],
      "execution_count": 21,
      "outputs": []
    },
    {
      "cell_type": "code",
      "metadata": {
        "id": "BtjV2y_jXCXT"
      },
      "source": [
        "BASE_DIR_AF         = '/content/drive/MyDrive/Research/Crowd Emotion v4/'\n",
        "BASE_DIR_VAL        = '/content/drive/MyDrive/Research/Crowd Emotion Val/'\n",
        "DATASET_DIR         = 'Dataset_AF/'\n",
        "\n",
        "LOG_FILE            = '/content/drive/MyDrive/Research/Crowd Emotion Logs/tl_specgrams.txt'\n",
        "FOLDS               = ['Fold 1', 'Fold 2', 'Fold 3', 'Fold 4', 'Fold 5']\n",
        "EMOTIONS            = ['Approval', 'Disapproval', 'Neutral']\n"
      ],
      "execution_count": 22,
      "outputs": []
    },
    {
      "cell_type": "code",
      "metadata": {
        "id": "BNDbuUmAEu2m"
      },
      "source": [
        "path_AF   = os.path.join(BASE_DIR_AF, DATASET_DIR)\n",
        "X_AF      = joblib.load(path_AF + CONFIG['spec_config'] + '_X.joblib')\n",
        "y_AF      = joblib.load(path_AF + CONFIG['spec_config'] + '_y.joblib')\n",
        "f_AF      = joblib.load(path_AF + CONFIG['spec_config'] + '_f.joblib')\n",
        "c_AF      = joblib.load(path_AF + CONFIG['spec_config'] + '_f.joblib')\n",
        "\n",
        "path_VAL  = os.path.join(BASE_DIR_VAL, DATASET_DIR)\n",
        "test_X    = joblib.load(path_VAL + CONFIG['spec_config'] + '_X.joblib')\n",
        "test_y    = joblib.load(path_VAL + CONFIG['spec_config'] + '_y.joblib')\n",
        "\n",
        "mask      = (f_AF == FOLDS.index(CONFIG['test_fold']))\n",
        "train_X   = X_AF[~mask, :]\n",
        "train_y   = y_AF[~mask, :]\n",
        "val_X     = X_AF[mask, :]\n",
        "val_y     = y_AF[mask, :]\n",
        "\n",
        "del X_AF"
      ],
      "execution_count": null,
      "outputs": []
    },
    {
      "cell_type": "code",
      "metadata": {
        "id": "xR6FTNvwW26_"
      },
      "source": [
        "class TransferLearning():\n",
        "    def __init__(self, config):\n",
        "\n",
        "        self.base_model = config['base_model']\n",
        "        self.img_size = config['img_shape']\n",
        "        self.input_shape = config['input_shape']\n",
        "        self.learning_rate = config['learning_rate']\n",
        "        self.batch_size = config['batch_size']\n",
        "        self.epochs = config['epochs']\n",
        "        self.monitor = config['monitor']\n",
        "        self.patience = config['patience']\n",
        "        self.class_weight = config['class_weight']\n",
        "\n",
        "        if self.base_model == 'mobile_net_v2':\n",
        "            self.base_model = tf.keras.applications.MobileNetV2(\n",
        "                input_shape     = self.input_shape,\n",
        "                include_top     = False,\n",
        "                weights         = 'imagenet'\n",
        "            )\n",
        "            self.base_model.trainable = False\n",
        "            self.preprocess = tf.keras.applications.mobilenet_v2.preprocess_input\n",
        "            self.model = None\n",
        "            self.callbacks = None\n",
        "\n",
        "    def __init_model(self, num_classes):\n",
        "        inputs = tf.keras.Input(shape=self.img_shape)\n",
        "        x = tf.keras.layers.experimental.preprocessing.Resizing(\n",
        "            height = self.input_shape[0],\n",
        "            width  = self.input_shape[1]\n",
        "        )(inputs)\n",
        "        x = self.preprocess(x)\n",
        "        x = self.base_model(x, training=False)\n",
        "        x = tf.keras.layers.GlobalAveragePooling2D()(x)\n",
        "        x = tf.keras.layers.Dropout(0.2)(x)\n",
        "        outputs = tf.keras.layers.Dense(num_classes)(x)\n",
        "        self.model = tf.keras.Model(inputs, outputs)\n",
        "        self.model.compile(\n",
        "            optimizer      = tf.keras.optimizers.Adam(lr=self.learning_rate),\n",
        "            loss           = tf.keras.losses.SparseCategoricalCrossentropy(from_logits=True),\n",
        "            metrics        = ['accuracy']\n",
        "        )\n",
        "\n",
        "    def __init_callbacks(self):\n",
        "        early_stopping = tf.keras.callbacks.EarlyStopping(\n",
        "            monitor        = self.monitor,\n",
        "            patience       = self.patience,\n",
        "            verbose        = 1\n",
        "        )\n",
        "        self.callbacks = [\n",
        "                          early_stopping,\n",
        "        ]\n",
        "\n",
        "    def fit(self, train_X, train_y, val_X, val_y):\n",
        "        num_classes = np.unique(train_y).shape[0]\n",
        "        self.__init_model(num_classes)\n",
        "        self.__init_callbacks()\n",
        "        history = self.model.fit(\n",
        "            x                 = train_X,\n",
        "            y                 = train_y,\n",
        "            batch_size        = self.batch_size,\n",
        "            epochs            = self.epochs,\n",
        "            verbose           = 1,\n",
        "            validation_data   = (val_X, val_y),\n",
        "            shuffle           = True,\n",
        "            callbacks         = self.callbacks,\n",
        "            class_weight      = self.class_weight\n",
        "        )\n",
        "    \n",
        "        return self.model, history \n",
        "\n",
        "    def evaluate(self, test_X, test_y):\n",
        "        prob_model = tf.keras.Sequential([self.model, tf.keras.layers.Softmax()])\n",
        "        y_pred_hot = prob_model.predict(test_X)\n",
        "        y_pred = np.argmax(y_pred_hot, axis=1)\n",
        "        return classification_report(test_y.ravel(), y_pred)"
      ],
      "execution_count": null,
      "outputs": []
    },
    {
      "cell_type": "code",
      "metadata": {
        "id": "XtywXo6EgU5m"
      },
      "source": [
        "%%time\n",
        "start_time = time.time()\n",
        "\n",
        "tl = TransferLearning(CONFIG)\n",
        "model, history = tl.fit(train_X, train_y, val_X, val_y)\n",
        "\n",
        "training_time = time.time() - start_time\n"
      ],
      "execution_count": null,
      "outputs": []
    },
    {
      "cell_type": "code",
      "metadata": {
        "id": "a5bbjuXNi993"
      },
      "source": [
        "%%time\n",
        "\n",
        "# ---------------- Testing on valentina's data -------------------\n",
        "\n",
        "start_time = time.time()\n",
        "\n",
        "loss, accuracy = model.evaluate(test_X, test_y, batch_size=CONFIG['batch_size'])\n",
        "\n",
        "print(\"Loss: \", loss)\n",
        "print(\"Accuracy: \", accuracy)\n",
        "\n",
        "testing_time = time.time() - start_time"
      ],
      "execution_count": null,
      "outputs": []
    },
    {
      "cell_type": "code",
      "metadata": {
        "id": "xggJxTv6mg1a"
      },
      "source": [
        "metrics = history.history\n",
        "plt.plot(history.epoch, metrics['loss'], metrics['val_loss'])\n",
        "plt.legend(['loss', 'val_loss'])\n",
        "plt.show()"
      ],
      "execution_count": null,
      "outputs": []
    },
    {
      "cell_type": "code",
      "metadata": {
        "id": "5REH-8jemmsh"
      },
      "source": [
        "# ------------------ Testing on Aticks's data -----------------\n",
        "\n",
        "y_true = val_y.ravel()\n",
        "y_pred = np.argmax(model.predict(val_ds), axis=1)\n",
        "\n",
        "result_atick = classification_report(y_true, y_pred)\n",
        "print(result_atick)"
      ],
      "execution_count": null,
      "outputs": []
    },
    {
      "cell_type": "code",
      "metadata": {
        "id": "KQYS9CJeN20E"
      },
      "source": [
        "# confusion_mtx_atick = tf.math.confusion_matrix(y_true, y_pred) \n",
        "confusion_mtx_atick = (confusion_matrix(y_true, y_pred, normalize='true') * 100).astype('int')\n",
        "plt.figure(figsize=(10, 8))\n",
        "sns.heatmap(confusion_mtx_atick, xticklabels=EMOTIONS, yticklabels=EMOTIONS, \n",
        "            annot=True, fmt='g')\n",
        "plt.xlabel('Prediction')\n",
        "plt.ylabel('Label')\n",
        "plt.show()"
      ],
      "execution_count": null,
      "outputs": []
    },
    {
      "cell_type": "code",
      "metadata": {
        "id": "ox-Zy8BtN44E"
      },
      "source": [
        "# ------------------ Testing on Valentina's data -----------------\n",
        "\n",
        "y_true = test_y.ravel()\n",
        "y_pred = np.argmax(model.predict(test_ds), axis=1)\n",
        "\n",
        "result_valentina = classification_report(y_true, y_pred)\n",
        "print(result_valentina)"
      ],
      "execution_count": null,
      "outputs": []
    },
    {
      "cell_type": "code",
      "metadata": {
        "id": "jPFqf5KCN-G9"
      },
      "source": [
        "# confusion_mtx_valentina = tf.math.confusion_matrix(y_true, y_pred) \n",
        "confusion_mtx_valentina = (confusion_matrix(y_true, y_pred, normalize='true') * 100).astype('int')\n",
        "plt.figure(figsize=(10, 8))\n",
        "sns.heatmap(confusion_mtx_valentina, xticklabels=EMOTIONS, yticklabels=EMOTIONS, \n",
        "            annot=True, fmt='g')\n",
        "plt.xlabel('Prediction')\n",
        "plt.ylabel('Label')\n",
        "plt.show()"
      ],
      "execution_count": null,
      "outputs": []
    },
    {
      "cell_type": "code",
      "metadata": {
        "id": "FRLoeUGeOAMh"
      },
      "source": [
        "summary = []\n",
        "model.summary(print_fn=lambda x: summary.append(x))\n",
        "CONFIG['architecture'] = summary\n",
        "CONFIG['epochs'] = max(history.epoch)\n",
        "CONFIG['training_time'] = training_time\n",
        "CONFIG['testing_time'] = testing_time\n",
        "CONFIG['cm_atick'] = np.array2string(confusion_mtx_atick)\n",
        "result_list_atick = result_atick.split('\\n')\n",
        "CONFIG['cr_atick'] = result_list_atick\n",
        "CONFIG['cm_valentina'] = np.array2string(confusion_mtx_valentina)\n",
        "result_list_valentina = result_valentina.split('\\n')\n",
        "CONFIG['cr_valentina'] = result_list_valentina"
      ],
      "execution_count": null,
      "outputs": []
    },
    {
      "cell_type": "code",
      "metadata": {
        "id": "84fnBlWoOH-w"
      },
      "source": [
        "config = json.dumps(CONFIG, indent=4)\n",
        "print(config)"
      ],
      "execution_count": null,
      "outputs": []
    },
    {
      "cell_type": "code",
      "metadata": {
        "id": "UyTRK411OKSn"
      },
      "source": [
        "f = open(LOG_FILE, 'a')\n",
        "f.write('\\n')\n",
        "f.write(config)\n",
        "f.write('\\n')\n",
        "f.close()"
      ],
      "execution_count": null,
      "outputs": []
    }
  ]
}