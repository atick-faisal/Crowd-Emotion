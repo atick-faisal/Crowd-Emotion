{
  "nbformat": 4,
  "nbformat_minor": 0,
  "metadata": {
    "colab": {
      "name": "CE_CNN_v4.ipynb",
      "provenance": [],
      "mount_file_id": "https://github.com/atick-faisal/Crowd-Emotion/blob/main/src_v4/CE__CNN_v4.ipynb",
      "authorship_tag": "ABX9TyNZdfjsfqzfAkEvk3sEZr1M",
      "include_colab_link": true
    },
    "kernelspec": {
      "name": "python3",
      "display_name": "Python 3"
    },
    "language_info": {
      "name": "python"
    },
    "accelerator": "GPU"
  },
  "cells": [
    {
      "cell_type": "markdown",
      "metadata": {
        "id": "view-in-github",
        "colab_type": "text"
      },
      "source": [
        "<a href=\"https://colab.research.google.com/github/atick-faisal/Crowd-Emotion/blob/main/src_v4/CE__CNN_v4.ipynb\" target=\"_parent\"><img src=\"https://colab.research.google.com/assets/colab-badge.svg\" alt=\"Open In Colab\"/></a>"
      ]
    },
    {
      "cell_type": "code",
      "metadata": {
        "id": "aplzJ78m29hE",
        "colab": {
          "base_uri": "https://localhost:8080/",
          "height": 35
        },
        "outputId": "a95e4986-aa35-497a-9a5e-e2dfb7af2d3c"
      },
      "source": [
        "import os\n",
        "import json\n",
        "import joblib\n",
        "import numpy as np\n",
        "import tensorflow as tf\n",
        "\n",
        "from sklearn.utils import shuffle\n",
        "from sklearn.metrics import classification_report, accuracy_score\n",
        "\n",
        "tf.__version__"
      ],
      "execution_count": 1,
      "outputs": [
        {
          "output_type": "execute_result",
          "data": {
            "application/vnd.google.colaboratory.intrinsic+json": {
              "type": "string"
            },
            "text/plain": [
              "'2.4.1'"
            ]
          },
          "metadata": {
            "tags": []
          },
          "execution_count": 1
        }
      ]
    },
    {
      "cell_type": "code",
      "metadata": {
        "id": "ENLuDQIchauJ"
      },
      "source": [
        "CONFIG = {\n",
        "    'BASE_DIR_AF'      : '/content/drive/MyDrive/Research/Crowd Emotion v4/',\n",
        "    'BASE_DIR_VAL'     : '/content/drive/MyDrive/Research/Crowd Emotion Val/',\n",
        "    'WINDOWS_DIR'      : 'Windows/',\n",
        "    'DATASET_DIR'      : 'Dataset_STFT/',\n",
        "    'LOG_DIR'          : 'Logs/',\n",
        "    'FOLDS'            : ['Fold 1', 'Fold 2', 'Fold 3', 'Fold 4', 'Fold 5'],\n",
        "    'EMOTIONS'         : ['Approval', 'Disapproval', 'Neutral'],\n",
        "\n",
        "    'DATASET_SHAPE'    : (14882, 219, 201),\n",
        "\n",
        "    'FRAME_LEN'        : 400,\n",
        "    'FRAME_STEP'       : 200,\n",
        "    'FFT_LEN'          : 400,\n",
        "\n",
        "    'STFT_CONFIG'      : 'FL_400_FS_200_FFT_400',\n",
        "\n",
        "    'TEST_FOLD'        : 'Fold 1',\n",
        "    'EPOCHS'           : 10,\n",
        "    'LEARNING_RATE'    : 0.001,\n",
        "}"
      ],
      "execution_count": 2,
      "outputs": []
    },
    {
      "cell_type": "code",
      "metadata": {
        "id": "I2HuqjDmiHO0"
      },
      "source": [
        "# count = 0\n",
        "\n",
        "# X = np.zeros(CONFIG['DATASET_SHAPE'], dtype='float16')\n",
        "# y = np.zeros((CONFIG['DATASET_SHAPE'][0], 1), dtype='uint8')\n",
        "# f = np.zeros((CONFIG['DATASET_SHAPE'][0], ), dtype='uint8') \n",
        "# c = np.zeros((CONFIG['DATASET_SHAPE'][0], ), dtype='uint8') \n",
        "\n",
        "# for emotion in CONFIG['EMOTIONS']:\n",
        "#     print('processing audio for ' + emotion, end=' ... ')\n",
        "#     for fold in CONFIG['FOLDS']:\n",
        "#         fold_path = os.path.join(\n",
        "#             CONFIG['BASE_DIR_AF'],\n",
        "#             CONFIG['WINDOWS_DIR'],\n",
        "#             emotion,\n",
        "#             fold\n",
        "#         )\n",
        "#         filenames = os.listdir(fold_path)\n",
        "#         for filename in filenames:\n",
        "#             file_path = os.path.join(fold_path, filename)\n",
        "#             data = joblib.load(file_path)\n",
        "\n",
        "#             for i in range(data.shape[0]):\n",
        "#                 x = data[i, :]\n",
        "#                 spectrogram = tf.signal.stft(\n",
        "#                    signals        = x,\n",
        "#                    frame_length   = CONFIG['FRAME_LEN'],\n",
        "#                    frame_step     = CONFIG['FRAME_STEP'],\n",
        "#                    fft_length     = CONFIG['FFT_LEN'],\n",
        "#                    window_fn      = tf.signal.hamming_window\n",
        "#                 )\n",
        "                \n",
        "#                 magnitude = tf.abs(spectrogram).numpy()\n",
        "\n",
        "#                 X[count, :] = magnitude\n",
        "#                 y[count, :] = CONFIG['EMOTIONS'].index(emotion)\n",
        "#                 f[count] = CONFIG['FOLDS'].index(fold)\n",
        "#                 c[count] = int(filename[7:11])\n",
        "\n",
        "#                 count += 1\n",
        "\n",
        "#     print('√')"
      ],
      "execution_count": 3,
      "outputs": []
    },
    {
      "cell_type": "code",
      "metadata": {
        "id": "DDO6GF85VjWW"
      },
      "source": [
        "# joblib.dump(X, os.path.join(CONFIG['BASE_DIR_AF'], CONFIG['DATASET_DIR'], CONFIG['STFT_CONFIG'] + '_X.joblib'))\n",
        "# joblib.dump(y, os.path.join(CONFIG['BASE_DIR_AF'], CONFIG['DATASET_DIR'], CONFIG['STFT_CONFIG'] + '_y.joblib'))\n",
        "# joblib.dump(f, os.path.join(CONFIG['BASE_DIR_AF'], CONFIG['DATASET_DIR'], CONFIG['STFT_CONFIG'] + '_f.joblib'))\n",
        "# joblib.dump(c, os.path.join(CONFIG['BASE_DIR_AF'], CONFIG['DATASET_DIR'], CONFIG['STFT_CONFIG'] + '_c.joblib'))"
      ],
      "execution_count": 4,
      "outputs": []
    },
    {
      "cell_type": "code",
      "metadata": {
        "id": "82_MI5KkaqZ0"
      },
      "source": [
        "X = joblib.load(os.path.join(CONFIG['BASE_DIR_AF'], CONFIG['DATASET_DIR'], CONFIG['STFT_CONFIG'] + '_X.joblib'))\n",
        "y = joblib.load(os.path.join(CONFIG['BASE_DIR_AF'], CONFIG['DATASET_DIR'], CONFIG['STFT_CONFIG'] + '_y.joblib'))\n",
        "f = joblib.load(os.path.join(CONFIG['BASE_DIR_AF'], CONFIG['DATASET_DIR'], CONFIG['STFT_CONFIG'] + '_f.joblib'))\n",
        "c = joblib.load(os.path.join(CONFIG['BASE_DIR_AF'], CONFIG['DATASET_DIR'], CONFIG['STFT_CONFIG'] + '_c.joblib'))"
      ],
      "execution_count": 5,
      "outputs": []
    },
    {
      "cell_type": "code",
      "metadata": {
        "id": "HzfBgtTSWzOW"
      },
      "source": [
        "mask      = (f == CONFIG['FOLDS'].index(CONFIG['TEST_FOLD']))\n",
        "train_X   = X[~mask, :]\n",
        "train_y   = y[~mask, :]\n",
        "val_X     = X[mask, :]\n",
        "val_y     = y[mask, :]"
      ],
      "execution_count": 6,
      "outputs": []
    },
    {
      "cell_type": "code",
      "metadata": {
        "id": "bvJU4ywPXNIG"
      },
      "source": [
        "norm_layer = tf.keras.layers.experimental.preprocessing.Normalization()\n",
        "norm_layer.adapt(X)"
      ],
      "execution_count": 7,
      "outputs": []
    },
    {
      "cell_type": "code",
      "metadata": {
        "id": "zCwvzFEqYioi",
        "outputId": "ad7d0292-9593-4c68-ea53-791529f3d8f1",
        "colab": {
          "base_uri": "https://localhost:8080/"
        }
      },
      "source": [
        "model = tf.keras.models.Sequential([\n",
        "    tf.keras.layers.Input(shape=(219, 201, 1)),\n",
        "    tf.keras.layers.experimental.preprocessing.Resizing(32, 32), \n",
        "    norm_layer,\n",
        "    tf.keras.layers.Conv2D(32, 3, activation='relu'),\n",
        "    tf.keras.layers.Conv2D(64, 3, activation='relu'),\n",
        "    tf.keras.layers.MaxPooling2D(),\n",
        "    tf.keras.layers.Dropout(0.25),\n",
        "    tf.keras.layers.Flatten(),\n",
        "    tf.keras.layers.Dense(128, activation='relu'),\n",
        "    tf.keras.layers.Dropout(0.5),\n",
        "    tf.keras.layers.Dense(3),\n",
        "])\n",
        "\n",
        "model.summary()"
      ],
      "execution_count": 8,
      "outputs": [
        {
          "output_type": "stream",
          "text": [
            "Model: \"sequential\"\n",
            "_________________________________________________________________\n",
            "Layer (type)                 Output Shape              Param #   \n",
            "=================================================================\n",
            "resizing (Resizing)          (None, 32, 32, 1)         0         \n",
            "_________________________________________________________________\n",
            "normalization (Normalization (None, 32, 32, 201)       403       \n",
            "_________________________________________________________________\n",
            "conv2d (Conv2D)              (None, 30, 30, 32)        57920     \n",
            "_________________________________________________________________\n",
            "conv2d_1 (Conv2D)            (None, 28, 28, 64)        18496     \n",
            "_________________________________________________________________\n",
            "max_pooling2d (MaxPooling2D) (None, 14, 14, 64)        0         \n",
            "_________________________________________________________________\n",
            "dropout (Dropout)            (None, 14, 14, 64)        0         \n",
            "_________________________________________________________________\n",
            "flatten (Flatten)            (None, 12544)             0         \n",
            "_________________________________________________________________\n",
            "dense (Dense)                (None, 128)               1605760   \n",
            "_________________________________________________________________\n",
            "dropout_1 (Dropout)          (None, 128)               0         \n",
            "_________________________________________________________________\n",
            "dense_1 (Dense)              (None, 3)                 387       \n",
            "=================================================================\n",
            "Total params: 1,682,966\n",
            "Trainable params: 1,682,563\n",
            "Non-trainable params: 403\n",
            "_________________________________________________________________\n"
          ],
          "name": "stdout"
        }
      ]
    },
    {
      "cell_type": "code",
      "metadata": {
        "id": "3Uy2B6YIZY2t"
      },
      "source": [
        "model.compile(\n",
        "    optimizer=tf.keras.optimizers.Adam(learning_rate=0.000001),\n",
        "    loss=tf.keras.losses.SparseCategoricalCrossentropy(from_logits=True),\n",
        "    metrics=['accuracy'],\n",
        ")"
      ],
      "execution_count": 9,
      "outputs": []
    },
    {
      "cell_type": "code",
      "metadata": {
        "id": "l7i0C2XAaIdc",
        "outputId": "a521e51c-5314-4e15-f932-6ec08ddebea9",
        "colab": {
          "base_uri": "https://localhost:8080/"
        }
      },
      "source": [
        "history = model.fit(\n",
        "    train_X,\n",
        "    train_y, \n",
        "    validation_data=(val_X, val_y),  \n",
        "    epochs=100,\n",
        "    callbacks=tf.keras.callbacks.EarlyStopping(verbose=1, patience=2),\n",
        ")"
      ],
      "execution_count": 10,
      "outputs": [
        {
          "output_type": "stream",
          "text": [
            "Epoch 1/100\n",
            "375/375 [==============================] - 8s 13ms/step - loss: 83.1316 - accuracy: 0.4294 - val_loss: 22.1101 - val_accuracy: 0.4124\n",
            "Epoch 2/100\n",
            "375/375 [==============================] - 4s 9ms/step - loss: 58.8473 - accuracy: 0.3996 - val_loss: 15.6122 - val_accuracy: 0.4544\n",
            "Epoch 3/100\n",
            "375/375 [==============================] - 4s 9ms/step - loss: 43.0170 - accuracy: 0.4180 - val_loss: 11.7018 - val_accuracy: 0.4967\n",
            "Epoch 4/100\n",
            "375/375 [==============================] - 4s 9ms/step - loss: 31.4808 - accuracy: 0.4442 - val_loss: 8.0894 - val_accuracy: 0.5272\n",
            "Epoch 5/100\n",
            "375/375 [==============================] - 4s 9ms/step - loss: 22.3198 - accuracy: 0.4619 - val_loss: 6.4781 - val_accuracy: 0.5428\n",
            "Epoch 6/100\n",
            "375/375 [==============================] - 4s 9ms/step - loss: 18.2160 - accuracy: 0.4792 - val_loss: 5.0044 - val_accuracy: 0.5709\n",
            "Epoch 7/100\n",
            "375/375 [==============================] - 4s 9ms/step - loss: 14.2851 - accuracy: 0.4788 - val_loss: 3.9129 - val_accuracy: 0.5852\n",
            "Epoch 8/100\n",
            "375/375 [==============================] - 4s 9ms/step - loss: 10.9840 - accuracy: 0.4983 - val_loss: 3.2159 - val_accuracy: 0.6122\n",
            "Epoch 9/100\n",
            "375/375 [==============================] - 4s 9ms/step - loss: 8.9531 - accuracy: 0.5058 - val_loss: 2.5998 - val_accuracy: 0.6289\n",
            "Epoch 10/100\n",
            "375/375 [==============================] - 4s 9ms/step - loss: 7.3429 - accuracy: 0.5228 - val_loss: 2.1248 - val_accuracy: 0.6604\n",
            "Epoch 11/100\n",
            "375/375 [==============================] - 4s 9ms/step - loss: 6.0516 - accuracy: 0.5120 - val_loss: 1.7960 - val_accuracy: 0.6958\n",
            "Epoch 12/100\n",
            "375/375 [==============================] - 4s 10ms/step - loss: 5.0103 - accuracy: 0.5368 - val_loss: 1.5053 - val_accuracy: 0.7079\n",
            "Epoch 13/100\n",
            "375/375 [==============================] - 4s 10ms/step - loss: 4.2920 - accuracy: 0.5317 - val_loss: 1.2924 - val_accuracy: 0.7260\n",
            "Epoch 14/100\n",
            "375/375 [==============================] - 4s 9ms/step - loss: 3.5241 - accuracy: 0.5386 - val_loss: 1.1538 - val_accuracy: 0.7319\n",
            "Epoch 15/100\n",
            "375/375 [==============================] - 4s 9ms/step - loss: 2.9801 - accuracy: 0.5410 - val_loss: 1.0462 - val_accuracy: 0.7367\n",
            "Epoch 16/100\n",
            "375/375 [==============================] - 4s 9ms/step - loss: 2.5826 - accuracy: 0.5548 - val_loss: 0.9724 - val_accuracy: 0.7371\n",
            "Epoch 17/100\n",
            "375/375 [==============================] - 4s 9ms/step - loss: 2.3008 - accuracy: 0.5541 - val_loss: 0.9239 - val_accuracy: 0.7458\n",
            "Epoch 18/100\n",
            "375/375 [==============================] - 4s 9ms/step - loss: 2.1043 - accuracy: 0.5452 - val_loss: 0.8867 - val_accuracy: 0.7426\n",
            "Epoch 19/100\n",
            "375/375 [==============================] - 4s 9ms/step - loss: 1.8397 - accuracy: 0.5533 - val_loss: 0.8604 - val_accuracy: 0.7374\n",
            "Epoch 20/100\n",
            "375/375 [==============================] - 4s 9ms/step - loss: 1.5363 - accuracy: 0.5601 - val_loss: 0.8470 - val_accuracy: 0.7350\n",
            "Epoch 21/100\n",
            "375/375 [==============================] - 4s 9ms/step - loss: 1.3974 - accuracy: 0.5612 - val_loss: 0.8269 - val_accuracy: 0.7347\n",
            "Epoch 22/100\n",
            "375/375 [==============================] - 4s 9ms/step - loss: 1.3897 - accuracy: 0.5545 - val_loss: 0.8126 - val_accuracy: 0.7353\n",
            "Epoch 23/100\n",
            "375/375 [==============================] - 4s 9ms/step - loss: 1.3153 - accuracy: 0.5536 - val_loss: 0.8035 - val_accuracy: 0.7319\n",
            "Epoch 24/100\n",
            "375/375 [==============================] - 4s 9ms/step - loss: 1.2290 - accuracy: 0.5549 - val_loss: 0.7868 - val_accuracy: 0.7367\n",
            "Epoch 25/100\n",
            "375/375 [==============================] - 3s 9ms/step - loss: 1.1463 - accuracy: 0.5707 - val_loss: 0.7767 - val_accuracy: 0.7416\n",
            "Epoch 26/100\n",
            "375/375 [==============================] - 4s 9ms/step - loss: 1.1279 - accuracy: 0.5578 - val_loss: 0.7670 - val_accuracy: 0.7405\n",
            "Epoch 27/100\n",
            "375/375 [==============================] - 4s 9ms/step - loss: 1.0923 - accuracy: 0.5678 - val_loss: 0.7495 - val_accuracy: 0.7454\n",
            "Epoch 28/100\n",
            "375/375 [==============================] - 4s 9ms/step - loss: 1.1005 - accuracy: 0.5646 - val_loss: 0.7334 - val_accuracy: 0.7492\n",
            "Epoch 29/100\n",
            "375/375 [==============================] - 4s 10ms/step - loss: 1.0157 - accuracy: 0.5762 - val_loss: 0.7207 - val_accuracy: 0.7534\n",
            "Epoch 30/100\n",
            "375/375 [==============================] - 4s 9ms/step - loss: 1.0128 - accuracy: 0.5816 - val_loss: 0.7180 - val_accuracy: 0.7572\n",
            "Epoch 31/100\n",
            "375/375 [==============================] - 4s 10ms/step - loss: 0.9402 - accuracy: 0.5977 - val_loss: 0.7106 - val_accuracy: 0.7603\n",
            "Epoch 32/100\n",
            "375/375 [==============================] - 4s 10ms/step - loss: 0.9641 - accuracy: 0.5859 - val_loss: 0.7054 - val_accuracy: 0.7631\n",
            "Epoch 33/100\n",
            "375/375 [==============================] - 4s 9ms/step - loss: 0.9488 - accuracy: 0.5878 - val_loss: 0.6999 - val_accuracy: 0.7624\n",
            "Epoch 34/100\n",
            "375/375 [==============================] - 4s 9ms/step - loss: 0.9081 - accuracy: 0.6074 - val_loss: 0.6920 - val_accuracy: 0.7641\n",
            "Epoch 35/100\n",
            "375/375 [==============================] - 4s 10ms/step - loss: 0.9237 - accuracy: 0.6020 - val_loss: 0.6870 - val_accuracy: 0.7638\n",
            "Epoch 36/100\n",
            "375/375 [==============================] - 4s 9ms/step - loss: 0.9173 - accuracy: 0.6109 - val_loss: 0.6831 - val_accuracy: 0.7641\n",
            "Epoch 37/100\n",
            "375/375 [==============================] - 3s 9ms/step - loss: 0.8941 - accuracy: 0.6082 - val_loss: 0.6807 - val_accuracy: 0.7589\n",
            "Epoch 38/100\n",
            "375/375 [==============================] - 4s 9ms/step - loss: 0.8746 - accuracy: 0.6044 - val_loss: 0.6779 - val_accuracy: 0.7641\n",
            "Epoch 39/100\n",
            "375/375 [==============================] - 4s 10ms/step - loss: 0.8539 - accuracy: 0.6187 - val_loss: 0.6754 - val_accuracy: 0.7669\n",
            "Epoch 40/100\n",
            "375/375 [==============================] - 4s 9ms/step - loss: 0.8698 - accuracy: 0.6099 - val_loss: 0.6745 - val_accuracy: 0.7693\n",
            "Epoch 41/100\n",
            "375/375 [==============================] - 4s 9ms/step - loss: 0.8393 - accuracy: 0.6261 - val_loss: 0.6697 - val_accuracy: 0.7721\n",
            "Epoch 42/100\n",
            "375/375 [==============================] - 4s 10ms/step - loss: 0.8813 - accuracy: 0.6253 - val_loss: 0.6664 - val_accuracy: 0.7690\n",
            "Epoch 43/100\n",
            "375/375 [==============================] - 4s 9ms/step - loss: 0.8344 - accuracy: 0.6431 - val_loss: 0.6644 - val_accuracy: 0.7704\n",
            "Epoch 44/100\n",
            "375/375 [==============================] - 4s 10ms/step - loss: 0.8384 - accuracy: 0.6240 - val_loss: 0.6683 - val_accuracy: 0.7711\n",
            "Epoch 45/100\n",
            "375/375 [==============================] - 4s 9ms/step - loss: 0.8154 - accuracy: 0.6355 - val_loss: 0.6635 - val_accuracy: 0.7752\n",
            "Epoch 46/100\n",
            "375/375 [==============================] - 4s 9ms/step - loss: 0.8072 - accuracy: 0.6413 - val_loss: 0.6688 - val_accuracy: 0.7707\n",
            "Epoch 47/100\n",
            "375/375 [==============================] - 4s 9ms/step - loss: 0.8129 - accuracy: 0.6393 - val_loss: 0.6684 - val_accuracy: 0.7693\n",
            "Epoch 00047: early stopping\n"
          ],
          "name": "stdout"
        }
      ]
    },
    {
      "cell_type": "code",
      "metadata": {
        "id": "U8nPasFXaaK6"
      },
      "source": [
        ""
      ],
      "execution_count": 10,
      "outputs": []
    }
  ]
}