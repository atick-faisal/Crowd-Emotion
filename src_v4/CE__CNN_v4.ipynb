{
  "nbformat": 4,
  "nbformat_minor": 0,
  "metadata": {
    "colab": {
      "name": "CE_CNN_v4.ipynb",
      "provenance": [],
      "mount_file_id": "https://github.com/atick-faisal/Crowd-Emotion/blob/main/src_v4/CE__CNN_v4.ipynb",
      "authorship_tag": "ABX9TyMRrAO6GYD8/fu5qhKVtdJ/",
      "include_colab_link": true
    },
    "kernelspec": {
      "name": "python3",
      "display_name": "Python 3"
    },
    "language_info": {
      "name": "python"
    },
    "accelerator": "GPU"
  },
  "cells": [
    {
      "cell_type": "markdown",
      "metadata": {
        "id": "view-in-github",
        "colab_type": "text"
      },
      "source": [
        "<a href=\"https://colab.research.google.com/github/atick-faisal/Crowd-Emotion/blob/main/src_v4/CE__CNN_v4.ipynb\" target=\"_parent\"><img src=\"https://colab.research.google.com/assets/colab-badge.svg\" alt=\"Open In Colab\"/></a>"
      ]
    },
    {
      "cell_type": "code",
      "metadata": {
        "id": "aplzJ78m29hE",
        "colab": {
          "base_uri": "https://localhost:8080/",
          "height": 35
        },
        "outputId": "e5117b38-8ec4-4408-90f0-f1fca994e3d7"
      },
      "source": [
        "import os\n",
        "import time\n",
        "import json\n",
        "import joblib\n",
        "import datetime\n",
        "import numpy as np\n",
        "import seaborn as sns\n",
        "import matplotlib.pyplot as plt\n",
        "\n",
        "import tensorflow as tf\n",
        "\n",
        "from sklearn.utils import shuffle\n",
        "from sklearn.metrics import classification_report, accuracy_score\n",
        "\n",
        "tf.random.set_seed(42)\n",
        "\n",
        "tf.__version__"
      ],
      "execution_count": 1,
      "outputs": [
        {
          "output_type": "execute_result",
          "data": {
            "application/vnd.google.colaboratory.intrinsic+json": {
              "type": "string"
            },
            "text/plain": [
              "'2.4.1'"
            ]
          },
          "metadata": {
            "tags": []
          },
          "execution_count": 1
        }
      ]
    },
    {
      "cell_type": "code",
      "metadata": {
        "id": "-nGVBVOQsmsY"
      },
      "source": [
        "CONFIG = {\n",
        "    'timestamp'             : str(datetime.datetime.now()),\n",
        "    'model'                 : 'Deep Learning CNN',\n",
        "    'test_fold'             : 'Fold 1',\n",
        "    'frame_length'          : 400,\n",
        "    'frame_step'            : 200,\n",
        "    'fft_length'            : 400,\n",
        "    'architecture'          : '',\n",
        "    'batch_size'            : 32,\n",
        "    'epochs'                : 0,\n",
        "    'learning_rate'         : 0.00001,\n",
        "    'patience'              : 3,\n",
        "    'training_time'         : 0,\n",
        "    'testing_time'          : 0,\n",
        "    'cm_atick'              : '',\n",
        "    'cr_atick'              : '',\n",
        "    'cm_valentina'          : '',\n",
        "    'cr_valentina'          : ''\n",
        "}"
      ],
      "execution_count": 2,
      "outputs": []
    },
    {
      "cell_type": "code",
      "metadata": {
        "id": "r_tXi92dtEL5"
      },
      "source": [
        "BASE_DIR_AF         = '/content/drive/MyDrive/Research/Crowd Emotion v4/'\n",
        "BASE_DIR_VAL        = '/content/drive/MyDrive/Research/Crowd Emotion Val/'\n",
        "LOG_FILE            = '/content/drive/MyDrive/Research/Crowd Emotion Logs/dl_cnn.txt'\n",
        "\n",
        "FOLDS               = ['Fold 1', 'Fold 2', 'Fold 3', 'Fold 4', 'Fold 5']\n",
        "# FOLDS               = ['']\n",
        "EMOTIONS            = ['Approval', 'Disapproval', 'Neutral']\n",
        "\n",
        "# DATASET_SHAPE       = (14882, 219, 201)\n",
        "DATASET_SHAPE       = (9488, 219, 201)\n",
        "\n",
        "WINDOWS_DIR         = 'Windows_AF/'\n",
        "DATASET_DIR         = 'Dataset_STFT/'\n",
        "\n",
        "STFT_CONFIG         = 'FL_400_FS_200_FFT_400'"
      ],
      "execution_count": 3,
      "outputs": []
    },
    {
      "cell_type": "code",
      "metadata": {
        "id": "I2HuqjDmiHO0"
      },
      "source": [
        "# %%time\n",
        "\n",
        "# count = 0\n",
        "\n",
        "# X = np.zeros(DATASET_SHAPE, dtype='float16')\n",
        "# y = np.zeros((DATASET_SHAPE[0], 1), dtype='uint8')\n",
        "# f = np.zeros((DATASET_SHAPE[0], ), dtype='uint8') \n",
        "# c = np.zeros((DATASET_SHAPE[0], ), dtype='uint8') \n",
        "\n",
        "# for emotion in EMOTIONS:\n",
        "#     print('processing audio for ' + emotion, end=' ... ')\n",
        "\n",
        "#     for fold in FOLDS:\n",
        "#         fold_path = os.path.join(\n",
        "#             BASE_DIR_VAL,\n",
        "#             WINDOWS_DIR,\n",
        "#             emotion,\n",
        "#             fold\n",
        "#         )\n",
        "#         filenames = os.listdir(fold_path)\n",
        "\n",
        "#         for filename in filenames:\n",
        "#             file_path = os.path.join(fold_path, filename)\n",
        "#             data = joblib.load(file_path)\n",
        "\n",
        "#             for i in range(data.shape[0]):\n",
        "#                 x = data[i, :]\n",
        "#                 spectrogram = tf.signal.stft(\n",
        "#                    signals        = x,\n",
        "#                    frame_length   = CONFIG['frame_length'],\n",
        "#                    frame_step     = CONFIG['frame_step'],\n",
        "#                    fft_length     = CONFIG['fft_length'],\n",
        "#                    window_fn      = tf.signal.hamming_window\n",
        "#                 )\n",
        "                \n",
        "#                 magnitude = tf.abs(spectrogram).numpy()\n",
        "\n",
        "#                 X[count, :] = magnitude\n",
        "#                 y[count, :] = EMOTIONS.index(emotion)\n",
        "#                 # f[count] = FOLDS.index(fold)\n",
        "#                 # c[count] = int(filename[7:11])\n",
        "\n",
        "#                 count += 1\n",
        "\n",
        "#     print('√')"
      ],
      "execution_count": 4,
      "outputs": []
    },
    {
      "cell_type": "code",
      "metadata": {
        "id": "DDO6GF85VjWW"
      },
      "source": [
        "# joblib.dump(X, os.path.join(CONFIG['BASE_DIR_AF'], CONFIG['DATASET_DIR'], CONFIG['STFT_CONFIG'] + '_X.joblib'))\n",
        "# joblib.dump(y, os.path.join(CONFIG['BASE_DIR_AF'], CONFIG['DATASET_DIR'], CONFIG['STFT_CONFIG'] + '_y.joblib'))\n",
        "# joblib.dump(f, os.path.join(CONFIG['BASE_DIR_AF'], CONFIG['DATASET_DIR'], CONFIG['STFT_CONFIG'] + '_f.joblib'))\n",
        "# joblib.dump(c, os.path.join(CONFIG['BASE_DIR_AF'], CONFIG['DATASET_DIR'], CONFIG['STFT_CONFIG'] + '_c.joblib'))"
      ],
      "execution_count": 5,
      "outputs": []
    },
    {
      "cell_type": "code",
      "metadata": {
        "id": "2uE8SZqPveCr"
      },
      "source": [
        "# joblib.dump(X, os.path.join(BASE_DIR_VAL, DATASET_DIR, STFT_CONFIG + '_X.joblib'))\n",
        "# joblib.dump(y, os.path.join(BASE_DIR_VAL, DATASET_DIR, STFT_CONFIG + '_y.joblib'))"
      ],
      "execution_count": 6,
      "outputs": []
    },
    {
      "cell_type": "code",
      "metadata": {
        "id": "82_MI5KkaqZ0"
      },
      "source": [
        "X = joblib.load(os.path.join(BASE_DIR_AF, DATASET_DIR, STFT_CONFIG + '_X.joblib'))\n",
        "y = joblib.load(os.path.join(BASE_DIR_AF, DATASET_DIR, STFT_CONFIG + '_y.joblib'))\n",
        "f = joblib.load(os.path.join(BASE_DIR_AF, DATASET_DIR, STFT_CONFIG + '_f.joblib'))\n",
        "c = joblib.load(os.path.join(BASE_DIR_AF, DATASET_DIR, STFT_CONFIG + '_c.joblib'))"
      ],
      "execution_count": 7,
      "outputs": []
    },
    {
      "cell_type": "code",
      "metadata": {
        "id": "HzfBgtTSWzOW"
      },
      "source": [
        "mask      = (f == FOLDS.index(CONFIG['test_fold']))\n",
        "train_X   = X[~mask, :]\n",
        "train_y   = y[~mask, :]\n",
        "val_X     = X[mask, :]\n",
        "val_y     = y[mask, :]"
      ],
      "execution_count": 8,
      "outputs": []
    },
    {
      "cell_type": "code",
      "metadata": {
        "id": "c6nJKXnB5xLJ"
      },
      "source": [
        "del X"
      ],
      "execution_count": 9,
      "outputs": []
    },
    {
      "cell_type": "code",
      "metadata": {
        "id": "JQwZTb272m-j"
      },
      "source": [
        "test_X = joblib.load(os.path.join(BASE_DIR_VAL, DATASET_DIR, STFT_CONFIG + '_X.joblib'))\n",
        "test_y = joblib.load(os.path.join(BASE_DIR_VAL, DATASET_DIR, STFT_CONFIG + '_y.joblib'))"
      ],
      "execution_count": 10,
      "outputs": []
    },
    {
      "cell_type": "code",
      "metadata": {
        "id": "Bu277PYY7OSC"
      },
      "source": [
        "train_X, train_y = shuffle(train_X, train_y)"
      ],
      "execution_count": 11,
      "outputs": []
    },
    {
      "cell_type": "code",
      "metadata": {
        "id": "bvJU4ywPXNIG"
      },
      "source": [
        "norm_layer = tf.keras.layers.experimental.preprocessing.Normalization()\n",
        "norm_layer.adapt(train_X)"
      ],
      "execution_count": 12,
      "outputs": []
    },
    {
      "cell_type": "code",
      "metadata": {
        "id": "zCwvzFEqYioi",
        "colab": {
          "base_uri": "https://localhost:8080/"
        },
        "outputId": "af828689-b7c0-4058-cf95-85f524fb3ade"
      },
      "source": [
        "model = tf.keras.models.Sequential([\n",
        "    tf.keras.layers.Input(shape=(219, 201, 1)),\n",
        "    tf.keras.layers.experimental.preprocessing.Resizing(32, 32), \n",
        "    norm_layer,\n",
        "    tf.keras.layers.Conv2D(32, 3, activation='relu'),\n",
        "    tf.keras.layers.Conv2D(64, 3, activation='relu'),\n",
        "    tf.keras.layers.MaxPooling2D(),\n",
        "    tf.keras.layers.Dropout(0.25),\n",
        "    tf.keras.layers.Flatten(),\n",
        "    tf.keras.layers.Dense(128, activation='relu'),\n",
        "    tf.keras.layers.Dropout(0.5),\n",
        "    tf.keras.layers.Dense(3),\n",
        "])\n",
        "\n",
        "model.summary()"
      ],
      "execution_count": 13,
      "outputs": [
        {
          "output_type": "stream",
          "text": [
            "Model: \"sequential\"\n",
            "_________________________________________________________________\n",
            "Layer (type)                 Output Shape              Param #   \n",
            "=================================================================\n",
            "resizing (Resizing)          (None, 32, 32, 1)         0         \n",
            "_________________________________________________________________\n",
            "normalization (Normalization (None, 32, 32, 201)       403       \n",
            "_________________________________________________________________\n",
            "conv2d (Conv2D)              (None, 30, 30, 32)        57920     \n",
            "_________________________________________________________________\n",
            "conv2d_1 (Conv2D)            (None, 28, 28, 64)        18496     \n",
            "_________________________________________________________________\n",
            "max_pooling2d (MaxPooling2D) (None, 14, 14, 64)        0         \n",
            "_________________________________________________________________\n",
            "dropout (Dropout)            (None, 14, 14, 64)        0         \n",
            "_________________________________________________________________\n",
            "flatten (Flatten)            (None, 12544)             0         \n",
            "_________________________________________________________________\n",
            "dense (Dense)                (None, 128)               1605760   \n",
            "_________________________________________________________________\n",
            "dropout_1 (Dropout)          (None, 128)               0         \n",
            "_________________________________________________________________\n",
            "dense_1 (Dense)              (None, 3)                 387       \n",
            "=================================================================\n",
            "Total params: 1,682,966\n",
            "Trainable params: 1,682,563\n",
            "Non-trainable params: 403\n",
            "_________________________________________________________________\n"
          ],
          "name": "stdout"
        }
      ]
    },
    {
      "cell_type": "code",
      "metadata": {
        "id": "3Uy2B6YIZY2t"
      },
      "source": [
        "model.compile(\n",
        "    optimizer=tf.keras.optimizers.Adam(learning_rate=CONFIG['learning_rate']),\n",
        "    loss=tf.keras.losses.SparseCategoricalCrossentropy(from_logits=True),\n",
        "    metrics=['accuracy'],\n",
        ")"
      ],
      "execution_count": 14,
      "outputs": []
    },
    {
      "cell_type": "code",
      "metadata": {
        "id": "l7i0C2XAaIdc",
        "colab": {
          "base_uri": "https://localhost:8080/"
        },
        "outputId": "d39eb1d7-5209-4ddf-b9fb-a9e425f4025a"
      },
      "source": [
        "%%time\n",
        "start_time = time.time()\n",
        "\n",
        "history = model.fit(\n",
        "    train_X,\n",
        "    train_y, \n",
        "    validation_data = (val_X, val_y),  \n",
        "    epochs          = 300,\n",
        "    callbacks       = tf.keras.callbacks.EarlyStopping(\n",
        "        monitor='loss',\n",
        "        patience=CONFIG['patience'],\n",
        "        restore_best_weights=True\n",
        "    )\n",
        ")\n",
        "\n",
        "training_time = time.time() - start_time"
      ],
      "execution_count": null,
      "outputs": [
        {
          "output_type": "stream",
          "text": [
            "Epoch 1/300\n",
            "375/375 [==============================] - 15s 13ms/step - loss: 46.5968 - accuracy: 0.4287 - val_loss: 2.6826 - val_accuracy: 0.6542\n",
            "Epoch 2/300\n",
            "375/375 [==============================] - 3s 9ms/step - loss: 5.7274 - accuracy: 0.5268 - val_loss: 1.0042 - val_accuracy: 0.7197\n",
            "Epoch 3/300\n",
            "375/375 [==============================] - 3s 9ms/step - loss: 2.0403 - accuracy: 0.5490 - val_loss: 0.8114 - val_accuracy: 0.7714\n",
            "Epoch 4/300\n",
            "375/375 [==============================] - 3s 9ms/step - loss: 1.2873 - accuracy: 0.5592 - val_loss: 0.7470 - val_accuracy: 0.7777\n",
            "Epoch 5/300\n",
            "375/375 [==============================] - 3s 9ms/step - loss: 1.0097 - accuracy: 0.5773 - val_loss: 0.6975 - val_accuracy: 0.7881\n",
            "Epoch 6/300\n",
            "375/375 [==============================] - 3s 9ms/step - loss: 0.9401 - accuracy: 0.5947 - val_loss: 0.7026 - val_accuracy: 0.7856\n",
            "Epoch 7/300\n",
            "375/375 [==============================] - 3s 9ms/step - loss: 0.8911 - accuracy: 0.6067 - val_loss: 0.6843 - val_accuracy: 0.7815\n",
            "Epoch 8/300\n",
            "254/375 [===================>..........] - ETA: 0s - loss: 0.8413 - accuracy: 0.6299"
          ],
          "name": "stdout"
        }
      ]
    },
    {
      "cell_type": "code",
      "metadata": {
        "id": "wlaCdYJbeb_W"
      },
      "source": [
        "%%time\n",
        "\n",
        "start_time = time.time()\n",
        "\n",
        "loss, accuracy = model.evaluate(test_X, test_y)\n",
        "\n",
        "print(\"Loss: \", loss)\n",
        "print(\"Accuracy: \", accuracy)\n",
        "\n",
        "testing_time = time.time() - start_time"
      ],
      "execution_count": null,
      "outputs": []
    },
    {
      "cell_type": "code",
      "metadata": {
        "id": "kEw-OL2IenTK"
      },
      "source": [
        "metrics = history.history\n",
        "plt.plot(history.epoch, metrics['loss'], metrics['val_loss'])\n",
        "plt.legend(['loss', 'val_loss'])\n",
        "plt.show()"
      ],
      "execution_count": null,
      "outputs": []
    },
    {
      "cell_type": "code",
      "metadata": {
        "id": "Gp6Q-I1Qepw9"
      },
      "source": [
        "# ------------------ Testing on Aticks's data -----------------\n",
        "\n",
        "y_true = val_y\n",
        "y_pred = np.argmax(model.predict(val_X), axis=1)\n",
        "\n",
        "result_atick = classification_report(y_true, y_pred)\n",
        "print(result_atick)"
      ],
      "execution_count": null,
      "outputs": []
    },
    {
      "cell_type": "code",
      "metadata": {
        "id": "3hUdTr7Fe2Ko"
      },
      "source": [
        "confusion_mtx_atick = tf.math.confusion_matrix(y_true, y_pred) \n",
        "plt.figure(figsize=(10, 8))\n",
        "sns.heatmap(confusion_mtx_atick, xticklabels=EMOTIONS, yticklabels=EMOTIONS, \n",
        "            annot=True, fmt='g')\n",
        "plt.xlabel('Prediction')\n",
        "plt.ylabel('Label')\n",
        "plt.show()"
      ],
      "execution_count": null,
      "outputs": []
    },
    {
      "cell_type": "code",
      "metadata": {
        "id": "O4cyph457n6b"
      },
      "source": [
        "# ------------------ Testing on Valentina's data -----------------\n",
        "\n",
        "y_true = test_y\n",
        "y_pred = np.argmax(model.predict(test_X), axis=1)\n",
        "\n",
        "result_valentina = classification_report(y_true, y_pred)\n",
        "print(result_valentina)"
      ],
      "execution_count": null,
      "outputs": []
    },
    {
      "cell_type": "code",
      "metadata": {
        "id": "RGxAzdxZ7wvI"
      },
      "source": [
        "confusion_mtx_valentina = tf.math.confusion_matrix(y_true, y_pred) \n",
        "plt.figure(figsize=(10, 8))\n",
        "sns.heatmap(confusion_mtx_valentina, xticklabels=EMOTIONS, yticklabels=EMOTIONS, \n",
        "            annot=True, fmt='g')\n",
        "plt.xlabel('Prediction')\n",
        "plt.ylabel('Label')\n",
        "plt.show()"
      ],
      "execution_count": null,
      "outputs": []
    },
    {
      "cell_type": "code",
      "metadata": {
        "id": "7Eszmmj7e7nd"
      },
      "source": [
        "summary = []\n",
        "model.summary(print_fn=lambda x: summary.append(x))\n",
        "CONFIG['architecture'] = summary\n",
        "CONFIG['epochs'] = max(history.epoch)\n",
        "CONFIG['training_time'] = training_time\n",
        "CONFIG['testing_time'] = testing_time\n",
        "CONFIG['cm_atick'] = np.array2string(confusion_mtx_atick.numpy())\n",
        "result_list_atick = result_atick.split('\\n')\n",
        "CONFIG['cr_atick'] = result_list_atick\n",
        "CONFIG['cm_valentina'] = np.array2string(confusion_mtx_valentina.numpy())\n",
        "result_list_valentina = result_valentina.split('\\n')\n",
        "CONFIG['cr_valentina'] = result_list_valentina"
      ],
      "execution_count": null,
      "outputs": []
    },
    {
      "cell_type": "code",
      "metadata": {
        "id": "0N7odNfde8eO"
      },
      "source": [
        "config = json.dumps(CONFIG, indent=4)\n",
        "print(config)"
      ],
      "execution_count": null,
      "outputs": []
    },
    {
      "cell_type": "code",
      "metadata": {
        "id": "QmnTfOoge-mP"
      },
      "source": [
        "f = open(LOG_FILE, 'a')\n",
        "f.write('\\n')\n",
        "f.write(config)\n",
        "f.write('\\n')\n",
        "f.close()"
      ],
      "execution_count": null,
      "outputs": []
    }
  ]
}