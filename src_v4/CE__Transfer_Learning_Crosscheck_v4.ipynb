{
  "nbformat": 4,
  "nbformat_minor": 0,
  "metadata": {
    "colab": {
      "name": "CE_TE_MobileNet_Crosscheck_v4.ipynb",
      "provenance": [],
      "collapsed_sections": [],
      "mount_file_id": "https://github.com/atick-faisal/Crowd-Emotion/blob/main/src_v4/CE_TE_MobileNet_Crosscheck_v4.ipynb",
      "authorship_tag": "ABX9TyNOCOFvgz9n2ZDowf9I+d4D",
      "include_colab_link": true
    },
    "kernelspec": {
      "name": "python3",
      "display_name": "Python 3"
    },
    "language_info": {
      "name": "python"
    },
    "accelerator": "GPU"
  },
  "cells": [
    {
      "cell_type": "markdown",
      "metadata": {
        "id": "view-in-github",
        "colab_type": "text"
      },
      "source": [
        "<a href=\"https://colab.research.google.com/github/atick-faisal/Crowd-Emotion/blob/main/src_v4/CE_TE_MobileNet_Crosscheck_v4.ipynb\" target=\"_parent\"><img src=\"https://colab.research.google.com/assets/colab-badge.svg\" alt=\"Open In Colab\"/></a>"
      ]
    },
    {
      "cell_type": "code",
      "metadata": {
        "id": "GkwaCv249JiZ",
        "outputId": "5a8cbf9a-8117-4045-9661-c66c9568de46",
        "colab": {
          "base_uri": "https://localhost:8080/",
          "height": 35
        }
      },
      "source": [
        "import os\n",
        "import joblib\n",
        "import numpy as np\n",
        "import tensorflow as tf\n",
        "\n",
        "from sklearn.utils import shuffle\n",
        "from sklearn.metrics import classification_report, accuracy_score\n",
        "\n",
        "tf.__version__"
      ],
      "execution_count": 1,
      "outputs": [
        {
          "output_type": "execute_result",
          "data": {
            "application/vnd.google.colaboratory.intrinsic+json": {
              "type": "string"
            },
            "text/plain": [
              "'2.4.1'"
            ]
          },
          "metadata": {
            "tags": []
          },
          "execution_count": 1
        }
      ]
    },
    {
      "cell_type": "code",
      "metadata": {
        "id": "p8RDliR49LgB"
      },
      "source": [
        "BASE_DIR_AF      = '/content/drive/MyDrive/Research/Crowd Emotion v4/'\n",
        "BASE_DIR_VAL     = '/content/drive/MyDrive/Research/Crowd Emotion Val/'\n",
        "DATASET_DIR      = 'Dataset_AF/'\n",
        "IMG_LEN          = 160\n",
        "CONFIG           = 'LOG_SPEC_W400_H200_HAMM_IMG' + str(IMG_LEN)\n",
        "MODEL_DIR_AF     = '/content/drive/MyDrive/Research/Crowd Emotion v4/TE_MOBILENET_ALL_DATA'\n",
        "MODEL_DIR_VAL    = '/content/drive/MyDrive/Research/Crowd Emotion Val/TE_MOBILENET_ALL_DATA'"
      ],
      "execution_count": 3,
      "outputs": []
    },
    {
      "cell_type": "code",
      "metadata": {
        "id": "UrnSJIg--Huy"
      },
      "source": [
        "model_af = tf.keras.models.load_model(MODEL_DIR_AF)"
      ],
      "execution_count": 4,
      "outputs": []
    },
    {
      "cell_type": "code",
      "metadata": {
        "id": "Z-BWRZLE-Rs1"
      },
      "source": [
        "path = os.path.join(BASE_DIR_VAL, DATASET_DIR)\n",
        "X_val    = joblib.load(path + CONFIG + '_X.joblib')\n",
        "y_val    = joblib.load(path + CONFIG + '_y.joblib')"
      ],
      "execution_count": 5,
      "outputs": []
    },
    {
      "cell_type": "code",
      "metadata": {
        "id": "d_mwuK7i-byU",
        "outputId": "b45eee34-2256-45ba-e4cc-43f9871fe1ca",
        "colab": {
          "base_uri": "https://localhost:8080/"
        }
      },
      "source": [
        "prob = tf.keras.Sequential([model_af, tf.keras.layers.Softmax()])\n",
        "y_pred_hot_val = prob.predict(X_val)\n",
        "y_pred_val = np.argmax(y_pred_hot_val, axis=1)\n",
        "print(classification_report(y_val.ravel(), y_pred_val))"
      ],
      "execution_count": 6,
      "outputs": [
        {
          "output_type": "stream",
          "text": [
            "              precision    recall  f1-score   support\n",
            "\n",
            "           0       0.96      0.94      0.95      6983\n",
            "           1       0.97      0.90      0.94      2141\n",
            "           2       0.33      0.62      0.43       363\n",
            "\n",
            "    accuracy                           0.92      9487\n",
            "   macro avg       0.75      0.82      0.77      9487\n",
            "weighted avg       0.94      0.92      0.93      9487\n",
            "\n"
          ],
          "name": "stdout"
        }
      ]
    },
    {
      "cell_type": "code",
      "metadata": {
        "id": "hDWkfiV--yl2"
      },
      "source": [
        "model_val = tf.keras.models.load_model(AF_MODEL_DIR_VAL)"
      ],
      "execution_count": 7,
      "outputs": []
    },
    {
      "cell_type": "code",
      "metadata": {
        "id": "McnbCtCPE1ya"
      },
      "source": [
        "path = os.path.join(BASE_DIR_AF, DATASET_DIR)\n",
        "X_af    = joblib.load(path + CONFIG + '_X.joblib')\n",
        "y_af    = joblib.load(path + CONFIG + '_y.joblib')"
      ],
      "execution_count": 9,
      "outputs": []
    },
    {
      "cell_type": "code",
      "metadata": {
        "id": "vN5tShf2FCub",
        "outputId": "490e9fe9-8860-4256-cd30-3192f1c96820",
        "colab": {
          "base_uri": "https://localhost:8080/"
        }
      },
      "source": [
        "prob = tf.keras.Sequential([model_val, tf.keras.layers.Softmax()])\n",
        "y_pred_hot_af = prob.predict(X_af)\n",
        "y_pred_af = np.argmax(y_pred_hot_af, axis=1)\n",
        "print(classification_report(y_af.ravel(), y_pred_af))"
      ],
      "execution_count": 10,
      "outputs": [
        {
          "output_type": "stream",
          "text": [
            "              precision    recall  f1-score   support\n",
            "\n",
            "           0       0.66      0.96      0.78      6983\n",
            "           1       0.71      0.84      0.77      2141\n",
            "           2       0.86      0.33      0.48      5758\n",
            "\n",
            "    accuracy                           0.70     14882\n",
            "   macro avg       0.74      0.71      0.68     14882\n",
            "weighted avg       0.74      0.70      0.66     14882\n",
            "\n"
          ],
          "name": "stdout"
        }
      ]
    },
    {
      "cell_type": "code",
      "metadata": {
        "id": "GG0ql6D3FYSC"
      },
      "source": [
        ""
      ],
      "execution_count": null,
      "outputs": []
    }
  ]
}