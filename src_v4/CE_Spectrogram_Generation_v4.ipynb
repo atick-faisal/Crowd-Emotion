{
  "nbformat": 4,
  "nbformat_minor": 0,
  "metadata": {
    "colab": {
      "name": "CE_Spectrogram_Generation_v4.ipynb",
      "provenance": [],
      "mount_file_id": "https://github.com/atick-faisal/Crowd-Emotion/blob/main/src_v4/CE_Spectrogram_Generation_v4.ipynb",
      "authorship_tag": "ABX9TyOYy0ZTfOY+xewDA7QsCh9z",
      "include_colab_link": true
    },
    "kernelspec": {
      "name": "python3",
      "display_name": "Python 3"
    },
    "language_info": {
      "name": "python"
    }
  },
  "cells": [
    {
      "cell_type": "markdown",
      "metadata": {
        "id": "view-in-github",
        "colab_type": "text"
      },
      "source": [
        "<a href=\"https://colab.research.google.com/github/atick-faisal/Crowd-Emotion/blob/main/src_v4/CE_Spectrogram_Generation_v4.ipynb\" target=\"_parent\"><img src=\"https://colab.research.google.com/assets/colab-badge.svg\" alt=\"Open In Colab\"/></a>"
      ]
    },
    {
      "cell_type": "code",
      "metadata": {
        "id": "aplzJ78m29hE"
      },
      "source": [
        "import os\n",
        "import shutil\n",
        "import matplotlib\n",
        "import numpy as np\n",
        "import matplotlib.pyplot as plt\n",
        "from joblib import load\n",
        "from matplotlib import cm\n",
        "from matplotlib.cm import jet\n",
        "\n",
        "matplotlib.use('Agg')"
      ],
      "execution_count": 1,
      "outputs": []
    },
    {
      "cell_type": "code",
      "metadata": {
        "id": "qRXOApDEkPPi"
      },
      "source": [
        "BASE_DIR         = '/content/drive/MyDrive/Research/Crowd Emotion v4/'\n",
        "WINDOWS_DIR      = 'Windows/'\n",
        "SPECGRAM_DIR     = 'Spectrograms/'\n",
        "FOLDS            = ['Fold 1', 'Fold 2', 'Fold 3', 'Fold 4', 'Fold 5']\n",
        "EMOTIONS         = ['Neutral']\n",
        "\n",
        "RANGE            = [20, 20000]"
      ],
      "execution_count": 2,
      "outputs": []
    },
    {
      "cell_type": "code",
      "metadata": {
        "id": "hiUwUAyakRaS",
        "outputId": "e89b8743-f2e2-45e4-bd2c-74d8ee31e12b",
        "colab": {
          "base_uri": "https://localhost:8080/"
        }
      },
      "source": [
        "write_dir = os.path.join(BASE_DIR, SPECGRAM_DIR)\n",
        "\n",
        "# print('cleaning already existing files ... ', end='')\n",
        "# try:\n",
        "#     shutil.rmtree(write_dir)\n",
        "#     print('√')\n",
        "# except:\n",
        "#     print('✕')\n",
        "    \n",
        "# print('creating windows directory ... ', end='')\n",
        "# os.mkdir(write_dir)\n",
        "# print('√')\n",
        "\n",
        "for emotion in EMOTIONS:\n",
        "    print('processing audio for ' + emotion, end=' ... ')\n",
        "    os.mkdir(os.path.join(write_dir, emotion))\n",
        "    for fold in FOLDS:\n",
        "        os.mkdir(os.path.join(write_dir, emotion, fold))\n",
        "        fold_path = os.path.join(BASE_DIR, WINDOWS_DIR, emotion, fold)\n",
        "        filenames = os.listdir(fold_path)\n",
        "        for filename in filenames:\n",
        "            file_path = os.path.join(fold_path, filename)\n",
        "            x = load(file_path)\n",
        "            for i in range(x.shape[0]):\n",
        "                fig = plt.figure(frameon=False, figsize=(4, 4))\n",
        "                ax = fig.add_axes([0, 0, 1, 1])\n",
        "                ax.axis('off')\n",
        "                jet_cmap = cm.get_cmap('jet', 64)\n",
        "                psd, _, _, spec_img = plt.specgram(\n",
        "                    x               = x[i, :],\n",
        "                    Fs              = 44100,\n",
        "                    window          = np.hamming(400),\n",
        "                    NFFT            = 400,\n",
        "                    cmap            = jet,\n",
        "                    noverlap        = 200,\n",
        "                    mode            = 'psd',\n",
        "                    scale           = 'dB',\n",
        "                    detrend         = None,\n",
        "                    scale_by_freq   = True,\n",
        "                    vmin            = -160,\n",
        "                    vmax            = -25,\n",
        "                    interpolation   = 'hamming'      \n",
        "                )\n",
        "                plt.set_cmap(jet_cmap)\n",
        "                plt.yscale('symlog')\n",
        "                plt.ylim(RANGE)\n",
        "                fig_path = os.path.join(\n",
        "                    write_dir, emotion, fold, filename[0:11] + '{:0>8d}'.format(i + 1) + '.jpg'\n",
        "                )\n",
        "                plt.savefig(fig_path)\n",
        "                plt.close()\n",
        "\n",
        "    print('√')"
      ],
      "execution_count": 3,
      "outputs": [
        {
          "output_type": "stream",
          "text": [
            "processing audio for Neutral ... √\n"
          ],
          "name": "stdout"
        }
      ]
    },
    {
      "cell_type": "code",
      "metadata": {
        "id": "DY_PJWPEkTWu",
        "outputId": "d7047c9e-bf2e-4324-c227-735e22b0e6f5",
        "colab": {
          "base_uri": "https://localhost:8080/"
        }
      },
      "source": [
        "sum([len(files) for r, d, files in os.walk(write_dir)])"
      ],
      "execution_count": 10,
      "outputs": [
        {
          "output_type": "execute_result",
          "data": {
            "text/plain": [
              "14882"
            ]
          },
          "metadata": {
            "tags": []
          },
          "execution_count": 10
        }
      ]
    },
    {
      "cell_type": "code",
      "metadata": {
        "id": "qv4QWpD1RdS6"
      },
      "source": [
        ""
      ],
      "execution_count": null,
      "outputs": []
    }
  ]
}