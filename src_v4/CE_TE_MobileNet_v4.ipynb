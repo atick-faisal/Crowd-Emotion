{
  "nbformat": 4,
  "nbformat_minor": 0,
  "metadata": {
    "colab": {
      "name": "CE_TE_MobileNet_v4.ipynb",
      "provenance": [],
      "mount_file_id": "https://github.com/atick-faisal/Crowd-Emotion/blob/main/src_v4/CE_TE_MobileNet_v4.ipynb",
      "authorship_tag": "ABX9TyNSYv23UpFJHrxG4ylLZ4Jm",
      "include_colab_link": true
    },
    "kernelspec": {
      "name": "python3",
      "display_name": "Python 3"
    },
    "language_info": {
      "name": "python"
    },
    "accelerator": "GPU"
  },
  "cells": [
    {
      "cell_type": "markdown",
      "metadata": {
        "id": "view-in-github",
        "colab_type": "text"
      },
      "source": [
        "<a href=\"https://colab.research.google.com/github/atick-faisal/Crowd-Emotion/blob/main/src_v4/CE_TE_MobileNet_v4.ipynb\" target=\"_parent\"><img src=\"https://colab.research.google.com/assets/colab-badge.svg\" alt=\"Open In Colab\"/></a>"
      ]
    },
    {
      "cell_type": "code",
      "metadata": {
        "id": "aplzJ78m29hE",
        "colab": {
          "base_uri": "https://localhost:8080/",
          "height": 35
        },
        "outputId": "c639740c-e93e-4b8f-fb86-0ad5fb2004b1"
      },
      "source": [
        "import os\n",
        "import joblib\n",
        "import numpy as np\n",
        "import tensorflow as tf\n",
        "\n",
        "from sklearn.utils import shuffle\n",
        "from sklearn.metrics import classification_report, accuracy_score\n",
        "\n",
        "tf.__version__"
      ],
      "execution_count": 12,
      "outputs": [
        {
          "output_type": "execute_result",
          "data": {
            "application/vnd.google.colaboratory.intrinsic+json": {
              "type": "string"
            },
            "text/plain": [
              "'2.4.1'"
            ]
          },
          "metadata": {
            "tags": []
          },
          "execution_count": 12
        }
      ]
    },
    {
      "cell_type": "code",
      "metadata": {
        "id": "y5xZpzZ7EU5D"
      },
      "source": [
        "BASE_DIR         = '/content/drive/MyDrive/Research/Crowd Emotion v4/'\n",
        "DATASET_DIR      = 'DatasetPC/'\n",
        "FOLDS            = ['Fold 1', 'Fold 2', 'Fold 3', 'Fold 4', 'Fold 5']\n",
        "EMOTIONS         = ['Approval', 'Disapproval', 'Neutral']\n",
        "\n",
        "IMG_LEN          = 160\n",
        "IMG_SIZE         = (IMG_LEN, IMG_LEN)\n",
        "DATASET_LEN      = 14882\n",
        "\n",
        "CONFIG           = 'LOG_SPEC_W400_H200_HAMM_IMG' + str(IMG_LEN)\n",
        "\n",
        "TEST_FOLD        = 'Fold 1'\n",
        "EPOCHS           = 10\n",
        "LEARNING_RATE    = 0.001"
      ],
      "execution_count": 13,
      "outputs": []
    },
    {
      "cell_type": "code",
      "metadata": {
        "id": "BNDbuUmAEu2m"
      },
      "source": [
        "path = os.path.join(BASE_DIR, DATASET_DIR)\n",
        "X    = joblib.load(path + CONFIG + '_X.joblib')\n",
        "y    = joblib.load(path + CONFIG + '_y.joblib')\n",
        "f    = joblib.load(path + CONFIG + '_f.joblib')"
      ],
      "execution_count": 14,
      "outputs": []
    },
    {
      "cell_type": "code",
      "metadata": {
        "id": "qnkohhj2FV9e"
      },
      "source": [
        "# mask      = (f == FOLDS.index(TEST_FOLD))\n",
        "# X_train   = X[~mask, :]\n",
        "# X_test    = X[mask, :]\n",
        "# y_train   = y[~mask, :]\n",
        "# y_test    = y[mask, :]"
      ],
      "execution_count": 15,
      "outputs": []
    },
    {
      "cell_type": "code",
      "metadata": {
        "id": "Vd05CwwgJGiP"
      },
      "source": [
        "X, y = shuffle(X, y)\n",
        "# X_train     = X[:12000, :]\n",
        "# y_train     = y[:12000, :]\n",
        "# X_test      = X[12000:, :]\n",
        "# y_test      = y[12000:, :]"
      ],
      "execution_count": 16,
      "outputs": []
    },
    {
      "cell_type": "code",
      "metadata": {
        "id": "CODyu6gsGOJF"
      },
      "source": [
        "preprocess_input = tf.keras.applications.mobilenet_v2.preprocess_input\n",
        "rescale = tf.keras.layers.experimental.preprocessing.Rescaling(1./127.5, offset= -1)"
      ],
      "execution_count": 17,
      "outputs": []
    },
    {
      "cell_type": "code",
      "metadata": {
        "id": "1tqsoCoSGWR9"
      },
      "source": [
        "IMG_SHAPE = IMG_SIZE + (3,)\n",
        "base_model = tf.keras.applications.MobileNetV2(input_shape=IMG_SHAPE, include_top=False, weights='imagenet')\n",
        "base_model.trainable = False"
      ],
      "execution_count": 18,
      "outputs": []
    },
    {
      "cell_type": "code",
      "metadata": {
        "id": "TSPIDM9iGYaJ"
      },
      "source": [
        "global_average_layer = tf.keras.layers.GlobalAveragePooling2D()\n",
        "prediction_layer = tf.keras.layers.Dense(len(EMOTIONS))"
      ],
      "execution_count": 19,
      "outputs": []
    },
    {
      "cell_type": "code",
      "metadata": {
        "id": "Y2YC8rj5GdLk"
      },
      "source": [
        "def get_model():\n",
        "    inputs = tf.keras.Input(shape=IMG_SHAPE)\n",
        "    x = preprocess_input(inputs)\n",
        "    x = base_model(x, training=False)\n",
        "    x = global_average_layer(x)\n",
        "    x = tf.keras.layers.Dropout(0.2)(x)\n",
        "    outputs = prediction_layer(x)\n",
        "    model = tf.keras.Model(inputs, outputs)\n",
        "    model.compile(optimizer=tf.keras.optimizers.Adam(lr=LEARNING_RATE),\n",
        "              loss=tf.keras.losses.SparseCategoricalCrossentropy(from_logits=True),\n",
        "              metrics=['accuracy'])\n",
        "    return model"
      ],
      "execution_count": 20,
      "outputs": []
    },
    {
      "cell_type": "code",
      "metadata": {
        "colab": {
          "base_uri": "https://localhost:8080/"
        },
        "id": "CHUMKaNsG4fa",
        "outputId": "813ef3a0-7e99-4fdb-eade-a20e89dae007"
      },
      "source": [
        "model = get_model()\n",
        "# X_train, y_train = shuffle(X_train, y_train)\n",
        "history = model.fit(X, y, epochs=EPOCHS)\n",
        "model.save(os.path.join(BASE_DIR, 'TE_MOBILENET_ALL_DATA'))"
      ],
      "execution_count": 21,
      "outputs": [
        {
          "output_type": "stream",
          "text": [
            "Epoch 1/10\n",
            "466/466 [==============================] - 17s 32ms/step - loss: 0.6594 - accuracy: 0.7092\n",
            "Epoch 2/10\n",
            "466/466 [==============================] - 15s 31ms/step - loss: 0.3749 - accuracy: 0.8493\n",
            "Epoch 3/10\n",
            "466/466 [==============================] - 15s 31ms/step - loss: 0.3409 - accuracy: 0.8636\n",
            "Epoch 4/10\n",
            "466/466 [==============================] - 15s 31ms/step - loss: 0.3051 - accuracy: 0.8810\n",
            "Epoch 5/10\n",
            "466/466 [==============================] - 15s 31ms/step - loss: 0.2973 - accuracy: 0.8820\n",
            "Epoch 6/10\n",
            "466/466 [==============================] - 15s 31ms/step - loss: 0.2781 - accuracy: 0.8869\n",
            "Epoch 7/10\n",
            "466/466 [==============================] - 15s 31ms/step - loss: 0.2710 - accuracy: 0.8924\n",
            "Epoch 8/10\n",
            "466/466 [==============================] - 15s 31ms/step - loss: 0.2694 - accuracy: 0.8903\n",
            "Epoch 9/10\n",
            "466/466 [==============================] - 15s 31ms/step - loss: 0.2663 - accuracy: 0.8889\n",
            "Epoch 10/10\n",
            "466/466 [==============================] - 15s 31ms/step - loss: 0.2655 - accuracy: 0.8859\n",
            "INFO:tensorflow:Assets written to: /content/drive/MyDrive/Research/Crowd Emotion v4/TE_MOBILENET_ALL_DATA/assets\n"
          ],
          "name": "stdout"
        }
      ]
    },
    {
      "cell_type": "code",
      "metadata": {
        "id": "TAzMU27MHASL"
      },
      "source": [
        "# prob = tf.keras.Sequential([model, tf.keras.layers.Softmax()])\n",
        "# y_pred_hot = prob.predict(X_test)\n",
        "# y_pred = np.argmax(y_pred_hot, axis=1)\n",
        "# print(classification_report(y_test.ravel(), y_pred))"
      ],
      "execution_count": 22,
      "outputs": []
    },
    {
      "cell_type": "code",
      "metadata": {
        "id": "D3SWMEO_Hl4R"
      },
      "source": [
        ""
      ],
      "execution_count": 22,
      "outputs": []
    }
  ]
}