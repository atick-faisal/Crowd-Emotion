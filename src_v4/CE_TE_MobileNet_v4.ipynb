{
  "nbformat": 4,
  "nbformat_minor": 0,
  "metadata": {
    "colab": {
      "name": "CE_TE_MobileNet_v4.ipynb",
      "provenance": [],
      "mount_file_id": "https://github.com/atick-faisal/Crowd-Emotion/blob/main/src_v4/CE_TE_MobileNet_v4.ipynb",
      "authorship_tag": "ABX9TyMpN6wi1qCZ6hJDzhZqt4DB",
      "include_colab_link": true
    },
    "kernelspec": {
      "name": "python3",
      "display_name": "Python 3"
    },
    "language_info": {
      "name": "python"
    },
    "accelerator": "GPU"
  },
  "cells": [
    {
      "cell_type": "markdown",
      "metadata": {
        "id": "view-in-github",
        "colab_type": "text"
      },
      "source": [
        "<a href=\"https://colab.research.google.com/github/atick-faisal/Crowd-Emotion/blob/main/src_v4/CE_TE_MobileNet_v4.ipynb\" target=\"_parent\"><img src=\"https://colab.research.google.com/assets/colab-badge.svg\" alt=\"Open In Colab\"/></a>"
      ]
    },
    {
      "cell_type": "code",
      "metadata": {
        "id": "aplzJ78m29hE",
        "colab": {
          "base_uri": "https://localhost:8080/",
          "height": 35
        },
        "outputId": "42303ee7-90b0-46c0-e956-93eb729c0e07"
      },
      "source": [
        "import os\n",
        "import json\n",
        "import joblib\n",
        "import numpy as np\n",
        "import tensorflow as tf\n",
        "\n",
        "from sklearn.utils import shuffle\n",
        "from sklearn.metrics import classification_report, accuracy_score\n",
        "\n",
        "tf.__version__"
      ],
      "execution_count": 1,
      "outputs": [
        {
          "output_type": "execute_result",
          "data": {
            "application/vnd.google.colaboratory.intrinsic+json": {
              "type": "string"
            },
            "text/plain": [
              "'2.4.1'"
            ]
          },
          "metadata": {
            "tags": []
          },
          "execution_count": 1
        }
      ]
    },
    {
      "cell_type": "code",
      "metadata": {
        "id": "G6O4NiC4UVcC"
      },
      "source": [
        "CONFIG = {\n",
        "    'BASE_DIR'         : '/content/drive/MyDrive/Research/Crowd Emotion v4/',\n",
        "    'DATASET_DIR'      : 'Dataset_AF/',\n",
        "    'LOG_DIR'          : 'Logs/',\n",
        "    'FOLDS'            : ['Fold 1', 'Fold 2', 'Fold 3', 'Fold 4', 'Fold 5'],\n",
        "    'EMOTIONS'         : ['Approval', 'Disapproval', 'Neutral'],\n",
        "\n",
        "    'IMG_SIZE'         : (160, 160),\n",
        "    'DATASET_LEN'      : 14882,\n",
        "\n",
        "    'SPEC_CONFIG'      : 'LOG_SPEC_W400_H200_HAMM_IMG160',\n",
        "\n",
        "    'TEST_FOLD'        : 'Fold 1',\n",
        "    'EPOCHS'           : 10,\n",
        "    'LEARNING_RATE'    : 0.001,\n",
        "}"
      ],
      "execution_count": 2,
      "outputs": []
    },
    {
      "cell_type": "code",
      "metadata": {
        "id": "BNDbuUmAEu2m"
      },
      "source": [
        "path = os.path.join(CONFIG['BASE_DIR'], CONFIG['DATASET_DIR'])\n",
        "X    = joblib.load(path + CONFIG['SPEC_CONFIG'] + '_X.joblib')\n",
        "y    = joblib.load(path + CONFIG['SPEC_CONFIG'] + '_y.joblib')\n",
        "f    = joblib.load(path + CONFIG['SPEC_CONFIG'] + '_f.joblib')\n",
        "\n",
        "mask      = (f == CONFIG['FOLDS'].index(CONFIG['TEST_FOLD']))\n",
        "train_X   = X[~mask, :]\n",
        "test_X    = X[mask, :]\n",
        "train_y   = y[~mask, :]\n",
        "test_y    = y[mask, :]"
      ],
      "execution_count": 3,
      "outputs": []
    },
    {
      "cell_type": "code",
      "metadata": {
        "id": "xR6FTNvwW26_"
      },
      "source": [
        "class TransferLearning():\n",
        "    def __init__(self, base_model, input_shape, learning_rate, batch_size, epochs):\n",
        "        self.base_model = base_model\n",
        "        self.input_shape = input_shape\n",
        "        self.learning_rate = learning_rate\n",
        "        self.batch_size = batch_size\n",
        "        self.epochs = epochs\n",
        "        if base_model == 'mobile_net_v2':\n",
        "            self.base_model = tf.keras.applications.MobileNetV2(\n",
        "                input_shape     = self.input_shape,\n",
        "                include_top     = False,\n",
        "                weights         = 'imagenet'\n",
        "            )\n",
        "            self.base_model.trainable = False\n",
        "            self.preprocess = tf.keras.applications.mobilenet_v2.preprocess_input\n",
        "            self.model = None\n",
        "            self.callbacks = None\n",
        "\n",
        "    def __init_model(self, num_classes):\n",
        "        inputs = tf.keras.Input(shape=self.input_shape)\n",
        "        x = self.preprocess(inputs)\n",
        "        x = self.base_model(x, training=False)\n",
        "        x = tf.keras.layers.GlobalAveragePooling2D()(x)\n",
        "        x = tf.keras.layers.Dropout(0.2)(x)\n",
        "        outputs = tf.keras.layers.Dense(num_classes)(x)\n",
        "        self.model = tf.keras.Model(inputs, outputs)\n",
        "        self.model.compile(\n",
        "            optimizer      = tf.keras.optimizers.Adam(lr=self.learning_rate),\n",
        "            loss           = tf.keras.losses.SparseCategoricalCrossentropy(from_logits=True),\n",
        "            metrics        = ['accuracy']\n",
        "        )\n",
        "\n",
        "    def __init_callbacks(self):\n",
        "        early_stopping = tf.keras.callbacks.EarlyStopping(\n",
        "            monitor        = 'val_loss',\n",
        "            patience       = 3,\n",
        "            verbose        = 1\n",
        "        )\n",
        "        self.callbacks = [\n",
        "                          early_stopping,\n",
        "        ]\n",
        "\n",
        "    def fit(self, train_X, train_y, val_X, val_y):\n",
        "        num_classes = np.unique(train_y).shape[0]\n",
        "        self.__init_model(num_classes)\n",
        "        self.__init_callbacks()\n",
        "        history = self.model.fit(\n",
        "            x                 = train_X,\n",
        "            y                 = train_y,\n",
        "            batch_size        = self.batch_size,\n",
        "            epochs            = self.epochs,\n",
        "            verbose           = 1,\n",
        "            validation_data   = (val_X, val_y),\n",
        "            shuffle           = True,\n",
        "            callbacks         = self.callbacks\n",
        "        )\n",
        "    \n",
        "        return history \n",
        "\n",
        "    def evaluate(self, test_X, test_y):\n",
        "        prob_model = tf.keras.Sequential([self.model, tf.keras.layers.Softmax()])\n",
        "        y_pred_hot = prob_model.predict(test_X)\n",
        "        y_pred = np.argmax(y_pred_hot, axis=1)\n",
        "        return classification_report(test_y.ravel(), y_pred)"
      ],
      "execution_count": 4,
      "outputs": []
    },
    {
      "cell_type": "code",
      "metadata": {
        "id": "XtywXo6EgU5m",
        "outputId": "5070d18b-967e-4f0a-c64a-ad7c49d177c4",
        "colab": {
          "base_uri": "https://localhost:8080/"
        }
      },
      "source": [
        "tl = TransferLearning(\n",
        "    base_model         = 'mobile_net_v2',\n",
        "    input_shape        = CONFIG['IMG_SIZE'] + (3,),\n",
        "    learning_rate      = 0.0001,\n",
        "    batch_size         = 32,\n",
        "    epochs             = 100\n",
        ")\n",
        "history = tl.fit(train_X, train_y, test_X, test_y)"
      ],
      "execution_count": 5,
      "outputs": [
        {
          "output_type": "stream",
          "text": [
            "Epoch 1/100\n",
            "375/375 [==============================] - 16s 30ms/step - loss: 0.9762 - accuracy: 0.5408 - val_loss: 0.8375 - val_accuracy: 0.5702\n",
            "Epoch 2/100\n",
            "375/375 [==============================] - 10s 26ms/step - loss: 0.6938 - accuracy: 0.7021 - val_loss: 0.8061 - val_accuracy: 0.5963\n",
            "Epoch 3/100\n",
            "375/375 [==============================] - 10s 26ms/step - loss: 0.5749 - accuracy: 0.7726 - val_loss: 0.8189 - val_accuracy: 0.5935\n",
            "Epoch 4/100\n",
            "375/375 [==============================] - 10s 26ms/step - loss: 0.5046 - accuracy: 0.8060 - val_loss: 0.7986 - val_accuracy: 0.6060\n",
            "Epoch 5/100\n",
            "375/375 [==============================] - 10s 26ms/step - loss: 0.4608 - accuracy: 0.8299 - val_loss: 0.8183 - val_accuracy: 0.6060\n",
            "Epoch 6/100\n",
            "375/375 [==============================] - 10s 26ms/step - loss: 0.4189 - accuracy: 0.8421 - val_loss: 0.8495 - val_accuracy: 0.6032\n",
            "Epoch 7/100\n",
            "375/375 [==============================] - 10s 26ms/step - loss: 0.3915 - accuracy: 0.8573 - val_loss: 0.8859 - val_accuracy: 0.5994\n",
            "Epoch 00007: early stopping\n"
          ],
          "name": "stdout"
        }
      ]
    },
    {
      "cell_type": "code",
      "metadata": {
        "id": "a5bbjuXNi993"
      },
      "source": [
        "result = tl.evaluate(test_X, test_y)"
      ],
      "execution_count": 10,
      "outputs": []
    },
    {
      "cell_type": "code",
      "metadata": {
        "id": "xggJxTv6mg1a",
        "outputId": "9ed96457-b4c8-4dde-def8-62d2f5699ea0",
        "colab": {
          "base_uri": "https://localhost:8080/"
        }
      },
      "source": [
        "print(result)"
      ],
      "execution_count": 11,
      "outputs": [
        {
          "output_type": "stream",
          "text": [
            "              precision    recall  f1-score   support\n",
            "\n",
            "           0       0.56      0.78      0.65      1335\n",
            "           1       0.57      0.52      0.54       390\n",
            "           2       0.74      0.42      0.54      1158\n",
            "\n",
            "    accuracy                           0.60      2883\n",
            "   macro avg       0.62      0.57      0.58      2883\n",
            "weighted avg       0.63      0.60      0.59      2883\n",
            "\n"
          ],
          "name": "stdout"
        }
      ]
    },
    {
      "cell_type": "code",
      "metadata": {
        "id": "5REH-8jemmsh"
      },
      "source": [
        ""
      ],
      "execution_count": null,
      "outputs": []
    }
  ]
}