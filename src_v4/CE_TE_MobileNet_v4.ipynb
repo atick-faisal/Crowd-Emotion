{
  "nbformat": 4,
  "nbformat_minor": 0,
  "metadata": {
    "colab": {
      "name": "CE_TE_MobileNet_v4.ipynb",
      "provenance": [],
      "mount_file_id": "https://github.com/atick-faisal/Crowd-Emotion/blob/main/src_v4/CE_TE_MobileNet_v4.ipynb",
      "authorship_tag": "ABX9TyOn59iWhjLaT9eRXigkIDES",
      "include_colab_link": true
    },
    "kernelspec": {
      "name": "python3",
      "display_name": "Python 3"
    },
    "language_info": {
      "name": "python"
    },
    "accelerator": "GPU"
  },
  "cells": [
    {
      "cell_type": "markdown",
      "metadata": {
        "id": "view-in-github",
        "colab_type": "text"
      },
      "source": [
        "<a href=\"https://colab.research.google.com/github/atick-faisal/Crowd-Emotion/blob/main/src_v4/CE_TE_MobileNet_v4.ipynb\" target=\"_parent\"><img src=\"https://colab.research.google.com/assets/colab-badge.svg\" alt=\"Open In Colab\"/></a>"
      ]
    },
    {
      "cell_type": "code",
      "metadata": {
        "id": "aplzJ78m29hE",
        "colab": {
          "base_uri": "https://localhost:8080/",
          "height": 35
        },
        "outputId": "b9faab70-051b-4364-c925-b35dae4362bf"
      },
      "source": [
        "import os\n",
        "import joblib\n",
        "import numpy as np\n",
        "import tensorflow as tf\n",
        "\n",
        "from sklearn.utils import shuffle\n",
        "from sklearn.metrics import classification_report, accuracy_score\n",
        "\n",
        "tf.__version__"
      ],
      "execution_count": 1,
      "outputs": [
        {
          "output_type": "execute_result",
          "data": {
            "application/vnd.google.colaboratory.intrinsic+json": {
              "type": "string"
            },
            "text/plain": [
              "'2.4.1'"
            ]
          },
          "metadata": {
            "tags": []
          },
          "execution_count": 1
        }
      ]
    },
    {
      "cell_type": "code",
      "metadata": {
        "id": "y5xZpzZ7EU5D"
      },
      "source": [
        "BASE_DIR         = '/content/drive/MyDrive/Research/Crowd Emotion Val/'\n",
        "DATASET_DIR      = 'Dataset_AF/'\n",
        "FOLDS            = ['Fold 1', 'Fold 2', 'Fold 3', 'Fold 4', 'Fold 5']\n",
        "EMOTIONS         = ['Approval', 'Disapproval', 'Neutral']\n",
        "\n",
        "IMG_LEN          = 160\n",
        "IMG_SIZE         = (IMG_LEN, IMG_LEN)\n",
        "DATASET_LEN      = 14882\n",
        "DATASET_LEN_VAL  = 9487\n",
        "\n",
        "CONFIG           = 'LOG_SPEC_W400_H200_HAMM_IMG' + str(IMG_LEN)\n",
        "\n",
        "TEST_FOLD        = 'Fold 1'\n",
        "EPOCHS           = 10\n",
        "LEARNING_RATE    = 0.001"
      ],
      "execution_count": 2,
      "outputs": []
    },
    {
      "cell_type": "code",
      "metadata": {
        "id": "BNDbuUmAEu2m"
      },
      "source": [
        "path = os.path.join(BASE_DIR, DATASET_DIR)\n",
        "X    = joblib.load(path + CONFIG + '_X.joblib')\n",
        "y    = joblib.load(path + CONFIG + '_y.joblib')\n",
        "f    = joblib.load(path + CONFIG + '_f.joblib')"
      ],
      "execution_count": 3,
      "outputs": []
    },
    {
      "cell_type": "code",
      "metadata": {
        "id": "qnkohhj2FV9e"
      },
      "source": [
        "# mask      = (f == FOLDS.index(TEST_FOLD))\n",
        "# X_train   = X[~mask, :]\n",
        "# X_test    = X[mask, :]\n",
        "# y_train   = y[~mask, :]\n",
        "# y_test    = y[mask, :]"
      ],
      "execution_count": 4,
      "outputs": []
    },
    {
      "cell_type": "code",
      "metadata": {
        "id": "Vd05CwwgJGiP"
      },
      "source": [
        "X, y = shuffle(X, y)\n",
        "# X_train     = X[:12000, :]\n",
        "# y_train     = y[:12000, :]\n",
        "# X_test      = X[12000:, :]\n",
        "# y_test      = y[12000:, :]"
      ],
      "execution_count": 5,
      "outputs": []
    },
    {
      "cell_type": "code",
      "metadata": {
        "id": "CODyu6gsGOJF"
      },
      "source": [
        "preprocess_input = tf.keras.applications.mobilenet_v2.preprocess_input\n",
        "rescale = tf.keras.layers.experimental.preprocessing.Rescaling(1./127.5, offset= -1)"
      ],
      "execution_count": 6,
      "outputs": []
    },
    {
      "cell_type": "code",
      "metadata": {
        "id": "1tqsoCoSGWR9",
        "outputId": "48cca115-ef06-4770-a293-93411719e2c1",
        "colab": {
          "base_uri": "https://localhost:8080/"
        }
      },
      "source": [
        "IMG_SHAPE = IMG_SIZE + (3,)\n",
        "base_model = tf.keras.applications.MobileNetV2(input_shape=IMG_SHAPE, include_top=False, weights='imagenet')\n",
        "base_model.trainable = False"
      ],
      "execution_count": 7,
      "outputs": [
        {
          "output_type": "stream",
          "text": [
            "Downloading data from https://storage.googleapis.com/tensorflow/keras-applications/mobilenet_v2/mobilenet_v2_weights_tf_dim_ordering_tf_kernels_1.0_160_no_top.h5\n",
            "9412608/9406464 [==============================] - 0s 0us/step\n"
          ],
          "name": "stdout"
        }
      ]
    },
    {
      "cell_type": "code",
      "metadata": {
        "id": "TSPIDM9iGYaJ"
      },
      "source": [
        "global_average_layer = tf.keras.layers.GlobalAveragePooling2D()\n",
        "prediction_layer = tf.keras.layers.Dense(len(EMOTIONS))"
      ],
      "execution_count": 8,
      "outputs": []
    },
    {
      "cell_type": "code",
      "metadata": {
        "id": "Y2YC8rj5GdLk"
      },
      "source": [
        "def get_model():\n",
        "    inputs = tf.keras.Input(shape=IMG_SHAPE)\n",
        "    x = preprocess_input(inputs)\n",
        "    x = base_model(x, training=False)\n",
        "    x = global_average_layer(x)\n",
        "    x = tf.keras.layers.Dropout(0.2)(x)\n",
        "    outputs = prediction_layer(x)\n",
        "    model = tf.keras.Model(inputs, outputs)\n",
        "    model.compile(optimizer=tf.keras.optimizers.Adam(lr=LEARNING_RATE),\n",
        "              loss=tf.keras.losses.SparseCategoricalCrossentropy(from_logits=True),\n",
        "              metrics=['accuracy'])\n",
        "    return model"
      ],
      "execution_count": 9,
      "outputs": []
    },
    {
      "cell_type": "code",
      "metadata": {
        "colab": {
          "base_uri": "https://localhost:8080/"
        },
        "id": "CHUMKaNsG4fa",
        "outputId": "68577be9-cd0a-49b9-86f6-7aa1b6fec748"
      },
      "source": [
        "model = get_model()\n",
        "# X_train, y_train = shuffle(X_train, y_train)\n",
        "history = model.fit(X, y, epochs=EPOCHS)\n",
        "model.save(os.path.join(BASE_DIR, 'TE_MOBILENET_ALL_DATA'))"
      ],
      "execution_count": 10,
      "outputs": [
        {
          "output_type": "stream",
          "text": [
            "Epoch 1/10\n",
            "297/297 [==============================] - 41s 22ms/step - loss: 0.3461 - accuracy: 0.8825\n",
            "Epoch 2/10\n",
            "297/297 [==============================] - 6s 21ms/step - loss: 0.0614 - accuracy: 0.9852\n",
            "Epoch 3/10\n",
            "297/297 [==============================] - 6s 21ms/step - loss: 0.0392 - accuracy: 0.9902\n",
            "Epoch 4/10\n",
            "297/297 [==============================] - 6s 21ms/step - loss: 0.0264 - accuracy: 0.9931\n",
            "Epoch 5/10\n",
            "297/297 [==============================] - 6s 21ms/step - loss: 0.0239 - accuracy: 0.9943\n",
            "Epoch 6/10\n",
            "297/297 [==============================] - 6s 21ms/step - loss: 0.0204 - accuracy: 0.9948\n",
            "Epoch 7/10\n",
            "297/297 [==============================] - 6s 22ms/step - loss: 0.0175 - accuracy: 0.9945\n",
            "Epoch 8/10\n",
            "297/297 [==============================] - 6s 22ms/step - loss: 0.0188 - accuracy: 0.9955\n",
            "Epoch 9/10\n",
            "297/297 [==============================] - 6s 22ms/step - loss: 0.0130 - accuracy: 0.9960\n",
            "Epoch 10/10\n",
            "297/297 [==============================] - 6s 22ms/step - loss: 0.0118 - accuracy: 0.9967\n",
            "INFO:tensorflow:Assets written to: /content/drive/MyDrive/Research/Crowd Emotion Val/TE_MOBILENET_ALL_DATA/assets\n"
          ],
          "name": "stdout"
        }
      ]
    },
    {
      "cell_type": "code",
      "metadata": {
        "id": "TAzMU27MHASL"
      },
      "source": [
        "# prob = tf.keras.Sequential([model, tf.keras.layers.Softmax()])\n",
        "# y_pred_hot = prob.predict(X_test)\n",
        "# y_pred = np.argmax(y_pred_hot, axis=1)\n",
        "# print(classification_report(y_test.ravel(), y_pred))"
      ],
      "execution_count": 11,
      "outputs": []
    },
    {
      "cell_type": "code",
      "metadata": {
        "id": "fOFYSrwfA1au"
      },
      "source": [
        ""
      ],
      "execution_count": 11,
      "outputs": []
    }
  ]
}