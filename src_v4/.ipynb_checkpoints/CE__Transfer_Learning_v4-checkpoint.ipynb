{
 "cells": [
  {
   "cell_type": "markdown",
   "metadata": {
    "colab_type": "text",
    "id": "view-in-github"
   },
   "source": [
    "<a href=\"https://colab.research.google.com/github/atick-faisal/Crowd-Emotion/blob/main/src_v4/CE__Transfer_Learning_v4.ipynb\" target=\"_parent\"><img src=\"https://colab.research.google.com/assets/colab-badge.svg\" alt=\"Open In Colab\"/></a>"
   ]
  },
  {
   "cell_type": "code",
   "execution_count": 1,
   "metadata": {
    "colab": {
     "base_uri": "https://localhost:8080/",
     "height": 35
    },
    "id": "aplzJ78m29hE",
    "outputId": "3703dd24-3c78-476a-ce66-468d4b6430b5"
   },
   "outputs": [
    {
     "data": {
      "application/vnd.google.colaboratory.intrinsic+json": {
       "type": "string"
      },
      "text/plain": [
       "'2.4.1'"
      ]
     },
     "execution_count": 1,
     "metadata": {
      "tags": []
     },
     "output_type": "execute_result"
    }
   ],
   "source": [
    "import os\n",
    "import time\n",
    "import json\n",
    "import joblib\n",
    "import datetime\n",
    "import numpy as np\n",
    "import seaborn as sns\n",
    "import matplotlib.pyplot as plt\n",
    "\n",
    "import tensorflow as tf\n",
    "\n",
    "from sklearn.utils import shuffle\n",
    "from sklearn.metrics import classification_report, confusion_matrix\n",
    "\n",
    "tf.random.set_seed(42)\n",
    "\n",
    "tf.__version__"
   ]
  },
  {
   "cell_type": "code",
   "execution_count": 2,
   "metadata": {
    "id": "ZLcNGdYIWzJN"
   },
   "outputs": [],
   "source": [
    "CONFIG = {\n",
    "    'timestamp'             : str(datetime.datetime.now()),\n",
    "    'base_model'            : 'mobile_net_v2',\n",
    "    'img_shape'             : (288, 288, 3),\n",
    "    'input_shape'           : (160, 160, 3),\n",
    "    'spec_config'           : 'LOG_SPEC_W400_H200_HAMM_IMG288',\n",
    "    'test_fold'             : 'Fold 4',\n",
    "    'architecture'          : '',\n",
    "    'batch_size'            : 32,\n",
    "    'epochs'                : 300,\n",
    "    'learning_rate'         : 0.00001,\n",
    "    'monitor'               : 'val_loss',\n",
    "    'patience'              : 3,\n",
    "    'class_weight'          : { 0: 0.71, 1:  2.32, 2: 0.86 },\n",
    "    'training_time'         : 0,\n",
    "    'testing_time'          : 0,\n",
    "    'cm_atick'              : '',\n",
    "    'cr_atick'              : '',\n",
    "    'cm_valentina'          : '',\n",
    "    'cr_valentina'          : ''\n",
    "}"
   ]
  },
  {
   "cell_type": "code",
   "execution_count": 3,
   "metadata": {
    "id": "BtjV2y_jXCXT"
   },
   "outputs": [],
   "source": [
    "BASE_DIR_AF         = '/content/drive/MyDrive/Research/Crowd Emotion v4/'\n",
    "BASE_DIR_VAL        = '/content/drive/MyDrive/Research/Crowd Emotion Val/'\n",
    "DATASET_DIR         = 'Dataset_AF/'\n",
    "\n",
    "LOG_FILE            = '/content/drive/MyDrive/Research/Crowd Emotion Logs/tl_specgrams.txt'\n",
    "FOLDS               = ['Fold 1', 'Fold 2', 'Fold 3', 'Fold 4', 'Fold 5']\n",
    "EMOTIONS            = ['Approval', 'Disapproval', 'Neutral']\n"
   ]
  },
  {
   "cell_type": "code",
   "execution_count": 4,
   "metadata": {
    "id": "BNDbuUmAEu2m"
   },
   "outputs": [],
   "source": [
    "path_AF   = os.path.join(BASE_DIR_AF, DATASET_DIR)\n",
    "X_AF      = joblib.load(path_AF + CONFIG['spec_config'] + '_X.joblib')\n",
    "y_AF      = joblib.load(path_AF + CONFIG['spec_config'] + '_y.joblib')\n",
    "f_AF      = joblib.load(path_AF + CONFIG['spec_config'] + '_f.joblib')\n",
    "c_AF      = joblib.load(path_AF + CONFIG['spec_config'] + '_f.joblib')\n",
    "\n",
    "mask      = (f_AF == FOLDS.index(CONFIG['test_fold']))\n",
    "train_X   = X_AF[~mask, :]\n",
    "train_y   = y_AF[~mask, :]\n",
    "val_X     = X_AF[mask, :]\n",
    "val_y     = y_AF[mask, :]\n",
    "\n",
    "del X_AF\n",
    "\n",
    "path_VAL  = os.path.join(BASE_DIR_VAL, DATASET_DIR)\n",
    "test_X    = joblib.load(path_VAL + CONFIG['spec_config'] + '_X.joblib')\n",
    "test_y    = joblib.load(path_VAL + CONFIG['spec_config'] + '_y.joblib')"
   ]
  },
  {
   "cell_type": "code",
   "execution_count": 5,
   "metadata": {
    "id": "xR6FTNvwW26_"
   },
   "outputs": [],
   "source": [
    "class TransferLearning():\n",
    "    def __init__(self, config):\n",
    "\n",
    "        self.base_model = config['base_model']\n",
    "        self.img_shape = config['img_shape']\n",
    "        self.input_shape = config['input_shape']\n",
    "        self.learning_rate = config['learning_rate']\n",
    "        self.batch_size = config['batch_size']\n",
    "        self.epochs = config['epochs']\n",
    "        self.monitor = config['monitor']\n",
    "        self.patience = config['patience']\n",
    "        self.class_weight = config['class_weight']\n",
    "\n",
    "        if self.base_model == 'mobile_net_v2':\n",
    "            self.base_model = tf.keras.applications.MobileNetV2(\n",
    "                input_shape     = self.input_shape,\n",
    "                include_top     = False,\n",
    "                weights         = 'imagenet'\n",
    "            )\n",
    "            self.base_model.trainable = False\n",
    "            self.preprocess = tf.keras.applications.mobilenet_v2.preprocess_input\n",
    "            self.model = None\n",
    "            self.callbacks = None\n",
    "\n",
    "    def __init_model(self, num_classes):\n",
    "        inputs = tf.keras.Input(shape=self.img_shape)\n",
    "        x = tf.keras.layers.experimental.preprocessing.Resizing(\n",
    "            height = self.input_shape[0],\n",
    "            width  = self.input_shape[1]\n",
    "        )(inputs)\n",
    "        x = self.preprocess(x)\n",
    "        x = self.base_model(x, training=False)\n",
    "        x = tf.keras.layers.GlobalAveragePooling2D()(x)\n",
    "        x = tf.keras.layers.Dropout(0.2)(x)\n",
    "        outputs = tf.keras.layers.Dense(num_classes)(x)\n",
    "        self.model = tf.keras.Model(inputs, outputs)\n",
    "        self.model.compile(\n",
    "            optimizer      = tf.keras.optimizers.Adam(lr=self.learning_rate),\n",
    "            loss           = tf.keras.losses.SparseCategoricalCrossentropy(from_logits=True),\n",
    "            metrics        = ['accuracy']\n",
    "        )\n",
    "\n",
    "    def __init_callbacks(self):\n",
    "        early_stopping = tf.keras.callbacks.EarlyStopping(\n",
    "            monitor        = self.monitor,\n",
    "            patience       = self.patience,\n",
    "            verbose        = 1\n",
    "        )\n",
    "        self.callbacks = [\n",
    "                          early_stopping,\n",
    "        ]\n",
    "\n",
    "    def fit(self, train_X, train_y, val_X, val_y):\n",
    "        num_classes = np.unique(train_y).shape[0]\n",
    "        self.__init_model(num_classes)\n",
    "        self.__init_callbacks()\n",
    "        history = self.model.fit(\n",
    "            x                 = train_X,\n",
    "            y                 = train_y,\n",
    "            batch_size        = self.batch_size,\n",
    "            epochs            = self.epochs,\n",
    "            verbose           = 1,\n",
    "            validation_data   = (val_X, val_y),\n",
    "            shuffle           = True,\n",
    "            callbacks         = self.callbacks,\n",
    "            class_weight      = self.class_weight\n",
    "        )\n",
    "    \n",
    "        return self.model, history \n",
    "\n",
    "    def evaluate(self, test_X, test_y):\n",
    "        prob_model = tf.keras.Sequential([self.model, tf.keras.layers.Softmax()])\n",
    "        y_pred_hot = prob_model.predict(test_X)\n",
    "        y_pred = np.argmax(y_pred_hot, axis=1)\n",
    "        return classification_report(test_y.ravel(), y_pred)"
   ]
  },
  {
   "cell_type": "code",
   "execution_count": 6,
   "metadata": {
    "colab": {
     "base_uri": "https://localhost:8080/"
    },
    "id": "XtywXo6EgU5m",
    "outputId": "c264d829-7df9-48de-ec2e-08360b55516c"
   },
   "outputs": [
    {
     "name": "stdout",
     "output_type": "stream",
     "text": [
      "Epoch 1/300\n",
      "369/369 [==============================] - 59s 70ms/step - loss: 1.4963 - accuracy: 0.3707 - val_loss: 1.3526 - val_accuracy: 0.1334\n",
      "Epoch 2/300\n",
      "369/369 [==============================] - 24s 65ms/step - loss: 1.2611 - accuracy: 0.3602 - val_loss: 1.3580 - val_accuracy: 0.1764\n",
      "Epoch 3/300\n",
      "369/369 [==============================] - 24s 65ms/step - loss: 1.1543 - accuracy: 0.3830 - val_loss: 1.3360 - val_accuracy: 0.2298\n",
      "Epoch 4/300\n",
      "369/369 [==============================] - 24s 65ms/step - loss: 1.0726 - accuracy: 0.4439 - val_loss: 1.3217 - val_accuracy: 0.2852\n",
      "Epoch 5/300\n",
      "369/369 [==============================] - 24s 64ms/step - loss: 1.0138 - accuracy: 0.4908 - val_loss: 1.3181 - val_accuracy: 0.3548\n",
      "Epoch 6/300\n",
      "369/369 [==============================] - 24s 65ms/step - loss: 0.9686 - accuracy: 0.5253 - val_loss: 1.3076 - val_accuracy: 0.3969\n",
      "Epoch 7/300\n",
      "369/369 [==============================] - 24s 65ms/step - loss: 0.9260 - accuracy: 0.5497 - val_loss: 1.3071 - val_accuracy: 0.4309\n",
      "Epoch 8/300\n",
      "369/369 [==============================] - 24s 65ms/step - loss: 0.8925 - accuracy: 0.5866 - val_loss: 1.3162 - val_accuracy: 0.4649\n",
      "Epoch 9/300\n",
      "369/369 [==============================] - 24s 65ms/step - loss: 0.8438 - accuracy: 0.6018 - val_loss: 1.3293 - val_accuracy: 0.4743\n",
      "Epoch 10/300\n",
      "369/369 [==============================] - 24s 65ms/step - loss: 0.8225 - accuracy: 0.6216 - val_loss: 1.3324 - val_accuracy: 0.4947\n",
      "Epoch 00010: early stopping\n",
      "CPU times: user 1min 47s, sys: 15.4 s, total: 2min 2s\n",
      "Wall time: 4min 40s\n"
     ]
    }
   ],
   "source": [
    "%%time\n",
    "start_time = time.time()\n",
    "\n",
    "tl = TransferLearning(CONFIG)\n",
    "model, history = tl.fit(train_X, train_y, val_X, val_y)\n",
    "\n",
    "training_time = time.time() - start_time\n"
   ]
  },
  {
   "cell_type": "code",
   "execution_count": 7,
   "metadata": {
    "colab": {
     "base_uri": "https://localhost:8080/"
    },
    "id": "a5bbjuXNi993",
    "outputId": "51ebb5f8-9f84-4ad0-e60c-0bb3e6ffade4"
   },
   "outputs": [
    {
     "name": "stdout",
     "output_type": "stream",
     "text": [
      "297/297 [==============================] - 15s 52ms/step - loss: 1.3243 - accuracy: 0.1937\n",
      "Loss:  1.3242874145507812\n",
      "Accuracy:  0.19371837377548218\n",
      "CPU times: user 6.86 s, sys: 815 ms, total: 7.67 s\n",
      "Wall time: 15.6 s\n"
     ]
    }
   ],
   "source": [
    "%%time\n",
    "\n",
    "# ---------------- Testing on valentina's data -------------------\n",
    "\n",
    "start_time = time.time()\n",
    "\n",
    "loss, accuracy = model.evaluate(test_X, test_y, batch_size=CONFIG['batch_size'])\n",
    "\n",
    "print(\"Loss: \", loss)\n",
    "print(\"Accuracy: \", accuracy)\n",
    "\n",
    "testing_time = time.time() - start_time"
   ]
  },
  {
   "cell_type": "code",
   "execution_count": 8,
   "metadata": {
    "colab": {
     "base_uri": "https://localhost:8080/",
     "height": 265
    },
    "id": "xggJxTv6mg1a",
    "outputId": "756099f1-9da7-4ce3-8923-eebb5538288b"
   },
   "outputs": [
    {
     "data": {
      "image/png": "[encoded data removed]",
      "text/plain": [
       "<Figure size 432x288 with 1 Axes>"
      ]
     },
     "metadata": {
      "needs_background": "light",
      "tags": []
     },
     "output_type": "display_data"
    }
   ],
   "source": [
    "metrics = history.history\n",
    "plt.plot(history.epoch, metrics['loss'], metrics['val_loss'])\n",
    "plt.legend(['loss', 'val_loss'])\n",
    "plt.show()"
   ]
  },
  {
   "cell_type": "code",
   "execution_count": 9,
   "metadata": {
    "colab": {
     "base_uri": "https://localhost:8080/"
    },
    "id": "5REH-8jemmsh",
    "outputId": "01f7254f-af42-4e28-a931-40d059d174f5"
   },
   "outputs": [
    {
     "name": "stdout",
     "output_type": "stream",
     "text": [
      "              precision    recall  f1-score   support\n",
      "\n",
      "           0       0.60      0.34      0.44      1503\n",
      "           1       0.40      0.64      0.49       411\n",
      "           2       0.48      0.64      0.54      1175\n",
      "\n",
      "    accuracy                           0.49      3089\n",
      "   macro avg       0.49      0.54      0.49      3089\n",
      "weighted avg       0.53      0.49      0.49      3089\n",
      "\n"
     ]
    }
   ],
   "source": [
    "# ------------------ Testing on Aticks's data -----------------\n",
    "\n",
    "y_true = val_y.ravel()\n",
    "y_pred = np.argmax(model.predict(val_X), axis=1)\n",
    "\n",
    "result_atick = classification_report(y_true, y_pred)\n",
    "print(result_atick)"
   ]
  },
  {
   "cell_type": "code",
   "execution_count": 10,
   "metadata": {
    "colab": {
     "base_uri": "https://localhost:8080/",
     "height": 497
    },
    "id": "KQYS9CJeN20E",
    "outputId": "0c480323-d0d1-4a0c-826e-ff8f3cae5c73"
   },
   "outputs": [
    {
     "data": {
      "image/png": "[encoded data removed]",
      "text/plain": [
       "<Figure size 720x576 with 2 Axes>"
      ]
     },
     "metadata": {
      "needs_background": "light",
      "tags": []
     },
     "output_type": "display_data"
    }
   ],
   "source": [
    "# confusion_mtx_atick = tf.math.confusion_matrix(y_true, y_pred) \n",
    "confusion_mtx_atick = (confusion_matrix(y_true, y_pred, normalize='true') * 100).astype('int')\n",
    "plt.figure(figsize=(10, 8))\n",
    "sns.heatmap(confusion_mtx_atick, xticklabels=EMOTIONS, yticklabels=EMOTIONS, \n",
    "            annot=True, fmt='g')\n",
    "plt.xlabel('Prediction')\n",
    "plt.ylabel('Label')\n",
    "plt.show()"
   ]
  },
  {
   "cell_type": "code",
   "execution_count": 11,
   "metadata": {
    "colab": {
     "base_uri": "https://localhost:8080/"
    },
    "id": "ox-Zy8BtN44E",
    "outputId": "b9db8385-6bc8-4942-b3f9-900b93003710"
   },
   "outputs": [
    {
     "name": "stdout",
     "output_type": "stream",
     "text": [
      "              precision    recall  f1-score   support\n",
      "\n",
      "           0       0.18      0.84      0.30      1783\n",
      "           1       0.07      0.15      0.09       378\n",
      "           2       0.79      0.04      0.07      7327\n",
      "\n",
      "    accuracy                           0.19      9488\n",
      "   macro avg       0.35      0.34      0.15      9488\n",
      "weighted avg       0.65      0.19      0.12      9488\n",
      "\n"
     ]
    }
   ],
   "source": [
    "# ------------------ Testing on Valentina's data -----------------\n",
    "\n",
    "y_true = test_y.ravel()\n",
    "y_pred = np.argmax(model.predict(test_X), axis=1)\n",
    "\n",
    "result_valentina = classification_report(y_true, y_pred)\n",
    "print(result_valentina)"
   ]
  },
  {
   "cell_type": "code",
   "execution_count": 12,
   "metadata": {
    "colab": {
     "base_uri": "https://localhost:8080/",
     "height": 497
    },
    "id": "jPFqf5KCN-G9",
    "outputId": "8ca464ec-1f75-40d9-b9af-fbea3c7fd18f"
   },
   "outputs": [
    {
     "data": {
      "image/png": "[encoded data removed]",
      "text/plain": [
       "<Figure size 720x576 with 2 Axes>"
      ]
     },
     "metadata": {
      "needs_background": "light",
      "tags": []
     },
     "output_type": "display_data"
    }
   ],
   "source": [
    "# confusion_mtx_valentina = tf.math.confusion_matrix(y_true, y_pred) \n",
    "confusion_mtx_valentina = (confusion_matrix(y_true, y_pred, normalize='true') * 100).astype('int')\n",
    "plt.figure(figsize=(10, 8))\n",
    "sns.heatmap(confusion_mtx_valentina, xticklabels=EMOTIONS, yticklabels=EMOTIONS, \n",
    "            annot=True, fmt='g')\n",
    "plt.xlabel('Prediction')\n",
    "plt.ylabel('Label')\n",
    "plt.show()"
   ]
  },
  {
   "cell_type": "code",
   "execution_count": 13,
   "metadata": {
    "id": "FRLoeUGeOAMh"
   },
   "outputs": [],
   "source": [
    "summary = []\n",
    "model.summary(print_fn=lambda x: summary.append(x))\n",
    "CONFIG['architecture'] = summary\n",
    "CONFIG['epochs'] = max(history.epoch)\n",
    "CONFIG['training_time'] = training_time\n",
    "CONFIG['testing_time'] = testing_time\n",
    "CONFIG['cm_atick'] = np.array2string(confusion_mtx_atick)\n",
    "result_list_atick = result_atick.split('\\n')\n",
    "CONFIG['cr_atick'] = result_list_atick\n",
    "CONFIG['cm_valentina'] = np.array2string(confusion_mtx_valentina)\n",
    "result_list_valentina = result_valentina.split('\\n')\n",
    "CONFIG['cr_valentina'] = result_list_valentina"
   ]
  },
  {
   "cell_type": "code",
   "execution_count": 14,
   "metadata": {
    "colab": {
     "base_uri": "https://localhost:8080/"
    },
    "id": "84fnBlWoOH-w",
    "outputId": "1f787b9b-29a3-4478-c207-3a2612bc9832"
   },
   "outputs": [
    {
     "name": "stdout",
     "output_type": "stream",
     "text": [
      "{\n",
      "    \"timestamp\": \"2021-05-11 14:12:16.972016\",\n",
      "    \"base_model\": \"mobile_net_v2\",\n",
      "    \"img_shape\": [\n",
      "        288,\n",
      "        288,\n",
      "        3\n",
      "    ],\n",
      "    \"input_shape\": [\n",
      "        160,\n",
      "        160,\n",
      "        3\n",
      "    ],\n",
      "    \"spec_config\": \"LOG_SPEC_W400_H200_HAMM_IMG288\",\n",
      "    \"test_fold\": \"Fold 4\",\n",
      "    \"architecture\": [\n",
      "        \"Model: \\\"model\\\"\",\n",
      "        \"_________________________________________________________________\",\n",
      "        \"Layer (type)                 Output Shape              Param #   \",\n",
      "        \"=================================================================\",\n",
      "        \"input_2 (InputLayer)         [(None, 288, 288, 3)]     0         \",\n",
      "        \"_________________________________________________________________\",\n",
      "        \"resizing (Resizing)          (None, 160, 160, 3)       0         \",\n",
      "        \"_________________________________________________________________\",\n",
      "        \"tf.math.truediv (TFOpLambda) (None, 160, 160, 3)       0         \",\n",
      "        \"_________________________________________________________________\",\n",
      "        \"tf.math.subtract (TFOpLambda (None, 160, 160, 3)       0         \",\n",
      "        \"_________________________________________________________________\",\n",
      "        \"mobilenetv2_1.00_160 (Functi (None, 5, 5, 1280)        2257984   \",\n",
      "        \"_________________________________________________________________\",\n",
      "        \"global_average_pooling2d (Gl (None, 1280)              0         \",\n",
      "        \"_________________________________________________________________\",\n",
      "        \"dropout (Dropout)            (None, 1280)              0         \",\n",
      "        \"_________________________________________________________________\",\n",
      "        \"dense (Dense)                (None, 3)                 3843      \",\n",
      "        \"=================================================================\",\n",
      "        \"Total params: 2,261,827\",\n",
      "        \"Trainable params: 3,843\",\n",
      "        \"Non-trainable params: 2,257,984\",\n",
      "        \"_________________________________________________________________\"\n",
      "    ],\n",
      "    \"batch_size\": 32,\n",
      "    \"epochs\": 9,\n",
      "    \"learning_rate\": 1e-05,\n",
      "    \"monitor\": \"val_loss\",\n",
      "    \"patience\": 3,\n",
      "    \"class_weight\": {\n",
      "        \"0\": 0.71,\n",
      "        \"1\": 2.32,\n",
      "        \"2\": 0.86\n",
      "    },\n",
      "    \"training_time\": 280.61194014549255,\n",
      "    \"testing_time\": 15.55738377571106,\n",
      "    \"cm_atick\": \"[[34 12 53]\\n [30 64  5]\\n [18 18 63]]\",\n",
      "    \"cr_atick\": [\n",
      "        \"              precision    recall  f1-score   support\",\n",
      "        \"\",\n",
      "        \"           0       0.60      0.34      0.44      1503\",\n",
      "        \"           1       0.40      0.64      0.49       411\",\n",
      "        \"           2       0.48      0.64      0.54      1175\",\n",
      "        \"\",\n",
      "        \"    accuracy                           0.49      3089\",\n",
      "        \"   macro avg       0.49      0.54      0.49      3089\",\n",
      "        \"weighted avg       0.53      0.49      0.49      3089\",\n",
      "        \"\"\n",
      "    ],\n",
      "    \"cm_valentina\": \"[[84 12  3]\\n [82 14  2]\\n [88  7  3]]\",\n",
      "    \"cr_valentina\": [\n",
      "        \"              precision    recall  f1-score   support\",\n",
      "        \"\",\n",
      "        \"           0       0.18      0.84      0.30      1783\",\n",
      "        \"           1       0.07      0.15      0.09       378\",\n",
      "        \"           2       0.79      0.04      0.07      7327\",\n",
      "        \"\",\n",
      "        \"    accuracy                           0.19      9488\",\n",
      "        \"   macro avg       0.35      0.34      0.15      9488\",\n",
      "        \"weighted avg       0.65      0.19      0.12      9488\",\n",
      "        \"\"\n",
      "    ]\n",
      "}\n"
     ]
    }
   ],
   "source": [
    "config = json.dumps(CONFIG, indent=4)\n",
    "print(config)"
   ]
  },
  {
   "cell_type": "code",
   "execution_count": 15,
   "metadata": {
    "id": "UyTRK411OKSn"
   },
   "outputs": [],
   "source": [
    "f = open(LOG_FILE, 'a')\n",
    "f.write('\\n')\n",
    "f.write(config)\n",
    "f.write('\\n')\n",
    "f.close()"
   ]
  },
  {
   "cell_type": "code",
   "execution_count": 15,
   "metadata": {
    "id": "lE0joRG4h_R-"
   },
   "outputs": [],
   "source": []
  }
 ],
 "metadata": {
  "accelerator": "GPU",
  "colab": {
   "authorship_tag": "ABX9TyNKyMPzEK/i5t61R3X8++E9",
   "include_colab_link": true,
   "mount_file_id": "https://github.com/atick-faisal/Crowd-Emotion/blob/main/src_v4/CE__Transfer_Learning_v4.ipynb",
   "name": "CE_TE_MobileNet_v4.ipynb",
   "provenance": []
  },
  "kernelspec": {
   "display_name": "Python 3",
   "language": "python",
   "name": "python3"
  },
  "language_info": {
   "codemirror_mode": {
    "name": "ipython",
    "version": 3
   },
   "file_extension": ".py",
   "mimetype": "text/x-python",
   "name": "python",
   "nbconvert_exporter": "python",
   "pygments_lexer": "ipython3",
   "version": "3.8.5"
  }
 },
 "nbformat": 4,
 "nbformat_minor": 1
}
