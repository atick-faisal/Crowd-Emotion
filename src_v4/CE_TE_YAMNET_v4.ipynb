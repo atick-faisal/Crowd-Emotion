{
  "nbformat": 4,
  "nbformat_minor": 0,
  "metadata": {
    "colab": {
      "name": "CE_TE_YAMNET_v4.ipynb",
      "provenance": [],
      "collapsed_sections": [],
      "mount_file_id": "https://github.com/atick-faisal/Crowd-Emotion/blob/main/src_v4/CE_TE_YAMNET_v4.ipynb",
      "authorship_tag": "ABX9TyMlbhOXSxVKgLwajECMdCDk",
      "include_colab_link": true
    },
    "kernelspec": {
      "name": "python3",
      "display_name": "Python 3"
    },
    "language_info": {
      "name": "python"
    },
    "accelerator": "GPU"
  },
  "cells": [
    {
      "cell_type": "markdown",
      "metadata": {
        "id": "view-in-github",
        "colab_type": "text"
      },
      "source": [
        "<a href=\"https://colab.research.google.com/github/atick-faisal/Crowd-Emotion/blob/main/src_v4/CE_TE_YAMNET_v4.ipynb\" target=\"_parent\"><img src=\"https://colab.research.google.com/assets/colab-badge.svg\" alt=\"Open In Colab\"/></a>"
      ]
    },
    {
      "cell_type": "code",
      "metadata": {
        "id": "xXm9QHXCkyPe"
      },
      "source": [
        "!pip install -q tensorflow_io"
      ],
      "execution_count": 1,
      "outputs": []
    },
    {
      "cell_type": "code",
      "metadata": {
        "colab": {
          "base_uri": "https://localhost:8080/",
          "height": 35
        },
        "id": "ybtLyX0-G9gp",
        "outputId": "4154a8d6-957e-4178-ac88-51d09ebe036e"
      },
      "source": [
        "import os\n",
        "import time\n",
        "import json\n",
        "import datetime\n",
        "\n",
        "import numpy as np\n",
        "import seaborn as sns\n",
        "import matplotlib.pyplot as plt\n",
        "\n",
        "import tensorflow as tf\n",
        "import tensorflow_datasets as tfds\n",
        "import tensorflow_hub as hub\n",
        "import tensorflow_io as tfio\n",
        "\n",
        "from sklearn.metrics import classification_report\n",
        "\n",
        "tf.random.set_seed(42)\n",
        "\n",
        "tf.__version__"
      ],
      "execution_count": 2,
      "outputs": [
        {
          "output_type": "execute_result",
          "data": {
            "application/vnd.google.colaboratory.intrinsic+json": {
              "type": "string"
            },
            "text/plain": [
              "'2.4.1'"
            ]
          },
          "metadata": {
            "tags": []
          },
          "execution_count": 2
        }
      ]
    },
    {
      "cell_type": "code",
      "metadata": {
        "id": "aKj-FBtiV5px"
      },
      "source": [
        "CONFIG = {\n",
        "    'timestamp'             : str(datetime.datetime.now()),\n",
        "    'model'                 : 'Transfer Learning on YAMNET',\n",
        "    'test_fold'             : 'Fold 1',\n",
        "    'architecture'          : '',\n",
        "    'batch_size'            : 32,\n",
        "    'epochs'                : 0,\n",
        "    'learning_rate'         : 0.000001,\n",
        "    'patience'              : 2,\n",
        "    'training_time'         : 0,\n",
        "    'testing_time'          : 0,\n",
        "    'cm_atick'              : '',\n",
        "    'cr_atick'              : '',\n",
        "    'cm_valentina'          : '',\n",
        "    'cr_valentina'          : ''\n",
        "}"
      ],
      "execution_count": 3,
      "outputs": []
    },
    {
      "cell_type": "code",
      "metadata": {
        "id": "sKEM7cZZOBwG"
      },
      "source": [
        "BASE_DIR            = os.getcwd()\n",
        "LOG_FILE             = '/content/drive/MyDrive/Research/Crowd Emotion Logs/tl_yamnet.txt'\n",
        "FOLDS               = ['Fold 1', 'Fold 2', 'Fold 3', 'Fold 4', 'Fold 5']\n",
        "EMOTIONS            = ['Approval', 'Disapproval', 'Neutral']\n",
        "\n",
        "ATICK_DATA_DIR      = '/content/Dataset-Atick/'\n",
        "VALENTINA_DATA_DIR  = '/content/Dataset-Valentina/'"
      ],
      "execution_count": 4,
      "outputs": []
    },
    {
      "cell_type": "code",
      "metadata": {
        "colab": {
          "base_uri": "https://localhost:8080/"
        },
        "id": "FVSxpCMtHVAN",
        "outputId": "f142e6db-e9fd-4d20-fe25-943e3803d0c7"
      },
      "source": [
        "%%time\n",
        "\n",
        "# # ----------------- Loading my dataset -------------------\n",
        "# !mkdir /content/Dataset-Atick/\n",
        "# !gdown --id '1HOe5sJe_Juf5uib4f-8pPv-Z64lmqQ4X'\n",
        "# !tar -xf /content/Crowd-Emotion-Dataset.tar.xz -C /content/Dataset-Atick/\n",
        "\n",
        "# # ----------------- Loading Valentina's dataset -------------------\n",
        "# !mkdir /content/Dataset-Valentina/\n",
        "# !gdown --id '11tC2Nmie9v3ljo60oQJ3sN1rVkorV-N1'\n",
        "# !tar -xf /content/Valentina_CE_Dataset.tar.xz -C /content/Dataset-Valentina/\n"
      ],
      "execution_count": 5,
      "outputs": [
        {
          "output_type": "stream",
          "text": [
            "CPU times: user 3 µs, sys: 0 ns, total: 3 µs\n",
            "Wall time: 6.91 µs\n"
          ],
          "name": "stdout"
        }
      ]
    },
    {
      "cell_type": "code",
      "metadata": {
        "id": "ADFLnQBwHQFt"
      },
      "source": [
        "# ------------- Load YAMNET fron TF-Hub ------------------\n",
        "\n",
        "yamnet_model_handle = 'https://tfhub.dev/google/yamnet/1'\n",
        "yamnet_model = hub.load(yamnet_model_handle)\n"
      ],
      "execution_count": 6,
      "outputs": []
    },
    {
      "cell_type": "code",
      "metadata": {
        "id": "SYbR0YjWI1lL"
      },
      "source": [
        "# --------------- File loading utilities ------------------\n",
        "\n",
        "@tf.function\n",
        "def load_wav_16k_mono(filename):\n",
        "    \"\"\" read in a waveform file and convert to 16 kHz mono \"\"\"\n",
        "    file_contents = tf.io.read_file(filename)\n",
        "    wav, sample_rate = tf.audio.decode_wav(\n",
        "          file_contents,\n",
        "          desired_channels=1)\n",
        "    wav = tf.squeeze(wav, axis=-1)\n",
        "    sample_rate = tf.cast(sample_rate, dtype=tf.int64)\n",
        "    wav = tfio.audio.resample(wav, rate_in=sample_rate, rate_out=16000)\n",
        "    return wav\n",
        "\n",
        "def load_wav_for_map(filename, label, fold):\n",
        "  return load_wav_16k_mono(filename), label, fold\n",
        "\n",
        "def load_ds(path, class_names, fold_names=['']):\n",
        "\n",
        "    filenames = []\n",
        "    labels = []\n",
        "    folds = []\n",
        "\n",
        "    for class_name in class_names:\n",
        "        print('processing files for ' + class_name, end=' ... ')\n",
        "\n",
        "        for fold in fold_names:\n",
        "            files_path = os.path.join(path, class_name, fold)\n",
        "\n",
        "            for filename in os.listdir(files_path):\n",
        "                filenames.append(os.path.join(files_path, filename))\n",
        "                labels.append(class_names.index(class_name))\n",
        "\n",
        "                try:\n",
        "                    folds.append(FOLDS.index(fold))\n",
        "                except ValueError:\n",
        "                    folds.append(0)\n",
        "\n",
        "        print('√')\n",
        "\n",
        "    return tf.data.Dataset.from_tensor_slices((filenames, labels, folds))"
      ],
      "execution_count": 7,
      "outputs": []
    },
    {
      "cell_type": "code",
      "metadata": {
        "colab": {
          "base_uri": "https://localhost:8080/"
        },
        "id": "GITkVJBJM5kw",
        "outputId": "9c0541a1-efde-4567-8115-77eaf2566581"
      },
      "source": [
        "atick_ds = load_ds(ATICK_DATA_DIR, EMOTIONS, FOLDS)\n",
        "valentina_ds = load_ds(VALENTINA_DATA_DIR, EMOTIONS)\n",
        "\n",
        "# atick_ds.element_spec"
      ],
      "execution_count": 8,
      "outputs": [
        {
          "output_type": "stream",
          "text": [
            "processing files for Approval ... √\n",
            "processing files for Disapproval ... √\n",
            "processing files for Neutral ... √\n",
            "processing files for Approval ... √\n",
            "processing files for Disapproval ... √\n",
            "processing files for Neutral ... √\n"
          ],
          "name": "stdout"
        }
      ]
    },
    {
      "cell_type": "code",
      "metadata": {
        "id": "LE2EB7GuOpEV"
      },
      "source": [
        "atick_ds = atick_ds.map(load_wav_for_map)\n",
        "valentina_ds = valentina_ds.map(load_wav_for_map)"
      ],
      "execution_count": 9,
      "outputs": []
    },
    {
      "cell_type": "code",
      "metadata": {
        "colab": {
          "base_uri": "https://localhost:8080/"
        },
        "id": "air3bRfrPYh7",
        "outputId": "a95196c4-33c0-43b1-8ce7-2198180688b6"
      },
      "source": [
        "# --------- Embeddings extraction using YAMNET -------------\n",
        "def extract_embedding(wav_data, label, fold):\n",
        "    ''' run YAMNet to extract embedding from the wav data '''\n",
        "    scores, embeddings, spectrogram = yamnet_model(wav_data)\n",
        "    num_embeddings = tf.shape(embeddings)[0]\n",
        "    return (\n",
        "            embeddings,\n",
        "            tf.repeat(label, num_embeddings),\n",
        "            tf.repeat(fold, num_embeddings)\n",
        ")\n",
        "\n",
        "atick_ds = atick_ds.map(extract_embedding).unbatch()\n",
        "valentina_ds = valentina_ds.map(extract_embedding).unbatch()\n",
        "\n",
        "atick_ds.element_spec"
      ],
      "execution_count": 10,
      "outputs": [
        {
          "output_type": "execute_result",
          "data": {
            "text/plain": [
              "(TensorSpec(shape=(1024,), dtype=tf.float32, name=None),\n",
              " TensorSpec(shape=(), dtype=tf.int32, name=None),\n",
              " TensorSpec(shape=(), dtype=tf.int32, name=None))"
            ]
          },
          "metadata": {
            "tags": []
          },
          "execution_count": 10
        }
      ]
    },
    {
      "cell_type": "code",
      "metadata": {
        "id": "m9Dalx5jQtCh"
      },
      "source": [
        "cached_ds_atick = atick_ds.cache()\n",
        "cached_ds_valentina = valentina_ds.cache()\n",
        "\n",
        "train_ds = cached_ds_atick.filter(\n",
        "    lambda embedding, label, fold: fold != FOLDS.index(CONFIG['test_fold'])\n",
        ")\n",
        "val_ds = cached_ds_atick.filter(\n",
        "    lambda embedding, label, fold: fold == FOLDS.index(CONFIG['test_fold'])\n",
        ")\n",
        "\n",
        "test_ds = cached_ds_valentina\n",
        "\n",
        "# train_ds = cached_ds_atick\n",
        "# val_ds = cached_ds_valentina\n",
        "# test_ds = cached_ds_valentina\n",
        "\n",
        "# remove the folds column now that it's not needed anymore\n",
        "remove_fold_column = lambda embedding, label, fold: (embedding, label)\n",
        "\n",
        "train_ds = train_ds.map(remove_fold_column)\n",
        "val_ds = val_ds.map(remove_fold_column)\n",
        "test_ds = test_ds.map(remove_fold_column)\n",
        "\n",
        "train_ds = train_ds.cache().shuffle(1000) .batch(CONFIG['batch_size']) \\\n",
        "                    .prefetch(tf.data.AUTOTUNE)\n",
        "val_ds = val_ds.cache().batch(CONFIG['batch_size']).prefetch(tf.data.AUTOTUNE)\n",
        "test_ds = test_ds.cache().batch(CONFIG['batch_size']).prefetch(tf.data.AUTOTUNE)"
      ],
      "execution_count": 11,
      "outputs": []
    },
    {
      "cell_type": "code",
      "metadata": {
        "colab": {
          "base_uri": "https://localhost:8080/"
        },
        "id": "EHLR-u5fQySE",
        "outputId": "f609460c-62de-4879-8029-70f980671255"
      },
      "source": [
        "my_model = tf.keras.Sequential([\n",
        "    tf.keras.layers.Input(shape=(1024), dtype=tf.float32,\n",
        "                          name='input_embedding'),\n",
        "    tf.keras.layers.Dense(512, activation='relu'),\n",
        "    tf.keras.layers.Dropout(0.5),\n",
        "    tf.keras.layers.Dense(len(EMOTIONS))\n",
        "], name='my_model')\n",
        "\n",
        "my_model.summary()"
      ],
      "execution_count": 12,
      "outputs": [
        {
          "output_type": "stream",
          "text": [
            "Model: \"my_model\"\n",
            "_________________________________________________________________\n",
            "Layer (type)                 Output Shape              Param #   \n",
            "=================================================================\n",
            "dense (Dense)                (None, 512)               524800    \n",
            "_________________________________________________________________\n",
            "dropout (Dropout)            (None, 512)               0         \n",
            "_________________________________________________________________\n",
            "dense_1 (Dense)              (None, 3)                 1539      \n",
            "=================================================================\n",
            "Total params: 526,339\n",
            "Trainable params: 526,339\n",
            "Non-trainable params: 0\n",
            "_________________________________________________________________\n"
          ],
          "name": "stdout"
        }
      ]
    },
    {
      "cell_type": "code",
      "metadata": {
        "id": "Ah5HL32GRbKP"
      },
      "source": [
        "my_model.compile(\n",
        "    loss=tf.keras.losses.SparseCategoricalCrossentropy(from_logits=True),\n",
        "    optimizer=tf.keras.optimizers.Adam(learning_rate=CONFIG['learning_rate']),\n",
        "    metrics=['accuracy']\n",
        ")\n",
        "\n",
        "callback = tf.keras.callbacks.EarlyStopping(\n",
        "    monitor='val_loss',\n",
        "    patience=CONFIG['patience'],\n",
        "    restore_best_weights=True\n",
        ")"
      ],
      "execution_count": 13,
      "outputs": []
    },
    {
      "cell_type": "code",
      "metadata": {
        "colab": {
          "base_uri": "https://localhost:8080/"
        },
        "id": "XZg2kaaiRdoh",
        "outputId": "afd364e1-549d-4fe3-e975-89fd6032499e"
      },
      "source": [
        "%%time\n",
        "start_time = time.time()\n",
        "\n",
        "history = my_model.fit(\n",
        "    train_ds,\n",
        "    epochs=300,\n",
        "    validation_data=val_ds,\n",
        "    callbacks=callback\n",
        ")\n",
        "\n",
        "training_time = time.time() - start_time"
      ],
      "execution_count": 14,
      "outputs": [
        {
          "output_type": "stream",
          "text": [
            "Epoch 1/300\n",
            "251/251 [==============================] - 110s 403ms/step - loss: 1.2045 - accuracy: 0.2028 - val_loss: 0.9276 - val_accuracy: 0.8515\n",
            "Epoch 2/300\n",
            "251/251 [==============================] - 1s 4ms/step - loss: 1.1731 - accuracy: 0.2265 - val_loss: 0.9101 - val_accuracy: 0.8871\n",
            "Epoch 3/300\n",
            "251/251 [==============================] - 1s 4ms/step - loss: 1.1433 - accuracy: 0.2586 - val_loss: 0.8948 - val_accuracy: 0.9001\n",
            "Epoch 4/300\n",
            "251/251 [==============================] - 1s 4ms/step - loss: 1.1086 - accuracy: 0.2983 - val_loss: 0.8809 - val_accuracy: 0.9032\n",
            "Epoch 5/300\n",
            "251/251 [==============================] - 1s 4ms/step - loss: 1.0828 - accuracy: 0.3349 - val_loss: 0.8684 - val_accuracy: 0.9062\n",
            "Epoch 6/300\n",
            "251/251 [==============================] - 1s 4ms/step - loss: 1.0654 - accuracy: 0.3574 - val_loss: 0.8568 - val_accuracy: 0.9108\n",
            "Epoch 7/300\n",
            "251/251 [==============================] - 1s 4ms/step - loss: 1.0351 - accuracy: 0.4000 - val_loss: 0.8463 - val_accuracy: 0.9088\n",
            "Epoch 8/300\n",
            "251/251 [==============================] - 1s 4ms/step - loss: 1.0165 - accuracy: 0.4294 - val_loss: 0.8367 - val_accuracy: 0.9082\n",
            "Epoch 9/300\n",
            "251/251 [==============================] - 1s 4ms/step - loss: 0.9962 - accuracy: 0.4643 - val_loss: 0.8275 - val_accuracy: 0.9044\n",
            "Epoch 10/300\n",
            "251/251 [==============================] - 1s 4ms/step - loss: 0.9694 - accuracy: 0.5014 - val_loss: 0.8191 - val_accuracy: 0.9038\n",
            "Epoch 11/300\n",
            "251/251 [==============================] - 1s 4ms/step - loss: 0.9577 - accuracy: 0.5222 - val_loss: 0.8109 - val_accuracy: 0.9005\n",
            "Epoch 12/300\n",
            "251/251 [==============================] - 1s 4ms/step - loss: 0.9388 - accuracy: 0.5336 - val_loss: 0.8034 - val_accuracy: 0.8977\n",
            "Epoch 13/300\n",
            "251/251 [==============================] - 1s 4ms/step - loss: 0.9232 - accuracy: 0.5685 - val_loss: 0.7958 - val_accuracy: 0.8935\n",
            "Epoch 14/300\n",
            "251/251 [==============================] - 1s 4ms/step - loss: 0.9096 - accuracy: 0.5935 - val_loss: 0.7888 - val_accuracy: 0.8885\n",
            "Epoch 15/300\n",
            "251/251 [==============================] - 1s 4ms/step - loss: 0.8962 - accuracy: 0.6157 - val_loss: 0.7820 - val_accuracy: 0.8837\n",
            "Epoch 16/300\n",
            "251/251 [==============================] - 1s 4ms/step - loss: 0.8814 - accuracy: 0.6168 - val_loss: 0.7756 - val_accuracy: 0.8813\n",
            "Epoch 17/300\n",
            "251/251 [==============================] - 1s 4ms/step - loss: 0.8704 - accuracy: 0.6400 - val_loss: 0.7694 - val_accuracy: 0.8780\n",
            "Epoch 18/300\n",
            "251/251 [==============================] - 1s 4ms/step - loss: 0.8644 - accuracy: 0.6453 - val_loss: 0.7631 - val_accuracy: 0.8774\n",
            "Epoch 19/300\n",
            "251/251 [==============================] - 1s 4ms/step - loss: 0.8481 - accuracy: 0.6660 - val_loss: 0.7573 - val_accuracy: 0.8760\n",
            "Epoch 20/300\n",
            "251/251 [==============================] - 1s 4ms/step - loss: 0.8457 - accuracy: 0.6734 - val_loss: 0.7512 - val_accuracy: 0.8750\n",
            "Epoch 21/300\n",
            "251/251 [==============================] - 1s 4ms/step - loss: 0.8315 - accuracy: 0.6776 - val_loss: 0.7455 - val_accuracy: 0.8734\n",
            "Epoch 22/300\n",
            "251/251 [==============================] - 1s 4ms/step - loss: 0.8257 - accuracy: 0.6859 - val_loss: 0.7399 - val_accuracy: 0.8716\n",
            "Epoch 23/300\n",
            "251/251 [==============================] - 1s 4ms/step - loss: 0.8171 - accuracy: 0.6884 - val_loss: 0.7343 - val_accuracy: 0.8698\n",
            "Epoch 24/300\n",
            "251/251 [==============================] - 1s 4ms/step - loss: 0.8077 - accuracy: 0.7053 - val_loss: 0.7291 - val_accuracy: 0.8682\n",
            "Epoch 25/300\n",
            "251/251 [==============================] - 1s 4ms/step - loss: 0.8079 - accuracy: 0.7025 - val_loss: 0.7239 - val_accuracy: 0.8678\n",
            "Epoch 26/300\n",
            "251/251 [==============================] - 1s 4ms/step - loss: 0.7996 - accuracy: 0.7088 - val_loss: 0.7190 - val_accuracy: 0.8676\n",
            "Epoch 27/300\n",
            "251/251 [==============================] - 1s 4ms/step - loss: 0.7894 - accuracy: 0.7227 - val_loss: 0.7142 - val_accuracy: 0.8674\n",
            "Epoch 28/300\n",
            "251/251 [==============================] - 1s 4ms/step - loss: 0.7848 - accuracy: 0.7221 - val_loss: 0.7096 - val_accuracy: 0.8674\n",
            "Epoch 29/300\n",
            "251/251 [==============================] - 1s 4ms/step - loss: 0.7783 - accuracy: 0.7224 - val_loss: 0.7051 - val_accuracy: 0.8670\n",
            "Epoch 30/300\n",
            "251/251 [==============================] - 1s 4ms/step - loss: 0.7703 - accuracy: 0.7376 - val_loss: 0.7010 - val_accuracy: 0.8660\n",
            "Epoch 31/300\n",
            "251/251 [==============================] - 1s 4ms/step - loss: 0.7670 - accuracy: 0.7359 - val_loss: 0.6964 - val_accuracy: 0.8658\n",
            "Epoch 32/300\n",
            "251/251 [==============================] - 1s 4ms/step - loss: 0.7582 - accuracy: 0.7373 - val_loss: 0.6922 - val_accuracy: 0.8660\n",
            "Epoch 33/300\n",
            "251/251 [==============================] - 1s 4ms/step - loss: 0.7549 - accuracy: 0.7451 - val_loss: 0.6878 - val_accuracy: 0.8652\n",
            "Epoch 34/300\n",
            "251/251 [==============================] - 1s 4ms/step - loss: 0.7534 - accuracy: 0.7412 - val_loss: 0.6836 - val_accuracy: 0.8650\n",
            "Epoch 35/300\n",
            "251/251 [==============================] - 1s 4ms/step - loss: 0.7486 - accuracy: 0.7446 - val_loss: 0.6796 - val_accuracy: 0.8648\n",
            "Epoch 36/300\n",
            "251/251 [==============================] - 1s 4ms/step - loss: 0.7450 - accuracy: 0.7512 - val_loss: 0.6756 - val_accuracy: 0.8650\n",
            "Epoch 37/300\n",
            "251/251 [==============================] - 1s 4ms/step - loss: 0.7371 - accuracy: 0.7665 - val_loss: 0.6716 - val_accuracy: 0.8656\n",
            "Epoch 38/300\n",
            "251/251 [==============================] - 1s 4ms/step - loss: 0.7336 - accuracy: 0.7568 - val_loss: 0.6678 - val_accuracy: 0.8660\n",
            "Epoch 39/300\n",
            "251/251 [==============================] - 1s 4ms/step - loss: 0.7328 - accuracy: 0.7521 - val_loss: 0.6642 - val_accuracy: 0.8658\n",
            "Epoch 40/300\n",
            "251/251 [==============================] - 1s 4ms/step - loss: 0.7258 - accuracy: 0.7579 - val_loss: 0.6608 - val_accuracy: 0.8662\n",
            "Epoch 41/300\n",
            "251/251 [==============================] - 1s 4ms/step - loss: 0.7213 - accuracy: 0.7649 - val_loss: 0.6574 - val_accuracy: 0.8656\n",
            "Epoch 42/300\n",
            "251/251 [==============================] - 1s 4ms/step - loss: 0.7230 - accuracy: 0.7563 - val_loss: 0.6541 - val_accuracy: 0.8652\n",
            "Epoch 43/300\n",
            "251/251 [==============================] - 1s 4ms/step - loss: 0.7143 - accuracy: 0.7597 - val_loss: 0.6508 - val_accuracy: 0.8656\n",
            "Epoch 44/300\n",
            "251/251 [==============================] - 1s 4ms/step - loss: 0.7066 - accuracy: 0.7646 - val_loss: 0.6476 - val_accuracy: 0.8654\n",
            "Epoch 45/300\n",
            "251/251 [==============================] - 1s 4ms/step - loss: 0.7045 - accuracy: 0.7694 - val_loss: 0.6444 - val_accuracy: 0.8656\n",
            "Epoch 46/300\n",
            "251/251 [==============================] - 1s 4ms/step - loss: 0.7091 - accuracy: 0.7632 - val_loss: 0.6416 - val_accuracy: 0.8650\n",
            "Epoch 47/300\n",
            "251/251 [==============================] - 1s 4ms/step - loss: 0.7018 - accuracy: 0.7716 - val_loss: 0.6388 - val_accuracy: 0.8656\n",
            "Epoch 48/300\n",
            "251/251 [==============================] - 1s 4ms/step - loss: 0.6986 - accuracy: 0.7700 - val_loss: 0.6362 - val_accuracy: 0.8656\n",
            "Epoch 49/300\n",
            "251/251 [==============================] - 1s 4ms/step - loss: 0.6936 - accuracy: 0.7738 - val_loss: 0.6332 - val_accuracy: 0.8658\n",
            "Epoch 50/300\n",
            "251/251 [==============================] - 1s 4ms/step - loss: 0.6933 - accuracy: 0.7738 - val_loss: 0.6305 - val_accuracy: 0.8656\n",
            "Epoch 51/300\n",
            "251/251 [==============================] - 1s 4ms/step - loss: 0.6878 - accuracy: 0.7757 - val_loss: 0.6279 - val_accuracy: 0.8654\n",
            "Epoch 52/300\n",
            "251/251 [==============================] - 1s 4ms/step - loss: 0.6860 - accuracy: 0.7762 - val_loss: 0.6253 - val_accuracy: 0.8650\n",
            "Epoch 53/300\n",
            "251/251 [==============================] - 1s 4ms/step - loss: 0.6800 - accuracy: 0.7843 - val_loss: 0.6228 - val_accuracy: 0.8640\n",
            "Epoch 54/300\n",
            "251/251 [==============================] - 1s 4ms/step - loss: 0.6814 - accuracy: 0.7780 - val_loss: 0.6203 - val_accuracy: 0.8642\n",
            "Epoch 55/300\n",
            "251/251 [==============================] - 1s 4ms/step - loss: 0.6822 - accuracy: 0.7699 - val_loss: 0.6181 - val_accuracy: 0.8636\n",
            "Epoch 56/300\n",
            "251/251 [==============================] - 1s 4ms/step - loss: 0.6745 - accuracy: 0.7875 - val_loss: 0.6156 - val_accuracy: 0.8638\n",
            "Epoch 57/300\n",
            "251/251 [==============================] - 1s 4ms/step - loss: 0.6738 - accuracy: 0.7732 - val_loss: 0.6136 - val_accuracy: 0.8632\n",
            "Epoch 58/300\n",
            "251/251 [==============================] - 1s 4ms/step - loss: 0.6705 - accuracy: 0.7813 - val_loss: 0.6116 - val_accuracy: 0.8626\n",
            "Epoch 59/300\n",
            "251/251 [==============================] - 1s 4ms/step - loss: 0.6727 - accuracy: 0.7763 - val_loss: 0.6094 - val_accuracy: 0.8616\n",
            "Epoch 60/300\n",
            "251/251 [==============================] - 1s 4ms/step - loss: 0.6682 - accuracy: 0.7770 - val_loss: 0.6074 - val_accuracy: 0.8616\n",
            "Epoch 61/300\n",
            "251/251 [==============================] - 1s 4ms/step - loss: 0.6647 - accuracy: 0.7800 - val_loss: 0.6058 - val_accuracy: 0.8612\n",
            "Epoch 62/300\n",
            "251/251 [==============================] - 1s 4ms/step - loss: 0.6594 - accuracy: 0.7862 - val_loss: 0.6039 - val_accuracy: 0.8612\n",
            "Epoch 63/300\n",
            "251/251 [==============================] - 1s 4ms/step - loss: 0.6587 - accuracy: 0.7793 - val_loss: 0.6022 - val_accuracy: 0.8614\n",
            "Epoch 64/300\n",
            "251/251 [==============================] - 1s 4ms/step - loss: 0.6598 - accuracy: 0.7805 - val_loss: 0.6006 - val_accuracy: 0.8606\n",
            "Epoch 65/300\n",
            "251/251 [==============================] - 1s 4ms/step - loss: 0.6544 - accuracy: 0.7883 - val_loss: 0.5989 - val_accuracy: 0.8604\n",
            "Epoch 66/300\n",
            "251/251 [==============================] - 1s 4ms/step - loss: 0.6523 - accuracy: 0.7776 - val_loss: 0.5976 - val_accuracy: 0.8602\n",
            "Epoch 67/300\n",
            "251/251 [==============================] - 1s 4ms/step - loss: 0.6502 - accuracy: 0.7832 - val_loss: 0.5961 - val_accuracy: 0.8592\n",
            "Epoch 68/300\n",
            "251/251 [==============================] - 1s 4ms/step - loss: 0.6454 - accuracy: 0.7832 - val_loss: 0.5945 - val_accuracy: 0.8585\n",
            "Epoch 69/300\n",
            "251/251 [==============================] - 1s 4ms/step - loss: 0.6446 - accuracy: 0.7901 - val_loss: 0.5928 - val_accuracy: 0.8575\n",
            "Epoch 70/300\n",
            "251/251 [==============================] - 1s 4ms/step - loss: 0.6440 - accuracy: 0.7850 - val_loss: 0.5914 - val_accuracy: 0.8571\n",
            "Epoch 71/300\n",
            "251/251 [==============================] - 1s 4ms/step - loss: 0.6384 - accuracy: 0.7804 - val_loss: 0.5903 - val_accuracy: 0.8559\n",
            "Epoch 72/300\n",
            "251/251 [==============================] - 1s 4ms/step - loss: 0.6399 - accuracy: 0.7868 - val_loss: 0.5892 - val_accuracy: 0.8553\n",
            "Epoch 73/300\n",
            "251/251 [==============================] - 1s 4ms/step - loss: 0.6399 - accuracy: 0.7889 - val_loss: 0.5880 - val_accuracy: 0.8545\n",
            "Epoch 74/300\n",
            "251/251 [==============================] - 1s 4ms/step - loss: 0.6305 - accuracy: 0.7940 - val_loss: 0.5868 - val_accuracy: 0.8535\n",
            "Epoch 75/300\n",
            "251/251 [==============================] - 1s 4ms/step - loss: 0.6345 - accuracy: 0.7905 - val_loss: 0.5856 - val_accuracy: 0.8525\n",
            "Epoch 76/300\n",
            "251/251 [==============================] - 1s 4ms/step - loss: 0.6317 - accuracy: 0.7838 - val_loss: 0.5844 - val_accuracy: 0.8525\n",
            "Epoch 77/300\n",
            "251/251 [==============================] - 1s 4ms/step - loss: 0.6275 - accuracy: 0.7891 - val_loss: 0.5831 - val_accuracy: 0.8523\n",
            "Epoch 78/300\n",
            "251/251 [==============================] - 1s 4ms/step - loss: 0.6257 - accuracy: 0.7913 - val_loss: 0.5820 - val_accuracy: 0.8519\n",
            "Epoch 79/300\n",
            "251/251 [==============================] - 1s 4ms/step - loss: 0.6246 - accuracy: 0.7910 - val_loss: 0.5811 - val_accuracy: 0.8503\n",
            "Epoch 80/300\n",
            "251/251 [==============================] - 1s 4ms/step - loss: 0.6216 - accuracy: 0.7982 - val_loss: 0.5801 - val_accuracy: 0.8495\n",
            "Epoch 81/300\n",
            "251/251 [==============================] - 1s 4ms/step - loss: 0.6197 - accuracy: 0.7896 - val_loss: 0.5791 - val_accuracy: 0.8489\n",
            "Epoch 82/300\n",
            "251/251 [==============================] - 1s 4ms/step - loss: 0.6215 - accuracy: 0.7860 - val_loss: 0.5781 - val_accuracy: 0.8481\n",
            "Epoch 83/300\n",
            "251/251 [==============================] - 1s 4ms/step - loss: 0.6158 - accuracy: 0.7937 - val_loss: 0.5775 - val_accuracy: 0.8475\n",
            "Epoch 84/300\n",
            "251/251 [==============================] - 1s 4ms/step - loss: 0.6129 - accuracy: 0.8004 - val_loss: 0.5767 - val_accuracy: 0.8473\n",
            "Epoch 85/300\n",
            "251/251 [==============================] - 1s 4ms/step - loss: 0.6128 - accuracy: 0.7980 - val_loss: 0.5761 - val_accuracy: 0.8473\n",
            "Epoch 86/300\n",
            "251/251 [==============================] - 1s 4ms/step - loss: 0.6132 - accuracy: 0.7894 - val_loss: 0.5753 - val_accuracy: 0.8469\n",
            "Epoch 87/300\n",
            "251/251 [==============================] - 1s 4ms/step - loss: 0.6076 - accuracy: 0.7947 - val_loss: 0.5746 - val_accuracy: 0.8467\n",
            "Epoch 88/300\n",
            "251/251 [==============================] - 1s 4ms/step - loss: 0.6122 - accuracy: 0.7881 - val_loss: 0.5741 - val_accuracy: 0.8461\n",
            "Epoch 89/300\n",
            "251/251 [==============================] - 1s 4ms/step - loss: 0.6100 - accuracy: 0.7946 - val_loss: 0.5734 - val_accuracy: 0.8467\n",
            "Epoch 90/300\n",
            "251/251 [==============================] - 1s 4ms/step - loss: 0.6046 - accuracy: 0.8016 - val_loss: 0.5730 - val_accuracy: 0.8465\n",
            "Epoch 91/300\n",
            "251/251 [==============================] - 1s 4ms/step - loss: 0.6058 - accuracy: 0.7960 - val_loss: 0.5726 - val_accuracy: 0.8455\n",
            "Epoch 92/300\n",
            "251/251 [==============================] - 1s 4ms/step - loss: 0.6032 - accuracy: 0.7918 - val_loss: 0.5722 - val_accuracy: 0.8453\n",
            "Epoch 93/300\n",
            "251/251 [==============================] - 1s 4ms/step - loss: 0.5957 - accuracy: 0.7982 - val_loss: 0.5715 - val_accuracy: 0.8451\n",
            "Epoch 94/300\n",
            "251/251 [==============================] - 1s 4ms/step - loss: 0.5991 - accuracy: 0.7939 - val_loss: 0.5711 - val_accuracy: 0.8451\n",
            "Epoch 95/300\n",
            "251/251 [==============================] - 1s 4ms/step - loss: 0.5963 - accuracy: 0.7999 - val_loss: 0.5706 - val_accuracy: 0.8447\n",
            "Epoch 96/300\n",
            "251/251 [==============================] - 1s 4ms/step - loss: 0.5953 - accuracy: 0.7970 - val_loss: 0.5699 - val_accuracy: 0.8447\n",
            "Epoch 97/300\n",
            "251/251 [==============================] - 1s 4ms/step - loss: 0.5940 - accuracy: 0.8038 - val_loss: 0.5694 - val_accuracy: 0.8441\n",
            "Epoch 98/300\n",
            "251/251 [==============================] - 1s 4ms/step - loss: 0.5898 - accuracy: 0.7985 - val_loss: 0.5691 - val_accuracy: 0.8429\n",
            "Epoch 99/300\n",
            "251/251 [==============================] - 1s 4ms/step - loss: 0.5951 - accuracy: 0.7921 - val_loss: 0.5685 - val_accuracy: 0.8423\n",
            "Epoch 100/300\n",
            "251/251 [==============================] - 1s 4ms/step - loss: 0.5897 - accuracy: 0.7960 - val_loss: 0.5682 - val_accuracy: 0.8417\n",
            "Epoch 101/300\n",
            "251/251 [==============================] - 1s 4ms/step - loss: 0.5866 - accuracy: 0.7998 - val_loss: 0.5680 - val_accuracy: 0.8417\n",
            "Epoch 102/300\n",
            "251/251 [==============================] - 1s 4ms/step - loss: 0.5853 - accuracy: 0.7999 - val_loss: 0.5677 - val_accuracy: 0.8403\n",
            "Epoch 103/300\n",
            "251/251 [==============================] - 1s 4ms/step - loss: 0.5867 - accuracy: 0.8029 - val_loss: 0.5675 - val_accuracy: 0.8401\n",
            "Epoch 104/300\n",
            "251/251 [==============================] - 1s 4ms/step - loss: 0.5821 - accuracy: 0.7980 - val_loss: 0.5672 - val_accuracy: 0.8401\n",
            "Epoch 105/300\n",
            "251/251 [==============================] - 1s 4ms/step - loss: 0.5848 - accuracy: 0.7955 - val_loss: 0.5668 - val_accuracy: 0.8393\n",
            "Epoch 106/300\n",
            "251/251 [==============================] - 1s 4ms/step - loss: 0.5850 - accuracy: 0.7953 - val_loss: 0.5668 - val_accuracy: 0.8391\n",
            "Epoch 107/300\n",
            "251/251 [==============================] - 1s 4ms/step - loss: 0.5817 - accuracy: 0.7959 - val_loss: 0.5668 - val_accuracy: 0.8391\n",
            "CPU times: user 4min 34s, sys: 13.2 s, total: 4min 47s\n",
            "Wall time: 3min 43s\n"
          ],
          "name": "stdout"
        }
      ]
    },
    {
      "cell_type": "markdown",
      "metadata": {
        "id": "eBBqPTPGM05Y"
      },
      "source": [
        "<h3 align=\"center\">RESULTS</h3>"
      ]
    },
    {
      "cell_type": "code",
      "metadata": {
        "colab": {
          "base_uri": "https://localhost:8080/"
        },
        "id": "qNa_DUbeRfUe",
        "outputId": "d652f814-94f7-418a-e42a-f20908ac4ca3"
      },
      "source": [
        "%%time\n",
        "\n",
        "# ---------------- Testing on valentina's data -------------------\n",
        "\n",
        "start_time = time.time()\n",
        "\n",
        "loss, accuracy = my_model.evaluate(test_ds)\n",
        "\n",
        "print(\"Loss: \", loss)\n",
        "print(\"Accuracy: \", accuracy)\n",
        "\n",
        "testing_time = time.time() - start_time"
      ],
      "execution_count": 15,
      "outputs": [
        {
          "output_type": "stream",
          "text": [
            "157/157 [==============================] - 0s 2ms/step - loss: 0.5668 - accuracy: 0.8393\n",
            "Loss:  0.5667849183082581\n",
            "Accuracy:  0.839339017868042\n",
            "CPU times: user 785 ms, sys: 29.4 ms, total: 815 ms\n",
            "Wall time: 480 ms\n"
          ],
          "name": "stdout"
        }
      ]
    },
    {
      "cell_type": "code",
      "metadata": {
        "colab": {
          "base_uri": "https://localhost:8080/",
          "height": 265
        },
        "id": "tNlI2jCwYMP2",
        "outputId": "71702af1-726b-4cb9-f8c5-13f0f9aac1f5"
      },
      "source": [
        "metrics = history.history\n",
        "plt.plot(history.epoch, metrics['loss'], metrics['val_loss'])\n",
        "plt.legend(['loss', 'val_loss'])\n",
        "plt.show()"
      ],
      "execution_count": 16,
      "outputs": [
        {
          "output_type": "display_data",
          "data": {
            "image/png": "[encoded data removed]",
            "text/plain": [
              "<Figure size 432x288 with 1 Axes>"
            ]
          },
          "metadata": {
            "tags": [],
            "needs_background": "light"
          }
        }
      ]
    },
    {
      "cell_type": "code",
      "metadata": {
        "id": "64yDjLXOO6Ot",
        "outputId": "adf6cd6a-25db-4d57-d77d-d6c82ef8933a",
        "colab": {
          "base_uri": "https://localhost:8080/"
        }
      },
      "source": [
        "# ------------------ Testing on Aticks's data -----------------\n",
        "\n",
        "test_labels = []\n",
        "for _, label in val_ds:\n",
        "    test_labels += (label.numpy().tolist())\n",
        "\n",
        "y_true = np.squeeze(np.array(test_labels))\n",
        "y_pred = np.argmax(my_model.predict(val_ds), axis=1)\n",
        "\n",
        "result_atick = classification_report(y_true, y_pred)\n",
        "print(result_atick)"
      ],
      "execution_count": 17,
      "outputs": [
        {
          "output_type": "stream",
          "text": [
            "              precision    recall  f1-score   support\n",
            "\n",
            "           0       0.64      0.97      0.77       973\n",
            "           1       0.11      0.13      0.12       217\n",
            "           2       0.98      0.85      0.91      3833\n",
            "\n",
            "    accuracy                           0.84      5023\n",
            "   macro avg       0.58      0.65      0.60      5023\n",
            "weighted avg       0.88      0.84      0.85      5023\n",
            "\n"
          ],
          "name": "stdout"
        }
      ]
    },
    {
      "cell_type": "code",
      "metadata": {
        "colab": {
          "base_uri": "https://localhost:8080/",
          "height": 497
        },
        "id": "WASkxAEVfq4T",
        "outputId": "2a9fef7f-b6d3-4cf5-c5cf-4dbe266325ae"
      },
      "source": [
        "confusion_mtx_atick = tf.math.confusion_matrix(y_true, y_pred) \n",
        "plt.figure(figsize=(10, 8))\n",
        "sns.heatmap(confusion_mtx_atick, xticklabels=EMOTIONS, yticklabels=EMOTIONS, \n",
        "            annot=True, fmt='g')\n",
        "plt.xlabel('Prediction')\n",
        "plt.ylabel('Label')\n",
        "plt.show()"
      ],
      "execution_count": 18,
      "outputs": [
        {
          "output_type": "display_data",
          "data": {
            "image/png": "[encoded data removed]",
            "text/plain": [
              "<Figure size 720x576 with 2 Axes>"
            ]
          },
          "metadata": {
            "tags": [],
            "needs_background": "light"
          }
        }
      ]
    },
    {
      "cell_type": "code",
      "metadata": {
        "colab": {
          "base_uri": "https://localhost:8080/"
        },
        "id": "gfB9RI7mY6kD",
        "outputId": "bc7c396b-70f0-4e51-950e-fca369d05ecb"
      },
      "source": [
        "# ------------------ Testing on Valentina's data -----------------\n",
        "\n",
        "test_labels = []\n",
        "for _, label in test_ds:\n",
        "    test_labels += (label.numpy().tolist())\n",
        "\n",
        "y_true = np.squeeze(np.array(test_labels))\n",
        "y_pred = np.argmax(my_model.predict(test_ds), axis=1)\n",
        "\n",
        "result_valentina = classification_report(y_true, y_pred)\n",
        "print(result_valentina)"
      ],
      "execution_count": 19,
      "outputs": [
        {
          "output_type": "stream",
          "text": [
            "              precision    recall  f1-score   support\n",
            "\n",
            "           0       0.64      0.97      0.77       973\n",
            "           1       0.11      0.13      0.12       217\n",
            "           2       0.98      0.85      0.91      3833\n",
            "\n",
            "    accuracy                           0.84      5023\n",
            "   macro avg       0.58      0.65      0.60      5023\n",
            "weighted avg       0.88      0.84      0.85      5023\n",
            "\n"
          ],
          "name": "stdout"
        }
      ]
    },
    {
      "cell_type": "code",
      "metadata": {
        "id": "IWYlkA31PW11",
        "outputId": "e407256d-170c-4fb4-e015-b9b944753d5c",
        "colab": {
          "base_uri": "https://localhost:8080/",
          "height": 497
        }
      },
      "source": [
        "confusion_mtx_valentina = tf.math.confusion_matrix(y_true, y_pred) \n",
        "plt.figure(figsize=(10, 8))\n",
        "sns.heatmap(confusion_mtx_valentina, xticklabels=EMOTIONS, yticklabels=EMOTIONS, \n",
        "            annot=True, fmt='g')\n",
        "plt.xlabel('Prediction')\n",
        "plt.ylabel('Label')\n",
        "plt.show()"
      ],
      "execution_count": 20,
      "outputs": [
        {
          "output_type": "display_data",
          "data": {
            "image/png": "[encoded data removed]",
            "text/plain": [
              "<Figure size 720x576 with 2 Axes>"
            ]
          },
          "metadata": {
            "tags": [],
            "needs_background": "light"
          }
        }
      ]
    },
    {
      "cell_type": "code",
      "metadata": {
        "id": "BUz83N2Blu0L"
      },
      "source": [
        "summary = []\n",
        "my_model.summary(print_fn=lambda x: summary.append(x))\n",
        "CONFIG['architecture'] = summary\n",
        "CONFIG['epochs'] = max(history.epoch)\n",
        "CONFIG['training_time'] = training_time\n",
        "CONFIG['testing_time'] = testing_time\n",
        "CONFIG['cm_atick'] = np.array2string(confusion_mtx_atick.numpy())\n",
        "result_list_atick = result_atick.split('\\n')\n",
        "CONFIG['cr_atick'] = result_list_atick\n",
        "CONFIG['cm_valentina'] = np.array2string(confusion_mtx_valentina.numpy())\n",
        "result_list_valentina = result_valentina.split('\\n')\n",
        "CONFIG['cr_valentina'] = result_list_valentina"
      ],
      "execution_count": 21,
      "outputs": []
    },
    {
      "cell_type": "code",
      "metadata": {
        "colab": {
          "base_uri": "https://localhost:8080/"
        },
        "id": "rMRTCk5hpljM",
        "outputId": "4ee5accf-8432-4fc6-f91e-f7e7065bf31d"
      },
      "source": [
        "config = json.dumps(CONFIG, indent=4)\n",
        "print(config)"
      ],
      "execution_count": 22,
      "outputs": [
        {
          "output_type": "stream",
          "text": [
            "{\n",
            "    \"timestamp\": \"2021-05-07 20:28:02.700601\",\n",
            "    \"model\": \"Transfer Learning on YAMNET\",\n",
            "    \"test_fold\": \"Valentina\",\n",
            "    \"architecture\": [\n",
            "        \"Model: \\\"my_model\\\"\",\n",
            "        \"_________________________________________________________________\",\n",
            "        \"Layer (type)                 Output Shape              Param #   \",\n",
            "        \"=================================================================\",\n",
            "        \"dense (Dense)                (None, 512)               524800    \",\n",
            "        \"_________________________________________________________________\",\n",
            "        \"dropout (Dropout)            (None, 512)               0         \",\n",
            "        \"_________________________________________________________________\",\n",
            "        \"dense_1 (Dense)              (None, 3)                 1539      \",\n",
            "        \"=================================================================\",\n",
            "        \"Total params: 526,339\",\n",
            "        \"Trainable params: 526,339\",\n",
            "        \"Non-trainable params: 0\",\n",
            "        \"_________________________________________________________________\"\n",
            "    ],\n",
            "    \"batch_size\": 32,\n",
            "    \"epochs\": 106,\n",
            "    \"learning_rate\": 1e-06,\n",
            "    \"patience\": 2,\n",
            "    \"training_time\": 223.9980149269104,\n",
            "    \"testing_time\": 0.4795825481414795,\n",
            "    \"cm_atick\": \"[[ 947    7   19]\\n [ 148   28   41]\\n [ 381  211 3241]]\",\n",
            "    \"cr_atick\": [\n",
            "        \"              precision    recall  f1-score   support\",\n",
            "        \"\",\n",
            "        \"           0       0.64      0.97      0.77       973\",\n",
            "        \"           1       0.11      0.13      0.12       217\",\n",
            "        \"           2       0.98      0.85      0.91      3833\",\n",
            "        \"\",\n",
            "        \"    accuracy                           0.84      5023\",\n",
            "        \"   macro avg       0.58      0.65      0.60      5023\",\n",
            "        \"weighted avg       0.88      0.84      0.85      5023\",\n",
            "        \"\"\n",
            "    ],\n",
            "    \"cm_valentina\": \"[[ 947    7   19]\\n [ 148   28   41]\\n [ 381  211 3241]]\",\n",
            "    \"cr_valentina\": [\n",
            "        \"              precision    recall  f1-score   support\",\n",
            "        \"\",\n",
            "        \"           0       0.64      0.97      0.77       973\",\n",
            "        \"           1       0.11      0.13      0.12       217\",\n",
            "        \"           2       0.98      0.85      0.91      3833\",\n",
            "        \"\",\n",
            "        \"    accuracy                           0.84      5023\",\n",
            "        \"   macro avg       0.58      0.65      0.60      5023\",\n",
            "        \"weighted avg       0.88      0.84      0.85      5023\",\n",
            "        \"\"\n",
            "    ]\n",
            "}\n"
          ],
          "name": "stdout"
        }
      ]
    },
    {
      "cell_type": "code",
      "metadata": {
        "id": "H2EetqkNN4Je"
      },
      "source": [
        "f = open(LOG_FILE, 'a')\n",
        "f.write('\\n')\n",
        "f.write(config)\n",
        "f.write('\\n')\n",
        "f.close()"
      ],
      "execution_count": 23,
      "outputs": []
    }
  ]
}