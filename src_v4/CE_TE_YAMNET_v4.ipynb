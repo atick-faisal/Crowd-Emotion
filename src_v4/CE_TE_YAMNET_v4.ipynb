{
  "nbformat": 4,
  "nbformat_minor": 0,
  "metadata": {
    "colab": {
      "name": "CE_TE_YAMNET_v4.ipynb",
      "provenance": [],
      "collapsed_sections": [],
      "mount_file_id": "https://github.com/atick-faisal/Crowd-Emotion/blob/main/src_v4/CE_TE_YAMNET_v4.ipynb",
      "authorship_tag": "ABX9TyMkySF5c3c4/gY8Da+S+Zpk",
      "include_colab_link": true
    },
    "kernelspec": {
      "name": "python3",
      "display_name": "Python 3"
    },
    "language_info": {
      "name": "python"
    },
    "accelerator": "GPU"
  },
  "cells": [
    {
      "cell_type": "markdown",
      "metadata": {
        "id": "view-in-github",
        "colab_type": "text"
      },
      "source": [
        "<a href=\"https://colab.research.google.com/github/atick-faisal/Crowd-Emotion/blob/main/src_v4/CE_TE_YAMNET_v4.ipynb\" target=\"_parent\"><img src=\"https://colab.research.google.com/assets/colab-badge.svg\" alt=\"Open In Colab\"/></a>"
      ]
    },
    {
      "cell_type": "code",
      "metadata": {
        "id": "xXm9QHXCkyPe"
      },
      "source": [
        "!pip install -q tensorflow_io"
      ],
      "execution_count": 1,
      "outputs": []
    },
    {
      "cell_type": "code",
      "metadata": {
        "id": "ybtLyX0-G9gp"
      },
      "source": [
        "import os\n",
        "import time\n",
        "import json\n",
        "import datetime\n",
        "\n",
        "import seaborn as sns\n",
        "from IPython import display\n",
        "import matplotlib.pyplot as plt\n",
        "import numpy as np\n",
        "import pandas as pd\n",
        "\n",
        "import tensorflow as tf\n",
        "import tensorflow_datasets as tfds\n",
        "import tensorflow_hub as hub\n",
        "import tensorflow_io as tfio\n",
        "\n",
        "from sklearn.metrics import classification_report"
      ],
      "execution_count": 2,
      "outputs": []
    },
    {
      "cell_type": "code",
      "metadata": {
        "id": "aKj-FBtiV5px"
      },
      "source": [
        "CONFIG = {\n",
        "    'timestamp'             : str(datetime.datetime.now()),\n",
        "    'test_fold'             : 'Fold 1',\n",
        "    'architecture'          : '',\n",
        "    'batch_size'            : 32,\n",
        "    'epochs'                : 0,\n",
        "    'learning_rate'         : 0.00001,\n",
        "    'patience'              : 2,\n",
        "    'training_time'         : 0,\n",
        "    'testing_time'          : 0,\n",
        "    'confusion_matrix'      : '',\n",
        "    'classification_report' : ''\n",
        "}"
      ],
      "execution_count": 3,
      "outputs": []
    },
    {
      "cell_type": "code",
      "metadata": {
        "id": "sKEM7cZZOBwG"
      },
      "source": [
        "FOLDS = ['Fold 1', 'Fold 2', 'Fold 3', 'Fold 4', 'Fold 5']\n",
        "EMOTIONS = ['Approval', 'Disapproval', 'Neutral']"
      ],
      "execution_count": 4,
      "outputs": []
    },
    {
      "cell_type": "code",
      "metadata": {
        "id": "ADFLnQBwHQFt"
      },
      "source": [
        "yamnet_model_handle = 'https://tfhub.dev/google/yamnet/1'\n",
        "yamnet_model = hub.load(yamnet_model_handle)"
      ],
      "execution_count": 5,
      "outputs": []
    },
    {
      "cell_type": "code",
      "metadata": {
        "id": "FVSxpCMtHVAN"
      },
      "source": [
        "# %%time\n",
        "# !mkdir /content/Dataset\n",
        "# !gdown --id '1HOe5sJe_Juf5uib4f-8pPv-Z64lmqQ4X'\n",
        "# !tar -xf /content/Crowd-Emotion-Dataset.tar.xz -C /content/Dataset/"
      ],
      "execution_count": 6,
      "outputs": []
    },
    {
      "cell_type": "code",
      "metadata": {
        "id": "FcTR64401KSi"
      },
      "source": [
        "# %%time\n",
        "# !cp -R '/content/drive/MyDrive/Research/Crowd Emotion Val/Normalized' /content/"
      ],
      "execution_count": 25,
      "outputs": []
    },
    {
      "cell_type": "code",
      "metadata": {
        "id": "SYbR0YjWI1lL"
      },
      "source": [
        "@tf.function\n",
        "def load_wav_16k_mono(filename):\n",
        "    \"\"\" read in a waveform file and convert to 16 kHz mono \"\"\"\n",
        "    file_contents = tf.io.read_file(filename)\n",
        "    wav, sample_rate = tf.audio.decode_wav(\n",
        "          file_contents,\n",
        "          desired_channels=1)\n",
        "    wav = tf.squeeze(wav, axis=-1)\n",
        "    sample_rate = tf.cast(sample_rate, dtype=tf.int64)\n",
        "    wav = tfio.audio.resample(wav, rate_in=sample_rate, rate_out=16000)\n",
        "    return wav"
      ],
      "execution_count": 7,
      "outputs": []
    },
    {
      "cell_type": "code",
      "metadata": {
        "id": "9gGyO6_NMIN_",
        "outputId": "b7f1feeb-b2e1-4e5a-f000-3cc368e41645",
        "colab": {
          "base_uri": "https://localhost:8080/"
        }
      },
      "source": [
        "%%time\n",
        "filenames = []\n",
        "labels = []\n",
        "folds = []\n",
        "dataset_path = '/content/Dataset/'\n",
        "for emotion in EMOTIONS:\n",
        "    print('processing files for ' + emotion, end=' ... ')\n",
        "    for fold in FOLDS:\n",
        "        files_path = os.path.join(dataset_path, emotion, fold)\n",
        "        for filename in os.listdir(files_path):\n",
        "            filenames.append(os.path.join(files_path, filename))\n",
        "            labels.append(EMOTIONS.index(emotion))\n",
        "            folds.append(FOLDS.index(fold))\n",
        "    print('√')"
      ],
      "execution_count": 8,
      "outputs": [
        {
          "output_type": "stream",
          "text": [
            "processing files for Approval ... √\n",
            "processing files for Disapproval ... √\n",
            "processing files for Neutral ... √\n",
            "CPU times: user 4.57 ms, sys: 1.99 ms, total: 6.56 ms\n",
            "Wall time: 5.58 ms\n"
          ],
          "name": "stdout"
        }
      ]
    },
    {
      "cell_type": "code",
      "metadata": {
        "id": "GITkVJBJM5kw",
        "outputId": "1eda43b4-5229-4157-c7d7-db9b62becb71",
        "colab": {
          "base_uri": "https://localhost:8080/"
        }
      },
      "source": [
        "main_ds = tf.data.Dataset.from_tensor_slices((filenames, labels, folds))\n",
        "main_ds.element_spec"
      ],
      "execution_count": 9,
      "outputs": [
        {
          "output_type": "execute_result",
          "data": {
            "text/plain": [
              "(TensorSpec(shape=(), dtype=tf.string, name=None),\n",
              " TensorSpec(shape=(), dtype=tf.int32, name=None),\n",
              " TensorSpec(shape=(), dtype=tf.int32, name=None))"
            ]
          },
          "metadata": {
            "tags": []
          },
          "execution_count": 9
        }
      ]
    },
    {
      "cell_type": "code",
      "metadata": {
        "id": "GV_IRMuM1clm",
        "outputId": "cdf241de-9602-42e8-891c-5986dc48d9e1",
        "colab": {
          "base_uri": "https://localhost:8080/"
        }
      },
      "source": [
        "%%time\n",
        "filenames = []\n",
        "labels = []\n",
        "folds = []\n",
        "dataset_path = '/content/Normalized/'\n",
        "for emotion in EMOTIONS:\n",
        "    print('processing files for ' + emotion, end=' ... ')\n",
        "    files_path = os.path.join(dataset_path, emotion)\n",
        "    for filename in os.listdir(files_path):\n",
        "        filenames.append(os.path.join(files_path, filename))\n",
        "        labels.append(EMOTIONS.index(emotion))\n",
        "        folds.append(FOLDS.index(fold))\n",
        "    print('√')"
      ],
      "execution_count": 28,
      "outputs": [
        {
          "output_type": "stream",
          "text": [
            "processing files for Approval ... √\n",
            "processing files for Disapproval ... √\n",
            "processing files for Neutral ... √\n",
            "CPU times: user 2.73 ms, sys: 2.1 ms, total: 4.83 ms\n",
            "Wall time: 3.79 ms\n"
          ],
          "name": "stdout"
        }
      ]
    },
    {
      "cell_type": "code",
      "metadata": {
        "id": "FrBxSgHO2Das",
        "outputId": "dbba4fb0-c118-45e9-9850-d914a8e3ede3",
        "colab": {
          "base_uri": "https://localhost:8080/"
        }
      },
      "source": [
        "test_ds = tf.data.Dataset.from_tensor_slices((filenames, labels, folds))\n",
        "test_ds.element_spec"
      ],
      "execution_count": 29,
      "outputs": [
        {
          "output_type": "execute_result",
          "data": {
            "text/plain": [
              "(TensorSpec(shape=(), dtype=tf.string, name=None),\n",
              " TensorSpec(shape=(), dtype=tf.int32, name=None),\n",
              " TensorSpec(shape=(), dtype=tf.int32, name=None))"
            ]
          },
          "metadata": {
            "tags": []
          },
          "execution_count": 29
        }
      ]
    },
    {
      "cell_type": "code",
      "metadata": {
        "id": "LE2EB7GuOpEV",
        "outputId": "0a24a79d-7c7f-4921-dd56-413d37e3e5e5",
        "colab": {
          "base_uri": "https://localhost:8080/"
        }
      },
      "source": [
        "def load_wav_for_map(filename, label, fold):\n",
        "  return load_wav_16k_mono(filename), label, fold\n",
        "\n",
        "main_ds = main_ds.map(load_wav_for_map)\n",
        "main_ds.element_spec"
      ],
      "execution_count": 10,
      "outputs": [
        {
          "output_type": "execute_result",
          "data": {
            "text/plain": [
              "(TensorSpec(shape=<unknown>, dtype=tf.float32, name=None),\n",
              " TensorSpec(shape=(), dtype=tf.int32, name=None),\n",
              " TensorSpec(shape=(), dtype=tf.int32, name=None))"
            ]
          },
          "metadata": {
            "tags": []
          },
          "execution_count": 10
        }
      ]
    },
    {
      "cell_type": "code",
      "metadata": {
        "id": "644BrdFA2p06",
        "outputId": "156f2874-7db0-43db-cf28-bfcc09a6e2cc",
        "colab": {
          "base_uri": "https://localhost:8080/"
        }
      },
      "source": [
        "test_ds = test_ds.map(load_wav_for_map)\n",
        "test_ds.element_spec"
      ],
      "execution_count": 30,
      "outputs": [
        {
          "output_type": "execute_result",
          "data": {
            "text/plain": [
              "(TensorSpec(shape=<unknown>, dtype=tf.float32, name=None),\n",
              " TensorSpec(shape=(), dtype=tf.int32, name=None),\n",
              " TensorSpec(shape=(), dtype=tf.int32, name=None))"
            ]
          },
          "metadata": {
            "tags": []
          },
          "execution_count": 30
        }
      ]
    },
    {
      "cell_type": "code",
      "metadata": {
        "id": "air3bRfrPYh7",
        "outputId": "48bdb235-f392-4e42-f3ae-12a15406cb3a",
        "colab": {
          "base_uri": "https://localhost:8080/"
        }
      },
      "source": [
        "# applies the embedding extraction model to a wav data\n",
        "def extract_embedding(wav_data, label, fold):\n",
        "  ''' run YAMNet to extract embedding from the wav data '''\n",
        "  scores, embeddings, spectrogram = yamnet_model(wav_data)\n",
        "  num_embeddings = tf.shape(embeddings)[0]\n",
        "  return (embeddings,\n",
        "            tf.repeat(label, num_embeddings),\n",
        "            tf.repeat(fold, num_embeddings))\n",
        "\n",
        "# extract embedding\n",
        "main_ds = main_ds.map(extract_embedding).unbatch()\n",
        "main_ds.element_spec"
      ],
      "execution_count": 11,
      "outputs": [
        {
          "output_type": "execute_result",
          "data": {
            "text/plain": [
              "(TensorSpec(shape=(1024,), dtype=tf.float32, name=None),\n",
              " TensorSpec(shape=(), dtype=tf.int32, name=None),\n",
              " TensorSpec(shape=(), dtype=tf.int32, name=None))"
            ]
          },
          "metadata": {
            "tags": []
          },
          "execution_count": 11
        }
      ]
    },
    {
      "cell_type": "code",
      "metadata": {
        "id": "CH7hq7Wg2xaH",
        "outputId": "b2738334-f0bd-4549-d081-e083183ab52c",
        "colab": {
          "base_uri": "https://localhost:8080/"
        }
      },
      "source": [
        "test_ds = test_ds.map(extract_embedding).unbatch()\n",
        "test_ds.element_spec"
      ],
      "execution_count": 31,
      "outputs": [
        {
          "output_type": "execute_result",
          "data": {
            "text/plain": [
              "(TensorSpec(shape=(1024,), dtype=tf.float32, name=None),\n",
              " TensorSpec(shape=(), dtype=tf.int32, name=None),\n",
              " TensorSpec(shape=(), dtype=tf.int32, name=None))"
            ]
          },
          "metadata": {
            "tags": []
          },
          "execution_count": 31
        }
      ]
    },
    {
      "cell_type": "code",
      "metadata": {
        "id": "m9Dalx5jQtCh"
      },
      "source": [
        "cached_ds = main_ds.cache()\n",
        "cached_ds_test = test_ds.cache()\n",
        "train_ds = cached_ds.filter(\n",
        "    lambda embedding, label, fold: fold != FOLDS.index(CONFIG['test_fold'])\n",
        ")\n",
        "val_ds = cached_ds.filter(\n",
        "    lambda embedding, label, fold: fold == FOLDS.index(CONFIG['test_fold'])\n",
        ")\n",
        "test_ds = cached_ds_test\n",
        "\n",
        "# remove the folds column now that it's not needed anymore\n",
        "remove_fold_column = lambda embedding, label, fold: (embedding, label)\n",
        "\n",
        "train_ds = train_ds.map(remove_fold_column)\n",
        "val_ds = val_ds.map(remove_fold_column)\n",
        "test_ds = test_ds.map(remove_fold_column)\n",
        "\n",
        "train_ds = train_ds.cache().shuffle(1000).batch(CONFIG['batch_size']).prefetch(tf.data.AUTOTUNE)\n",
        "val_ds = val_ds.cache().batch(CONFIG['batch_size']).prefetch(tf.data.AUTOTUNE)\n",
        "test_ds = test_ds.cache().batch(CONFIG['batch_size']).prefetch(tf.data.AUTOTUNE)"
      ],
      "execution_count": 32,
      "outputs": []
    },
    {
      "cell_type": "code",
      "metadata": {
        "id": "EHLR-u5fQySE",
        "outputId": "3bf2af8e-6889-4ac4-ea38-5b45c47efbc6",
        "colab": {
          "base_uri": "https://localhost:8080/"
        }
      },
      "source": [
        "my_model = tf.keras.Sequential([\n",
        "    tf.keras.layers.Input(shape=(1024), dtype=tf.float32,\n",
        "                          name='input_embedding'),\n",
        "    tf.keras.layers.Dense(512, activation='relu'),\n",
        "    tf.keras.layers.Dropout(0.5),\n",
        "    tf.keras.layers.Dense(len(EMOTIONS))\n",
        "], name='my_model')\n",
        "\n",
        "my_model.summary()"
      ],
      "execution_count": 13,
      "outputs": [
        {
          "output_type": "stream",
          "text": [
            "Model: \"my_model\"\n",
            "_________________________________________________________________\n",
            "Layer (type)                 Output Shape              Param #   \n",
            "=================================================================\n",
            "dense (Dense)                (None, 512)               524800    \n",
            "_________________________________________________________________\n",
            "dropout (Dropout)            (None, 512)               0         \n",
            "_________________________________________________________________\n",
            "dense_1 (Dense)              (None, 3)                 1539      \n",
            "=================================================================\n",
            "Total params: 526,339\n",
            "Trainable params: 526,339\n",
            "Non-trainable params: 0\n",
            "_________________________________________________________________\n"
          ],
          "name": "stdout"
        }
      ]
    },
    {
      "cell_type": "code",
      "metadata": {
        "id": "Ah5HL32GRbKP"
      },
      "source": [
        "my_model.compile(loss=tf.keras.losses.SparseCategoricalCrossentropy(from_logits=True),\n",
        "                 optimizer=tf.keras.optimizers.Adam(learning_rate=CONFIG['learning_rate']),\n",
        "                 metrics=['accuracy'])\n",
        "\n",
        "callback = tf.keras.callbacks.EarlyStopping(monitor='val_loss',\n",
        "                                            patience=CONFIG['patience'],\n",
        "                                            restore_best_weights=True)"
      ],
      "execution_count": 14,
      "outputs": []
    },
    {
      "cell_type": "code",
      "metadata": {
        "id": "XZg2kaaiRdoh",
        "outputId": "1cf151cb-35a8-484a-e249-73f5b9d907c9",
        "colab": {
          "base_uri": "https://localhost:8080/"
        }
      },
      "source": [
        "%%time\n",
        "start_time = time.time()\n",
        "history = my_model.fit(train_ds,\n",
        "                       epochs=300,\n",
        "                       validation_data=val_ds,\n",
        "                       callbacks=callback)\n",
        "training_time = time.time() - start_time"
      ],
      "execution_count": 15,
      "outputs": [
        {
          "output_type": "stream",
          "text": [
            "Epoch 1/300\n",
            "202/202 [==============================] - 87s 339ms/step - loss: 0.9338 - accuracy: 0.6595 - val_loss: 1.0105 - val_accuracy: 0.5019\n",
            "Epoch 2/300\n",
            "202/202 [==============================] - 1s 5ms/step - loss: 0.8887 - accuracy: 0.6553 - val_loss: 0.9630 - val_accuracy: 0.5875\n",
            "Epoch 3/300\n",
            "202/202 [==============================] - 1s 5ms/step - loss: 0.8636 - accuracy: 0.6263 - val_loss: 0.9273 - val_accuracy: 0.6362\n",
            "Epoch 4/300\n",
            "202/202 [==============================] - 1s 6ms/step - loss: 0.8265 - accuracy: 0.6414 - val_loss: 0.8973 - val_accuracy: 0.6743\n",
            "Epoch 5/300\n",
            "202/202 [==============================] - 1s 6ms/step - loss: 0.7962 - accuracy: 0.6463 - val_loss: 0.8705 - val_accuracy: 0.6958\n",
            "Epoch 6/300\n",
            "202/202 [==============================] - 1s 5ms/step - loss: 0.7681 - accuracy: 0.6690 - val_loss: 0.8472 - val_accuracy: 0.7034\n",
            "Epoch 7/300\n",
            "202/202 [==============================] - 1s 6ms/step - loss: 0.7413 - accuracy: 0.6797 - val_loss: 0.8268 - val_accuracy: 0.7174\n",
            "Epoch 8/300\n",
            "202/202 [==============================] - 1s 6ms/step - loss: 0.7177 - accuracy: 0.7057 - val_loss: 0.8086 - val_accuracy: 0.7193\n",
            "Epoch 9/300\n",
            "202/202 [==============================] - 1s 6ms/step - loss: 0.6909 - accuracy: 0.7183 - val_loss: 0.7923 - val_accuracy: 0.7243\n",
            "Epoch 10/300\n",
            "202/202 [==============================] - 1s 6ms/step - loss: 0.6725 - accuracy: 0.7381 - val_loss: 0.7786 - val_accuracy: 0.7269\n",
            "Epoch 11/300\n",
            "202/202 [==============================] - 1s 6ms/step - loss: 0.6549 - accuracy: 0.7386 - val_loss: 0.7674 - val_accuracy: 0.7237\n",
            "Epoch 12/300\n",
            "202/202 [==============================] - 1s 6ms/step - loss: 0.6400 - accuracy: 0.7495 - val_loss: 0.7576 - val_accuracy: 0.7199\n",
            "Epoch 13/300\n",
            "202/202 [==============================] - 1s 6ms/step - loss: 0.6321 - accuracy: 0.7481 - val_loss: 0.7498 - val_accuracy: 0.7193\n",
            "Epoch 14/300\n",
            "202/202 [==============================] - 1s 6ms/step - loss: 0.6142 - accuracy: 0.7512 - val_loss: 0.7419 - val_accuracy: 0.7180\n",
            "Epoch 15/300\n",
            "202/202 [==============================] - 1s 6ms/step - loss: 0.5999 - accuracy: 0.7620 - val_loss: 0.7363 - val_accuracy: 0.7174\n",
            "Epoch 16/300\n",
            "202/202 [==============================] - 1s 5ms/step - loss: 0.5928 - accuracy: 0.7647 - val_loss: 0.7304 - val_accuracy: 0.7148\n",
            "Epoch 17/300\n",
            "202/202 [==============================] - 1s 6ms/step - loss: 0.5924 - accuracy: 0.7575 - val_loss: 0.7258 - val_accuracy: 0.7148\n",
            "Epoch 18/300\n",
            "202/202 [==============================] - 1s 6ms/step - loss: 0.5719 - accuracy: 0.7781 - val_loss: 0.7233 - val_accuracy: 0.7098\n",
            "Epoch 19/300\n",
            "202/202 [==============================] - 1s 6ms/step - loss: 0.5634 - accuracy: 0.7829 - val_loss: 0.7213 - val_accuracy: 0.7053\n",
            "Epoch 20/300\n",
            "202/202 [==============================] - 1s 6ms/step - loss: 0.5599 - accuracy: 0.7736 - val_loss: 0.7194 - val_accuracy: 0.7047\n",
            "Epoch 21/300\n",
            "202/202 [==============================] - 1s 5ms/step - loss: 0.5428 - accuracy: 0.7894 - val_loss: 0.7189 - val_accuracy: 0.7015\n",
            "Epoch 22/300\n",
            "202/202 [==============================] - 1s 6ms/step - loss: 0.5297 - accuracy: 0.7987 - val_loss: 0.7182 - val_accuracy: 0.6952\n",
            "Epoch 23/300\n",
            "202/202 [==============================] - 1s 6ms/step - loss: 0.5359 - accuracy: 0.7917 - val_loss: 0.7187 - val_accuracy: 0.6933\n",
            "Epoch 24/300\n",
            "202/202 [==============================] - 1s 5ms/step - loss: 0.5167 - accuracy: 0.7960 - val_loss: 0.7193 - val_accuracy: 0.6914\n",
            "CPU times: user 2min 3s, sys: 10.8 s, total: 2min 14s\n",
            "Wall time: 1min 55s\n"
          ],
          "name": "stdout"
        }
      ]
    },
    {
      "cell_type": "code",
      "metadata": {
        "id": "qNa_DUbeRfUe",
        "outputId": "e930bab1-78c1-443d-f821-b457128c55f3",
        "colab": {
          "base_uri": "https://localhost:8080/"
        }
      },
      "source": [
        "%%time\n",
        "\n",
        "start_time = time.time()\n",
        "\n",
        "loss, accuracy = my_model.evaluate(test_ds)\n",
        "\n",
        "print(\"Loss: \", loss)\n",
        "print(\"Accuracy: \", accuracy)\n",
        "\n",
        "testing_time = time.time() - start_time"
      ],
      "execution_count": 33,
      "outputs": [
        {
          "output_type": "stream",
          "text": [
            "157/157 [==============================] - 49s 309ms/step - loss: 0.6640 - accuracy: 0.7119\n",
            "Loss:  0.6639807820320129\n",
            "Accuracy:  0.7119251489639282\n",
            "CPU times: user 49 s, sys: 1.97 s, total: 51 s\n",
            "Wall time: 49.5 s\n"
          ],
          "name": "stdout"
        }
      ]
    },
    {
      "cell_type": "code",
      "metadata": {
        "id": "tNlI2jCwYMP2",
        "outputId": "75350d60-afd5-4f67-9287-2f9b55e378e4",
        "colab": {
          "base_uri": "https://localhost:8080/",
          "height": 265
        }
      },
      "source": [
        "metrics = history.history\n",
        "plt.plot(history.epoch, metrics['loss'], metrics['val_loss'])\n",
        "plt.legend(['loss', 'val_loss'])\n",
        "plt.show()"
      ],
      "execution_count": 17,
      "outputs": [
        {
          "output_type": "display_data",
          "data": {
            "image/png": "[encoded data removed]",
            "text/plain": [
              "<Figure size 432x288 with 1 Axes>"
            ]
          },
          "metadata": {
            "tags": [],
            "needs_background": "light"
          }
        }
      ]
    },
    {
      "cell_type": "code",
      "metadata": {
        "id": "gfB9RI7mY6kD"
      },
      "source": [
        "test_labels = []\n",
        "for _, label in test_ds:\n",
        "    test_labels += (label.numpy().tolist())\n",
        "y_true = np.squeeze(np.array(test_labels))"
      ],
      "execution_count": 18,
      "outputs": []
    },
    {
      "cell_type": "code",
      "metadata": {
        "id": "2u3HeezRdJPU"
      },
      "source": [
        "y_pred = np.argmax(my_model.predict(test_ds), axis=1)"
      ],
      "execution_count": 19,
      "outputs": []
    },
    {
      "cell_type": "code",
      "metadata": {
        "id": "y9azFqB0qhix",
        "outputId": "6aed5230-19f6-4066-cca5-3e68a3b086e3",
        "colab": {
          "base_uri": "https://localhost:8080/"
        }
      },
      "source": [
        "result = classification_report(y_true, y_pred)\n",
        "print(result)"
      ],
      "execution_count": 20,
      "outputs": [
        {
          "output_type": "stream",
          "text": [
            "              precision    recall  f1-score   support\n",
            "\n",
            "           0       0.70      0.76      0.73       731\n",
            "           1       0.73      0.44      0.55       226\n",
            "           2       0.68      0.71      0.70       621\n",
            "\n",
            "    accuracy                           0.70      1578\n",
            "   macro avg       0.70      0.64      0.66      1578\n",
            "weighted avg       0.70      0.70      0.69      1578\n",
            "\n"
          ],
          "name": "stdout"
        }
      ]
    },
    {
      "cell_type": "code",
      "metadata": {
        "id": "WASkxAEVfq4T",
        "outputId": "be55412d-6b4d-4f56-b4e8-8adcb22fcff0",
        "colab": {
          "base_uri": "https://localhost:8080/",
          "height": 497
        }
      },
      "source": [
        "confusion_mtx = tf.math.confusion_matrix(y_true, y_pred) \n",
        "plt.figure(figsize=(10, 8))\n",
        "sns.heatmap(confusion_mtx, xticklabels=EMOTIONS, yticklabels=EMOTIONS, \n",
        "            annot=True, fmt='g')\n",
        "plt.xlabel('Prediction')\n",
        "plt.ylabel('Label')\n",
        "plt.show()"
      ],
      "execution_count": 21,
      "outputs": [
        {
          "output_type": "display_data",
          "data": {
            "image/png": "[encoded data removed]",
            "text/plain": [
              "<Figure size 720x576 with 2 Axes>"
            ]
          },
          "metadata": {
            "tags": [],
            "needs_background": "light"
          }
        }
      ]
    },
    {
      "cell_type": "code",
      "metadata": {
        "id": "BUz83N2Blu0L"
      },
      "source": [
        "summary = []\n",
        "my_model.summary(print_fn=lambda x: summary.append(x))\n",
        "CONFIG['architecture'] = summary\n",
        "CONFIG['epochs'] = max(history.epoch)\n",
        "CONFIG['training_time'] = training_time\n",
        "CONFIG['testing_time'] = testing_time\n",
        "CONFIG['confusion_matrix'] = np.array2string(confusion_mtx.numpy())\n",
        "result_list = result.split('\\n')\n",
        "CONFIG['classification_report'] = result_list"
      ],
      "execution_count": 22,
      "outputs": []
    },
    {
      "cell_type": "code",
      "metadata": {
        "id": "rMRTCk5hpljM",
        "outputId": "328ebfa9-56fd-4eba-cf9d-d4042dd866ab",
        "colab": {
          "base_uri": "https://localhost:8080/"
        }
      },
      "source": [
        "config = json.dumps(CONFIG, indent=4)\n",
        "print(config)"
      ],
      "execution_count": 23,
      "outputs": [
        {
          "output_type": "stream",
          "text": [
            "{\n",
            "    \"timestamp\": \"2021-05-07 16:46:32.123151\",\n",
            "    \"test_fold\": \"Fold 1\",\n",
            "    \"architecture\": [\n",
            "        \"Model: \\\"my_model\\\"\",\n",
            "        \"_________________________________________________________________\",\n",
            "        \"Layer (type)                 Output Shape              Param #   \",\n",
            "        \"=================================================================\",\n",
            "        \"dense (Dense)                (None, 512)               524800    \",\n",
            "        \"_________________________________________________________________\",\n",
            "        \"dropout (Dropout)            (None, 512)               0         \",\n",
            "        \"_________________________________________________________________\",\n",
            "        \"dense_1 (Dense)              (None, 3)                 1539      \",\n",
            "        \"=================================================================\",\n",
            "        \"Total params: 526,339\",\n",
            "        \"Trainable params: 526,339\",\n",
            "        \"Non-trainable params: 0\",\n",
            "        \"_________________________________________________________________\"\n",
            "    ],\n",
            "    \"batch_size\": 32,\n",
            "    \"epochs\": 23,\n",
            "    \"learning_rate\": 1e-05,\n",
            "    \"patience\": 2,\n",
            "    \"training_time\": 115.49642181396484,\n",
            "    \"testing_time\": 0.7402901649475098,\n",
            "    \"confusion_matrix\": \"[[557  28 146]\\n [ 68  99  59]\\n [171   9 441]]\",\n",
            "    \"classification_report\": [\n",
            "        \"              precision    recall  f1-score   support\",\n",
            "        \"\",\n",
            "        \"           0       0.70      0.76      0.73       731\",\n",
            "        \"           1       0.73      0.44      0.55       226\",\n",
            "        \"           2       0.68      0.71      0.70       621\",\n",
            "        \"\",\n",
            "        \"    accuracy                           0.70      1578\",\n",
            "        \"   macro avg       0.70      0.64      0.66      1578\",\n",
            "        \"weighted avg       0.70      0.70      0.69      1578\",\n",
            "        \"\"\n",
            "    ]\n",
            "}\n"
          ],
          "name": "stdout"
        }
      ]
    }
  ]
}