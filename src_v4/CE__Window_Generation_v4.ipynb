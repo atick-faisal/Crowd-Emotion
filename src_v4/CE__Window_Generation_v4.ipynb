{
  "nbformat": 4,
  "nbformat_minor": 0,
  "metadata": {
    "colab": {
      "name": "CE_Window_Generation_v4.ipynb",
      "provenance": [],
      "mount_file_id": "https://github.com/atick-faisal/Crowd-Emotion/blob/main/src_v4/CE_Window_Generation_v4.ipynb",
      "authorship_tag": "ABX9TyNFm+/nqALzEBMeOdVNvMKF",
      "include_colab_link": true
    },
    "kernelspec": {
      "name": "python3",
      "display_name": "Python 3"
    },
    "language_info": {
      "name": "python"
    }
  },
  "cells": [
    {
      "cell_type": "markdown",
      "metadata": {
        "id": "view-in-github",
        "colab_type": "text"
      },
      "source": [
        "<a href=\"https://colab.research.google.com/github/atick-faisal/Crowd-Emotion/blob/main/src_v4/CE_Window_Generation_v4.ipynb\" target=\"_parent\"><img src=\"https://colab.research.google.com/assets/colab-badge.svg\" alt=\"Open In Colab\"/></a>"
      ]
    },
    {
      "cell_type": "code",
      "metadata": {
        "id": "aplzJ78m29hE"
      },
      "source": [
        "import os\n",
        "import shutil\n",
        "import tarfile\n",
        "import requests\n",
        "import numpy as np\n",
        "from librosa import load\n",
        "from joblib import dump\n",
        "from tqdm import tqdm"
      ],
      "execution_count": 1,
      "outputs": []
    },
    {
      "cell_type": "code",
      "metadata": {
        "id": "nQAxAmhUYWF0"
      },
      "source": [
        "DATASET_ID   = '1HOe5sJe_Juf5uib4f-8pPv-Z64lmqQ4X'\n",
        "BASE_DIR     = '/content/drive/MyDrive/Research/Crowd Emotion Val/'\n",
        "AUDIO_DIR    = 'Normalized/'\n",
        "WINDOWS_DIR  = 'Windows_AF/'\n",
        "# FOLDS        = ['Fold 1', 'Fold 2', 'Fold 3', 'Fold 4', 'Fold 5']\n",
        "FOLDS        = ['.']\n",
        "EMOTIONS     = ['Approval', 'Disapproval', 'Neutral']\n",
        "\n",
        "Fs           = 44100\n",
        "WIN_LEN      = int(1.0 * Fs)\n",
        "OVERLAP      = 0.75"
      ],
      "execution_count": 9,
      "outputs": []
    },
    {
      "cell_type": "code",
      "metadata": {
        "id": "lVB3y8HqcsW4"
      },
      "source": [
        "#--------------------- Download util for Google Drive ------------------- #\n",
        "\n",
        "def download_file_from_google_drive(id, destination):\n",
        "    URL = \"https://docs.google.com/uc?export=download\"\n",
        "\n",
        "    session = requests.Session()\n",
        "\n",
        "    response = session.get(URL, params = { 'id' : id }, stream = True)\n",
        "    token = get_confirm_token(response)\n",
        "\n",
        "    if token:\n",
        "        params = { 'id' : id, 'confirm' : token }\n",
        "        response = session.get(URL, params = params, stream = True)\n",
        "        \n",
        "    save_response_content(response, destination)    \n",
        "\n",
        "def get_confirm_token(response):\n",
        "    for key, value in response.cookies.items():\n",
        "        if key.startswith('download_warning'):\n",
        "            return value\n",
        "        \n",
        "    return None\n",
        "\n",
        "def save_response_content(response, destination):\n",
        "    CHUNK_SIZE = 32768\n",
        "\n",
        "    with open(destination, \"wb\") as f:\n",
        "        for chunk in response.iter_content(CHUNK_SIZE):\n",
        "            if chunk:\n",
        "                f.write(chunk)\n",
        "\n",
        "def download_data(fid, destination):\n",
        "    print('cleaning already existing files ... ', end='')\n",
        "    try:\n",
        "        shutil.rmtree(destination)\n",
        "        print('√')\n",
        "    except:\n",
        "        print('✕')\n",
        "        \n",
        "    print('creating data directory ... ', end='')\n",
        "    os.mkdir(destination)\n",
        "    print('√')\n",
        "    \n",
        "    print('downloading dataset from the repository ... ', end='')\n",
        "    filename = os.path.join(destination, 'dataset.tar.xz')\n",
        "    try:\n",
        "        download_file_from_google_drive(fid, filename)\n",
        "        print('√')\n",
        "    except:\n",
        "        print('✕')\n",
        "        \n",
        "    print('extracting the dataset ... ', end='')\n",
        "    try:\n",
        "        tar = tarfile.open(filename)\n",
        "        tar.extractall(destination)\n",
        "        tar.close()\n",
        "        print('√')\n",
        "    except:\n",
        "        print('✕')"
      ],
      "execution_count": 3,
      "outputs": []
    },
    {
      "cell_type": "code",
      "metadata": {
        "id": "WmaiLJnY8BUh"
      },
      "source": [
        "def get_windows(signal, length=WIN_LEN, overlap=OVERLAP):\n",
        "    increment = length - round(length * overlap)\n",
        "    num_windows = int((len(signal) - length) / increment) + 1\n",
        "    samples = np.zeros((num_windows, length))\n",
        "    for i in range(num_windows):\n",
        "        temp = i * increment\n",
        "        samples[i] = signal[temp:(temp + length)]\n",
        "    return np.array(samples)"
      ],
      "execution_count": 4,
      "outputs": []
    },
    {
      "cell_type": "code",
      "metadata": {
        "id": "TZR5wsM5dHDz"
      },
      "source": [
        "# ------- Comment This if already downloaded -------- #\n",
        "\n",
        "# destination = os.path.join(BASE_DIR, AUDIO_DIR)\n",
        "# download_data(DATASET_ID, destination)"
      ],
      "execution_count": 5,
      "outputs": []
    },
    {
      "cell_type": "code",
      "metadata": {
        "id": "olVxjeqNdmrR",
        "colab": {
          "base_uri": "https://localhost:8080/"
        },
        "outputId": "619c0d61-fb87-4234-cc76-d9e2a9d1c765"
      },
      "source": [
        "write_dir = os.path.join(BASE_DIR, WINDOWS_DIR)\n",
        "\n",
        "print('cleaning already existing files ... ', end='')\n",
        "try:\n",
        "    shutil.rmtree(write_dir)\n",
        "    print('√')\n",
        "except:\n",
        "    print('✕')\n",
        "    \n",
        "print('creating windows directory ... ', end='')\n",
        "os.mkdir(write_dir)\n",
        "print('√')\n",
        "\n",
        "for emotion in EMOTIONS:\n",
        "    print('processing audio for ' + emotion, end=' ... ')\n",
        "    os.mkdir(os.path.join(write_dir, emotion))\n",
        "    for fold in FOLDS:\n",
        "        # os.mkdir(os.path.join(write_dir, emotion, fold))\n",
        "        fold_path = os.path.join(BASE_DIR, AUDIO_DIR, emotion, fold)\n",
        "        filenames = os.listdir(fold_path)\n",
        "        for filename in filenames:\n",
        "            file_path = os.path.join(fold_path, filename)\n",
        "            x, _ = load(\n",
        "                path      = file_path,\n",
        "                sr        = Fs,\n",
        "                mono      = True\n",
        "            )\n",
        "            extension = x.shape[0] % Fs\n",
        "            windows = get_windows(x, length=Fs)\n",
        "            windows_name = os.path.join(\n",
        "                # write_dir, emotion, fold, filename + '.joblib'\n",
        "                write_dir, emotion, filename + '.joblib'\n",
        "            )\n",
        "            dump(windows, windows_name)\n",
        "\n",
        "    print('√')"
      ],
      "execution_count": 10,
      "outputs": [
        {
          "output_type": "stream",
          "text": [
            "cleaning already existing files ... √\n",
            "creating windows directory ... √\n",
            "processing audio for Approval ... √\n",
            "processing audio for Disapproval ... √\n",
            "processing audio for Neutral ... √\n"
          ],
          "name": "stdout"
        }
      ]
    }
  ]
}