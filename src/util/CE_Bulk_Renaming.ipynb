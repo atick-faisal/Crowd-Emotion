{
  "nbformat": 4,
  "nbformat_minor": 0,
  "metadata": {
    "colab": {
      "name": "CE_Bulk_Renaming.ipynb",
      "provenance": [],
      "mount_file_id": "https://github.com/atick-faisal/Crowd-Emotion/blob/main/src/util/CE_Bulk_Renaming.ipynb",
      "authorship_tag": "ABX9TyMAXv6/l9U//x93FjqThSbd",
      "include_colab_link": true
    },
    "kernelspec": {
      "name": "python3",
      "display_name": "Python 3"
    },
    "language_info": {
      "name": "python"
    }
  },
  "cells": [
    {
      "cell_type": "markdown",
      "metadata": {
        "id": "view-in-github",
        "colab_type": "text"
      },
      "source": [
        "<a href=\"https://colab.research.google.com/github/atick-faisal/Crowd-Emotion/blob/main/src/util/CE_Bulk_Renaming.ipynb\" target=\"_parent\"><img src=\"https://colab.research.google.com/assets/colab-badge.svg\" alt=\"Open In Colab\"/></a>"
      ]
    },
    {
      "cell_type": "code",
      "metadata": {
        "id": "aplzJ78m29hE"
      },
      "source": [
        "import os"
      ],
      "execution_count": 1,
      "outputs": []
    },
    {
      "cell_type": "markdown",
      "metadata": {
        "id": "ePM2vjo37vFn"
      },
      "source": [
        "<h3 align=\"center\">APPROVAL</h3>"
      ]
    },
    {
      "cell_type": "code",
      "metadata": {
        "id": "nIHxNzq57jXG"
      },
      "source": [
        "approval_path = '/content/drive/MyDrive/Research/Crowd Emotion v3/Audio/Approval/'"
      ],
      "execution_count": 24,
      "outputs": []
    },
    {
      "cell_type": "code",
      "metadata": {
        "id": "eTXI6elF7ueh"
      },
      "source": [
        "for count, filename in enumerate(os.listdir(approval_path)):\n",
        "    src = approval_path + filename\n",
        "    dst = approval_path + 'pos_c' + '{:0>4d}'.format(count + 1) + '.wav'\n",
        "    os.rename(src, dst)"
      ],
      "execution_count": 29,
      "outputs": []
    },
    {
      "cell_type": "markdown",
      "metadata": {
        "id": "gBg30ROhIisB"
      },
      "source": [
        "<h3 align=\"center\">DISAPPROVAL</h3>"
      ]
    },
    {
      "cell_type": "code",
      "metadata": {
        "id": "mIyfPyC58dMT"
      },
      "source": [
        "disapproval_path = '/content/drive/MyDrive/Research/Crowd Emotion v3/Audio/Disapproval/'"
      ],
      "execution_count": 30,
      "outputs": []
    },
    {
      "cell_type": "code",
      "metadata": {
        "id": "UPvv-E6zIvPx"
      },
      "source": [
        "for count, filename in enumerate(os.listdir(disapproval_path)):\n",
        "    src = disapproval_path + filename\n",
        "    dst = disapproval_path + 'neg_c' + '{:0>4d}'.format(count + 1) + '.wav'\n",
        "    os.rename(src, dst)"
      ],
      "execution_count": 31,
      "outputs": []
    },
    {
      "cell_type": "markdown",
      "metadata": {
        "id": "2cGkvevuVL9B"
      },
      "source": [
        "<h3 align=\"center\">NEUTRAL</h3>"
      ]
    },
    {
      "cell_type": "code",
      "metadata": {
        "id": "7OKwtQCEMfhf"
      },
      "source": [
        "neutral_path = '/content/drive/MyDrive/Research/Crowd Emotion v3/Audio/Neutral/'"
      ],
      "execution_count": 33,
      "outputs": []
    },
    {
      "cell_type": "code",
      "metadata": {
        "id": "SlVh6BonVHVg"
      },
      "source": [
        "for count, filename in enumerate(os.listdir(neutral_path)):\n",
        "    src = neutral_path + filename\n",
        "    dst = neutral_path + 'neu_c' + '{:0>4d}'.format(count + 1) + '.wav'\n",
        "    os.rename(src, dst)"
      ],
      "execution_count": 34,
      "outputs": []
    }
  ]
}