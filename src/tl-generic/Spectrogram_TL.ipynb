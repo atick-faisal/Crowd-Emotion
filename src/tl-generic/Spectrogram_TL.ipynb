{
  "nbformat": 4,
  "nbformat_minor": 0,
  "metadata": {
    "colab": {
      "name": "Spectrogram_TL.ipynb",
      "provenance": [],
      "collapsed_sections": [],
      "mount_file_id": "https://github.com/atick-faisal/Crowd-Emotion/blob/main/src/tl-generic/Spectrogram_TL.ipynb",
      "authorship_tag": "ABX9TyP/hBYLWNIbt7QUOFC6OyoZ",
      "include_colab_link": true
    },
    "kernelspec": {
      "name": "python3",
      "display_name": "Python 3"
    },
    "language_info": {
      "name": "python"
    },
    "accelerator": "GPU"
  },
  "cells": [
    {
      "cell_type": "markdown",
      "metadata": {
        "id": "view-in-github",
        "colab_type": "text"
      },
      "source": [
        "<a href=\"https://colab.research.google.com/github/atick-faisal/Crowd-Emotion/blob/main/src/tl-generic/Spectrogram_TL.ipynb\" target=\"_parent\"><img src=\"https://colab.research.google.com/assets/colab-badge.svg\" alt=\"Open In Colab\"/></a>"
      ]
    },
    {
      "cell_type": "code",
      "metadata": {
        "id": "BgLzP9KuQw-T",
        "colab": {
          "base_uri": "https://localhost:8080/",
          "height": 35
        },
        "outputId": "a27b71fd-591c-4e2c-cd94-a276e3068ea0"
      },
      "source": [
        "import os\n",
        "import time\n",
        "import json\n",
        "import joblib\n",
        "import librosa\n",
        "import datetime\n",
        "\n",
        "import numpy as np\n",
        "import seaborn as sns\n",
        "import soundfile as sf\n",
        "import matplotlib.pyplot as plt\n",
        "\n",
        "import tensorflow as tf\n",
        "\n",
        "from scipy.signal import spectrogram\n",
        "from sklearn.metrics import classification_report, confusion_matrix\n",
        "\n",
        "from matplotlib.backends.backend_agg import FigureCanvasAgg as FigureCanvas\n",
        "from matplotlib.figure import Figure\n",
        "\n",
        "tf.random.set_seed(42)\n",
        "\n",
        "tf.__version__"
      ],
      "execution_count": 1,
      "outputs": [
        {
          "output_type": "execute_result",
          "data": {
            "application/vnd.google.colaboratory.intrinsic+json": {
              "type": "string"
            },
            "text/plain": [
              "'2.4.1'"
            ]
          },
          "metadata": {
            "tags": []
          },
          "execution_count": 1
        }
      ]
    },
    {
      "cell_type": "code",
      "metadata": {
        "id": "o0Pd708wRBMJ"
      },
      "source": [
        "CONFIG = {\n",
        "    'timestamp'             : str(datetime.datetime.now()),\n",
        "    'model'                 : 'Transfer Learning on MobileNet',\n",
        "    'base_model'            : 'mobile_net_v2',\n",
        "    'input_shape'           : (160, 160, 3),\n",
        "    'test_fold'             : 'Fold 5',\n",
        "    'frame_length'          : 44100,\n",
        "    'frame_inc'             : 11025,\n",
        "    'fig_size'              : (2.23, 2.23), # 160x160\n",
        "    'architecture'          : '',\n",
        "    'batch_size'            : 32,\n",
        "    'epochs'                : 300,\n",
        "    'learning_rate'         : 0.0001,\n",
        "    'monitor'               : 'val_loss',\n",
        "    'patience'              : 10,\n",
        "    'class_weight'          : { 0: 0.71, 1:  2.32, 2: 0.86 },\n",
        "    'training_time'         : 0,\n",
        "    'testing_time'          : 0,\n",
        "    'cm_atick'              : '',\n",
        "    'cr_atick'              : '',\n",
        "    'cm_valentina'          : '',\n",
        "    'cr_valentina'          : ''\n",
        "}"
      ],
      "execution_count": 2,
      "outputs": []
    },
    {
      "cell_type": "code",
      "metadata": {
        "id": "MfTlFAURRXhO"
      },
      "source": [
        "BASE_DIR            = os.getcwd()\n",
        "LOG_FILE            = '/content/drive/MyDrive/Research/Crowd Emotion Logs/tl_generic.txt'\n",
        "FOLDS               = ['Fold 1', 'Fold 2', 'Fold 3', 'Fold 4', 'Fold 5']\n",
        "EMOTIONS            = ['Approval', 'Disapproval', 'Neutral']\n",
        "\n",
        "ATICK_DATA_DIR      = '/content/Dataset-Atick/'\n",
        "VALENTINA_DATA_DIR  = '/content/Dataset-Valentina/'\n",
        "\n",
        "RANGE               = [20, 20000]\n",
        "\n",
        "ATICK_DATASET_LEN   = 13806\n",
        "VAL_DATASET_LEN     = 9484"
      ],
      "execution_count": 3,
      "outputs": []
    },
    {
      "cell_type": "code",
      "metadata": {
        "id": "YkHfqIYQRaq7",
        "colab": {
          "base_uri": "https://localhost:8080/"
        },
        "outputId": "fb7e736b-819d-4327-ed09-3e48840b4acb"
      },
      "source": [
        "%%time\n",
        "\n",
        "# # ----------------- Loading my dataset -------------------\n",
        "# !mkdir /content/Dataset-Atick/\n",
        "# !gdown --id '1zGfANn9GKi9OUMbMehkfzk_Pvhc-b68N'\n",
        "# !tar -xf /content/Atick_CE_Dataset.tar.xz -C /content/Dataset-Atick/\n",
        "\n",
        "# # ----------------- Loading Valentina's dataset -------------------\n",
        "# !mkdir /content/Dataset-Valentina/\n",
        "# !gdown --id '11tC2Nmie9v3ljo60oQJ3sN1rVkorV-N1'\n",
        "# !tar -xf /content/Valentina_CE_Dataset.tar.xz -C /content/Dataset-Valentina/\n"
      ],
      "execution_count": 4,
      "outputs": [
        {
          "output_type": "stream",
          "text": [
            "CPU times: user 2 µs, sys: 1 µs, total: 3 µs\n",
            "Wall time: 5.48 µs\n"
          ],
          "name": "stdout"
        }
      ]
    },
    {
      "cell_type": "code",
      "metadata": {
        "id": "726GOSnC6IWI"
      },
      "source": [
        "def generate_dataset(data_len, data_dir):\n",
        "    X = np.zeros((data_len, 160, 160, 3), dtype=np.uint8)\n",
        "    y = np.zeros((data_len, 1), dtype=np.uint8)\n",
        "    f = np.zeros((data_len, ), dtype=np.uint8)\n",
        "\n",
        "    count = 0\n",
        "\n",
        "    for emotion in EMOTIONS:\n",
        "        emo_path = os.path.join(BASE_DIR, data_dir, emotion)\n",
        "\n",
        "        print('processing data for ' + emotion + ' ... ')\n",
        "\n",
        "        for fold in ['']:\n",
        "            fold_path = os.path.join(emo_path, fold)\n",
        "            files = os.listdir(fold_path)\n",
        "\n",
        "            print('processing data for ' + fold, end=' ... ')\n",
        "            \n",
        "            for filename in files:\n",
        "                wav, sr = librosa.load(\n",
        "                    path            = os.path.join(fold_path, filename),\n",
        "                    sr              = 44100,\n",
        "                    mono            = True\n",
        "                )\n",
        "                # wav, sr = sf.read(os.path.join(fold_path, filename))\n",
        "                n = len(wav)\n",
        "                idx = 0\n",
        "                while idx < (n - CONFIG['frame_length']):\n",
        "                    frame = wav[idx:(idx + CONFIG['frame_length'])]\n",
        "                    idx = idx + CONFIG['frame_inc']\n",
        "\n",
        "                    fig = Figure(figsize=CONFIG['fig_size'])\n",
        "                    canvas = FigureCanvas(fig)\n",
        "                    ax = fig.gca()\n",
        "\n",
        "                    ax.axis('off')\n",
        "                    fig.tight_layout(pad=0)\n",
        "                    ax.margins(0)\n",
        "\n",
        "                    ax.specgram(\n",
        "                        x               = frame,\n",
        "                        Fs              = 44100,\n",
        "                        window          = np.hamming(400),\n",
        "                        NFFT            = 400,\n",
        "                        cmap            = 'jet',\n",
        "                        noverlap        = 200,\n",
        "                        mode            = 'psd',\n",
        "                        scale           = 'dB',\n",
        "                        detrend         = None,\n",
        "                        scale_by_freq   = True,\n",
        "                        vmin            = -160,\n",
        "                        vmax            = -25,\n",
        "                        interpolation   = 'hamming'      \n",
        "                    )\n",
        "                    ax.set_yscale('symlog')\n",
        "                    ax.set_ylim(RANGE)\n",
        "\n",
        "                    fig.canvas.draw()\n",
        "                    img = np.frombuffer(fig.canvas.tostring_rgb(), dtype=np.uint8)\n",
        "                    img = img.reshape(fig.canvas.get_width_height()[::-1] + (3,))\n",
        "\n",
        "                    X[count, :] = img\n",
        "                    y[count, 0] = EMOTIONS.index(emotion)\n",
        "                    # f[count] = FOLDS.index(fold)\n",
        "\n",
        "                    count = count + 1\n",
        "\n",
        "            print('√')\n",
        "\n",
        "    return X, y, f"
      ],
      "execution_count": 5,
      "outputs": []
    },
    {
      "cell_type": "code",
      "metadata": {
        "id": "iNzU9AIsReSi"
      },
      "source": [
        "# %%time\n",
        "# X_VAL, y_VAL, f_VAL = generate_dataset(VAL_DATASET_LEN, VALENTINA_DATA_DIR)\n",
        "# joblib.dump(X_VAL, '/content/drive/MyDrive/Research/Crowd Emotion Dataset v4/X_VAL.joblib')\n",
        "# joblib.dump(y_VAL, '/content/drive/MyDrive/Research/Crowd Emotion Dataset v4/y_VAL.joblib')\n",
        "# joblib.dump(f_VAL, '/content/drive/MyDrive/Research/Crowd Emotion Dataset v4/f_VAL.joblib')"
      ],
      "execution_count": 6,
      "outputs": []
    },
    {
      "cell_type": "code",
      "metadata": {
        "id": "CmPyaBwk8BT7"
      },
      "source": [
        "class TransferLearning():\n",
        "    def __init__(self, config):\n",
        "\n",
        "        self.base_model = config['base_model']\n",
        "        self.input_shape = config['input_shape']\n",
        "        self.learning_rate = config['learning_rate']\n",
        "        self.batch_size = config['batch_size']\n",
        "        self.epochs = config['epochs']\n",
        "        self.monitor = config['monitor']\n",
        "        self.patience = config['patience']\n",
        "        self.class_weight = config['class_weight']\n",
        "\n",
        "        if self.base_model == 'mobile_net_v2':\n",
        "            self.base_model = tf.keras.applications.MobileNetV2(\n",
        "                input_shape     = self.input_shape,\n",
        "                include_top     = False,\n",
        "                weights         = 'imagenet'\n",
        "            )\n",
        "            self.base_model.trainable = False\n",
        "            self.preprocess = tf.keras.applications.mobilenet_v2.preprocess_input\n",
        "            self.model = None\n",
        "            self.callbacks = None\n",
        "\n",
        "    def __init_model(self, num_classes):\n",
        "        inputs = tf.keras.Input(shape=self.input_shape)\n",
        "        x = self.preprocess(inputs)\n",
        "        x = self.base_model(x, training=False)\n",
        "        x = tf.keras.layers.GlobalAveragePooling2D()(x)\n",
        "        x = tf.keras.layers.Dropout(0.2)(x)\n",
        "        outputs = tf.keras.layers.Dense(num_classes)(x)\n",
        "        self.model = tf.keras.Model(inputs, outputs)\n",
        "        self.model.compile(\n",
        "            optimizer      = tf.keras.optimizers.Adam(lr=self.learning_rate),\n",
        "            loss           = tf.keras.losses.SparseCategoricalCrossentropy(from_logits=True),\n",
        "            metrics        = ['accuracy']\n",
        "        )\n",
        "\n",
        "    def __init_callbacks(self):\n",
        "        early_stopping = tf.keras.callbacks.EarlyStopping(\n",
        "            monitor        = self.monitor,\n",
        "            patience       = self.patience,\n",
        "            verbose        = 1\n",
        "        )\n",
        "        self.callbacks = [\n",
        "                          early_stopping,\n",
        "        ]\n",
        "\n",
        "    def fit(self, train_X, train_y, val_X, val_y):\n",
        "        num_classes = np.unique(train_y).shape[0]\n",
        "        self.__init_model(num_classes)\n",
        "        self.__init_callbacks()\n",
        "        history = self.model.fit(\n",
        "            x                 = train_X,\n",
        "            y                 = train_y,\n",
        "            batch_size        = self.batch_size,\n",
        "            epochs            = self.epochs,\n",
        "            verbose           = 1,\n",
        "            validation_data   = (val_X, val_y),\n",
        "            shuffle           = True,\n",
        "            callbacks         = self.callbacks,\n",
        "            class_weight      = self.class_weight\n",
        "        )\n",
        "    \n",
        "        return self.model, history \n",
        "\n",
        "    def evaluate(self, test_X, test_y):\n",
        "        prob_model = tf.keras.Sequential([self.model, tf.keras.layers.Softmax()])\n",
        "        y_pred_hot = prob_model.predict(test_X)\n",
        "        y_pred = np.argmax(y_pred_hot, axis=1)\n",
        "        return classification_report(test_y.ravel(), y_pred)"
      ],
      "execution_count": 7,
      "outputs": []
    },
    {
      "cell_type": "code",
      "metadata": {
        "id": "26-CsA88cJFy"
      },
      "source": [
        "X_AF = joblib.load('/content/drive/MyDrive/Research/Crowd Emotion Dataset v4/X_AF.joblib')\n",
        "y_AF = joblib.load('/content/drive/MyDrive/Research/Crowd Emotion Dataset v4/y_AF.joblib')\n",
        "f_AF = joblib.load('/content/drive/MyDrive/Research/Crowd Emotion Dataset v4/f_AF.joblib')\n",
        "\n",
        "mask      = (f_AF == FOLDS.index(CONFIG['test_fold']))\n",
        "train_X   = X_AF[~mask, :]\n",
        "train_y   = y_AF[~mask, :]\n",
        "val_X     = X_AF[mask, :]\n",
        "val_y     = y_AF[mask, :]\n",
        "\n",
        "del X_AF\n",
        "\n",
        "test_X = joblib.load('/content/drive/MyDrive/Research/Crowd Emotion Dataset v4/X_VAL.joblib')\n",
        "test_y = joblib.load('/content/drive/MyDrive/Research/Crowd Emotion Dataset v4/y_VAL.joblib')"
      ],
      "execution_count": 8,
      "outputs": []
    },
    {
      "cell_type": "code",
      "metadata": {
        "id": "K7xGbl6m8VQg",
        "outputId": "50ad0e3b-717d-4549-f689-1eb946c4150b",
        "colab": {
          "base_uri": "https://localhost:8080/"
        }
      },
      "source": [
        "%%time\n",
        "start_time = time.time()\n",
        "\n",
        "tl = TransferLearning(CONFIG)\n",
        "model, history = tl.fit(train_X, train_y, val_X, val_y)\n",
        "\n",
        "training_time = time.time() - start_time\n"
      ],
      "execution_count": 9,
      "outputs": [
        {
          "output_type": "stream",
          "text": [
            "Epoch 1/300\n",
            "337/337 [==============================] - 16s 31ms/step - loss: 1.1932 - accuracy: 0.4195 - val_loss: 1.2014 - val_accuracy: 0.3166\n",
            "Epoch 2/300\n",
            "337/337 [==============================] - 9s 27ms/step - loss: 0.8797 - accuracy: 0.5779 - val_loss: 1.2182 - val_accuracy: 0.4114\n",
            "Epoch 3/300\n",
            "337/337 [==============================] - 9s 27ms/step - loss: 0.7263 - accuracy: 0.6798 - val_loss: 1.1714 - val_accuracy: 0.4843\n",
            "Epoch 4/300\n",
            "337/337 [==============================] - 9s 27ms/step - loss: 0.6357 - accuracy: 0.7321 - val_loss: 1.2257 - val_accuracy: 0.5056\n",
            "Epoch 5/300\n",
            "337/337 [==============================] - 9s 27ms/step - loss: 0.6033 - accuracy: 0.7481 - val_loss: 1.2550 - val_accuracy: 0.4984\n",
            "Epoch 6/300\n",
            "337/337 [==============================] - 9s 27ms/step - loss: 0.5436 - accuracy: 0.7716 - val_loss: 1.1789 - val_accuracy: 0.5154\n",
            "Epoch 7/300\n",
            "337/337 [==============================] - 9s 27ms/step - loss: 0.5145 - accuracy: 0.7913 - val_loss: 1.2308 - val_accuracy: 0.5335\n",
            "Epoch 8/300\n",
            "337/337 [==============================] - 9s 27ms/step - loss: 0.4916 - accuracy: 0.8017 - val_loss: 1.2038 - val_accuracy: 0.5420\n",
            "Epoch 9/300\n",
            "337/337 [==============================] - 9s 27ms/step - loss: 0.4684 - accuracy: 0.8117 - val_loss: 1.1659 - val_accuracy: 0.5476\n",
            "Epoch 10/300\n",
            "337/337 [==============================] - 9s 27ms/step - loss: 0.4580 - accuracy: 0.8225 - val_loss: 1.2276 - val_accuracy: 0.5364\n",
            "Epoch 11/300\n",
            "337/337 [==============================] - 9s 27ms/step - loss: 0.4444 - accuracy: 0.8247 - val_loss: 1.1574 - val_accuracy: 0.5505\n",
            "Epoch 12/300\n",
            "337/337 [==============================] - 9s 27ms/step - loss: 0.4130 - accuracy: 0.8367 - val_loss: 1.1079 - val_accuracy: 0.5627\n",
            "Epoch 13/300\n",
            "337/337 [==============================] - 9s 28ms/step - loss: 0.4166 - accuracy: 0.8375 - val_loss: 1.1664 - val_accuracy: 0.5568\n",
            "Epoch 14/300\n",
            "337/337 [==============================] - 9s 27ms/step - loss: 0.3934 - accuracy: 0.8491 - val_loss: 1.1624 - val_accuracy: 0.5558\n",
            "Epoch 15/300\n",
            "337/337 [==============================] - 9s 27ms/step - loss: 0.3887 - accuracy: 0.8469 - val_loss: 1.1471 - val_accuracy: 0.5614\n",
            "Epoch 16/300\n",
            "337/337 [==============================] - 9s 27ms/step - loss: 0.3825 - accuracy: 0.8455 - val_loss: 1.0860 - val_accuracy: 0.5682\n",
            "Epoch 17/300\n",
            "337/337 [==============================] - 9s 27ms/step - loss: 0.3630 - accuracy: 0.8605 - val_loss: 1.1415 - val_accuracy: 0.5640\n",
            "Epoch 18/300\n",
            "337/337 [==============================] - 9s 27ms/step - loss: 0.3781 - accuracy: 0.8527 - val_loss: 1.0917 - val_accuracy: 0.5722\n",
            "Epoch 19/300\n",
            "337/337 [==============================] - 9s 27ms/step - loss: 0.3610 - accuracy: 0.8628 - val_loss: 1.1039 - val_accuracy: 0.5722\n",
            "Epoch 20/300\n",
            "337/337 [==============================] - 9s 27ms/step - loss: 0.3574 - accuracy: 0.8622 - val_loss: 1.0614 - val_accuracy: 0.5797\n",
            "Epoch 21/300\n",
            "337/337 [==============================] - 9s 27ms/step - loss: 0.3512 - accuracy: 0.8614 - val_loss: 1.0760 - val_accuracy: 0.5751\n",
            "Epoch 22/300\n",
            "337/337 [==============================] - 9s 27ms/step - loss: 0.3536 - accuracy: 0.8633 - val_loss: 0.9906 - val_accuracy: 0.5951\n",
            "Epoch 23/300\n",
            "337/337 [==============================] - 9s 27ms/step - loss: 0.3485 - accuracy: 0.8641 - val_loss: 1.0773 - val_accuracy: 0.5781\n",
            "Epoch 24/300\n",
            "337/337 [==============================] - 9s 27ms/step - loss: 0.3452 - accuracy: 0.8722 - val_loss: 1.0560 - val_accuracy: 0.5801\n",
            "Epoch 25/300\n",
            "337/337 [==============================] - 9s 27ms/step - loss: 0.3304 - accuracy: 0.8721 - val_loss: 1.0406 - val_accuracy: 0.5846\n",
            "Epoch 26/300\n",
            "337/337 [==============================] - 9s 27ms/step - loss: 0.3238 - accuracy: 0.8767 - val_loss: 0.9997 - val_accuracy: 0.5942\n",
            "Epoch 27/300\n",
            "337/337 [==============================] - 9s 27ms/step - loss: 0.3250 - accuracy: 0.8756 - val_loss: 1.0680 - val_accuracy: 0.5774\n",
            "Epoch 28/300\n",
            "337/337 [==============================] - 9s 27ms/step - loss: 0.3249 - accuracy: 0.8747 - val_loss: 1.1427 - val_accuracy: 0.5673\n",
            "Epoch 29/300\n",
            "337/337 [==============================] - 9s 27ms/step - loss: 0.3129 - accuracy: 0.8773 - val_loss: 1.0270 - val_accuracy: 0.5863\n",
            "Epoch 30/300\n",
            "337/337 [==============================] - 9s 27ms/step - loss: 0.3214 - accuracy: 0.8800 - val_loss: 0.9359 - val_accuracy: 0.6089\n",
            "Epoch 31/300\n",
            "337/337 [==============================] - 9s 27ms/step - loss: 0.3082 - accuracy: 0.8744 - val_loss: 0.9879 - val_accuracy: 0.5965\n",
            "Epoch 32/300\n",
            "337/337 [==============================] - 9s 27ms/step - loss: 0.3215 - accuracy: 0.8733 - val_loss: 0.9707 - val_accuracy: 0.6004\n",
            "Epoch 33/300\n",
            "337/337 [==============================] - 9s 27ms/step - loss: 0.3086 - accuracy: 0.8855 - val_loss: 0.9809 - val_accuracy: 0.5978\n",
            "Epoch 34/300\n",
            "337/337 [==============================] - 9s 27ms/step - loss: 0.3035 - accuracy: 0.8822 - val_loss: 0.9501 - val_accuracy: 0.6076\n",
            "Epoch 35/300\n",
            "337/337 [==============================] - 9s 27ms/step - loss: 0.2945 - accuracy: 0.8814 - val_loss: 1.0882 - val_accuracy: 0.5771\n",
            "Epoch 36/300\n",
            "337/337 [==============================] - 9s 27ms/step - loss: 0.3024 - accuracy: 0.8806 - val_loss: 1.0134 - val_accuracy: 0.5951\n",
            "Epoch 37/300\n",
            "337/337 [==============================] - 9s 27ms/step - loss: 0.3012 - accuracy: 0.8828 - val_loss: 0.9722 - val_accuracy: 0.6017\n",
            "Epoch 38/300\n",
            "337/337 [==============================] - 9s 27ms/step - loss: 0.2855 - accuracy: 0.8869 - val_loss: 0.9988 - val_accuracy: 0.5978\n",
            "Epoch 39/300\n",
            "337/337 [==============================] - 9s 27ms/step - loss: 0.2860 - accuracy: 0.8934 - val_loss: 0.9952 - val_accuracy: 0.5981\n",
            "Epoch 40/300\n",
            "337/337 [==============================] - 9s 27ms/step - loss: 0.3045 - accuracy: 0.8849 - val_loss: 0.9653 - val_accuracy: 0.6024\n",
            "Epoch 00040: early stopping\n",
            "CPU times: user 3min 50s, sys: 11.7 s, total: 4min 2s\n",
            "Wall time: 6min 13s\n"
          ],
          "name": "stdout"
        }
      ]
    },
    {
      "cell_type": "code",
      "metadata": {
        "id": "oPGNGjQtDsJI",
        "outputId": "f48974dd-d43a-4f62-b05b-11f2233c1fb9",
        "colab": {
          "base_uri": "https://localhost:8080/"
        }
      },
      "source": [
        "%%time\n",
        "\n",
        "# ---------------- Testing on valentina's data -------------------\n",
        "\n",
        "start_time = time.time()\n",
        "\n",
        "loss, accuracy = model.evaluate(test_X, test_y, batch_size=CONFIG['batch_size'])\n",
        "\n",
        "print(\"Loss: \", loss)\n",
        "print(\"Accuracy: \", accuracy)\n",
        "\n",
        "testing_time = time.time() - start_time"
      ],
      "execution_count": 10,
      "outputs": [
        {
          "output_type": "stream",
          "text": [
            "297/297 [==============================] - 6s 22ms/step - loss: 0.5482 - accuracy: 0.7928\n",
            "Loss:  0.5482274293899536\n",
            "Accuracy:  0.7928089499473572\n",
            "CPU times: user 4.05 s, sys: 164 ms, total: 4.22 s\n",
            "Wall time: 6.45 s\n"
          ],
          "name": "stdout"
        }
      ]
    },
    {
      "cell_type": "code",
      "metadata": {
        "id": "VfOw2nEJDvl9",
        "outputId": "e0211ce1-f6db-4871-d4ec-bd55f99fd33c",
        "colab": {
          "base_uri": "https://localhost:8080/",
          "height": 265
        }
      },
      "source": [
        "metrics = history.history\n",
        "plt.plot(history.epoch, metrics['loss'], metrics['val_loss'])\n",
        "plt.legend(['loss', 'val_loss'])\n",
        "plt.show()"
      ],
      "execution_count": 11,
      "outputs": [
        {
          "output_type": "display_data",
          "data": {
            "image/png": "[encoded data removed]",
            "text/plain": [
              "<Figure size 432x288 with 1 Axes>"
            ]
          },
          "metadata": {
            "tags": [],
            "needs_background": "light"
          }
        }
      ]
    },
    {
      "cell_type": "code",
      "metadata": {
        "id": "ae40K1uL8WIP",
        "outputId": "3f46e399-4088-46f2-de10-2e9e8897ed5d",
        "colab": {
          "base_uri": "https://localhost:8080/"
        }
      },
      "source": [
        "# ------------------ Testing on Aticks's data -----------------\n",
        "\n",
        "y_true = val_y.ravel()\n",
        "y_pred = np.argmax(model.predict(val_X), axis=1)\n",
        "\n",
        "result_atick = classification_report(y_true, y_pred)\n",
        "print(result_atick)"
      ],
      "execution_count": 12,
      "outputs": [
        {
          "output_type": "stream",
          "text": [
            "              precision    recall  f1-score   support\n",
            "\n",
            "           0       0.89      0.87      0.88      1349\n",
            "           1       0.34      0.99      0.51       494\n",
            "           2       0.55      0.14      0.22      1205\n",
            "\n",
            "    accuracy                           0.60      3048\n",
            "   macro avg       0.59      0.67      0.54      3048\n",
            "weighted avg       0.67      0.60      0.56      3048\n",
            "\n"
          ],
          "name": "stdout"
        }
      ]
    },
    {
      "cell_type": "code",
      "metadata": {
        "id": "_Li1FPC98Zmd",
        "outputId": "e6957c73-e159-4dae-aa71-4ea1ba56b0b0",
        "colab": {
          "base_uri": "https://localhost:8080/",
          "height": 497
        }
      },
      "source": [
        "# confusion_mtx_atick = tf.math.confusion_matrix(y_true, y_pred) \n",
        "confusion_mtx_atick = (confusion_matrix(y_true, y_pred, normalize='true') * 100).astype('int')\n",
        "plt.figure(figsize=(10, 8))\n",
        "sns.heatmap(confusion_mtx_atick, xticklabels=EMOTIONS, yticklabels=EMOTIONS, \n",
        "            annot=True, fmt='g')\n",
        "plt.xlabel('Prediction')\n",
        "plt.ylabel('Label')\n",
        "plt.show()"
      ],
      "execution_count": 13,
      "outputs": [
        {
          "output_type": "display_data",
          "data": {
            "image/png": "[encoded data removed]",
            "text/plain": [
              "<Figure size 720x576 with 2 Axes>"
            ]
          },
          "metadata": {
            "tags": [],
            "needs_background": "light"
          }
        }
      ]
    },
    {
      "cell_type": "code",
      "metadata": {
        "id": "RUV9XP3sD0r_",
        "outputId": "ced8185d-4ce3-491a-b597-29a31ea75716",
        "colab": {
          "base_uri": "https://localhost:8080/"
        }
      },
      "source": [
        "# ------------------ Testing on Valentina's data -----------------\n",
        "\n",
        "y_true = test_y.ravel()\n",
        "y_pred = np.argmax(model.predict(test_X), axis=1)\n",
        "\n",
        "result_valentina = classification_report(y_true, y_pred)\n",
        "print(result_valentina)"
      ],
      "execution_count": 14,
      "outputs": [
        {
          "output_type": "stream",
          "text": [
            "              precision    recall  f1-score   support\n",
            "\n",
            "           0       0.68      0.37      0.48      1781\n",
            "           1       0.06      0.07      0.06       377\n",
            "           2       0.84      0.93      0.89      7326\n",
            "\n",
            "    accuracy                           0.79      9484\n",
            "   macro avg       0.53      0.46      0.48      9484\n",
            "weighted avg       0.78      0.79      0.78      9484\n",
            "\n"
          ],
          "name": "stdout"
        }
      ]
    },
    {
      "cell_type": "code",
      "metadata": {
        "id": "UMdCnba2D2S8",
        "outputId": "d03fe977-3176-409b-f2a9-51bac743a50f",
        "colab": {
          "base_uri": "https://localhost:8080/",
          "height": 497
        }
      },
      "source": [
        "# confusion_mtx_valentina = tf.math.confusion_matrix(y_true, y_pred) \n",
        "confusion_mtx_valentina = (confusion_matrix(y_true, y_pred, normalize='true') * 100).astype('int')\n",
        "plt.figure(figsize=(10, 8))\n",
        "sns.heatmap(confusion_mtx_valentina, xticklabels=EMOTIONS, yticklabels=EMOTIONS, \n",
        "            annot=True, fmt='g')\n",
        "plt.xlabel('Prediction')\n",
        "plt.ylabel('Label')\n",
        "plt.show()"
      ],
      "execution_count": 15,
      "outputs": [
        {
          "output_type": "display_data",
          "data": {
            "image/png": "[encoded data removed]",
            "text/plain": [
              "<Figure size 720x576 with 2 Axes>"
            ]
          },
          "metadata": {
            "tags": [],
            "needs_background": "light"
          }
        }
      ]
    },
    {
      "cell_type": "code",
      "metadata": {
        "id": "ksrYabJbD2_3"
      },
      "source": [
        "summary = []\n",
        "model.summary(print_fn=lambda x: summary.append(x))\n",
        "CONFIG['architecture'] = summary\n",
        "CONFIG['epochs'] = max(history.epoch)\n",
        "CONFIG['training_time'] = training_time\n",
        "CONFIG['testing_time'] = testing_time\n",
        "CONFIG['cm_atick'] = np.array2string(confusion_mtx_atick)\n",
        "result_list_atick = result_atick.split('\\n')\n",
        "CONFIG['cr_atick'] = result_list_atick\n",
        "CONFIG['cm_valentina'] = np.array2string(confusion_mtx_valentina)\n",
        "result_list_valentina = result_valentina.split('\\n')\n",
        "CONFIG['cr_valentina'] = result_list_valentina"
      ],
      "execution_count": 16,
      "outputs": []
    },
    {
      "cell_type": "code",
      "metadata": {
        "id": "aRJr9nzPD6SQ",
        "outputId": "9efe368e-2b79-443b-cb45-155881c16449",
        "colab": {
          "base_uri": "https://localhost:8080/"
        }
      },
      "source": [
        "config = json.dumps(CONFIG, indent=4)\n",
        "print(config)"
      ],
      "execution_count": 17,
      "outputs": [
        {
          "output_type": "stream",
          "text": [
            "{\n",
            "    \"timestamp\": \"2021-05-18 18:18:53.419594\",\n",
            "    \"model\": \"Transfer Learning on MobileNet\",\n",
            "    \"base_model\": \"mobile_net_v2\",\n",
            "    \"input_shape\": [\n",
            "        160,\n",
            "        160,\n",
            "        3\n",
            "    ],\n",
            "    \"test_fold\": \"Fold 5\",\n",
            "    \"frame_length\": 44100,\n",
            "    \"frame_inc\": 11025,\n",
            "    \"fig_size\": [\n",
            "        2.23,\n",
            "        2.23\n",
            "    ],\n",
            "    \"architecture\": [\n",
            "        \"Model: \\\"model\\\"\",\n",
            "        \"_________________________________________________________________\",\n",
            "        \"Layer (type)                 Output Shape              Param #   \",\n",
            "        \"=================================================================\",\n",
            "        \"input_2 (InputLayer)         [(None, 160, 160, 3)]     0         \",\n",
            "        \"_________________________________________________________________\",\n",
            "        \"tf.math.truediv (TFOpLambda) (None, 160, 160, 3)       0         \",\n",
            "        \"_________________________________________________________________\",\n",
            "        \"tf.math.subtract (TFOpLambda (None, 160, 160, 3)       0         \",\n",
            "        \"_________________________________________________________________\",\n",
            "        \"mobilenetv2_1.00_160 (Functi (None, 5, 5, 1280)        2257984   \",\n",
            "        \"_________________________________________________________________\",\n",
            "        \"global_average_pooling2d (Gl (None, 1280)              0         \",\n",
            "        \"_________________________________________________________________\",\n",
            "        \"dropout (Dropout)            (None, 1280)              0         \",\n",
            "        \"_________________________________________________________________\",\n",
            "        \"dense (Dense)                (None, 3)                 3843      \",\n",
            "        \"=================================================================\",\n",
            "        \"Total params: 2,261,827\",\n",
            "        \"Trainable params: 3,843\",\n",
            "        \"Non-trainable params: 2,257,984\",\n",
            "        \"_________________________________________________________________\"\n",
            "    ],\n",
            "    \"batch_size\": 32,\n",
            "    \"epochs\": 39,\n",
            "    \"learning_rate\": 0.0001,\n",
            "    \"monitor\": \"val_loss\",\n",
            "    \"patience\": 10,\n",
            "    \"class_weight\": {\n",
            "        \"0\": 0.71,\n",
            "        \"1\": 2.32,\n",
            "        \"2\": 0.86\n",
            "    },\n",
            "    \"training_time\": 373.2046802043915,\n",
            "    \"testing_time\": 6.454732894897461,\n",
            "    \"cm_atick\": \"[[87  2 10]\\n [ 1 98  0]\\n [11 74 14]]\",\n",
            "    \"cr_atick\": [\n",
            "        \"              precision    recall  f1-score   support\",\n",
            "        \"\",\n",
            "        \"           0       0.89      0.87      0.88      1349\",\n",
            "        \"           1       0.34      0.99      0.51       494\",\n",
            "        \"           2       0.55      0.14      0.22      1205\",\n",
            "        \"\",\n",
            "        \"    accuracy                           0.60      3048\",\n",
            "        \"   macro avg       0.59      0.67      0.54      3048\",\n",
            "        \"weighted avg       0.67      0.60      0.56      3048\",\n",
            "        \"\"\n",
            "    ],\n",
            "    \"cm_valentina\": \"[[37  3 59]\\n [38  6 54]\\n [ 2  4 93]]\",\n",
            "    \"cr_valentina\": [\n",
            "        \"              precision    recall  f1-score   support\",\n",
            "        \"\",\n",
            "        \"           0       0.68      0.37      0.48      1781\",\n",
            "        \"           1       0.06      0.07      0.06       377\",\n",
            "        \"           2       0.84      0.93      0.89      7326\",\n",
            "        \"\",\n",
            "        \"    accuracy                           0.79      9484\",\n",
            "        \"   macro avg       0.53      0.46      0.48      9484\",\n",
            "        \"weighted avg       0.78      0.79      0.78      9484\",\n",
            "        \"\"\n",
            "    ]\n",
            "}\n"
          ],
          "name": "stdout"
        }
      ]
    },
    {
      "cell_type": "code",
      "metadata": {
        "id": "MgKvnCoaD8An"
      },
      "source": [
        "f = open(LOG_FILE, 'a')\n",
        "f.write('\\n')\n",
        "f.write(config)\n",
        "f.write('\\n')\n",
        "f.close()"
      ],
      "execution_count": 18,
      "outputs": []
    }
  ]
}