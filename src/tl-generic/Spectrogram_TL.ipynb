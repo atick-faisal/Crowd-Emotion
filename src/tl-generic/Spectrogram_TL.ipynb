{
  "nbformat": 4,
  "nbformat_minor": 0,
  "metadata": {
    "colab": {
      "name": "Spectrogram_TL.ipynb",
      "provenance": [],
      "collapsed_sections": [],
      "authorship_tag": "ABX9TyNZC46Ue+FbIZlDpEGPIRvL",
      "include_colab_link": true
    },
    "kernelspec": {
      "name": "python3",
      "display_name": "Python 3"
    },
    "language_info": {
      "name": "python"
    }
  },
  "cells": [
    {
      "cell_type": "markdown",
      "metadata": {
        "id": "view-in-github",
        "colab_type": "text"
      },
      "source": [
        "<a href=\"https://colab.research.google.com/github/atick-faisal/Crowd-Emotion/blob/main/src/tl-generic/Spectrogram_TL.ipynb\" target=\"_parent\"><img src=\"https://colab.research.google.com/assets/colab-badge.svg\" alt=\"Open In Colab\"/></a>"
      ]
    },
    {
      "cell_type": "code",
      "metadata": {
        "id": "BgLzP9KuQw-T",
        "outputId": "e4d8fea1-944b-46a7-f84f-1c9246532456",
        "colab": {
          "base_uri": "https://localhost:8080/",
          "height": 35
        }
      },
      "source": [
        "import os\n",
        "import time\n",
        "import json\n",
        "import datetime\n",
        "\n",
        "import numpy as np\n",
        "import seaborn as sns\n",
        "import soundfile as sf\n",
        "import matplotlib.pyplot as plt\n",
        "\n",
        "import tensorflow as tf\n",
        "\n",
        "from scipy.signal import spectrogram\n",
        "from sklearn.metrics import classification_report, confusion_matrix\n",
        "\n",
        "from matplotlib.backends.backend_agg import FigureCanvasAgg as FigureCanvas\n",
        "from matplotlib.figure import Figure\n",
        "\n",
        "tf.random.set_seed(42)\n",
        "\n",
        "tf.__version__"
      ],
      "execution_count": 1,
      "outputs": [
        {
          "output_type": "execute_result",
          "data": {
            "application/vnd.google.colaboratory.intrinsic+json": {
              "type": "string"
            },
            "text/plain": [
              "'2.4.1'"
            ]
          },
          "metadata": {
            "tags": []
          },
          "execution_count": 1
        }
      ]
    },
    {
      "cell_type": "code",
      "metadata": {
        "id": "o0Pd708wRBMJ"
      },
      "source": [
        "CONFIG = {\n",
        "    'timestamp'             : str(datetime.datetime.now()),\n",
        "    'model'                 : 'Transfer Learning on MobileNet',\n",
        "    'test_fold'             : 'Fold 1',\n",
        "    'frame_length'          : 44100,\n",
        "    'frame_inc'             : 11025,\n",
        "    'dataset_length'        : 13806,\n",
        "    'fig_size'              : (2.23, 2.23), # 160x160\n",
        "    'architecture'          : '',\n",
        "    'batch_size'            : 1024,\n",
        "    'epochs'                : 0,\n",
        "    'learning_rate'         : 0.000005,\n",
        "    'monitor'               : 'val_loss',\n",
        "    'patience'              : 3,\n",
        "    'class_weight'          : { 0: 0.71, 1:  2.32, 2: 0.86 },\n",
        "    'training_time'         : 0,\n",
        "    'testing_time'          : 0,\n",
        "    'cm_atick'              : '',\n",
        "    'cr_atick'              : '',\n",
        "    'cm_valentina'          : '',\n",
        "    'cr_valentina'          : ''\n",
        "}"
      ],
      "execution_count": 2,
      "outputs": []
    },
    {
      "cell_type": "code",
      "metadata": {
        "id": "MfTlFAURRXhO"
      },
      "source": [
        "BASE_DIR            = os.getcwd()\n",
        "LOG_FILE             = '/content/drive/MyDrive/Research/Crowd Emotion Logs/tl_yamnet.txt'\n",
        "FOLDS               = ['Fold 1', 'Fold 2', 'Fold 3', 'Fold 4', 'Fold 5']\n",
        "EMOTIONS            = ['Approval', 'Disapproval', 'Neutral']\n",
        "\n",
        "ATICK_DATA_DIR      = '/content/Dataset-Atick/'\n",
        "VALENTINA_DATA_DIR  = '/content/Dataset-Valentina/'\n",
        "\n",
        "RANGE               = [20, 20000]"
      ],
      "execution_count": 3,
      "outputs": []
    },
    {
      "cell_type": "code",
      "metadata": {
        "id": "YkHfqIYQRaq7",
        "outputId": "be87a49d-3f54-4d90-a5ba-3ea21aec7238",
        "colab": {
          "base_uri": "https://localhost:8080/"
        }
      },
      "source": [
        "%%time\n",
        "\n",
        "# # ----------------- Loading my dataset -------------------\n",
        "# !mkdir /content/Dataset-Atick/\n",
        "# !gdown --id '1zGfANn9GKi9OUMbMehkfzk_Pvhc-b68N'\n",
        "# !tar -xf /content/Atick_CE_Dataset.tar.xz -C /content/Dataset-Atick/\n",
        "\n",
        "# # ----------------- Loading Valentina's dataset -------------------\n",
        "# !mkdir /content/Dataset-Valentina/\n",
        "# !gdown --id '11tC2Nmie9v3ljo60oQJ3sN1rVkorV-N1'\n",
        "# !tar -xf /content/Valentina_CE_Dataset.tar.xz -C /content/Dataset-Valentina/\n"
      ],
      "execution_count": 4,
      "outputs": [
        {
          "output_type": "stream",
          "text": [
            "CPU times: user 3 µs, sys: 1 µs, total: 4 µs\n",
            "Wall time: 8.11 µs\n"
          ],
          "name": "stdout"
        }
      ]
    },
    {
      "cell_type": "code",
      "metadata": {
        "id": "iNzU9AIsReSi",
        "outputId": "e3089a6b-2fad-4750-f346-66a8167b5ca2",
        "colab": {
          "base_uri": "https://localhost:8080/",
          "height": 528
        }
      },
      "source": [
        "%%time\n",
        "\n",
        "X = np.zeros((CONFIG['dataset_length'], 160, 160, 3), dtype=np.uint8)\n",
        "\n",
        "count = 0\n",
        "for emotion in EMOTIONS:\n",
        "    emo_path = os.path.join(BASE_DIR, ATICK_DATA_DIR, emotion)\n",
        "\n",
        "    for fold in FOLDS:\n",
        "        fold_path = os.path.join(emo_path, fold)\n",
        "        files = os.listdir(fold_path)\n",
        "        \n",
        "        for filename in files:\n",
        "            wav, sr = sf.read(os.path.join(fold_path, filename))\n",
        "            n = len(wav)\n",
        "            idx = 0\n",
        "            while idx < (n - CONFIG['frame_length']):\n",
        "                frame = wav[idx:(idx + CONFIG['frame_length'])]\n",
        "                idx = idx + CONFIG['frame_inc']\n",
        "                # f, t, specgram = spectrogram(\n",
        "                #     x                   = frame,\n",
        "                #     fs                  = 44100,\n",
        "                #     window              = np.hamming(400),\n",
        "                #     nperseg             = 400,\n",
        "                #     noverlap            = 200,\n",
        "                #     nfft                = 400,\n",
        "                #     detrend             = None,\n",
        "                #     return_onesided     = True,\n",
        "                #     scaling             = 'density',\n",
        "                #     mode                = 'psd'\n",
        "                # )\n",
        "\n",
        "                fig = Figure(figsize=CONFIG['fig_size'])\n",
        "                canvas = FigureCanvas(fig)\n",
        "                ax = fig.gca()\n",
        "\n",
        "                ax.axis('off')\n",
        "                fig.tight_layout(pad=0)\n",
        "                ax.margins(0)\n",
        "\n",
        "                ax.specgram(\n",
        "                    x               = frame,\n",
        "                    Fs              = 44100,\n",
        "                    window          = np.hamming(400),\n",
        "                    NFFT            = 400,\n",
        "                    cmap            = 'jet',\n",
        "                    noverlap        = 200,\n",
        "                    mode            = 'psd',\n",
        "                    scale           = 'dB',\n",
        "                    detrend         = None,\n",
        "                    scale_by_freq   = True,\n",
        "                    vmin            = -160,\n",
        "                    vmax            = -25,\n",
        "                    interpolation   = 'hamming'      \n",
        "                )\n",
        "                ax.set_yscale('symlog')\n",
        "                ax.set_ylim(RANGE)\n",
        "\n",
        "                fig.canvas.draw()\n",
        "                image_from_plot = np.frombuffer(fig.canvas.tostring_rgb(), dtype=np.uint8)\n",
        "                image_from_plot = image_from_plot.reshape(fig.canvas.get_width_height()[::-1] + (3,))\n",
        "\n",
        "                X[count, :] = image_from_plot\n",
        "\n",
        "                count = count + 1\n",
        "\n",
        "    #         break\n",
        "    #     break\n",
        "    # break\n"
      ],
      "execution_count": 5,
      "outputs": [
        {
          "output_type": "error",
          "ename": "ValueError",
          "evalue": "ignored",
          "traceback": [
            "\u001b[0;31m---------------------------------------------------------------------------\u001b[0m",
            "\u001b[0;31mValueError\u001b[0m                                Traceback (most recent call last)",
            "\u001b[0;32m<ipython-input-5-d14db2db2934>\u001b[0m in \u001b[0;36m<module>\u001b[0;34m()\u001b[0m\n\u001b[0;32m----> 1\u001b[0;31m \u001b[0mget_ipython\u001b[0m\u001b[0;34m(\u001b[0m\u001b[0;34m)\u001b[0m\u001b[0;34m.\u001b[0m\u001b[0mrun_cell_magic\u001b[0m\u001b[0;34m(\u001b[0m\u001b[0;34m'time'\u001b[0m\u001b[0;34m,\u001b[0m \u001b[0;34m''\u001b[0m\u001b[0;34m,\u001b[0m \u001b[0;34m\"\\nX = np.zeros((CONFIG['dataset_length'], 160, 160, 3), dtype=np.uint8)\\n\\ncount = 0\\nfor emotion in EMOTIONS:\\n    emo_path = os.path.join(BASE_DIR, ATICK_DATA_DIR, emotion)\\n\\n    for fold in FOLDS:\\n        fold_path = os.path.join(emo_path, fold)\\n        files = os.listdir(fold_path)\\n        \\n        for filename in files:\\n            wav, sr = sf.read(os.path.join(fold_path, filename))\\n            n = len(wav)\\n            idx = 0\\n            while idx < (n - CONFIG['frame_length']):\\n                frame = wav[idx:(idx + CONFIG['frame_length'])]\\n                idx = idx + CONFIG['frame_inc']\\n                # f, t, specgram = spectrogram(\\n                #     x                   = frame,\\n                #     fs                  = 44100,\\n                #     window              = np.hamming(400),\\n                #     nperseg             = 400,\\n                #     noverlap            = 200,\\n                #     nfft                = 400,\\n                #     detrend             = None,\\n                #     return_onesided     = True,\\n                #     scaling             = 'density',\\n                #     mode                = 'psd'\\n                # )\\n\\n                fig = Figure(figsize=CONFIG['fig_size'])\\n                canvas = FigureCanvas(fig)\\n        ...\n\u001b[0m",
            "\u001b[0;32m/usr/local/lib/python3.7/dist-packages/IPython/core/interactiveshell.py\u001b[0m in \u001b[0;36mrun_cell_magic\u001b[0;34m(self, magic_name, line, cell)\u001b[0m\n\u001b[1;32m   2115\u001b[0m             \u001b[0mmagic_arg_s\u001b[0m \u001b[0;34m=\u001b[0m \u001b[0mself\u001b[0m\u001b[0;34m.\u001b[0m\u001b[0mvar_expand\u001b[0m\u001b[0;34m(\u001b[0m\u001b[0mline\u001b[0m\u001b[0;34m,\u001b[0m \u001b[0mstack_depth\u001b[0m\u001b[0;34m)\u001b[0m\u001b[0;34m\u001b[0m\u001b[0;34m\u001b[0m\u001b[0m\n\u001b[1;32m   2116\u001b[0m             \u001b[0;32mwith\u001b[0m \u001b[0mself\u001b[0m\u001b[0;34m.\u001b[0m\u001b[0mbuiltin_trap\u001b[0m\u001b[0;34m:\u001b[0m\u001b[0;34m\u001b[0m\u001b[0;34m\u001b[0m\u001b[0m\n\u001b[0;32m-> 2117\u001b[0;31m                 \u001b[0mresult\u001b[0m \u001b[0;34m=\u001b[0m \u001b[0mfn\u001b[0m\u001b[0;34m(\u001b[0m\u001b[0mmagic_arg_s\u001b[0m\u001b[0;34m,\u001b[0m \u001b[0mcell\u001b[0m\u001b[0;34m)\u001b[0m\u001b[0;34m\u001b[0m\u001b[0;34m\u001b[0m\u001b[0m\n\u001b[0m\u001b[1;32m   2118\u001b[0m             \u001b[0;32mreturn\u001b[0m \u001b[0mresult\u001b[0m\u001b[0;34m\u001b[0m\u001b[0;34m\u001b[0m\u001b[0m\n\u001b[1;32m   2119\u001b[0m \u001b[0;34m\u001b[0m\u001b[0m\n",
            "\u001b[0;32m<decorator-gen-53>\u001b[0m in \u001b[0;36mtime\u001b[0;34m(self, line, cell, local_ns)\u001b[0m\n",
            "\u001b[0;32m/usr/local/lib/python3.7/dist-packages/IPython/core/magic.py\u001b[0m in \u001b[0;36m<lambda>\u001b[0;34m(f, *a, **k)\u001b[0m\n\u001b[1;32m    186\u001b[0m     \u001b[0;31m# but it's overkill for just that one bit of state.\u001b[0m\u001b[0;34m\u001b[0m\u001b[0;34m\u001b[0m\u001b[0;34m\u001b[0m\u001b[0m\n\u001b[1;32m    187\u001b[0m     \u001b[0;32mdef\u001b[0m \u001b[0mmagic_deco\u001b[0m\u001b[0;34m(\u001b[0m\u001b[0marg\u001b[0m\u001b[0;34m)\u001b[0m\u001b[0;34m:\u001b[0m\u001b[0;34m\u001b[0m\u001b[0;34m\u001b[0m\u001b[0m\n\u001b[0;32m--> 188\u001b[0;31m         \u001b[0mcall\u001b[0m \u001b[0;34m=\u001b[0m \u001b[0;32mlambda\u001b[0m \u001b[0mf\u001b[0m\u001b[0;34m,\u001b[0m \u001b[0;34m*\u001b[0m\u001b[0ma\u001b[0m\u001b[0;34m,\u001b[0m \u001b[0;34m**\u001b[0m\u001b[0mk\u001b[0m\u001b[0;34m:\u001b[0m \u001b[0mf\u001b[0m\u001b[0;34m(\u001b[0m\u001b[0;34m*\u001b[0m\u001b[0ma\u001b[0m\u001b[0;34m,\u001b[0m \u001b[0;34m**\u001b[0m\u001b[0mk\u001b[0m\u001b[0;34m)\u001b[0m\u001b[0;34m\u001b[0m\u001b[0;34m\u001b[0m\u001b[0m\n\u001b[0m\u001b[1;32m    189\u001b[0m \u001b[0;34m\u001b[0m\u001b[0m\n\u001b[1;32m    190\u001b[0m         \u001b[0;32mif\u001b[0m \u001b[0mcallable\u001b[0m\u001b[0;34m(\u001b[0m\u001b[0marg\u001b[0m\u001b[0;34m)\u001b[0m\u001b[0;34m:\u001b[0m\u001b[0;34m\u001b[0m\u001b[0;34m\u001b[0m\u001b[0m\n",
            "\u001b[0;32m/usr/local/lib/python3.7/dist-packages/IPython/core/magics/execution.py\u001b[0m in \u001b[0;36mtime\u001b[0;34m(self, line, cell, local_ns)\u001b[0m\n\u001b[1;32m   1191\u001b[0m         \u001b[0;32melse\u001b[0m\u001b[0;34m:\u001b[0m\u001b[0;34m\u001b[0m\u001b[0;34m\u001b[0m\u001b[0m\n\u001b[1;32m   1192\u001b[0m             \u001b[0mst\u001b[0m \u001b[0;34m=\u001b[0m \u001b[0mclock2\u001b[0m\u001b[0;34m(\u001b[0m\u001b[0;34m)\u001b[0m\u001b[0;34m\u001b[0m\u001b[0;34m\u001b[0m\u001b[0m\n\u001b[0;32m-> 1193\u001b[0;31m             \u001b[0mexec\u001b[0m\u001b[0;34m(\u001b[0m\u001b[0mcode\u001b[0m\u001b[0;34m,\u001b[0m \u001b[0mglob\u001b[0m\u001b[0;34m,\u001b[0m \u001b[0mlocal_ns\u001b[0m\u001b[0;34m)\u001b[0m\u001b[0;34m\u001b[0m\u001b[0;34m\u001b[0m\u001b[0m\n\u001b[0m\u001b[1;32m   1194\u001b[0m             \u001b[0mend\u001b[0m \u001b[0;34m=\u001b[0m \u001b[0mclock2\u001b[0m\u001b[0;34m(\u001b[0m\u001b[0;34m)\u001b[0m\u001b[0;34m\u001b[0m\u001b[0;34m\u001b[0m\u001b[0m\n\u001b[1;32m   1195\u001b[0m             \u001b[0mout\u001b[0m \u001b[0;34m=\u001b[0m \u001b[0;32mNone\u001b[0m\u001b[0;34m\u001b[0m\u001b[0;34m\u001b[0m\u001b[0m\n",
            "\u001b[0;32m<timed exec>\u001b[0m in \u001b[0;36m<module>\u001b[0;34m()\u001b[0m\n",
            "\u001b[0;32m/usr/local/lib/python3.7/dist-packages/matplotlib/__init__.py\u001b[0m in \u001b[0;36minner\u001b[0;34m(ax, data, *args, **kwargs)\u001b[0m\n\u001b[1;32m   1563\u001b[0m     \u001b[0;32mdef\u001b[0m \u001b[0minner\u001b[0m\u001b[0;34m(\u001b[0m\u001b[0max\u001b[0m\u001b[0;34m,\u001b[0m \u001b[0;34m*\u001b[0m\u001b[0margs\u001b[0m\u001b[0;34m,\u001b[0m \u001b[0mdata\u001b[0m\u001b[0;34m=\u001b[0m\u001b[0;32mNone\u001b[0m\u001b[0;34m,\u001b[0m \u001b[0;34m**\u001b[0m\u001b[0mkwargs\u001b[0m\u001b[0;34m)\u001b[0m\u001b[0;34m:\u001b[0m\u001b[0;34m\u001b[0m\u001b[0;34m\u001b[0m\u001b[0m\n\u001b[1;32m   1564\u001b[0m         \u001b[0;32mif\u001b[0m \u001b[0mdata\u001b[0m \u001b[0;32mis\u001b[0m \u001b[0;32mNone\u001b[0m\u001b[0;34m:\u001b[0m\u001b[0;34m\u001b[0m\u001b[0;34m\u001b[0m\u001b[0m\n\u001b[0;32m-> 1565\u001b[0;31m             \u001b[0;32mreturn\u001b[0m \u001b[0mfunc\u001b[0m\u001b[0;34m(\u001b[0m\u001b[0max\u001b[0m\u001b[0;34m,\u001b[0m \u001b[0;34m*\u001b[0m\u001b[0mmap\u001b[0m\u001b[0;34m(\u001b[0m\u001b[0msanitize_sequence\u001b[0m\u001b[0;34m,\u001b[0m \u001b[0margs\u001b[0m\u001b[0;34m)\u001b[0m\u001b[0;34m,\u001b[0m \u001b[0;34m**\u001b[0m\u001b[0mkwargs\u001b[0m\u001b[0;34m)\u001b[0m\u001b[0;34m\u001b[0m\u001b[0;34m\u001b[0m\u001b[0m\n\u001b[0m\u001b[1;32m   1566\u001b[0m \u001b[0;34m\u001b[0m\u001b[0m\n\u001b[1;32m   1567\u001b[0m         \u001b[0mbound\u001b[0m \u001b[0;34m=\u001b[0m \u001b[0mnew_sig\u001b[0m\u001b[0;34m.\u001b[0m\u001b[0mbind\u001b[0m\u001b[0;34m(\u001b[0m\u001b[0max\u001b[0m\u001b[0;34m,\u001b[0m \u001b[0;34m*\u001b[0m\u001b[0margs\u001b[0m\u001b[0;34m,\u001b[0m \u001b[0;34m**\u001b[0m\u001b[0mkwargs\u001b[0m\u001b[0;34m)\u001b[0m\u001b[0;34m\u001b[0m\u001b[0;34m\u001b[0m\u001b[0m\n",
            "\u001b[0;32m/usr/local/lib/python3.7/dist-packages/matplotlib/axes/_axes.py\u001b[0m in \u001b[0;36mspecgram\u001b[0;34m(self, x, NFFT, Fs, Fc, detrend, window, noverlap, cmap, xextent, pad_to, sides, scale_by_freq, mode, scale, vmin, vmax, **kwargs)\u001b[0m\n\u001b[1;32m   7584\u001b[0m                                        \u001b[0msides\u001b[0m\u001b[0;34m=\u001b[0m\u001b[0msides\u001b[0m\u001b[0;34m,\u001b[0m\u001b[0;34m\u001b[0m\u001b[0;34m\u001b[0m\u001b[0m\n\u001b[1;32m   7585\u001b[0m                                        \u001b[0mscale_by_freq\u001b[0m\u001b[0;34m=\u001b[0m\u001b[0mscale_by_freq\u001b[0m\u001b[0;34m,\u001b[0m\u001b[0;34m\u001b[0m\u001b[0;34m\u001b[0m\u001b[0m\n\u001b[0;32m-> 7586\u001b[0;31m                                        mode=mode)\n\u001b[0m\u001b[1;32m   7587\u001b[0m \u001b[0;34m\u001b[0m\u001b[0m\n\u001b[1;32m   7588\u001b[0m         \u001b[0;32mif\u001b[0m \u001b[0mscale\u001b[0m \u001b[0;34m==\u001b[0m \u001b[0;34m'linear'\u001b[0m\u001b[0;34m:\u001b[0m\u001b[0;34m\u001b[0m\u001b[0;34m\u001b[0m\u001b[0m\n",
            "\u001b[0;32m/usr/local/lib/python3.7/dist-packages/matplotlib/mlab.py\u001b[0m in \u001b[0;36mspecgram\u001b[0;34m(x, NFFT, Fs, detrend, window, noverlap, pad_to, sides, scale_by_freq, mode)\u001b[0m\n\u001b[1;32m   1048\u001b[0m                                       \u001b[0msides\u001b[0m\u001b[0;34m=\u001b[0m\u001b[0msides\u001b[0m\u001b[0;34m,\u001b[0m\u001b[0;34m\u001b[0m\u001b[0;34m\u001b[0m\u001b[0m\n\u001b[1;32m   1049\u001b[0m                                       \u001b[0mscale_by_freq\u001b[0m\u001b[0;34m=\u001b[0m\u001b[0mscale_by_freq\u001b[0m\u001b[0;34m,\u001b[0m\u001b[0;34m\u001b[0m\u001b[0;34m\u001b[0m\u001b[0m\n\u001b[0;32m-> 1050\u001b[0;31m                                       mode=mode)\n\u001b[0m\u001b[1;32m   1051\u001b[0m \u001b[0;34m\u001b[0m\u001b[0m\n\u001b[1;32m   1052\u001b[0m     \u001b[0;32mif\u001b[0m \u001b[0mmode\u001b[0m \u001b[0;34m!=\u001b[0m \u001b[0;34m'complex'\u001b[0m\u001b[0;34m:\u001b[0m\u001b[0;34m\u001b[0m\u001b[0;34m\u001b[0m\u001b[0m\n",
            "\u001b[0;32m/usr/local/lib/python3.7/dist-packages/matplotlib/mlab.py\u001b[0m in \u001b[0;36m_spectral_helper\u001b[0;34m(x, y, NFFT, Fs, detrend_func, window, noverlap, pad_to, sides, scale_by_freq, mode)\u001b[0m\n\u001b[1;32m    519\u001b[0m             \"The window length must match the data's first dimension\")\n\u001b[1;32m    520\u001b[0m \u001b[0;34m\u001b[0m\u001b[0m\n\u001b[0;32m--> 521\u001b[0;31m     \u001b[0mresult\u001b[0m \u001b[0;34m=\u001b[0m \u001b[0mstride_windows\u001b[0m\u001b[0;34m(\u001b[0m\u001b[0mx\u001b[0m\u001b[0;34m,\u001b[0m \u001b[0mNFFT\u001b[0m\u001b[0;34m,\u001b[0m \u001b[0mnoverlap\u001b[0m\u001b[0;34m,\u001b[0m \u001b[0maxis\u001b[0m\u001b[0;34m=\u001b[0m\u001b[0;36m0\u001b[0m\u001b[0;34m)\u001b[0m\u001b[0;34m\u001b[0m\u001b[0;34m\u001b[0m\u001b[0m\n\u001b[0m\u001b[1;32m    522\u001b[0m     \u001b[0mresult\u001b[0m \u001b[0;34m=\u001b[0m \u001b[0mdetrend\u001b[0m\u001b[0;34m(\u001b[0m\u001b[0mresult\u001b[0m\u001b[0;34m,\u001b[0m \u001b[0mdetrend_func\u001b[0m\u001b[0;34m,\u001b[0m \u001b[0maxis\u001b[0m\u001b[0;34m=\u001b[0m\u001b[0;36m0\u001b[0m\u001b[0;34m)\u001b[0m\u001b[0;34m\u001b[0m\u001b[0;34m\u001b[0m\u001b[0m\n\u001b[1;32m    523\u001b[0m     \u001b[0mresult\u001b[0m \u001b[0;34m=\u001b[0m \u001b[0mresult\u001b[0m \u001b[0;34m*\u001b[0m \u001b[0mwindow\u001b[0m\u001b[0;34m.\u001b[0m\u001b[0mreshape\u001b[0m\u001b[0;34m(\u001b[0m\u001b[0;34m(\u001b[0m\u001b[0;34m-\u001b[0m\u001b[0;36m1\u001b[0m\u001b[0;34m,\u001b[0m \u001b[0;36m1\u001b[0m\u001b[0;34m)\u001b[0m\u001b[0;34m)\u001b[0m\u001b[0;34m\u001b[0m\u001b[0;34m\u001b[0m\u001b[0m\n",
            "\u001b[0;32m/usr/local/lib/python3.7/dist-packages/matplotlib/mlab.py\u001b[0m in \u001b[0;36mstride_windows\u001b[0;34m(x, n, noverlap, axis)\u001b[0m\n\u001b[1;32m    347\u001b[0m \u001b[0;34m\u001b[0m\u001b[0m\n\u001b[1;32m    348\u001b[0m     \u001b[0;32mif\u001b[0m \u001b[0mx\u001b[0m\u001b[0;34m.\u001b[0m\u001b[0mndim\u001b[0m \u001b[0;34m!=\u001b[0m \u001b[0;36m1\u001b[0m\u001b[0;34m:\u001b[0m\u001b[0;34m\u001b[0m\u001b[0;34m\u001b[0m\u001b[0m\n\u001b[0;32m--> 349\u001b[0;31m         \u001b[0;32mraise\u001b[0m \u001b[0mValueError\u001b[0m\u001b[0;34m(\u001b[0m\u001b[0;34m'only 1-dimensional arrays can be used'\u001b[0m\u001b[0;34m)\u001b[0m\u001b[0;34m\u001b[0m\u001b[0;34m\u001b[0m\u001b[0m\n\u001b[0m\u001b[1;32m    350\u001b[0m     \u001b[0;32mif\u001b[0m \u001b[0mn\u001b[0m \u001b[0;34m==\u001b[0m \u001b[0;36m1\u001b[0m \u001b[0;32mand\u001b[0m \u001b[0mnoverlap\u001b[0m \u001b[0;34m==\u001b[0m \u001b[0;36m0\u001b[0m\u001b[0;34m:\u001b[0m\u001b[0;34m\u001b[0m\u001b[0;34m\u001b[0m\u001b[0m\n\u001b[1;32m    351\u001b[0m         \u001b[0;32mif\u001b[0m \u001b[0maxis\u001b[0m \u001b[0;34m==\u001b[0m \u001b[0;36m0\u001b[0m\u001b[0;34m:\u001b[0m\u001b[0;34m\u001b[0m\u001b[0;34m\u001b[0m\u001b[0m\n",
            "\u001b[0;31mValueError\u001b[0m: only 1-dimensional arrays can be used"
          ]
        }
      ]
    },
    {
      "cell_type": "code",
      "metadata": {
        "id": "_fWjLtNtiYge",
        "outputId": "9f340fb9-c696-4f56-e499-919e06862603",
        "colab": {
          "base_uri": "https://localhost:8080/",
          "height": 35
        }
      },
      "source": [
        "fold"
      ],
      "execution_count": 9,
      "outputs": [
        {
          "output_type": "execute_result",
          "data": {
            "application/vnd.google.colaboratory.intrinsic+json": {
              "type": "string"
            },
            "text/plain": [
              "'Fold 1'"
            ]
          },
          "metadata": {
            "tags": []
          },
          "execution_count": 9
        }
      ]
    },
    {
      "cell_type": "code",
      "metadata": {
        "id": "BlFboiGyfOB0"
      },
      "source": [
        "fig = Figure(figsize=(2.3, 2.3))\n",
        "canvas = FigureCanvas(fig)\n",
        "ax = fig.gca()\n",
        "\n",
        "ax.axis('off')\n",
        "fig.tight_layout(pad=0)\n",
        "ax.margins(0)\n",
        "\n",
        "psd, _, _, spec_img = ax.specgram(\n",
        "                    x               = frame,\n",
        "                    Fs              = 44100,\n",
        "                    window          = np.hamming(400),\n",
        "                    NFFT            = 400,\n",
        "                    cmap            = 'jet',\n",
        "                    noverlap        = 200,\n",
        "                    mode            = 'psd',\n",
        "                    scale           = 'dB',\n",
        "                    detrend         = None,\n",
        "                    scale_by_freq   = True,\n",
        "                    vmin            = -160,\n",
        "                    vmax            = -25,\n",
        "                    interpolation   = 'hamming'      \n",
        "                )\n",
        "ax.set_yscale('symlog')\n",
        "ax.set_ylim(RANGE)\n",
        "\n",
        "fig.canvas.draw()\n",
        "image_from_plot = np.frombuffer(fig.canvas.tostring_rgb(), dtype=np.uint8)\n",
        "image_from_plot = image_from_plot.reshape(fig.canvas.get_width_height()[::-1] + (3,))\n",
        "fig.clear()"
      ],
      "execution_count": null,
      "outputs": []
    },
    {
      "cell_type": "code",
      "metadata": {
        "id": "tvS4sLesfSVi"
      },
      "source": [
        "plt.imshow(image_from_plot)"
      ],
      "execution_count": null,
      "outputs": []
    },
    {
      "cell_type": "code",
      "metadata": {
        "id": "-eL1WlEyT7Bv"
      },
      "source": [
        "plt.pcolormesh(t, np.log10(f + 1), 20 * np.log10(specgram), cmap='jet')"
      ],
      "execution_count": null,
      "outputs": []
    },
    {
      "cell_type": "code",
      "metadata": {
        "id": "TMH2o7ICUBVL"
      },
      "source": [
        "psd, _, _, spec_img = plt.specgram(\n",
        "                    x               = frame,\n",
        "                    Fs              = 44100,\n",
        "                    window          = np.hamming(400),\n",
        "                    NFFT            = 400,\n",
        "                    cmap            = 'jet',\n",
        "                    noverlap        = 200,\n",
        "                    mode            = 'psd',\n",
        "                    scale           = 'dB',\n",
        "                    detrend         = None,\n",
        "                    scale_by_freq   = True,\n",
        "                    vmin            = -160,\n",
        "                    vmax            = -25,\n",
        "                    interpolation   = 'hamming'      \n",
        "                )\n",
        "plt.yscale('symlog')"
      ],
      "execution_count": null,
      "outputs": []
    },
    {
      "cell_type": "code",
      "metadata": {
        "id": "AnxTNuaBXTeX"
      },
      "source": [
        "CONFIG['frame_length']"
      ],
      "execution_count": null,
      "outputs": []
    },
    {
      "cell_type": "code",
      "metadata": {
        "id": "W3Mh2C8wXamm"
      },
      "source": [
        "plt.pcolormesh(t, np.log10(f + 1), 20 * np.log10(psd), cmap='jet')"
      ],
      "execution_count": null,
      "outputs": []
    },
    {
      "cell_type": "code",
      "metadata": {
        "id": "HuIOZUONXdkl"
      },
      "source": [
        "spec_img"
      ],
      "execution_count": null,
      "outputs": []
    },
    {
      "cell_type": "code",
      "metadata": {
        "id": "26-CsA88cJFy"
      },
      "source": [
        ""
      ],
      "execution_count": null,
      "outputs": []
    }
  ]
}