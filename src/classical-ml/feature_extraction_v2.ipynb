{
 "cells": [
  {
   "cell_type": "code",
   "execution_count": 7,
   "id": "insured-strip",
   "metadata": {},
   "outputs": [],
   "source": [
    "import os\n",
    "import shutil\n",
    "import joblib\n",
    "import librosa\n",
    "import numpy as np\n",
    "import pandas as pd\n",
    "\n",
    "from pyAudioAnalysis import audioBasicIO, ShortTermFeatures"
   ]
  },
  {
   "cell_type": "code",
   "execution_count": 2,
   "id": "foreign-training",
   "metadata": {},
   "outputs": [],
   "source": [
    "\n",
    "BASE_DIR            = os.getcwd()\n",
    "\n",
    "FOLDS               = ['Fold 1', 'Fold 2', 'Fold 3', 'Fold 4', 'Fold 5']\n",
    "EMOTIONS            = ['Approval', 'Disapproval', 'Neutral']\n",
    "\n",
    "AUDIO_DIR_AF      = '../../Dataset/Audio-AF/'\n",
    "AUDIO_DIR_VAL     = '../../Dataset/Audio-VAL/'\n",
    "\n",
    "FEATURES_DIR_AF     = '../../Dataset/Features-AF/'\n",
    "FEATURES_DIR_VAL    = '../../Dataset/Features-VAL/'\n"
   ]
  },
  {
   "cell_type": "code",
   "execution_count": 3,
   "id": "directed-retail",
   "metadata": {},
   "outputs": [
    {
     "name": "stdout",
     "output_type": "stream",
     "text": [
      "cleaning already existing files ... √\n",
      "creating windows directory ... √\n",
      "Processing data for Approval ... √\n",
      "Processing data for Disapproval ... √\n",
      "Processing data for Neutral ... √\n"
     ]
    },
    {
     "data": {
      "text/plain": [
       "['/home/andromeda/Python/Crowd-Emotion/src/classical-ml/../../Dataset/Features-AF/Features.joblib']"
      ]
     },
     "execution_count": 3,
     "metadata": {},
     "output_type": "execute_result"
    }
   ],
   "source": [
    "write_dir = os.path.join(BASE_DIR, FEATURES_DIR_AF)\n",
    "\n",
    "print('cleaning already existing files ... ', end='')\n",
    "try:\n",
    "    shutil.rmtree(write_dir)\n",
    "    print('√')\n",
    "except:\n",
    "    print('✕')\n",
    "    \n",
    "print('creating windows directory ... ', end='')\n",
    "os.mkdir(write_dir)\n",
    "print('√')\n",
    "\n",
    "\n",
    "path = os.path.join(BASE_DIR, AUDIO_DIR_AF)\n",
    "\n",
    "X = pd.DataFrame()\n",
    "\n",
    "for emotion in EMOTIONS:\n",
    "    print('Processing data for ' + emotion, end=' ... ')\n",
    "    \n",
    "    for fold in FOLDS:\n",
    "        fold_path = os.path.join(path, emotion, fold)\n",
    "        filenames = os.listdir(fold_path)\n",
    "        \n",
    "        for filename in filenames:\n",
    "            file_path = os.path.join(fold_path, filename)\n",
    "            [Fs, x] = audioBasicIO.read_audio_file(file_path)\n",
    "            F, f_names = ShortTermFeatures.feature_extraction(\n",
    "                x, Fs, 1.0*Fs, 0.50*Fs, deltas=False\n",
    "            )\n",
    "            \n",
    "            clip_features = pd.DataFrame(F.T, columns=f_names)\n",
    "            \n",
    "            e_idx = EMOTIONS.index(emotion)\n",
    "            y = pd.DataFrame(np.ones((clip_features.shape[0], 1)) * e_idx, columns=['label'])\n",
    "            \n",
    "            f_idx = FOLDS.index(fold)\n",
    "            f = pd.DataFrame(np.ones((clip_features.shape[0], 1)) * f_idx, columns=['fold'])\n",
    "            \n",
    "            clip_features = pd.concat([clip_features, y, f], axis=1)\n",
    "            \n",
    "            X = pd.concat([X, clip_features], ignore_index=True)\n",
    "        \n",
    "    print('√')\n",
    "    \n",
    "features_path = os.path.join(write_dir, 'Features.joblib')\n",
    "joblib.dump(X, features_path)"
   ]
  },
  {
   "cell_type": "code",
   "execution_count": 8,
   "id": "alternate-envelope",
   "metadata": {},
   "outputs": [
    {
     "name": "stdout",
     "output_type": "stream",
     "text": [
      "cleaning already existing files ... √\n",
      "creating windows directory ... √\n",
      "Processing data for Approval ... √\n",
      "Processing data for Disapproval ... √\n",
      "Processing data for Neutral ... √\n"
     ]
    },
    {
     "data": {
      "text/plain": [
       "['/home/andromeda/Python/Crowd-Emotion/src/classical-ml/../../Dataset/Features-VAL/Features.joblib']"
      ]
     },
     "execution_count": 8,
     "metadata": {},
     "output_type": "execute_result"
    }
   ],
   "source": [
    "write_dir = os.path.join(BASE_DIR, FEATURES_DIR_VAL)\n",
    "\n",
    "print('cleaning already existing files ... ', end='')\n",
    "try:\n",
    "    shutil.rmtree(write_dir)\n",
    "    print('√')\n",
    "except:\n",
    "    print('✕')\n",
    "    \n",
    "print('creating windows directory ... ', end='')\n",
    "os.mkdir(write_dir)\n",
    "print('√')\n",
    "\n",
    "\n",
    "path = os.path.join(BASE_DIR, AUDIO_DIR_VAL)\n",
    "\n",
    "X = pd.DataFrame()\n",
    "\n",
    "for emotion in EMOTIONS:\n",
    "    print('Processing data for ' + emotion, end=' ... ')\n",
    "    \n",
    "    emotion_path = os.path.join(path, emotion)\n",
    "    filenames = os.listdir(emotion_path)\n",
    "\n",
    "    for filename in filenames:\n",
    "        file_path = os.path.join(emotion_path, filename)\n",
    "        x, Fs = librosa.load(file_path, sr=44100)\n",
    "        F, f_names = ShortTermFeatures.feature_extraction(\n",
    "            x, Fs, 1.0*Fs, 0.50*Fs, deltas=False\n",
    "        )\n",
    "\n",
    "        clip_features = pd.DataFrame(F.T, columns=f_names)\n",
    "\n",
    "        e_idx = EMOTIONS.index(emotion)\n",
    "        y = pd.DataFrame(np.ones((clip_features.shape[0], 1)) * e_idx, columns=['label'])\n",
    "\n",
    "        f_idx = FOLDS.index(fold)\n",
    "        f = pd.DataFrame(np.ones((clip_features.shape[0], 1)) * f_idx, columns=['fold'])\n",
    "\n",
    "        clip_features = pd.concat([clip_features, y, f], axis=1)\n",
    "\n",
    "        X = pd.concat([X, clip_features], ignore_index=True)\n",
    "        \n",
    "    print('√')\n",
    "    \n",
    "features_path = os.path.join(write_dir, 'Features.joblib')\n",
    "joblib.dump(X, features_path)"
   ]
  },
  {
   "cell_type": "code",
   "execution_count": null,
   "id": "worse-charger",
   "metadata": {},
   "outputs": [],
   "source": []
  }
 ],
 "metadata": {
  "kernelspec": {
   "display_name": "Python 3",
   "language": "python",
   "name": "python3"
  },
  "language_info": {
   "codemirror_mode": {
    "name": "ipython",
    "version": 3
   },
   "file_extension": ".py",
   "mimetype": "text/x-python",
   "name": "python",
   "nbconvert_exporter": "python",
   "pygments_lexer": "ipython3",
   "version": "3.8.5"
  }
 },
 "nbformat": 4,
 "nbformat_minor": 5
}
