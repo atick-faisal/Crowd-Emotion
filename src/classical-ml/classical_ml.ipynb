{
 "cells": [
  {
   "cell_type": "code",
   "execution_count": 1,
   "id": "female-creature",
   "metadata": {},
   "outputs": [],
   "source": [
    "import os\n",
    "import time\n",
    "import json\n",
    "import joblib\n",
    "import datetime\n",
    "\n",
    "import numpy as np\n",
    "import seaborn as sns\n",
    "import matplotlib.pyplot as plt\n",
    "\n",
    "from sklearn.svm import SVC\n",
    "from sklearn.utils import shuffle\n",
    "from sklearn.preprocessing import StandardScaler\n",
    "from sklearn.ensemble import RandomForestClassifier\n",
    "from sklearn.metrics import classification_report, confusion_matrix\n",
    "from sklearn.pipeline import Pipeline\n",
    "\n",
    "np.random.seed(42)"
   ]
  },
  {
   "cell_type": "code",
   "execution_count": 2,
   "id": "conventional-preview",
   "metadata": {},
   "outputs": [],
   "source": [
    "CONFIG = {\n",
    "    'timestamp'             : str(datetime.datetime.now()),\n",
    "    'model'                 : 'SVM',\n",
    "    'test_fold'             : 'Fold 4',\n",
    "    'C'                     : 3,\n",
    "#     'criterion'             : 'gini',\n",
    "#     'n_estimators'          : 32,\n",
    "#     'max_depth'             : 16,\n",
    "    'class_weight'          : { 0: 0.71, 1:  2.32, 2: 0.86 },\n",
    "    'training_time'         : 0,\n",
    "    'testing_time'          : 0,\n",
    "    'cm_atick'              : '',\n",
    "    'cr_atick'              : '',\n",
    "    'cm_valentina'          : '',\n",
    "    'cr_valentina'          : ''\n",
    "}"
   ]
  },
  {
   "cell_type": "code",
   "execution_count": 3,
   "id": "swiss-voluntary",
   "metadata": {},
   "outputs": [],
   "source": [
    "BASE_DIR            = os.getcwd()\n",
    "\n",
    "LOG_FILE            = '../logs/classical_ml.txt'\n",
    "EMOTIONS            = ['Approval', 'Disapproval', 'Neutral']\n",
    "FOLDS               = ['Fold 1', 'Fold 2', 'Fold 3', 'Fold 4', 'Fold 5']\n",
    "\n",
    "FEATURES_DIR_AF     = '../../Dataset/Features-AF/'\n",
    "FEATURES_DIR_VAL    = '../../Dataset/Features-VAL/'"
   ]
  },
  {
   "cell_type": "code",
   "execution_count": 4,
   "id": "noble-surprise",
   "metadata": {},
   "outputs": [],
   "source": [
    "features_path_af = os.path.join(BASE_DIR, FEATURES_DIR_AF, 'Features.joblib')\n",
    "features_af = joblib.load(features_path_af)\n",
    "\n",
    "features_path_val = os.path.join(BASE_DIR, FEATURES_DIR_VAL, 'Features.joblib')\n",
    "features_val = joblib.load(features_path_val)"
   ]
  },
  {
   "cell_type": "code",
   "execution_count": 5,
   "id": "vital-english",
   "metadata": {},
   "outputs": [],
   "source": [
    "X_AF  = features_af.drop(['fold', 'label'], axis=1).to_numpy()\n",
    "y_AF  = features_af['label'].to_numpy()\n",
    "f_AF  = features_af['fold'].to_numpy()\n",
    "\n",
    "X_VAL = features_val.drop(['fold', 'label'], axis=1).to_numpy()\n",
    "y_VAL = features_val['label'].to_numpy()"
   ]
  },
  {
   "cell_type": "code",
   "execution_count": 6,
   "id": "daily-satellite",
   "metadata": {},
   "outputs": [],
   "source": [
    "mask       = (f_AF == FOLDS.index(CONFIG['test_fold']))\n",
    "train_X    = X_AF[~mask, :]\n",
    "train_y    = y_AF[~mask]\n",
    "val_X      = X_AF[mask, :]\n",
    "val_y      = y_AF[mask]\n",
    "test_X     = X_VAL\n",
    "test_y     = y_VAL"
   ]
  },
  {
   "cell_type": "code",
   "execution_count": 7,
   "id": "difficult-sydney",
   "metadata": {},
   "outputs": [],
   "source": [
    "# clf = RandomForestClassifier(\n",
    "#     n_estimators          = CONFIG['n_estimators'],\n",
    "#     criterion             = CONFIG['criterion'],\n",
    "#     max_depth             = CONFIG['max_depth'],\n",
    "#     class_weight          = CONFIG['class_weight'],\n",
    "#     verbose               = 1,\n",
    "# )\n",
    "\n",
    "clf = SVC(\n",
    "    C                     = CONFIG['C'],\n",
    "    class_weight          = CONFIG['class_weight'],\n",
    "    verbose               = 1,\n",
    ")"
   ]
  },
  {
   "cell_type": "code",
   "execution_count": 8,
   "id": "ranking-midwest",
   "metadata": {},
   "outputs": [
    {
     "name": "stdout",
     "output_type": "stream",
     "text": [
      "[LibSVM]"
     ]
    }
   ],
   "source": [
    "train_X, train_y = shuffle(train_X, train_y)\n",
    "pipe = Pipeline([('scaler', StandardScaler()), ('svm', clf)])\n",
    "\n",
    "start_time = time.time()\n",
    "pipe.fit(train_X, train_y)\n",
    "training_time = time.time() - start_time"
   ]
  },
  {
   "cell_type": "code",
   "execution_count": 9,
   "id": "responsible-apartment",
   "metadata": {},
   "outputs": [
    {
     "name": "stdout",
     "output_type": "stream",
     "text": [
      "              precision    recall  f1-score   support\n",
      "\n",
      "         0.0       0.31      0.37      0.33       427\n",
      "         1.0       0.54      0.81      0.64       411\n",
      "         2.0       0.80      0.60      0.68      1175\n",
      "\n",
      "    accuracy                           0.59      2013\n",
      "   macro avg       0.55      0.59      0.55      2013\n",
      "weighted avg       0.64      0.59      0.60      2013\n",
      "\n"
     ]
    }
   ],
   "source": [
    "# ------------------ Testing on Aticks's data -----------------\n",
    "\n",
    "y_true = val_y\n",
    "y_pred = pipe.predict(val_X)\n",
    "\n",
    "result_atick = classification_report(y_true, y_pred)\n",
    "print(result_atick)"
   ]
  },
  {
   "cell_type": "code",
   "execution_count": 10,
   "id": "comparable-premiere",
   "metadata": {},
   "outputs": [
    {
     "data": {
      "image/png": "[encoded data removed]",
      "text/plain": [
       "<Figure size 720x576 with 2 Axes>"
      ]
     },
     "metadata": {
      "needs_background": "light"
     },
     "output_type": "display_data"
    }
   ],
   "source": [
    "# confusion_mtx_atick = tf.math.confusion_matrix(y_true, y_pred) \n",
    "confusion_mtx_atick = (confusion_matrix(y_true, y_pred, normalize='true') * 100).astype('int')\n",
    "plt.figure(figsize=(10, 8))\n",
    "sns.heatmap(confusion_mtx_atick, xticklabels=EMOTIONS, yticklabels=EMOTIONS, \n",
    "            annot=True, fmt='g')\n",
    "plt.xlabel('Prediction')\n",
    "plt.ylabel('Label')\n",
    "plt.show()"
   ]
  },
  {
   "cell_type": "code",
   "execution_count": 11,
   "id": "crude-indianapolis",
   "metadata": {},
   "outputs": [
    {
     "name": "stdout",
     "output_type": "stream",
     "text": [
      "              precision    recall  f1-score   support\n",
      "\n",
      "         0.0       0.52      0.21      0.30      1783\n",
      "         1.0       0.03      0.18      0.05       378\n",
      "         2.0       0.86      0.78      0.81      7327\n",
      "\n",
      "    accuracy                           0.65      9488\n",
      "   macro avg       0.47      0.39      0.39      9488\n",
      "weighted avg       0.76      0.65      0.69      9488\n",
      "\n"
     ]
    }
   ],
   "source": [
    "# ------------------ Testing on Valentina's data -----------------\n",
    "\n",
    "y_true = test_y\n",
    "y_pred = pipe.predict(test_X)\n",
    "\n",
    "start_time = time.time()\n",
    "result_valentina = classification_report(y_true, y_pred)\n",
    "testing_time = time.time() - start_time\n",
    "\n",
    "print(result_valentina)"
   ]
  },
  {
   "cell_type": "code",
   "execution_count": 12,
   "id": "graphic-objective",
   "metadata": {},
   "outputs": [
    {
     "data": {
      "image/png": "[encoded data removed]",
      "text/plain": [
       "<Figure size 720x576 with 2 Axes>"
      ]
     },
     "metadata": {
      "needs_background": "light"
     },
     "output_type": "display_data"
    }
   ],
   "source": [
    "# confusion_mtx_valentina = tf.math.confusion_matrix(y_true, y_pred) \n",
    "confusion_mtx_valentina = (confusion_matrix(y_true, y_pred, normalize='true') * 100).astype('int')\n",
    "plt.figure(figsize=(10, 8))\n",
    "sns.heatmap(confusion_mtx_valentina, xticklabels=EMOTIONS, yticklabels=EMOTIONS, \n",
    "            annot=True, fmt='g')\n",
    "plt.xlabel('Prediction')\n",
    "plt.ylabel('Label')\n",
    "plt.show()"
   ]
  },
  {
   "cell_type": "code",
   "execution_count": 13,
   "id": "alert-doctrine",
   "metadata": {},
   "outputs": [],
   "source": [
    "summary = []\n",
    "CONFIG['training_time'] = training_time\n",
    "CONFIG['testing_time'] = testing_time\n",
    "CONFIG['cm_atick'] = np.array2string(confusion_mtx_atick)\n",
    "result_list_atick = result_atick.split('\\n')\n",
    "CONFIG['cr_atick'] = result_list_atick\n",
    "CONFIG['cm_valentina'] = np.array2string(confusion_mtx_valentina)\n",
    "result_list_valentina = result_valentina.split('\\n')\n",
    "CONFIG['cr_valentina'] = result_list_valentina"
   ]
  },
  {
   "cell_type": "code",
   "execution_count": 14,
   "id": "known-minute",
   "metadata": {},
   "outputs": [
    {
     "name": "stdout",
     "output_type": "stream",
     "text": [
      "{\n",
      "    \"timestamp\": \"2021-05-16 15:55:31.293294\",\n",
      "    \"model\": \"SVM\",\n",
      "    \"test_fold\": \"Fold 4\",\n",
      "    \"C\": 3,\n",
      "    \"class_weight\": {\n",
      "        \"0\": 0.71,\n",
      "        \"1\": 2.32,\n",
      "        \"2\": 0.86\n",
      "    },\n",
      "    \"training_time\": 4.625084400177002,\n",
      "    \"testing_time\": 0.016312122344970703,\n",
      "    \"cm_atick\": \"[[36 37 26]\\n [ 2 80 17]\\n [29 10 60]]\",\n",
      "    \"cr_atick\": [\n",
      "        \"              precision    recall  f1-score   support\",\n",
      "        \"\",\n",
      "        \"         0.0       0.31      0.37      0.33       427\",\n",
      "        \"         1.0       0.54      0.81      0.64       411\",\n",
      "        \"         2.0       0.80      0.60      0.68      1175\",\n",
      "        \"\",\n",
      "        \"    accuracy                           0.59      2013\",\n",
      "        \"   macro avg       0.55      0.59      0.55      2013\",\n",
      "        \"weighted avg       0.64      0.59      0.60      2013\",\n",
      "        \"\"\n",
      "    ],\n",
      "    \"cm_valentina\": \"[[21 30 48]\\n [56 17 25]\\n [ 1 20 77]]\",\n",
      "    \"cr_valentina\": [\n",
      "        \"              precision    recall  f1-score   support\",\n",
      "        \"\",\n",
      "        \"         0.0       0.52      0.21      0.30      1783\",\n",
      "        \"         1.0       0.03      0.18      0.05       378\",\n",
      "        \"         2.0       0.86      0.78      0.81      7327\",\n",
      "        \"\",\n",
      "        \"    accuracy                           0.65      9488\",\n",
      "        \"   macro avg       0.47      0.39      0.39      9488\",\n",
      "        \"weighted avg       0.76      0.65      0.69      9488\",\n",
      "        \"\"\n",
      "    ]\n",
      "}\n"
     ]
    }
   ],
   "source": [
    "config = json.dumps(CONFIG, indent=4)\n",
    "print(config)"
   ]
  },
  {
   "cell_type": "code",
   "execution_count": 15,
   "id": "general-bloom",
   "metadata": {},
   "outputs": [],
   "source": [
    "f = open(LOG_FILE, 'a')\n",
    "f.write('\\n')\n",
    "f.write(config)\n",
    "f.write('\\n')\n",
    "f.close()"
   ]
  }
 ],
 "metadata": {
  "kernelspec": {
   "display_name": "Python 3",
   "language": "python",
   "name": "python3"
  },
  "language_info": {
   "codemirror_mode": {
    "name": "ipython",
    "version": 3
   },
   "file_extension": ".py",
   "mimetype": "text/x-python",
   "name": "python",
   "nbconvert_exporter": "python",
   "pygments_lexer": "ipython3",
   "version": "3.8.5"
  }
 },
 "nbformat": 4,
 "nbformat_minor": 5
}
