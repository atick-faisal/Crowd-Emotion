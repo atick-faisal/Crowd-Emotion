{
 "cells": [
  {
   "cell_type": "code",
   "execution_count": 1,
   "id": "numerical-hygiene",
   "metadata": {},
   "outputs": [],
   "source": [
    "import os\n",
    "import shutil\n",
    "import numpy as np\n",
    "from librosa import load\n",
    "from joblib import dump\n",
    "\n",
    "import pyloudnorm as pyln"
   ]
  },
  {
   "cell_type": "code",
   "execution_count": 2,
   "id": "disabled-clarity",
   "metadata": {},
   "outputs": [],
   "source": [
    "BASE_DIR         = os.getcwd()\n",
    "AUDIO_DIR_AF     = '../../Dataset/Audio-AF/'\n",
    "AUDIO_DIR_VAL    = '../../Dataset/Audio-VAL/'\n",
    "WINDOWS_DIR_AF   = '../../Dataset/Windows-AF/'\n",
    "WINDOWS_DIR_VAL  = '../../Dataset/Windows-VAL/'\n",
    "\n",
    "FOLDS            = ['Fold 1', 'Fold 2', 'Fold 3', 'Fold 4', 'Fold 5']\n",
    "EMOTIONS         = ['Approval', 'Disapproval', 'Neutral']\n",
    "\n",
    "Fs               = 44100\n",
    "WIN_LEN          = 44100\n",
    "OVERLAP          = 0.75"
   ]
  },
  {
   "cell_type": "code",
   "execution_count": 3,
   "id": "sticky-radical",
   "metadata": {},
   "outputs": [],
   "source": [
    "def get_windows(signal, length=WIN_LEN, overlap=OVERLAP):\n",
    "    increment = length - round(length * overlap)\n",
    "    num_windows = int((len(signal) - length) / increment) + 1\n",
    "    samples = np.zeros((num_windows, length))\n",
    "    for i in range(num_windows):\n",
    "        temp = i * increment\n",
    "        samples[i] = signal[temp:(temp + length)]\n",
    "    return np.array(samples)"
   ]
  },
  {
   "cell_type": "code",
   "execution_count": 4,
   "id": "muslim-richmond",
   "metadata": {},
   "outputs": [
    {
     "name": "stdout",
     "output_type": "stream",
     "text": [
      "cleaning already existing files ... √\n",
      "creating windows directory ... √\n",
      "processing audio for Approval ... √\n",
      "processing audio for Disapproval ... √\n",
      "processing audio for Neutral ... "
     ]
    },
    {
     "name": "stderr",
     "output_type": "stream",
     "text": [
      "/home/andromeda/Ai/lib/python3.8/site-packages/pyloudnorm/normalize.py:62: UserWarning: Possible clipped samples in output.\n",
      "  warnings.warn(\"Possible clipped samples in output.\")\n",
      "/home/andromeda/Ai/lib/python3.8/site-packages/pyloudnorm/normalize.py:62: UserWarning: Possible clipped samples in output.\n",
      "  warnings.warn(\"Possible clipped samples in output.\")\n",
      "/home/andromeda/Ai/lib/python3.8/site-packages/pyloudnorm/normalize.py:62: UserWarning: Possible clipped samples in output.\n",
      "  warnings.warn(\"Possible clipped samples in output.\")\n",
      "/home/andromeda/Ai/lib/python3.8/site-packages/pyloudnorm/normalize.py:62: UserWarning: Possible clipped samples in output.\n",
      "  warnings.warn(\"Possible clipped samples in output.\")\n",
      "/home/andromeda/Ai/lib/python3.8/site-packages/pyloudnorm/normalize.py:62: UserWarning: Possible clipped samples in output.\n",
      "  warnings.warn(\"Possible clipped samples in output.\")\n",
      "/home/andromeda/Ai/lib/python3.8/site-packages/pyloudnorm/normalize.py:62: UserWarning: Possible clipped samples in output.\n",
      "  warnings.warn(\"Possible clipped samples in output.\")\n",
      "/home/andromeda/Ai/lib/python3.8/site-packages/pyloudnorm/normalize.py:62: UserWarning: Possible clipped samples in output.\n",
      "  warnings.warn(\"Possible clipped samples in output.\")\n",
      "/home/andromeda/Ai/lib/python3.8/site-packages/pyloudnorm/normalize.py:62: UserWarning: Possible clipped samples in output.\n",
      "  warnings.warn(\"Possible clipped samples in output.\")\n",
      "/home/andromeda/Ai/lib/python3.8/site-packages/pyloudnorm/normalize.py:62: UserWarning: Possible clipped samples in output.\n",
      "  warnings.warn(\"Possible clipped samples in output.\")\n"
     ]
    },
    {
     "name": "stdout",
     "output_type": "stream",
     "text": [
      "√\n"
     ]
    }
   ],
   "source": [
    "write_dir = os.path.join(BASE_DIR, WINDOWS_DIR_AF)\n",
    "\n",
    "print('cleaning already existing files ... ', end='')\n",
    "try:\n",
    "    shutil.rmtree(write_dir)\n",
    "    print('√')\n",
    "except:\n",
    "    print('✕')\n",
    "    \n",
    "print('creating windows directory ... ', end='')\n",
    "os.mkdir(write_dir)\n",
    "print('√')\n",
    "\n",
    "for emotion in EMOTIONS:\n",
    "    print('processing audio for ' + emotion, end=' ... ')\n",
    "    os.mkdir(os.path.join(write_dir, emotion))\n",
    "    for fold in FOLDS:\n",
    "        os.mkdir(os.path.join(write_dir, emotion, fold))\n",
    "        fold_path = os.path.join(BASE_DIR, AUDIO_DIR_AF, emotion, fold)\n",
    "        filenames = os.listdir(fold_path)\n",
    "        for filename in filenames:\n",
    "            file_path = os.path.join(fold_path, filename)\n",
    "            audio, _ = load(\n",
    "                path      = file_path,\n",
    "                sr        = Fs,\n",
    "                mono      = True\n",
    "            )\n",
    "            meter = pyln.Meter(Fs)\n",
    "            loudness = meter.integrated_loudness(audio)\n",
    "            x = pyln.normalize.loudness(audio, loudness, -23.0)\n",
    "            extension = x.shape[0] % Fs\n",
    "            windows = get_windows(x, length=Fs)\n",
    "            windows_name = os.path.join(\n",
    "                write_dir, emotion, fold, filename + '.joblib'\n",
    "            )\n",
    "            dump(windows, windows_name)\n",
    "\n",
    "    print('√')"
   ]
  },
  {
   "cell_type": "code",
   "execution_count": 5,
   "id": "insured-chest",
   "metadata": {},
   "outputs": [
    {
     "name": "stdout",
     "output_type": "stream",
     "text": [
      "cleaning already existing files ... √\n",
      "creating windows directory ... √\n",
      "processing audio for Approval ... √\n",
      "processing audio for Disapproval ... √\n",
      "processing audio for Neutral ... √\n"
     ]
    }
   ],
   "source": [
    "write_dir = os.path.join(BASE_DIR, WINDOWS_DIR_VAL)\n",
    "\n",
    "print('cleaning already existing files ... ', end='')\n",
    "try:\n",
    "    shutil.rmtree(write_dir)\n",
    "    print('√')\n",
    "except:\n",
    "    print('✕')\n",
    "    \n",
    "print('creating windows directory ... ', end='')\n",
    "os.mkdir(write_dir)\n",
    "print('√')\n",
    "\n",
    "for emotion in EMOTIONS:\n",
    "    print('processing audio for ' + emotion, end=' ... ')\n",
    "    os.mkdir(os.path.join(write_dir, emotion))\n",
    "    emotion_path = os.path.join(BASE_DIR, AUDIO_DIR_VAL, emotion)\n",
    "    filenames = os.listdir(emotion_path)\n",
    "    for filename in filenames:\n",
    "        file_path = os.path.join(emotion_path, filename)\n",
    "        audio, _ = load(\n",
    "            path      = file_path,\n",
    "            sr        = Fs,\n",
    "            mono      = True\n",
    "        )\n",
    "        meter = pyln.Meter(Fs)\n",
    "        loudness = meter.integrated_loudness(audio)\n",
    "        x = pyln.normalize.loudness(audio, loudness, -23.0)\n",
    "        extension = x.shape[0] % Fs\n",
    "        windows = get_windows(x, length=Fs)\n",
    "        windows_name = os.path.join(\n",
    "            write_dir, emotion, filename + '.joblib'\n",
    "        )\n",
    "        dump(windows, windows_name)\n",
    "\n",
    "    print('√')"
   ]
  },
  {
   "cell_type": "code",
   "execution_count": null,
   "id": "subtle-hamburg",
   "metadata": {},
   "outputs": [],
   "source": []
  }
 ],
 "metadata": {
  "kernelspec": {
   "display_name": "Python 3",
   "language": "python",
   "name": "python3"
  },
  "language_info": {
   "codemirror_mode": {
    "name": "ipython",
    "version": 3
   },
   "file_extension": ".py",
   "mimetype": "text/x-python",
   "name": "python",
   "nbconvert_exporter": "python",
   "pygments_lexer": "ipython3",
   "version": "3.8.5"
  }
 },
 "nbformat": 4,
 "nbformat_minor": 5
}
