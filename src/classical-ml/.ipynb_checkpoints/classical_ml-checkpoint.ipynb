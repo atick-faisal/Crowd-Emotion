{
 "cells": [
  {
   "cell_type": "code",
   "execution_count": 1,
   "id": "female-creature",
   "metadata": {},
   "outputs": [],
   "source": [
    "import os\n",
    "import time\n",
    "import json\n",
    "import joblib\n",
    "import datetime\n",
    "\n",
    "import numpy as np\n",
    "import seaborn as sns\n",
    "import matplotlib.pyplot as plt\n",
    "\n",
    "from sklearn.svm import SVC\n",
    "from sklearn.utils import shuffle\n",
    "from sklearn.preprocessing import StandardScaler\n",
    "from sklearn.ensemble import RandomForestClassifier\n",
    "from sklearn.metrics import classification_report, confusion_matrix\n",
    "from sklearn.pipeline import Pipeline\n",
    "\n",
    "np.random.seed(42)"
   ]
  },
  {
   "cell_type": "code",
   "execution_count": 2,
   "id": "conventional-preview",
   "metadata": {},
   "outputs": [],
   "source": [
    "CONFIG = {\n",
    "    'timestamp'             : str(datetime.datetime.now()),\n",
    "    'model'                 : 'Support Vector Machine',\n",
    "    'test_fold'             : 'Fold 1',\n",
    "#     'C'                     : 3,\n",
    "    'criterion'             : 'gini',\n",
    "    'n_estimators'          : 32,\n",
    "    'max_depth'             : 16,\n",
    "#     'class_weight'          : { 0: 0.71, 1:  2.32, 2: 0.86 },\n",
    "    'training_time'         : 0,\n",
    "    'testing_time'          : 0,\n",
    "    'cm_atick'              : '',\n",
    "    'cr_atick'              : '',\n",
    "    'cm_valentina'          : '',\n",
    "    'cr_valentina'          : ''\n",
    "}"
   ]
  },
  {
   "cell_type": "code",
   "execution_count": 3,
   "id": "swiss-voluntary",
   "metadata": {},
   "outputs": [],
   "source": [
    "BASE_DIR            = os.getcwd()\n",
    "\n",
    "LOG_FILE            = '../logs/classical_ml.txt'\n",
    "EMOTIONS            = ['Approval', 'Disapproval', 'Neutral']\n",
    "FOLDS               = ['Fold 1', 'Fold 2', 'Fold 3', 'Fold 4', 'Fold 5']\n",
    "\n",
    "FEATURES_DIR_AF     = '../../Dataset/Features-AF/'\n",
    "FEATURES_DIR_VAL    = '../../Dataset/Features-VAL/'"
   ]
  },
  {
   "cell_type": "code",
   "execution_count": 4,
   "id": "noble-surprise",
   "metadata": {},
   "outputs": [],
   "source": [
    "features_path_af = os.path.join(BASE_DIR, FEATURES_DIR_AF, 'Features.joblib')\n",
    "features_af = joblib.load(features_path_af)\n",
    "\n",
    "features_path_val = os.path.join(BASE_DIR, FEATURES_DIR_VAL, 'Features.joblib')\n",
    "features_val = joblib.load(features_path_val)"
   ]
  },
  {
   "cell_type": "code",
   "execution_count": 5,
   "id": "vital-english",
   "metadata": {},
   "outputs": [],
   "source": [
    "X_AF  = features_af.drop(['fold', 'label'], axis=1).to_numpy()\n",
    "y_AF  = features_af['label'].to_numpy()\n",
    "f_AF  = features_af['fold'].to_numpy()\n",
    "\n",
    "X_VAL = features_val.drop(['fold', 'label'], axis=1).to_numpy()\n",
    "y_VAL = features_val['label'].to_numpy()"
   ]
  },
  {
   "cell_type": "code",
   "execution_count": 6,
   "id": "daily-satellite",
   "metadata": {},
   "outputs": [],
   "source": [
    "mask       = (f_AF == FOLDS.index(CONFIG['test_fold']))\n",
    "train_X    = X_AF[~mask, :]\n",
    "train_y    = y_AF[~mask]\n",
    "val_X      = X_AF[mask, :]\n",
    "val_y      = y_AF[mask]\n",
    "test_X     = X_VAL\n",
    "test_y     = y_VAL"
   ]
  },
  {
   "cell_type": "code",
   "execution_count": 7,
   "id": "difficult-sydney",
   "metadata": {},
   "outputs": [],
   "source": [
    "clf = RandomForestClassifier(\n",
    "    n_estimators          = CONFIG['n_estimators'],\n",
    "    criterion             = CONFIG['criterion'],\n",
    "    max_depth             = CONFIG['max_depth'],\n",
    "#     class_weight          = CONFIG['class_weight'],\n",
    "    verbose               = 1,\n",
    ")\n",
    "\n",
    "# clf = SVC(\n",
    "#     C                     = CONFIG['C'],\n",
    "#     class_weight          = CONFIG['class_weight'],\n",
    "#     verbose               = 1,\n",
    "# )"
   ]
  },
  {
   "cell_type": "code",
   "execution_count": 8,
   "id": "ranking-midwest",
   "metadata": {},
   "outputs": [
    {
     "name": "stderr",
     "output_type": "stream",
     "text": [
      "[Parallel(n_jobs=1)]: Using backend SequentialBackend with 1 concurrent workers.\n",
      "[Parallel(n_jobs=1)]: Done  32 out of  32 | elapsed:    0.7s finished\n"
     ]
    },
    {
     "data": {
      "text/plain": [
       "Pipeline(steps=[('scaler', StandardScaler()),\n",
       "                ('svm',\n",
       "                 RandomForestClassifier(max_depth=16, n_estimators=32,\n",
       "                                        verbose=1))])"
      ]
     },
     "execution_count": 8,
     "metadata": {},
     "output_type": "execute_result"
    }
   ],
   "source": [
    "train_X, train_y = shuffle(train_X, train_y)\n",
    "pipe = Pipeline([('scaler', StandardScaler()), ('svm', clf)])\n",
    "pipe.fit(train_X, train_y)"
   ]
  },
  {
   "cell_type": "code",
   "execution_count": 9,
   "id": "responsible-apartment",
   "metadata": {},
   "outputs": [
    {
     "name": "stdout",
     "output_type": "stream",
     "text": [
      "              precision    recall  f1-score   support\n",
      "\n",
      "         0.0       0.69      0.65      0.67      1335\n",
      "         1.0       0.23      0.22      0.22       390\n",
      "         2.0       0.64      0.70      0.66      1158\n",
      "\n",
      "    accuracy                           0.61      2883\n",
      "   macro avg       0.52      0.52      0.52      2883\n",
      "weighted avg       0.61      0.61      0.61      2883\n",
      "\n"
     ]
    },
    {
     "name": "stderr",
     "output_type": "stream",
     "text": [
      "[Parallel(n_jobs=1)]: Using backend SequentialBackend with 1 concurrent workers.\n",
      "[Parallel(n_jobs=1)]: Done  32 out of  32 | elapsed:    0.0s finished\n"
     ]
    }
   ],
   "source": [
    "y_pred = pipe.predict(val_X)\n",
    "cr = classification_report(val_y, y_pred)\n",
    "print(cr)"
   ]
  },
  {
   "cell_type": "code",
   "execution_count": 10,
   "id": "crude-indianapolis",
   "metadata": {},
   "outputs": [
    {
     "name": "stdout",
     "output_type": "stream",
     "text": [
      "              precision    recall  f1-score   support\n",
      "\n",
      "         0.0       0.57      0.89      0.70      1783\n",
      "         1.0       0.01      0.04      0.02       378\n",
      "         2.0       0.93      0.68      0.79      7327\n",
      "\n",
      "    accuracy                           0.69      9488\n",
      "   macro avg       0.51      0.54      0.50      9488\n",
      "weighted avg       0.83      0.69      0.74      9488\n",
      "\n"
     ]
    },
    {
     "name": "stderr",
     "output_type": "stream",
     "text": [
      "[Parallel(n_jobs=1)]: Using backend SequentialBackend with 1 concurrent workers.\n",
      "[Parallel(n_jobs=1)]: Done  32 out of  32 | elapsed:    0.0s finished\n"
     ]
    }
   ],
   "source": [
    "y_pred = pipe.predict(test_X)\n",
    "cr = classification_report(test_y, y_pred)\n",
    "print(cr)"
   ]
  },
  {
   "cell_type": "code",
   "execution_count": null,
   "id": "alert-doctrine",
   "metadata": {},
   "outputs": [],
   "source": []
  }
 ],
 "metadata": {
  "kernelspec": {
   "display_name": "Python 3",
   "language": "python",
   "name": "python3"
  },
  "language_info": {
   "codemirror_mode": {
    "name": "ipython",
    "version": 3
   },
   "file_extension": ".py",
   "mimetype": "text/x-python",
   "name": "python",
   "nbconvert_exporter": "python",
   "pygments_lexer": "ipython3",
   "version": "3.8.5"
  }
 },
 "nbformat": 4,
 "nbformat_minor": 5
}
