{
  "nbformat": 4,
  "nbformat_minor": 0,
  "metadata": {
    "colab": {
      "name": "CE_Transfer_Learning_AlexNet.ipynb",
      "provenance": [],
      "mount_file_id": "https://github.com/atick-faisal/Crowd-Emotion/blob/main/src/CE_Transfer_Learning_AlexNet.ipynb",
      "authorship_tag": "ABX9TyMETzCEJITc9m646K/DlKib",
      "include_colab_link": true
    },
    "kernelspec": {
      "name": "python3",
      "display_name": "Python 3"
    },
    "accelerator": "GPU"
  },
  "cells": [
    {
      "cell_type": "markdown",
      "metadata": {
        "id": "view-in-github",
        "colab_type": "text"
      },
      "source": [
        "<a href=\"https://colab.research.google.com/github/atick-faisal/Crowd-Emotion/blob/main/src/CE_Transfer_Learning_AlexNet.ipynb\" target=\"_parent\"><img src=\"https://colab.research.google.com/assets/colab-badge.svg\" alt=\"Open In Colab\"/></a>"
      ]
    },
    {
      "cell_type": "code",
      "metadata": {
        "id": "2l05CGpF2oED"
      },
      "source": [
        "import torch\n",
        "import torch.optim as optim\n",
        "import torch.nn.functional as F\n",
        "import torch.nn as nn\n",
        "import torchvision\n",
        "import torchvision.datasets as datasets\n",
        "import torchvision.models as models\n",
        "import torchvision.transforms as transforms"
      ],
      "execution_count": 1,
      "outputs": []
    },
    {
      "cell_type": "code",
      "metadata": {
        "id": "xYo5i5FeAOwR"
      },
      "source": [
        "# dataset_root = '/content/drive/MyDrive/Research/Crowd Emotion/Spectrograms/Log/'"
      ],
      "execution_count": 2,
      "outputs": []
    },
    {
      "cell_type": "code",
      "metadata": {
        "id": "zv05sJvt5hVh"
      },
      "source": [
        "train_dir = '/content/drive/MyDrive/Research/Crowd Emotion v2/Spectrograms/Erb/Train/'\n",
        "test_dir = '/content/drive/MyDrive/Research/Crowd Emotion v2/Spectrograms/Erb/Test/'"
      ],
      "execution_count": 3,
      "outputs": []
    },
    {
      "cell_type": "code",
      "metadata": {
        "id": "D274UfO7AcKQ"
      },
      "source": [
        "# dataset v1\n",
        "# dataset = datasets.ImageFolder(\n",
        "#     dataset_root,\n",
        "#     transforms.Compose([\n",
        "#         transforms.Resize((224, 224)),\n",
        "#         transforms.ToTensor(),\n",
        "#         # transforms.Normalize([0, 0, 0], [255, 255, 255])\n",
        "#         transforms.Normalize([0.485, 0.456, 0.406], [0.229, 0.224, 0.225])\n",
        "#     ])\n",
        "# )\n",
        "\n",
        "# dataset v1\n",
        "# dataset_size = len(dataset)\n",
        "# test_size = int(0.2 * dataset_size)\n",
        "# train_size = dataset_size - test_size\n",
        "\n",
        "# train_dataset, test_dataset = torch.utils.data.random_split(\n",
        "#         dataset, [train_size, test_size]\n",
        "# )\n",
        "\n"
      ],
      "execution_count": 4,
      "outputs": []
    },
    {
      "cell_type": "code",
      "metadata": {
        "id": "Dp7hxu5U5wtn"
      },
      "source": [
        "train_dataset = datasets.ImageFolder(\n",
        "    train_dir,\n",
        "    transforms.Compose([\n",
        "        transforms.Resize((224, 224)),\n",
        "        transforms.ToTensor(),\n",
        "        # transforms.Normalize([0, 0, 0], [255, 255, 255])\n",
        "        transforms.Normalize([0.485, 0.456, 0.406], [0.229, 0.224, 0.225])\n",
        "    ])\n",
        ")\n",
        "\n",
        "test_dataset = datasets.ImageFolder(\n",
        "    test_dir,\n",
        "    transforms.Compose([\n",
        "        transforms.Resize((224, 224)),\n",
        "        transforms.ToTensor(),\n",
        "        # transforms.Normalize([0, 0, 0], [255, 255, 255])\n",
        "        transforms.Normalize([0.485, 0.456, 0.406], [0.229, 0.224, 0.225])\n",
        "    ])\n",
        ")"
      ],
      "execution_count": 5,
      "outputs": []
    },
    {
      "cell_type": "code",
      "metadata": {
        "id": "KwemNKIVENYG"
      },
      "source": [
        "train_loader = torch.utils.data.DataLoader(\n",
        "    train_dataset,\n",
        "    batch_size=16,\n",
        "    shuffle=True,\n",
        "    num_workers=4\n",
        ")\n",
        "\n",
        "test_loader = torch.utils.data.DataLoader(\n",
        "    test_dataset,\n",
        "    batch_size=16,\n",
        "    shuffle=True,\n",
        "    num_workers=4\n",
        ")"
      ],
      "execution_count": 6,
      "outputs": []
    },
    {
      "cell_type": "code",
      "metadata": {
        "id": "kJNJr-xbEREQ",
        "colab": {
          "base_uri": "https://localhost:8080/"
        },
        "outputId": "6d4bba66-7daa-4489-8008-ff44ff50e7c8"
      },
      "source": [
        "model = models.alexnet(pretrained=True)\n",
        "model.classifier[6] = torch.nn.Linear(model.classifier[6].in_features, 3)\n",
        "model.cuda()"
      ],
      "execution_count": 7,
      "outputs": [
        {
          "output_type": "execute_result",
          "data": {
            "text/plain": [
              "AlexNet(\n",
              "  (features): Sequential(\n",
              "    (0): Conv2d(3, 64, kernel_size=(11, 11), stride=(4, 4), padding=(2, 2))\n",
              "    (1): ReLU(inplace=True)\n",
              "    (2): MaxPool2d(kernel_size=3, stride=2, padding=0, dilation=1, ceil_mode=False)\n",
              "    (3): Conv2d(64, 192, kernel_size=(5, 5), stride=(1, 1), padding=(2, 2))\n",
              "    (4): ReLU(inplace=True)\n",
              "    (5): MaxPool2d(kernel_size=3, stride=2, padding=0, dilation=1, ceil_mode=False)\n",
              "    (6): Conv2d(192, 384, kernel_size=(3, 3), stride=(1, 1), padding=(1, 1))\n",
              "    (7): ReLU(inplace=True)\n",
              "    (8): Conv2d(384, 256, kernel_size=(3, 3), stride=(1, 1), padding=(1, 1))\n",
              "    (9): ReLU(inplace=True)\n",
              "    (10): Conv2d(256, 256, kernel_size=(3, 3), stride=(1, 1), padding=(1, 1))\n",
              "    (11): ReLU(inplace=True)\n",
              "    (12): MaxPool2d(kernel_size=3, stride=2, padding=0, dilation=1, ceil_mode=False)\n",
              "  )\n",
              "  (avgpool): AdaptiveAvgPool2d(output_size=(6, 6))\n",
              "  (classifier): Sequential(\n",
              "    (0): Dropout(p=0.5, inplace=False)\n",
              "    (1): Linear(in_features=9216, out_features=4096, bias=True)\n",
              "    (2): ReLU(inplace=True)\n",
              "    (3): Dropout(p=0.5, inplace=False)\n",
              "    (4): Linear(in_features=4096, out_features=4096, bias=True)\n",
              "    (5): ReLU(inplace=True)\n",
              "    (6): Linear(in_features=4096, out_features=3, bias=True)\n",
              "  )\n",
              ")"
            ]
          },
          "metadata": {
            "tags": []
          },
          "execution_count": 7
        }
      ]
    },
    {
      "cell_type": "code",
      "metadata": {
        "id": "gb_0cpVBG2fV"
      },
      "source": [
        "device = torch.device(\"cuda:0\" if torch.cuda.is_available() else \"cpu\")"
      ],
      "execution_count": 8,
      "outputs": []
    },
    {
      "cell_type": "code",
      "metadata": {
        "id": "sRFdSW1-EaPU",
        "colab": {
          "base_uri": "https://localhost:8080/"
        },
        "outputId": "9c5aa32a-fc7d-4c92-9224-358bbbd0ee78"
      },
      "source": [
        "NUM_EPOCHS = 20\n",
        "BEST_MODEL_PATH = 'best_model.pth'\n",
        "best_accuracy = 0.0\n",
        "\n",
        "optimizer = optim.SGD(model.parameters(), lr=0.0005, momentum=0.9)\n",
        "\n",
        "for epoch in range(NUM_EPOCHS):\n",
        "    \n",
        "    for images, labels in iter(train_loader):\n",
        "        images = images.to(device)\n",
        "        labels = labels.to(device)\n",
        "        optimizer.zero_grad()\n",
        "        outputs = model(images)\n",
        "        loss = F.cross_entropy(outputs, labels)\n",
        "        loss.backward()\n",
        "        optimizer.step()\n",
        "    \n",
        "    test_error_count = 0.0\n",
        "    for images, labels in iter(test_loader):\n",
        "        images = images.to(device)\n",
        "        labels = labels.to(device)\n",
        "        outputs = model(images)\n",
        "        test_error_count += float(torch.sum(torch.abs(labels - outputs.argmax(1))))\n",
        "    \n",
        "    test_accuracy = 1.0 - float(test_error_count) / float(len(test_dataset))\n",
        "    print('[ %02d ]: Accuracy: %f' % (epoch, test_accuracy))\n",
        "    if test_accuracy > best_accuracy:\n",
        "        torch.save(model.state_dict(), BEST_MODEL_PATH)\n",
        "        best_accuracy = test_accuracy"
      ],
      "execution_count": 9,
      "outputs": [
        {
          "output_type": "stream",
          "text": [
            "[ 00 ]: Accuracy: 0.634500\n",
            "[ 01 ]: Accuracy: 0.596072\n",
            "[ 02 ]: Accuracy: 0.617421\n",
            "[ 03 ]: Accuracy: 0.597780\n",
            "[ 04 ]: Accuracy: 0.598634\n",
            "[ 05 ]: Accuracy: 0.596072\n",
            "[ 06 ]: Accuracy: 0.652434\n",
            "[ 07 ]: Accuracy: 0.700256\n",
            "[ 08 ]: Accuracy: 0.627669\n",
            "[ 09 ]: Accuracy: 0.672929\n",
            "[ 10 ]: Accuracy: 0.678907\n",
            "[ 11 ]: Accuracy: 0.677199\n",
            "[ 12 ]: Accuracy: 0.678907\n",
            "[ 13 ]: Accuracy: 0.690863\n",
            "[ 14 ]: Accuracy: 0.710504\n",
            "[ 15 ]: Accuracy: 0.675491\n",
            "[ 16 ]: Accuracy: 0.710504\n",
            "[ 17 ]: Accuracy: 0.660120\n",
            "[ 18 ]: Accuracy: 0.682323\n",
            "[ 19 ]: Accuracy: 0.731853\n"
          ],
          "name": "stdout"
        }
      ]
    },
    {
      "cell_type": "code",
      "metadata": {
        "id": "v72jlOPFG64a",
        "outputId": "b0808d80-278c-410c-c61c-d3b0efe9d560",
        "colab": {
          "base_uri": "https://localhost:8080/",
          "height": 52
        }
      },
      "source": [
        "\"\"\"\n",
        "                Train           Test\n",
        "        Mel      --             0.697\n",
        "        Bark     --             0.948\n",
        "        Log      --             0.912\n",
        "        Erb      --             0.731\n",
        "\n",
        "\"\"\""
      ],
      "execution_count": 10,
      "outputs": [
        {
          "output_type": "execute_result",
          "data": {
            "application/vnd.google.colaboratory.intrinsic+json": {
              "type": "string"
            },
            "text/plain": [
              "'\\n                Train           Test\\n        Mel      --             0.697\\n        Bark     --             0.948\\n        Log      --             0.912\\n        Erb      --             \\n\\n'"
            ]
          },
          "metadata": {
            "tags": []
          },
          "execution_count": 10
        }
      ]
    }
  ]
}