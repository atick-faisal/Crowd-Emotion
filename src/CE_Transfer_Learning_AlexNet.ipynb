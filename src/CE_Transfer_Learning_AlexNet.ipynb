{
  "nbformat": 4,
  "nbformat_minor": 0,
  "metadata": {
    "colab": {
      "name": "CE_Transfer_Learning_AlexNet.ipynb",
      "provenance": [],
      "mount_file_id": "https://github.com/atick-faisal/Crowd-Emotion/blob/main/src/CE_Transfer_Learning_AlexNet.ipynb",
      "authorship_tag": "ABX9TyMy9+LHnr5o5Y4ti0zQkIg9",
      "include_colab_link": true
    },
    "kernelspec": {
      "name": "python3",
      "display_name": "Python 3"
    },
    "accelerator": "GPU"
  },
  "cells": [
    {
      "cell_type": "markdown",
      "metadata": {
        "id": "view-in-github",
        "colab_type": "text"
      },
      "source": [
        "<a href=\"https://colab.research.google.com/github/atick-faisal/Crowd-Emotion/blob/main/src/CE_Transfer_Learning_AlexNet.ipynb\" target=\"_parent\"><img src=\"https://colab.research.google.com/assets/colab-badge.svg\" alt=\"Open In Colab\"/></a>"
      ]
    },
    {
      "cell_type": "code",
      "metadata": {
        "id": "2l05CGpF2oED"
      },
      "source": [
        "import torch\n",
        "import torch.optim as optim\n",
        "import torch.nn.functional as F\n",
        "import torch.nn as nn\n",
        "import torchvision\n",
        "import torchvision.datasets as datasets\n",
        "import torchvision.models as models\n",
        "import torchvision.transforms as transforms"
      ],
      "execution_count": 1,
      "outputs": []
    },
    {
      "cell_type": "code",
      "metadata": {
        "id": "xYo5i5FeAOwR"
      },
      "source": [
        "dataset_root = '/content/drive/MyDrive/Research/Crowd Emotion/Spectrograms/Log/'"
      ],
      "execution_count": 2,
      "outputs": []
    },
    {
      "cell_type": "code",
      "metadata": {
        "id": "D274UfO7AcKQ"
      },
      "source": [
        "dataset = datasets.ImageFolder(\n",
        "    dataset_root,\n",
        "    transforms.Compose([\n",
        "        transforms.Resize((224, 224)),\n",
        "        transforms.ToTensor(),\n",
        "        transforms.Normalize([0, 0, 0], [255, 255, 255])\n",
        "    ])\n",
        ")\n",
        "\n",
        "dataset_size = len(dataset)\n",
        "test_size = int(0.2 * dataset_size)\n",
        "train_size = dataset_size - test_size\n",
        "\n",
        "train_dataset, test_dataset = torch.utils.data.random_split(\n",
        "        dataset, [train_size, test_size]\n",
        ")"
      ],
      "execution_count": 3,
      "outputs": []
    },
    {
      "cell_type": "code",
      "metadata": {
        "id": "KwemNKIVENYG"
      },
      "source": [
        "train_loader = torch.utils.data.DataLoader(\n",
        "    train_dataset,\n",
        "    batch_size=16,\n",
        "    shuffle=True,\n",
        "    num_workers=4\n",
        ")\n",
        "\n",
        "test_loader = torch.utils.data.DataLoader(\n",
        "    test_dataset,\n",
        "    batch_size=16,\n",
        "    shuffle=True,\n",
        "    num_workers=4\n",
        ")"
      ],
      "execution_count": 4,
      "outputs": []
    },
    {
      "cell_type": "code",
      "metadata": {
        "id": "kJNJr-xbEREQ"
      },
      "source": [
        "model = models.alexnet(pretrained=True)\n",
        "model.classifier[6] = torch.nn.Linear(model.classifier[6].in_features, 3)\n",
        "model.cuda()"
      ],
      "execution_count": 5,
      "outputs": []
    },
    {
      "cell_type": "code",
      "metadata": {
        "id": "gb_0cpVBG2fV"
      },
      "source": [
        "device = torch.device(\"cuda:0\" if torch.cuda.is_available() else \"cpu\")"
      ],
      "execution_count": 6,
      "outputs": []
    },
    {
      "cell_type": "code",
      "metadata": {
        "id": "sRFdSW1-EaPU",
        "outputId": "1836470e-9c62-4853-ba35-f1938b5db30a",
        "colab": {
          "base_uri": "https://localhost:8080/"
        }
      },
      "source": [
        "NUM_EPOCHS = 3\n",
        "BEST_MODEL_PATH = 'best_model.pth'\n",
        "best_accuracy = 0.0\n",
        "\n",
        "optimizer = optim.SGD(model.parameters(), lr=0.001, momentum=0.9)\n",
        "\n",
        "for epoch in range(NUM_EPOCHS):\n",
        "    \n",
        "    for images, labels in iter(train_loader):\n",
        "        images = images.to(device)\n",
        "        labels = labels.to(device)\n",
        "        optimizer.zero_grad()\n",
        "        outputs = model(images)\n",
        "        loss = F.cross_entropy(outputs, labels)\n",
        "        loss.backward()\n",
        "        optimizer.step()\n",
        "    \n",
        "    test_error_count = 0.0\n",
        "    for images, labels in iter(test_loader):\n",
        "        images = images.to(device)\n",
        "        labels = labels.to(device)\n",
        "        outputs = model(images)\n",
        "        test_error_count += float(torch.sum(torch.abs(labels - outputs.argmax(1))))\n",
        "    \n",
        "    test_accuracy = 1.0 - float(test_error_count) / float(len(test_dataset))\n",
        "    print('%d: %f' % (epoch, test_accuracy))\n",
        "    if test_accuracy > best_accuracy:\n",
        "        torch.save(model.state_dict(), BEST_MODEL_PATH)\n",
        "        best_accuracy = test_accuracy"
      ],
      "execution_count": null,
      "outputs": [
        {
          "output_type": "stream",
          "text": [
            "0: 0.435798\n",
            "1: 0.435798\n",
            "2: 0.435798\n"
          ],
          "name": "stdout"
        }
      ]
    },
    {
      "cell_type": "code",
      "metadata": {
        "id": "v72jlOPFG64a"
      },
      "source": [
        ""
      ],
      "execution_count": null,
      "outputs": []
    }
  ]
}