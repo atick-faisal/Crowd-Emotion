{
  "nbformat": 4,
  "nbformat_minor": 0,
  "metadata": {
    "colab": {
      "name": "End_To_End_Cross_Validation",
      "provenance": [],
      "mount_file_id": "https://github.com/atick-faisal/Crowd-Emotion/blob/main/src/CE_End_To_End_Testing.ipynb",
      "authorship_tag": "ABX9TyPVNwDwuJ/zIURNf0nZCsqj",
      "include_colab_link": true
    },
    "kernelspec": {
      "name": "python3",
      "display_name": "Python 3"
    },
    "language_info": {
      "name": "python"
    }
  },
  "cells": [
    {
      "cell_type": "markdown",
      "metadata": {
        "id": "view-in-github",
        "colab_type": "text"
      },
      "source": [
        "<a href=\"https://colab.research.google.com/github/atick-faisal/Crowd-Emotion/blob/main/src/CE_End_To_End_Testing.ipynb\" target=\"_parent\"><img src=\"https://colab.research.google.com/assets/colab-badge.svg\" alt=\"Open In Colab\"/></a>"
      ]
    },
    {
      "cell_type": "code",
      "metadata": {
        "id": "mo2TCf_AJYpl"
      },
      "source": [
        "import os\n",
        "import numpy as np\n",
        "import pandas as pd\n",
        "from numpy.random import shuffle\n",
        "from math import floor\n",
        "from shutil import copy, rmtree"
      ],
      "execution_count": 31,
      "outputs": []
    },
    {
      "cell_type": "code",
      "metadata": {
        "id": "w8HSVgCMqQSX"
      },
      "source": [
        "TRAIN_PERCENTAGE = 0.8"
      ],
      "execution_count": 9,
      "outputs": []
    },
    {
      "cell_type": "code",
      "metadata": {
        "id": "oszI9d0FJbY-"
      },
      "source": [
        "spec_dir = '/content/drive/MyDrive/Research/Crowd Emotion v3/Spectrograms/Log/'\n",
        "data_dir = '/content/drive/MyDrive/Research/Crowd Emotion v3/Dataset/'"
      ],
      "execution_count": 2,
      "outputs": []
    },
    {
      "cell_type": "code",
      "metadata": {
        "id": "wHchfqjl1_wO"
      },
      "source": [
        "rmtree(data_dir + 'Train/', ignore_errors=True)\n",
        "rmtree(data_dir + 'Test/', ignore_errors=True)"
      ],
      "execution_count": 40,
      "outputs": []
    },
    {
      "cell_type": "code",
      "metadata": {
        "id": "5m4Kyv8_2K4E"
      },
      "source": [
        "os.mkdir(data_dir + 'Train')\n",
        "os.mkdir(data_dir + 'Test')"
      ],
      "execution_count": 41,
      "outputs": []
    },
    {
      "cell_type": "code",
      "metadata": {
        "id": "LBpJ42W3221K"
      },
      "source": [
        "for dir in os.listdir(data_dir):\n",
        "    os.mkdir(data_dir + dir + '/Approval')\n",
        "    os.mkdir(data_dir + dir + '/Disapproval')\n",
        "    os.mkdir(data_dir + dir + '/Neutral')"
      ],
      "execution_count": 42,
      "outputs": []
    },
    {
      "cell_type": "code",
      "metadata": {
        "id": "VNh4ClCAGA5V"
      },
      "source": [
        "NUMBER_OF_CLIPS = {\n",
        "    'Approval/': 58,\n",
        "    'Disapproval/': 50,\n",
        "    'Neutral/': 71\n",
        "}"
      ],
      "execution_count": 43,
      "outputs": []
    },
    {
      "cell_type": "code",
      "metadata": {
        "id": "jeOIunNMpOtF"
      },
      "source": [
        "approval_samples_length = len(os.listdir(spec_dir + 'Approval/'))\n",
        "disapproval_samples_length = len(os.listdir(spec_dir + 'Disapproval/'))\n",
        "neutral_samples_length = len(os.listdir(spec_dir + 'Neutral/'))"
      ],
      "execution_count": 44,
      "outputs": []
    },
    {
      "cell_type": "code",
      "metadata": {
        "id": "9YmceIjlqJd0"
      },
      "source": [
        "approval_train_length = floor(approval_samples_length * TRAIN_PERCENTAGE)\n",
        "disapproval_train_length = floor(disapproval_samples_length * TRAIN_PERCENTAGE)\n",
        "neutral_train_length = floor(neutral_samples_length * TRAIN_PERCENTAGE)"
      ],
      "execution_count": 45,
      "outputs": []
    },
    {
      "cell_type": "code",
      "metadata": {
        "id": "XEjSMqK8tkqZ"
      },
      "source": [
        "NUMBER_OF_TRAIN_SAMPLES = {\n",
        "    'Approval/': approval_train_length,\n",
        "    'Disapproval/': disapproval_train_length,\n",
        "    'Neutral/': neutral_train_length\n",
        "}"
      ],
      "execution_count": 46,
      "outputs": []
    },
    {
      "cell_type": "code",
      "metadata": {
        "id": "OIIGb1w8G5Rw"
      },
      "source": [
        "for key, value in NUMBER_OF_CLIPS.items():\n",
        "    clips = np.arange(1, value + 1)\n",
        "    shuffle(clips)\n",
        "    for clip in clips:\n",
        "        files = os.listdir(spec_dir + key)\n",
        "        for counter, filename in enumerate(files):\n",
        "            if clip == int(filename[5:9]):\n",
        "                src = spec_dir + key + filename\n",
        "                if counter < NUMBER_OF_TRAIN_SAMPLES[key]:\n",
        "                    dst = data_dir + 'Train/' + key + filename\n",
        "                    copy(src, dst)\n",
        "                else:\n",
        "                    dst = data_dir + 'Test/' + key + filename\n",
        "                    copy(src, dst)"
      ],
      "execution_count": null,
      "outputs": []
    },
    {
      "cell_type": "code",
      "metadata": {
        "id": "JtVbfDwltLwz",
        "outputId": "f8244c0f-a223-4249-eccf-77cc8058bb8c",
        "colab": {
          "base_uri": "https://localhost:8080/"
        }
      },
      "source": [
        "neutral_samples_length"
      ],
      "execution_count": 24,
      "outputs": [
        {
          "output_type": "execute_result",
          "data": {
            "text/plain": [
              "2631"
            ]
          },
          "metadata": {
            "tags": []
          },
          "execution_count": 24
        }
      ]
    },
    {
      "cell_type": "code",
      "metadata": {
        "id": "MBiQfKDzKVYl"
      },
      "source": [
        "dirs = os.listdir(spec_dir + 'Approval/')"
      ],
      "execution_count": null,
      "outputs": []
    },
    {
      "cell_type": "code",
      "metadata": {
        "id": "ONcCpHtrNLLh",
        "colab": {
          "base_uri": "https://localhost:8080/",
          "height": 35
        },
        "outputId": "c00c2c66-260d-466e-e326-01add77107e0"
      },
      "source": [
        "bla = dirs[0]\n",
        "bla"
      ],
      "execution_count": null,
      "outputs": [
        {
          "output_type": "execute_result",
          "data": {
            "application/vnd.google.colaboratory.intrinsic+json": {
              "type": "string"
            },
            "text/plain": [
              "'pos_c0033_s00000007.jpg'"
            ]
          },
          "metadata": {
            "tags": []
          },
          "execution_count": 21
        }
      ]
    },
    {
      "cell_type": "code",
      "metadata": {
        "id": "uQUG5drpNbuo",
        "colab": {
          "base_uri": "https://localhost:8080/",
          "height": 35
        },
        "outputId": "16c7da27-e9ac-472d-e3ae-ea0cae9f8df5"
      },
      "source": [
        "bla[5: 9]"
      ],
      "execution_count": null,
      "outputs": [
        {
          "output_type": "execute_result",
          "data": {
            "application/vnd.google.colaboratory.intrinsic+json": {
              "type": "string"
            },
            "text/plain": [
              "'0033'"
            ]
          },
          "metadata": {
            "tags": []
          },
          "execution_count": 22
        }
      ]
    },
    {
      "cell_type": "code",
      "metadata": {
        "id": "s6GAaMTnqebz"
      },
      "source": [
        ""
      ],
      "execution_count": null,
      "outputs": []
    }
  ]
}