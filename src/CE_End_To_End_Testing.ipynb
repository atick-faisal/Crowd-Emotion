{
  "nbformat": 4,
  "nbformat_minor": 0,
  "metadata": {
    "colab": {
      "name": "End_To_End_Cross_Validation",
      "provenance": [],
      "mount_file_id": "https://github.com/atick-faisal/Crowd-Emotion/blob/main/src/CE_End_To_End_Testing.ipynb",
      "authorship_tag": "ABX9TyMMtZoEiCVfgYBZkYwNcJfp",
      "include_colab_link": true
    },
    "kernelspec": {
      "name": "python3",
      "display_name": "Python 3"
    },
    "language_info": {
      "name": "python"
    }
  },
  "cells": [
    {
      "cell_type": "markdown",
      "metadata": {
        "id": "view-in-github",
        "colab_type": "text"
      },
      "source": [
        "<a href=\"https://colab.research.google.com/github/atick-faisal/Crowd-Emotion/blob/main/src/CE_End_To_End_Testing.ipynb\" target=\"_parent\"><img src=\"https://colab.research.google.com/assets/colab-badge.svg\" alt=\"Open In Colab\"/></a>"
      ]
    },
    {
      "cell_type": "code",
      "metadata": {
        "id": "mo2TCf_AJYpl"
      },
      "source": [
        "import os\n",
        "import numpy as np\n",
        "from numpy.random import shuffle"
      ],
      "execution_count": 14,
      "outputs": []
    },
    {
      "cell_type": "code",
      "metadata": {
        "id": "oszI9d0FJbY-"
      },
      "source": [
        "spec_dir = '/content/drive/MyDrive/Research/Crowd Emotion v3/Spectrograms/Log/'\n",
        "data_dir = '/content/drive/MyDrive/Research/Crowd Emotion v3/Dataset/'"
      ],
      "execution_count": 18,
      "outputs": []
    },
    {
      "cell_type": "code",
      "metadata": {
        "id": "VNh4ClCAGA5V"
      },
      "source": [
        "NUMBER_OF_CLIPS = {\n",
        "    'Approval/': 58,\n",
        "    'Disapproval/': 50,\n",
        "    'Neutral/': 71\n",
        "}"
      ],
      "execution_count": 6,
      "outputs": []
    },
    {
      "cell_type": "code",
      "metadata": {
        "id": "OIIGb1w8G5Rw",
        "outputId": "9f137840-7b5f-4abd-e613-0146e3e45fb3",
        "colab": {
          "base_uri": "https://localhost:8080/"
        }
      },
      "source": [
        "for key, value in NUMBER_OF_CLIPS.items():\n",
        "    clips = np.arange(1, value + 1)\n",
        "    shuffle(clips)\n",
        "    for clip in clips:\n",
        "        files = os.listdir(spec_dir + key)\n",
        "        "
      ],
      "execution_count": 16,
      "outputs": [
        {
          "output_type": "stream",
          "text": [
            "[35  4 32 55 16  7 15 23 43 13 18 27 28 31 12 26 57 48 37 50 34 24 30  8\n",
            " 42 51 44 14 19 41 45 25 22 52  6  1 39  5 58  2 20 11 36 17 29 40 53 56\n",
            " 46 47  9 10 21 33  3 54 49 38]\n",
            "[ 8 44 26 22 37  2 12 46  1 45 48  3 38  9 49 47 18 11 35 34 42  5 39  7\n",
            "  4 19 43 17 31 28 13 29 33 27 41 15 40 24 32  6 30 50 14 20 10 21 36 16\n",
            " 25 23]\n",
            "[33 57 42 66  2 30 13 12 18 19 67 46 63 59 15 58 70 32 11 31  1  4 65 27\n",
            "  5 60 48 61 25 40 22 55 43 51 16 29 64 45 56 20  7 21 37 35 17 34 53 28\n",
            " 49 23 44 24 14 39  3 68 36 26 52  6 69 62  9 38 10 54 50 47 71 41  8]\n"
          ],
          "name": "stdout"
        }
      ]
    },
    {
      "cell_type": "code",
      "metadata": {
        "id": "MBiQfKDzKVYl"
      },
      "source": [
        "dirs = os.listdir(spec_dir + 'Approval/')"
      ],
      "execution_count": 20,
      "outputs": []
    },
    {
      "cell_type": "code",
      "metadata": {
        "id": "ONcCpHtrNLLh",
        "outputId": "c00c2c66-260d-466e-e326-01add77107e0",
        "colab": {
          "base_uri": "https://localhost:8080/",
          "height": 35
        }
      },
      "source": [
        "bla = dirs[0]\n",
        "bla"
      ],
      "execution_count": 21,
      "outputs": [
        {
          "output_type": "execute_result",
          "data": {
            "application/vnd.google.colaboratory.intrinsic+json": {
              "type": "string"
            },
            "text/plain": [
              "'pos_c0033_s00000007.jpg'"
            ]
          },
          "metadata": {
            "tags": []
          },
          "execution_count": 21
        }
      ]
    },
    {
      "cell_type": "code",
      "metadata": {
        "id": "uQUG5drpNbuo",
        "outputId": "16c7da27-e9ac-472d-e3ae-ea0cae9f8df5",
        "colab": {
          "base_uri": "https://localhost:8080/",
          "height": 35
        }
      },
      "source": [
        "bla[5: 9]"
      ],
      "execution_count": 22,
      "outputs": [
        {
          "output_type": "execute_result",
          "data": {
            "application/vnd.google.colaboratory.intrinsic+json": {
              "type": "string"
            },
            "text/plain": [
              "'0033'"
            ]
          },
          "metadata": {
            "tags": []
          },
          "execution_count": 22
        }
      ]
    },
    {
      "cell_type": "code",
      "metadata": {
        "id": "3Sj0WgZuNgvw"
      },
      "source": [
        ""
      ],
      "execution_count": null,
      "outputs": []
    }
  ]
}