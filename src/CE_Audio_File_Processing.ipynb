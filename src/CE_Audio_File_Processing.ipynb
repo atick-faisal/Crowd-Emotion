{
  "nbformat": 4,
  "nbformat_minor": 0,
  "metadata": {
    "colab": {
      "name": "CE_Audio_File_Processing.ipynb",
      "provenance": [],
      "mount_file_id": "https://github.com/atick-faisal/Crowd-Emotion/blob/main/src/CE_Audio_File_Processing.ipynb",
      "authorship_tag": "ABX9TyNrMvdvRKoGdf3wZhcQCNnj",
      "include_colab_link": true
    },
    "kernelspec": {
      "name": "python3",
      "display_name": "Python 3"
    }
  },
  "cells": [
    {
      "cell_type": "markdown",
      "metadata": {
        "id": "view-in-github",
        "colab_type": "text"
      },
      "source": [
        "<a href=\"https://colab.research.google.com/github/atick-faisal/Crowd-Emotion/blob/main/src/CE_Audio_File_Processing.ipynb\" target=\"_parent\"><img src=\"https://colab.research.google.com/assets/colab-badge.svg\" alt=\"Open In Colab\"/></a>"
      ]
    },
    {
      "cell_type": "code",
      "metadata": {
        "id": "OTG1xD6kknCb",
        "colab": {
          "base_uri": "https://localhost:8080/"
        },
        "outputId": "3ff7a757-af98-4e34-f3ff-361c63f599c7"
      },
      "source": [
        "!pip install audio2numpy"
      ],
      "execution_count": 1,
      "outputs": [
        {
          "output_type": "stream",
          "text": [
            "Collecting audio2numpy\n",
            "  Downloading https://files.pythonhosted.org/packages/a2/c6/b056256f9aa7c25b051fde1c4249a83f9e331cb84b8de409cc0886a11ba5/audio2numpy-0.1.2-py3-none-any.whl\n",
            "Requirement already satisfied: numpy in /usr/local/lib/python3.7/dist-packages (from audio2numpy) (1.19.5)\n",
            "Collecting ffmpeg\n",
            "  Downloading https://files.pythonhosted.org/packages/f0/cc/3b7408b8ecf7c1d20ad480c3eaed7619857bf1054b690226e906fdf14258/ffmpeg-1.4.tar.gz\n",
            "Building wheels for collected packages: ffmpeg\n",
            "  Building wheel for ffmpeg (setup.py) ... \u001b[?25l\u001b[?25hdone\n",
            "  Created wheel for ffmpeg: filename=ffmpeg-1.4-cp37-none-any.whl size=6083 sha256=7d9aa435357000d7e817187b190ade1311dd4427d994757b5f2bd9a4566cfc61\n",
            "  Stored in directory: /root/.cache/pip/wheels/b6/68/c3/a05a35f647ba871e5572b9bbfc0b95fd1c6637a2219f959e7a\n",
            "Successfully built ffmpeg\n",
            "Installing collected packages: ffmpeg, audio2numpy\n",
            "Successfully installed audio2numpy-0.1.2 ffmpeg-1.4\n"
          ],
          "name": "stdout"
        }
      ]
    },
    {
      "cell_type": "code",
      "metadata": {
        "id": "eUF63NHBnDTg"
      },
      "source": [
        "import os\n",
        "import numpy as np\n",
        "import pandas as pd\n",
        "import matplotlib.pyplot as plt\n",
        "from audio2numpy import open_audio\n",
        "from joblib import load, dump"
      ],
      "execution_count": 2,
      "outputs": []
    },
    {
      "cell_type": "code",
      "metadata": {
        "id": "ZGdFIHJvk_m6"
      },
      "source": [
        "# For Dataset v1\n",
        "# audio = '/content/drive/MyDrive/Research/Crowd Emotion/Audio/'\n",
        "# dataset = '/content/drive/MyDrive/Research/Crowd Emotion/Dataset/'"
      ],
      "execution_count": null,
      "outputs": []
    },
    {
      "cell_type": "code",
      "metadata": {
        "id": "mMT9GDkT9JKW"
      },
      "source": [
        "audio = '/content/drive/MyDrive/Research/Crowd Emotion v2/Audio/Test/'\n",
        "dataset = '/content/drive/MyDrive/Research/Crowd Emotion v2/Dataset/Test/'"
      ],
      "execution_count": 6,
      "outputs": []
    },
    {
      "cell_type": "code",
      "metadata": {
        "id": "mJcdRbFE2Pfo"
      },
      "source": [
        "# def get_windows(signal, length=44100, overlap=0.75):\n",
        "#     increment = length - round(length * overlap)\n",
        "#     samples = []\n",
        "#     for i in range(len(signal)):\n",
        "#         sample = signal[i:(i+length)]\n",
        "#         if sample.shape[0] < length:\n",
        "#             break\n",
        "#         samples.append(signal[i:(i+length)])\n",
        "#         i = i + increment\n",
        "#     return np.array(samples)"
      ],
      "execution_count": null,
      "outputs": []
    },
    {
      "cell_type": "code",
      "metadata": {
        "id": "WmaiLJnY8BUh"
      },
      "source": [
        "def get_windows(signal, length=44100, overlap=0.75):\n",
        "    increment = length - round(length * overlap)\n",
        "    num_windows = int((len(signal) - length) / increment) + 1\n",
        "    samples = np.zeros((num_windows, length))\n",
        "    for i in range(num_windows):\n",
        "        temp = i * increment\n",
        "        samples[i] = signal[temp:(temp + length)]\n",
        "    return np.array(samples)"
      ],
      "execution_count": 4,
      "outputs": []
    },
    {
      "cell_type": "markdown",
      "metadata": {
        "id": "6ewi4aDK2b0C"
      },
      "source": [
        "<h3 align=\"center\">1s Window Generation</h3>"
      ]
    },
    {
      "cell_type": "code",
      "metadata": {
        "id": "qqjYmrA52M7Y"
      },
      "source": [
        "for dir in os.listdir(audio):\n",
        "    counter = 1\n",
        "    for file_name in os.listdir(audio + dir):\n",
        "        x, Fs = open_audio(audio + dir + '/' + file_name)\n",
        "        try:\n",
        "            x = np.average(x, axis=1)\n",
        "        except:\n",
        "            pass\n",
        "        extension = x.shape[0] % Fs\n",
        "        windows = get_windows(x, length=Fs)\n",
        "        dump(windows, dataset + dir + '/' + str(counter) + '.joblib')\n",
        "        counter = counter + 1"
      ],
      "execution_count": 7,
      "outputs": []
    }
  ]
}