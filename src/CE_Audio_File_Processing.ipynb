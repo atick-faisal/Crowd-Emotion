{
  "nbformat": 4,
  "nbformat_minor": 0,
  "metadata": {
    "colab": {
      "name": "CE_Audio_File_Processing.ipynb",
      "provenance": [],
      "mount_file_id": "https://github.com/atick-faisal/Crowd-Emotion/blob/main/src/CE_Audio_File_Processing.ipynb",
      "authorship_tag": "ABX9TyO4CslVPSod9JBF1KPJqYQH",
      "include_colab_link": true
    },
    "kernelspec": {
      "name": "python3",
      "display_name": "Python 3"
    }
  },
  "cells": [
    {
      "cell_type": "markdown",
      "metadata": {
        "id": "view-in-github",
        "colab_type": "text"
      },
      "source": [
        "<a href=\"https://colab.research.google.com/github/atick-faisal/Crowd-Emotion/blob/main/src/CE_Audio_File_Processing.ipynb\" target=\"_parent\"><img src=\"https://colab.research.google.com/assets/colab-badge.svg\" alt=\"Open In Colab\"/></a>"
      ]
    },
    {
      "cell_type": "code",
      "metadata": {
        "id": "OTG1xD6kknCb"
      },
      "source": [
        "!pip install audio2numpy"
      ],
      "execution_count": null,
      "outputs": []
    },
    {
      "cell_type": "code",
      "metadata": {
        "id": "eUF63NHBnDTg"
      },
      "source": [
        "import os\n",
        "import numpy as np\n",
        "import pandas as pd\n",
        "import matplotlib.pyplot as plt\n",
        "from audio2numpy import open_audio"
      ],
      "execution_count": 5,
      "outputs": []
    },
    {
      "cell_type": "code",
      "metadata": {
        "id": "ZGdFIHJvk_m6"
      },
      "source": [
        "audio = '/content/drive/MyDrive/Research/Crowd Emotion/Audio/'\n",
        "filename = 'LS_Carol_of_the_Bells.mp3'"
      ],
      "execution_count": 9,
      "outputs": []
    },
    {
      "cell_type": "code",
      "metadata": {
        "id": "eSRHvuJ7mt2x"
      },
      "source": [
        "x, Fs = open_audio(database + filename)\n",
        "x = np.average(x, axis=1)\n",
        "extension = x.shape[0] % Fs\n",
        "x = x[:-extension].reshape(-1, Fs)"
      ],
      "execution_count": null,
      "outputs": []
    },
    {
      "cell_type": "code",
      "metadata": {
        "id": "AAFk7xjMnbvz",
        "colab": {
          "base_uri": "https://localhost:8080/"
        },
        "outputId": "c24d0d0b-8bfa-4df7-eed7-8d32f79331d6"
      },
      "source": [
        "x.shape"
      ],
      "execution_count": null,
      "outputs": [
        {
          "output_type": "execute_result",
          "data": {
            "text/plain": [
              "(186, 44100)"
            ]
          },
          "metadata": {
            "tags": []
          },
          "execution_count": 15
        }
      ]
    },
    {
      "cell_type": "code",
      "metadata": {
        "id": "gBuuhZgdolMT",
        "colab": {
          "base_uri": "https://localhost:8080/"
        },
        "outputId": "c00927e8-dafa-4cf6-88ef-9bb000f82639"
      },
      "source": [
        "Fs"
      ],
      "execution_count": null,
      "outputs": [
        {
          "output_type": "execute_result",
          "data": {
            "text/plain": [
              "44100"
            ]
          },
          "metadata": {
            "tags": []
          },
          "execution_count": 11
        }
      ]
    },
    {
      "cell_type": "code",
      "metadata": {
        "id": "3g1vguR7pcLC",
        "outputId": "f2635658-f53f-4034-f923-7e007bf5bd2f",
        "colab": {
          "base_uri": "https://localhost:8080/"
        }
      },
      "source": [
        "os.listdir(audio + '/Approval')"
      ],
      "execution_count": 12,
      "outputs": [
        {
          "output_type": "execute_result",
          "data": {
            "text/plain": [
              "['LS_Carol_of_the_Bells.mp3']"
            ]
          },
          "metadata": {
            "tags": []
          },
          "execution_count": 12
        }
      ]
    },
    {
      "cell_type": "code",
      "metadata": {
        "id": "Sn-3TTPWlfFC"
      },
      "source": [
        "def get_windows(signal, length=44100, overlap=0.75):\n",
        "    increment = length - round(length * overlap)\n",
        "    samples = []\n",
        "    for i in range(len(signal)):\n",
        "        sample = signal[i:(i+length)]\n",
        "        if sample.shape[0] < length:\n",
        "            break\n",
        "        samples.append(signal[i:(i+length)])\n",
        "        i = i + increment\n",
        "    return np.array(samples)"
      ],
      "execution_count": 40,
      "outputs": []
    },
    {
      "cell_type": "code",
      "metadata": {
        "id": "CU9HvV9Sq9KX",
        "outputId": "3b4f5b89-15f0-414c-ffca-fee20946abc8",
        "colab": {
          "base_uri": "https://localhost:8080/"
        }
      },
      "source": [
        "a = np.array([1, 3, 4, 5, 6, 7, 8])\n",
        "get_windows(a, 4)"
      ],
      "execution_count": 42,
      "outputs": [
        {
          "output_type": "execute_result",
          "data": {
            "text/plain": [
              "array([[1, 3, 4, 5],\n",
              "       [3, 4, 5, 6],\n",
              "       [4, 5, 6, 7],\n",
              "       [5, 6, 7, 8]])"
            ]
          },
          "metadata": {
            "tags": []
          },
          "execution_count": 42
        }
      ]
    },
    {
      "cell_type": "code",
      "metadata": {
        "id": "N3IVSqMXii7M",
        "outputId": "8174254a-8a78-48b0-a0c2-c8fd2fdc9908",
        "colab": {
          "base_uri": "https://localhost:8080/"
        }
      },
      "source": [
        "for dir in os.listdir(audio):\n",
        "    for file in os.listdir(audio + dir):\n",
        "        "
      ],
      "execution_count": 13,
      "outputs": [
        {
          "output_type": "stream",
          "text": [
            "LS_Carol_of_the_Bells.mp3\n"
          ],
          "name": "stdout"
        }
      ]
    },
    {
      "cell_type": "code",
      "metadata": {
        "id": "_F_hzDvxkdd8",
        "outputId": "cab03189-73df-47a5-89dd-3c6f665a57b8",
        "colab": {
          "base_uri": "https://localhost:8080/"
        }
      },
      "source": [
        "a = [1, 2, 3, 4, 5, 7]\n",
        "for i in range(len(a)):\n",
        "    try:\n",
        "        print(a[i + 2])\n",
        "    except IndexError:\n",
        "        break"
      ],
      "execution_count": 16,
      "outputs": [
        {
          "output_type": "stream",
          "text": [
            "3\n",
            "4\n",
            "5\n",
            "7\n"
          ],
          "name": "stdout"
        }
      ]
    },
    {
      "cell_type": "code",
      "metadata": {
        "id": "h_tyvIHinl2-",
        "outputId": "e6557eba-e7ad-423c-b629-8b5874684cd8",
        "colab": {
          "base_uri": "https://localhost:8080/"
        }
      },
      "source": [
        "b = np.array([1, 2, 3, 5, 6, 7])\n",
        "a = []\n",
        "a.append(b[0:3])\n",
        "a.append(b[0:3])\n",
        "np.array(a)"
      ],
      "execution_count": 32,
      "outputs": [
        {
          "output_type": "execute_result",
          "data": {
            "text/plain": [
              "array([[1, 2, 3],\n",
              "       [1, 2, 3]])"
            ]
          },
          "metadata": {
            "tags": []
          },
          "execution_count": 32
        }
      ]
    },
    {
      "cell_type": "code",
      "metadata": {
        "id": "P1mGgZIOoDej"
      },
      "source": [
        ""
      ],
      "execution_count": null,
      "outputs": []
    }
  ]
}