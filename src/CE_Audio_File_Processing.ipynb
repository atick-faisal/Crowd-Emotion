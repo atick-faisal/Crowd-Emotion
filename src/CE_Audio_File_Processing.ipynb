{
  "nbformat": 4,
  "nbformat_minor": 0,
  "metadata": {
    "colab": {
      "name": "CE_Audio_File_Processing.ipynb",
      "provenance": [],
      "mount_file_id": "https://github.com/atick-faisal/Crowd-Emotion/blob/main/src/CE_Audio_File_Processing.ipynb",
      "authorship_tag": "ABX9TyOvtJ9KeTnc7TrVhBGwG4VM",
      "include_colab_link": true
    },
    "kernelspec": {
      "name": "python3",
      "display_name": "Python 3"
    }
  },
  "cells": [
    {
      "cell_type": "markdown",
      "metadata": {
        "id": "view-in-github",
        "colab_type": "text"
      },
      "source": [
        "<a href=\"https://colab.research.google.com/github/atick-faisal/Crowd-Emotion/blob/main/src/CE_Audio_File_Processing.ipynb\" target=\"_parent\"><img src=\"https://colab.research.google.com/assets/colab-badge.svg\" alt=\"Open In Colab\"/></a>"
      ]
    },
    {
      "cell_type": "code",
      "metadata": {
        "id": "OTG1xD6kknCb"
      },
      "source": [
        "!pip install audio2numpy"
      ],
      "execution_count": null,
      "outputs": []
    },
    {
      "cell_type": "code",
      "metadata": {
        "id": "eUF63NHBnDTg"
      },
      "source": [
        "import numpy as np\n",
        "import pandas as pd\n",
        "import matplotlib.pyplot as plt\n",
        "from audio2numpy import open_audio"
      ],
      "execution_count": 4,
      "outputs": []
    },
    {
      "cell_type": "code",
      "metadata": {
        "id": "ZGdFIHJvk_m6"
      },
      "source": [
        "database = '/content/drive/MyDrive/Research/Crowd Emotion/Database/'\n",
        "filename = 'LS_Carol_of_the_Bells.mp3'"
      ],
      "execution_count": 6,
      "outputs": []
    },
    {
      "cell_type": "code",
      "metadata": {
        "id": "eSRHvuJ7mt2x"
      },
      "source": [
        "x, Fs = open_audio(database + filename)\n",
        "x = np.average(x, axis=1)\n",
        "extension = x.shape[0] % Fs\n",
        "x = x[:-extension].reshape(-1, Fs)"
      ],
      "execution_count": 14,
      "outputs": []
    },
    {
      "cell_type": "code",
      "metadata": {
        "id": "AAFk7xjMnbvz",
        "outputId": "c24d0d0b-8bfa-4df7-eed7-8d32f79331d6",
        "colab": {
          "base_uri": "https://localhost:8080/"
        }
      },
      "source": [
        "x.shape"
      ],
      "execution_count": 15,
      "outputs": [
        {
          "output_type": "execute_result",
          "data": {
            "text/plain": [
              "(186, 44100)"
            ]
          },
          "metadata": {
            "tags": []
          },
          "execution_count": 15
        }
      ]
    },
    {
      "cell_type": "code",
      "metadata": {
        "id": "gBuuhZgdolMT",
        "outputId": "c00927e8-dafa-4cf6-88ef-9bb000f82639",
        "colab": {
          "base_uri": "https://localhost:8080/"
        }
      },
      "source": [
        "Fs"
      ],
      "execution_count": 11,
      "outputs": [
        {
          "output_type": "execute_result",
          "data": {
            "text/plain": [
              "44100"
            ]
          },
          "metadata": {
            "tags": []
          },
          "execution_count": 11
        }
      ]
    },
    {
      "cell_type": "code",
      "metadata": {
        "id": "3g1vguR7pcLC"
      },
      "source": [
        ""
      ],
      "execution_count": null,
      "outputs": []
    }
  ]
}