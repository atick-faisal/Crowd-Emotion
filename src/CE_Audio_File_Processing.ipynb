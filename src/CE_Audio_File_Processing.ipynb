{
  "nbformat": 4,
  "nbformat_minor": 0,
  "metadata": {
    "colab": {
      "name": "CE_Audio_File_Processing.ipynb",
      "provenance": [],
      "mount_file_id": "1tPfSyy5vYfnJ9Qd_zb9wS7wt46kBdPXa",
      "authorship_tag": "ABX9TyOUB/O7NCMTxui2kf2vGxjO",
      "include_colab_link": true
    },
    "kernelspec": {
      "name": "python3",
      "display_name": "Python 3"
    }
  },
  "cells": [
    {
      "cell_type": "markdown",
      "metadata": {
        "id": "view-in-github",
        "colab_type": "text"
      },
      "source": [
        "<a href=\"https://colab.research.google.com/github/atick-faisal/Crowd-Emotion/blob/main/src/CE_Audio_File_Processing.ipynb\" target=\"_parent\"><img src=\"https://colab.research.google.com/assets/colab-badge.svg\" alt=\"Open In Colab\"/></a>"
      ]
    },
    {
      "cell_type": "code",
      "metadata": {
        "id": "OTG1xD6kknCb"
      },
      "source": [
        "!pip install audio2numpy"
      ],
      "execution_count": null,
      "outputs": []
    },
    {
      "cell_type": "code",
      "metadata": {
        "id": "ZGdFIHJvk_m6"
      },
      "source": [
        "database = ''"
      ],
      "execution_count": null,
      "outputs": []
    }
  ]
}