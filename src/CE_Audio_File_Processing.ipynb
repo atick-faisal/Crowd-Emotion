{
  "nbformat": 4,
  "nbformat_minor": 0,
  "metadata": {
    "colab": {
      "name": "CE_Audio_File_Processing.ipynb",
      "provenance": [],
      "mount_file_id": "https://github.com/atick-faisal/Crowd-Emotion/blob/main/src/CE_Audio_File_Processing.ipynb",
      "authorship_tag": "ABX9TyPn5EsSnEnzRR9ePEU4+hg0",
      "include_colab_link": true
    },
    "kernelspec": {
      "name": "python3",
      "display_name": "Python 3"
    }
  },
  "cells": [
    {
      "cell_type": "markdown",
      "metadata": {
        "id": "view-in-github",
        "colab_type": "text"
      },
      "source": [
        "<a href=\"https://colab.research.google.com/github/atick-faisal/Crowd-Emotion/blob/main/src/CE_Audio_File_Processing.ipynb\" target=\"_parent\"><img src=\"https://colab.research.google.com/assets/colab-badge.svg\" alt=\"Open In Colab\"/></a>"
      ]
    },
    {
      "cell_type": "code",
      "metadata": {
        "id": "OTG1xD6kknCb",
        "colab": {
          "base_uri": "https://localhost:8080/"
        },
        "outputId": "5f4248d2-aeef-47c1-fac0-82cdeab60460"
      },
      "source": [
        "!pip install audio2numpy"
      ],
      "execution_count": 17,
      "outputs": [
        {
          "output_type": "stream",
          "text": [
            "Requirement already satisfied: audio2numpy in /usr/local/lib/python3.6/dist-packages (0.1.2)\n",
            "Requirement already satisfied: ffmpeg in /usr/local/lib/python3.6/dist-packages (from audio2numpy) (1.4)\n",
            "Requirement already satisfied: numpy in /usr/local/lib/python3.6/dist-packages (from audio2numpy) (1.19.4)\n"
          ],
          "name": "stdout"
        }
      ]
    },
    {
      "cell_type": "code",
      "metadata": {
        "id": "eUF63NHBnDTg"
      },
      "source": [
        "import os\n",
        "import numpy as np\n",
        "import pandas as pd\n",
        "import matplotlib.pyplot as plt\n",
        "from audio2numpy import open_audio\n",
        "from joblib import load, dump"
      ],
      "execution_count": 18,
      "outputs": []
    },
    {
      "cell_type": "code",
      "metadata": {
        "id": "ZGdFIHJvk_m6"
      },
      "source": [
        "audio = '/content/drive/MyDrive/Research/Crowd Emotion/Audio/'\n",
        "dataset = '/content/drive/MyDrive/Research/Crowd Emotion/Dataset/'"
      ],
      "execution_count": 19,
      "outputs": []
    },
    {
      "cell_type": "code",
      "metadata": {
        "id": "mJcdRbFE2Pfo"
      },
      "source": [
        "def get_windows(signal, length=44100, overlap=0.75):\n",
        "    increment = length - round(length * overlap)\n",
        "    samples = []\n",
        "    for i in range(len(signal)):\n",
        "        sample = signal[i:(i+length)]\n",
        "        if sample.shape[0] < length:\n",
        "            break\n",
        "        samples.append(signal[i:(i+length)])\n",
        "        i = i + increment\n",
        "    return np.array(samples)"
      ],
      "execution_count": 20,
      "outputs": []
    },
    {
      "cell_type": "markdown",
      "metadata": {
        "id": "6ewi4aDK2b0C"
      },
      "source": [
        "<h3 align=\"center\">1s Window Generation</h3>"
      ]
    },
    {
      "cell_type": "code",
      "metadata": {
        "id": "qqjYmrA52M7Y"
      },
      "source": [
        "counter = 1\n",
        "for dir in os.listdir(audio):\n",
        "    for file_name in os.listdir(audio + dir):\n",
        "        x, Fs = open_audio(audio + dir + '/' + file_name)\n",
        "        x = np.average(x, axis=1)\n",
        "        extension = x.shape[0] % Fs\n",
        "        x = x[:-extension].reshape(-1, Fs)\n",
        "        dump(x, dataset + dir + '/' + str(counter) + '.joblib')\n",
        "        counter = counter + 1\n",
        "        # samples = get_windows(x, Fs)\n",
        "        # if len(output) > 0:\n",
        "        #     output = np.append(output, samples, axis=0)\n",
        "        # else:\n",
        "        #     output = samples"
      ],
      "execution_count": 21,
      "outputs": []
    },
    {
      "cell_type": "code",
      "metadata": {
        "id": "XkY0OVqZxPVV"
      },
      "source": [
        ""
      ],
      "execution_count": 21,
      "outputs": []
    }
  ]
}