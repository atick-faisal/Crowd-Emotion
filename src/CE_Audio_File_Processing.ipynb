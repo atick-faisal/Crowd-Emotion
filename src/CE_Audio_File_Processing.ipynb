{
  "nbformat": 4,
  "nbformat_minor": 0,
  "metadata": {
    "colab": {
      "name": "CE_Audio_File_Processing.ipynb",
      "provenance": [],
      "mount_file_id": "https://github.com/atick-faisal/Crowd-Emotion/blob/main/src/CE_Audio_File_Processing.ipynb",
      "authorship_tag": "ABX9TyMJ+mHTMJ0aDyMMMqcs/Sth",
      "include_colab_link": true
    },
    "kernelspec": {
      "name": "python3",
      "display_name": "Python 3"
    }
  },
  "cells": [
    {
      "cell_type": "markdown",
      "metadata": {
        "id": "view-in-github",
        "colab_type": "text"
      },
      "source": [
        "<a href=\"https://colab.research.google.com/github/atick-faisal/Crowd-Emotion/blob/main/src/CE_Audio_File_Processing.ipynb\" target=\"_parent\"><img src=\"https://colab.research.google.com/assets/colab-badge.svg\" alt=\"Open In Colab\"/></a>"
      ]
    },
    {
      "cell_type": "code",
      "metadata": {
        "id": "OTG1xD6kknCb",
        "colab": {
          "base_uri": "https://localhost:8080/"
        },
        "outputId": "7e87be0a-0cf1-4490-fbf6-139cbf26f82c"
      },
      "source": [
        "!pip install audio2numpy"
      ],
      "execution_count": null,
      "outputs": [
        {
          "output_type": "stream",
          "text": [
            "Requirement already satisfied: audio2numpy in /usr/local/lib/python3.6/dist-packages (0.1.2)\n",
            "Requirement already satisfied: numpy in /usr/local/lib/python3.6/dist-packages (from audio2numpy) (1.19.5)\n",
            "Requirement already satisfied: ffmpeg in /usr/local/lib/python3.6/dist-packages (from audio2numpy) (1.4)\n"
          ],
          "name": "stdout"
        }
      ]
    },
    {
      "cell_type": "code",
      "metadata": {
        "id": "eUF63NHBnDTg"
      },
      "source": [
        "import os\n",
        "import numpy as np\n",
        "import pandas as pd\n",
        "import matplotlib.pyplot as plt\n",
        "from audio2numpy import open_audio\n",
        "from joblib import load, dump"
      ],
      "execution_count": null,
      "outputs": []
    },
    {
      "cell_type": "code",
      "metadata": {
        "id": "ZGdFIHJvk_m6"
      },
      "source": [
        "# For Dataset v1\n",
        "# audio = '/content/drive/MyDrive/Research/Crowd Emotion/Audio/'\n",
        "# dataset = '/content/drive/MyDrive/Research/Crowd Emotion/Dataset/'"
      ],
      "execution_count": null,
      "outputs": []
    },
    {
      "cell_type": "code",
      "metadata": {
        "id": "mMT9GDkT9JKW"
      },
      "source": [
        "audio = '/content/drive/MyDrive/Research/Crowd Emotion/Audio/Train/'\n",
        "dataset = '/content/drive/MyDrive/Research/Crowd Emotion/Dataset/Train/'"
      ],
      "execution_count": null,
      "outputs": []
    },
    {
      "cell_type": "code",
      "metadata": {
        "id": "mJcdRbFE2Pfo"
      },
      "source": [
        "# def get_windows(signal, length=44100, overlap=0.75):\n",
        "#     increment = length - round(length * overlap)\n",
        "#     samples = []\n",
        "#     for i in range(len(signal)):\n",
        "#         sample = signal[i:(i+length)]\n",
        "#         if sample.shape[0] < length:\n",
        "#             break\n",
        "#         samples.append(signal[i:(i+length)])\n",
        "#         i = i + increment\n",
        "#     return np.array(samples)"
      ],
      "execution_count": null,
      "outputs": []
    },
    {
      "cell_type": "code",
      "metadata": {
        "id": "WmaiLJnY8BUh"
      },
      "source": [
        "def get_windows(signal, length=44100, overlap=0.75):\n",
        "    increment = length - round(length * overlap)\n",
        "    num_windows = int((len(signal) - length) / increment) + 1\n",
        "    samples = np.zeros((num_windows, length))\n",
        "    for i in range(num_windows):\n",
        "        temp = i * increment\n",
        "        samples[i] = signal[temp:(temp + length)]\n",
        "    return np.array(samples)"
      ],
      "execution_count": null,
      "outputs": []
    },
    {
      "cell_type": "markdown",
      "metadata": {
        "id": "6ewi4aDK2b0C"
      },
      "source": [
        "<h3 align=\"center\">1s Window Generation</h3>"
      ]
    },
    {
      "cell_type": "code",
      "metadata": {
        "id": "qqjYmrA52M7Y"
      },
      "source": [
        "for dir in os.listdir(audio):\n",
        "    counter = 1\n",
        "    for file_name in os.listdir(audio + dir):\n",
        "        x, Fs = open_audio(audio + dir + '/' + file_name)\n",
        "        try:\n",
        "            x = np.average(x, axis=1)\n",
        "        except:\n",
        "            pass\n",
        "        extension = x.shape[0] % Fs\n",
        "        windows = get_windows(x, length=Fs)\n",
        "        dump(windows, dataset + dir + '/' + str(counter) + '.joblib')\n",
        "        counter = counter + 1"
      ],
      "execution_count": null,
      "outputs": []
    }
  ]
}