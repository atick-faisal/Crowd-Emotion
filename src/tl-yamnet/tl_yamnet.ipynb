{
  "nbformat": 4,
  "nbformat_minor": 0,
  "metadata": {
    "accelerator": "GPU",
    "colab": {
      "name": "CE_TE_YAMNET_v4.ipynb",
      "provenance": [],
      "collapsed_sections": [],
      "include_colab_link": true
    },
    "kernelspec": {
      "display_name": "Python 3",
      "language": "python",
      "name": "python3"
    },
    "language_info": {
      "codemirror_mode": {
        "name": "ipython",
        "version": 3
      },
      "file_extension": ".py",
      "mimetype": "text/x-python",
      "name": "python",
      "nbconvert_exporter": "python",
      "pygments_lexer": "ipython3",
      "version": "3.8.5"
    }
  },
  "cells": [
    {
      "cell_type": "markdown",
      "metadata": {
        "id": "view-in-github",
        "colab_type": "text"
      },
      "source": [
        "<a href=\"https://colab.research.google.com/github/atick-faisal/Crowd-Emotion/blob/main/src/tl-yamnet/tl_yamnet.ipynb\" target=\"_parent\"><img src=\"https://colab.research.google.com/assets/colab-badge.svg\" alt=\"Open In Colab\"/></a>"
      ]
    },
    {
      "cell_type": "code",
      "metadata": {
        "id": "vFBbvu88oWgI",
        "outputId": "a7ff1fcb-bce1-4bdc-c413-03960d063ce0",
        "colab": {
          "base_uri": "https://localhost:8080/"
        }
      },
      "source": [
        "from google.colab import drive\n",
        "drive.mount('/content/drive')"
      ],
      "execution_count": 1,
      "outputs": [
        {
          "output_type": "stream",
          "text": [
            "Drive already mounted at /content/drive; to attempt to forcibly remount, call drive.mount(\"/content/drive\", force_remount=True).\n"
          ],
          "name": "stdout"
        }
      ]
    },
    {
      "cell_type": "code",
      "metadata": {
        "id": "xXm9QHXCkyPe"
      },
      "source": [
        "!pip install -q tensorflow_io\n",
        "!pip install -q tensorflow_datasets\n",
        "!pip install -q tensorflow_hub"
      ],
      "execution_count": 2,
      "outputs": []
    },
    {
      "cell_type": "code",
      "metadata": {
        "colab": {
          "base_uri": "https://localhost:8080/",
          "height": 35
        },
        "id": "ybtLyX0-G9gp",
        "outputId": "5d094240-df0a-4267-a6d8-3934f108d0fa"
      },
      "source": [
        "import os\n",
        "import time\n",
        "import json\n",
        "import datetime\n",
        "\n",
        "import numpy as np\n",
        "import seaborn as sns\n",
        "import matplotlib.pyplot as plt\n",
        "\n",
        "import tensorflow as tf\n",
        "import tensorflow_datasets as tfds\n",
        "import tensorflow_hub as hub\n",
        "import tensorflow_io as tfio\n",
        "\n",
        "from sklearn.metrics import classification_report, confusion_matrix\n",
        "\n",
        "tf.random.set_seed(42)\n",
        "\n",
        "tf.__version__"
      ],
      "execution_count": 3,
      "outputs": [
        {
          "output_type": "execute_result",
          "data": {
            "application/vnd.google.colaboratory.intrinsic+json": {
              "type": "string"
            },
            "text/plain": [
              "'2.5.0'"
            ]
          },
          "metadata": {
            "tags": []
          },
          "execution_count": 3
        }
      ]
    },
    {
      "cell_type": "code",
      "metadata": {
        "id": "aKj-FBtiV5px"
      },
      "source": [
        "CONFIG = {\n",
        "    'timestamp'             : str(datetime.datetime.now()),\n",
        "    'model'                 : 'Transfer Learning on YAMNET',\n",
        "    'test_fold'             : 'Fold 5',\n",
        "    'architecture'          : '',\n",
        "    'batch_size'            : 1024,\n",
        "    'epochs'                : 0,\n",
        "    'learning_rate'         : 0.00005,\n",
        "    'monitor'               : 'val_loss',\n",
        "    'patience'              : 3,\n",
        "    'class_weight'          : { 0: 0.71, 1:  2.32, 2: 0.86 },\n",
        "    'training_time'         : 0,\n",
        "    'testing_time'          : 0,\n",
        "    'cm_atick'              : '',\n",
        "    'cr_atick'              : '',\n",
        "    'cm_valentina'          : '',\n",
        "    'cr_valentina'          : ''\n",
        "}"
      ],
      "execution_count": 4,
      "outputs": []
    },
    {
      "cell_type": "code",
      "metadata": {
        "id": "sKEM7cZZOBwG"
      },
      "source": [
        "BASE_DIR            = os.getcwd()\n",
        "LOG_FILE             = '/content/drive/MyDrive/Research/Crowd Emotion Logs/tl_yamnet.txt'\n",
        "FOLDS               = ['Fold 1', 'Fold 2', 'Fold 3', 'Fold 4', 'Fold 5']\n",
        "EMOTIONS            = ['Approval', 'Disapproval', 'Neutral']\n",
        "\n",
        "ATICK_DATA_DIR      = '/content/Dataset-Atick/'\n",
        "VALENTINA_DATA_DIR  = '/content/Dataset-Valentina/'"
      ],
      "execution_count": 5,
      "outputs": []
    },
    {
      "cell_type": "code",
      "metadata": {
        "colab": {
          "base_uri": "https://localhost:8080/"
        },
        "id": "FVSxpCMtHVAN",
        "outputId": "5f748e51-667e-4db8-8dc8-c468be96f4d8"
      },
      "source": [
        "%%time\n",
        "\n",
        "# # ----------------- Loading my dataset -------------------\n",
        "# !mkdir /content/Dataset-Atick/\n",
        "# !gdown --id '1zGfANn9GKi9OUMbMehkfzk_Pvhc-b68N'\n",
        "# !tar -xf /content/Atick_CE_Dataset.tar.xz -C /content/Dataset-Atick/\n",
        "\n",
        "# # ----------------- Loading Valentina's dataset -------------------\n",
        "# !mkdir /content/Dataset-Valentina/\n",
        "# !gdown --id '11tC2Nmie9v3ljo60oQJ3sN1rVkorV-N1'\n",
        "# !tar -xf /content/Valentina_CE_Dataset.tar.xz -C /content/Dataset-Valentina/\n"
      ],
      "execution_count": 6,
      "outputs": [
        {
          "output_type": "stream",
          "text": [
            "CPU times: user 2 µs, sys: 1 µs, total: 3 µs\n",
            "Wall time: 6.68 µs\n"
          ],
          "name": "stdout"
        }
      ]
    },
    {
      "cell_type": "code",
      "metadata": {
        "id": "ADFLnQBwHQFt"
      },
      "source": [
        "# ------------- Load YAMNET fron TF-Hub ------------------\n",
        "\n",
        "yamnet_model_handle = 'https://tfhub.dev/google/yamnet/1'\n",
        "yamnet_model = hub.load(yamnet_model_handle)\n"
      ],
      "execution_count": 7,
      "outputs": []
    },
    {
      "cell_type": "code",
      "metadata": {
        "id": "SYbR0YjWI1lL"
      },
      "source": [
        "# --------------- File loading utilities ------------------\n",
        "\n",
        "@tf.function\n",
        "def load_wav_16k_mono(filename):\n",
        "    \"\"\" read in a waveform file and convert to 16 kHz mono \"\"\"\n",
        "    file_contents = tf.io.read_file(filename)\n",
        "    wav, sample_rate = tf.audio.decode_wav(\n",
        "          file_contents,\n",
        "          desired_channels=1)\n",
        "    wav = tf.squeeze(wav, axis=-1)\n",
        "    sample_rate = tf.cast(sample_rate, dtype=tf.int64)\n",
        "    wav = tfio.audio.resample(wav, rate_in=sample_rate, rate_out=16000)\n",
        "    return wav\n",
        "\n",
        "def load_wav_for_map(filename, label, fold):\n",
        "      return load_wav_16k_mono(filename), label, fold\n",
        "\n",
        "def load_ds(path, class_names, fold_names=['']):\n",
        "\n",
        "    filenames = []\n",
        "    labels = []\n",
        "    folds = []\n",
        "\n",
        "    for class_name in class_names:\n",
        "        print('processing files for ' + class_name, end=' ... ')\n",
        "\n",
        "        for fold in fold_names:\n",
        "            files_path = os.path.join(path, class_name, fold)\n",
        "\n",
        "            for filename in os.listdir(files_path):\n",
        "                filenames.append(os.path.join(files_path, filename))\n",
        "                labels.append(class_names.index(class_name))\n",
        "\n",
        "                try:\n",
        "                    folds.append(FOLDS.index(fold))\n",
        "                except ValueError:\n",
        "                    folds.append(0)\n",
        "\n",
        "        print('√')\n",
        "\n",
        "    return tf.data.Dataset.from_tensor_slices((filenames, labels, folds))"
      ],
      "execution_count": 8,
      "outputs": []
    },
    {
      "cell_type": "code",
      "metadata": {
        "colab": {
          "base_uri": "https://localhost:8080/"
        },
        "id": "GITkVJBJM5kw",
        "outputId": "efe3cdda-db0a-4158-b01f-b051fd735f11"
      },
      "source": [
        "atick_ds = load_ds(ATICK_DATA_DIR, EMOTIONS, FOLDS)\n",
        "valentina_ds = load_ds(VALENTINA_DATA_DIR, EMOTIONS)\n",
        "\n",
        "# atick_ds.element_spec"
      ],
      "execution_count": 9,
      "outputs": [
        {
          "output_type": "stream",
          "text": [
            "processing files for Approval ... √\n",
            "processing files for Disapproval ... √\n",
            "processing files for Neutral ... √\n",
            "processing files for Approval ... √\n",
            "processing files for Disapproval ... √\n",
            "processing files for Neutral ... √\n"
          ],
          "name": "stdout"
        }
      ]
    },
    {
      "cell_type": "code",
      "metadata": {
        "id": "seqQrNJLlwCH",
        "outputId": "c3802397-4c7b-452a-d58d-fbc641688404",
        "colab": {
          "base_uri": "https://localhost:8080/"
        }
      },
      "source": [
        "atick_ds = atick_ds.map(load_wav_for_map)\n",
        "valentina_ds = valentina_ds.map(load_wav_for_map)"
      ],
      "execution_count": 10,
      "outputs": [
        {
          "output_type": "stream",
          "text": [
            "WARNING:tensorflow:From /usr/local/lib/python3.7/dist-packages/tensorflow/python/ops/parallel_for/pfor.py:2382: calling gather (from tensorflow.python.ops.array_ops) with validate_indices is deprecated and will be removed in a future version.\n",
            "Instructions for updating:\n",
            "The `validate_indices` argument has no effect. Indices are always validated on CPU and never validated on GPU.\n"
          ],
          "name": "stdout"
        },
        {
          "output_type": "stream",
          "text": [
            "WARNING:tensorflow:From /usr/local/lib/python3.7/dist-packages/tensorflow/python/ops/parallel_for/pfor.py:2382: calling gather (from tensorflow.python.ops.array_ops) with validate_indices is deprecated and will be removed in a future version.\n",
            "Instructions for updating:\n",
            "The `validate_indices` argument has no effect. Indices are always validated on CPU and never validated on GPU.\n"
          ],
          "name": "stderr"
        },
        {
          "output_type": "stream",
          "text": [
            "WARNING:tensorflow:Using a while_loop for converting IO>AudioResample\n"
          ],
          "name": "stdout"
        },
        {
          "output_type": "stream",
          "text": [
            "WARNING:tensorflow:Using a while_loop for converting IO>AudioResample\n"
          ],
          "name": "stderr"
        }
      ]
    },
    {
      "cell_type": "code",
      "metadata": {
        "colab": {
          "base_uri": "https://localhost:8080/"
        },
        "id": "air3bRfrPYh7",
        "outputId": "562b8766-f3d9-4c7f-8dd6-55188e61c969"
      },
      "source": [
        "# --------- Embeddings extraction using YAMNET -------------\n",
        "def extract_embedding(wav_data, label, fold):\n",
        "    ''' run YAMNet to extract embedding from the wav data '''\n",
        "    scores, embeddings, spectrogram = yamnet_model(wav_data)\n",
        "    num_embeddings = tf.shape(embeddings)[0]\n",
        "    return (\n",
        "            embeddings,\n",
        "            tf.repeat(label, num_embeddings),\n",
        "            tf.repeat(fold, num_embeddings)\n",
        ")\n",
        "\n",
        "atick_ds = atick_ds.map(extract_embedding).unbatch()\n",
        "valentina_ds = valentina_ds.map(extract_embedding).unbatch()\n",
        "\n",
        "atick_ds.element_spec"
      ],
      "execution_count": 11,
      "outputs": [
        {
          "output_type": "execute_result",
          "data": {
            "text/plain": [
              "(TensorSpec(shape=(1024,), dtype=tf.float32, name=None),\n",
              " TensorSpec(shape=(), dtype=tf.int32, name=None),\n",
              " TensorSpec(shape=(), dtype=tf.int32, name=None))"
            ]
          },
          "metadata": {
            "tags": []
          },
          "execution_count": 11
        }
      ]
    },
    {
      "cell_type": "code",
      "metadata": {
        "id": "m9Dalx5jQtCh"
      },
      "source": [
        "cached_ds_atick = atick_ds.cache()\n",
        "cached_ds_valentina = valentina_ds.cache()\n",
        "\n",
        "train_ds = cached_ds_atick.filter(\n",
        "    lambda embedding, label, fold: fold != FOLDS.index(CONFIG['test_fold'])\n",
        ")\n",
        "val_ds = cached_ds_atick.filter(\n",
        "    lambda embedding, label, fold: fold == FOLDS.index(CONFIG['test_fold'])\n",
        ")\n",
        "\n",
        "test_ds = cached_ds_valentina\n",
        "\n",
        "# train_ds = cached_ds_atick\n",
        "# val_ds = cached_ds_valentina\n",
        "# test_ds = cached_ds_valentina\n",
        "\n",
        "# remove the folds column now that it's not needed anymore\n",
        "remove_fold_column = lambda embedding, label, fold: (embedding, label)\n",
        "\n",
        "train_ds = train_ds.map(remove_fold_column)\n",
        "val_ds = val_ds.map(remove_fold_column)\n",
        "test_ds = test_ds.map(remove_fold_column)\n",
        "\n",
        "train_ds = train_ds.cache().shuffle(1000) .batch(CONFIG['batch_size']) \\\n",
        "                    .prefetch(tf.data.AUTOTUNE)\n",
        "val_ds = val_ds.cache().batch(CONFIG['batch_size']).prefetch(tf.data.AUTOTUNE)\n",
        "test_ds = test_ds.cache().batch(CONFIG['batch_size']).prefetch(tf.data.AUTOTUNE)"
      ],
      "execution_count": 12,
      "outputs": []
    },
    {
      "cell_type": "code",
      "metadata": {
        "colab": {
          "base_uri": "https://localhost:8080/"
        },
        "id": "EHLR-u5fQySE",
        "outputId": "c11696ad-724d-4c8f-9252-247902cb912e"
      },
      "source": [
        "my_model = tf.keras.Sequential([\n",
        "    tf.keras.layers.Input(shape=(1024), dtype=tf.float32,\n",
        "                          name='input_embedding'),\n",
        "    tf.keras.layers.Dense(512, activation='relu'),\n",
        "    tf.keras.layers.Dropout(0.5),\n",
        "    tf.keras.layers.Dense(len(EMOTIONS))\n",
        "], name='my_model')\n",
        "\n",
        "my_model.summary()"
      ],
      "execution_count": 13,
      "outputs": [
        {
          "output_type": "stream",
          "text": [
            "WARNING:tensorflow:Please add `keras.layers.InputLayer` instead of `keras.Input` to Sequential model. `keras.Input` is intended to be used by Functional model.\n"
          ],
          "name": "stdout"
        },
        {
          "output_type": "stream",
          "text": [
            "WARNING:tensorflow:Please add `keras.layers.InputLayer` instead of `keras.Input` to Sequential model. `keras.Input` is intended to be used by Functional model.\n"
          ],
          "name": "stderr"
        },
        {
          "output_type": "stream",
          "text": [
            "Model: \"my_model\"\n",
            "_________________________________________________________________\n",
            "Layer (type)                 Output Shape              Param #   \n",
            "=================================================================\n",
            "dense (Dense)                (None, 512)               524800    \n",
            "_________________________________________________________________\n",
            "dropout (Dropout)            (None, 512)               0         \n",
            "_________________________________________________________________\n",
            "dense_1 (Dense)              (None, 3)                 1539      \n",
            "=================================================================\n",
            "Total params: 526,339\n",
            "Trainable params: 526,339\n",
            "Non-trainable params: 0\n",
            "_________________________________________________________________\n"
          ],
          "name": "stdout"
        }
      ]
    },
    {
      "cell_type": "code",
      "metadata": {
        "id": "Ah5HL32GRbKP"
      },
      "source": [
        "my_model.compile(\n",
        "    loss=tf.keras.losses.SparseCategoricalCrossentropy(from_logits=True),\n",
        "    optimizer=tf.keras.optimizers.Adam(learning_rate=CONFIG['learning_rate']),\n",
        "    metrics=['accuracy']\n",
        ")\n",
        "\n",
        "callback = tf.keras.callbacks.EarlyStopping(\n",
        "    monitor=CONFIG['monitor'],\n",
        "    patience=CONFIG['patience'],\n",
        "    restore_best_weights=True\n",
        ")"
      ],
      "execution_count": 14,
      "outputs": []
    },
    {
      "cell_type": "code",
      "metadata": {
        "colab": {
          "base_uri": "https://localhost:8080/"
        },
        "id": "XZg2kaaiRdoh",
        "outputId": "f868ad5e-2ad8-4cee-c53b-6b9099cc6759"
      },
      "source": [
        "%%time\n",
        "start_time = time.time()\n",
        "\n",
        "history = my_model.fit(\n",
        "    train_ds,\n",
        "    epochs              = 300,\n",
        "    validation_data     = val_ds,\n",
        "    callbacks           = callback,\n",
        "    class_weight        = CONFIG['class_weight']\n",
        ")\n",
        "\n",
        "training_time = time.time() - start_time"
      ],
      "execution_count": 15,
      "outputs": [
        {
          "output_type": "stream",
          "text": [
            "Epoch 1/300\n",
            "6/6 [==============================] - 51s 7s/step - loss: 1.1611 - accuracy: 0.3683 - val_loss: 1.0543 - val_accuracy: 0.4117\n",
            "Epoch 2/300\n",
            "6/6 [==============================] - 1s 94ms/step - loss: 1.1178 - accuracy: 0.4215 - val_loss: 1.0483 - val_accuracy: 0.4337\n",
            "Epoch 3/300\n",
            "6/6 [==============================] - 1s 103ms/step - loss: 1.0965 - accuracy: 0.4552 - val_loss: 1.0435 - val_accuracy: 0.4479\n",
            "Epoch 4/300\n",
            "6/6 [==============================] - 1s 91ms/step - loss: 1.0800 - accuracy: 0.4808 - val_loss: 1.0393 - val_accuracy: 0.4589\n",
            "Epoch 5/300\n",
            "6/6 [==============================] - 1s 99ms/step - loss: 1.0575 - accuracy: 0.5079 - val_loss: 1.0356 - val_accuracy: 0.4748\n",
            "Epoch 6/300\n",
            "6/6 [==============================] - 1s 98ms/step - loss: 1.0385 - accuracy: 0.5316 - val_loss: 1.0319 - val_accuracy: 0.4840\n",
            "Epoch 7/300\n",
            "6/6 [==============================] - 1s 105ms/step - loss: 1.0214 - accuracy: 0.5464 - val_loss: 1.0286 - val_accuracy: 0.4920\n",
            "Epoch 8/300\n",
            "6/6 [==============================] - 1s 96ms/step - loss: 1.0026 - accuracy: 0.5733 - val_loss: 1.0255 - val_accuracy: 0.4951\n",
            "Epoch 9/300\n",
            "6/6 [==============================] - 1s 95ms/step - loss: 0.9900 - accuracy: 0.5862 - val_loss: 1.0226 - val_accuracy: 0.5080\n",
            "Epoch 10/300\n",
            "6/6 [==============================] - 1s 102ms/step - loss: 0.9727 - accuracy: 0.6049 - val_loss: 1.0200 - val_accuracy: 0.5086\n",
            "Epoch 11/300\n",
            "6/6 [==============================] - 1s 93ms/step - loss: 0.9556 - accuracy: 0.6276 - val_loss: 1.0177 - val_accuracy: 0.5129\n",
            "Epoch 12/300\n",
            "6/6 [==============================] - 1s 104ms/step - loss: 0.9446 - accuracy: 0.6355 - val_loss: 1.0154 - val_accuracy: 0.5123\n",
            "Epoch 13/300\n",
            "6/6 [==============================] - 1s 91ms/step - loss: 0.9271 - accuracy: 0.6516 - val_loss: 1.0133 - val_accuracy: 0.5092\n",
            "Epoch 14/300\n",
            "6/6 [==============================] - 1s 105ms/step - loss: 0.9176 - accuracy: 0.6654 - val_loss: 1.0114 - val_accuracy: 0.5129\n",
            "Epoch 15/300\n",
            "6/6 [==============================] - 1s 102ms/step - loss: 0.9007 - accuracy: 0.6799 - val_loss: 1.0095 - val_accuracy: 0.5104\n",
            "Epoch 16/300\n",
            "6/6 [==============================] - 1s 105ms/step - loss: 0.8915 - accuracy: 0.6779 - val_loss: 1.0078 - val_accuracy: 0.5135\n",
            "Epoch 17/300\n",
            "6/6 [==============================] - 1s 96ms/step - loss: 0.8805 - accuracy: 0.6885 - val_loss: 1.0061 - val_accuracy: 0.5166\n",
            "Epoch 18/300\n",
            "6/6 [==============================] - 1s 101ms/step - loss: 0.8634 - accuracy: 0.7036 - val_loss: 1.0045 - val_accuracy: 0.5178\n",
            "Epoch 19/300\n",
            "6/6 [==============================] - 1s 96ms/step - loss: 0.8549 - accuracy: 0.7040 - val_loss: 1.0030 - val_accuracy: 0.5221\n",
            "Epoch 20/300\n",
            "6/6 [==============================] - 1s 99ms/step - loss: 0.8438 - accuracy: 0.7189 - val_loss: 1.0016 - val_accuracy: 0.5233\n",
            "Epoch 21/300\n",
            "6/6 [==============================] - 1s 102ms/step - loss: 0.8352 - accuracy: 0.7205 - val_loss: 1.0002 - val_accuracy: 0.5233\n",
            "Epoch 22/300\n",
            "6/6 [==============================] - 1s 98ms/step - loss: 0.8187 - accuracy: 0.7282 - val_loss: 0.9992 - val_accuracy: 0.5270\n",
            "Epoch 23/300\n",
            "6/6 [==============================] - 1s 104ms/step - loss: 0.8143 - accuracy: 0.7292 - val_loss: 0.9982 - val_accuracy: 0.5276\n",
            "Epoch 24/300\n",
            "6/6 [==============================] - 1s 97ms/step - loss: 0.7998 - accuracy: 0.7333 - val_loss: 0.9969 - val_accuracy: 0.5276\n",
            "Epoch 25/300\n",
            "6/6 [==============================] - 1s 106ms/step - loss: 0.7904 - accuracy: 0.7442 - val_loss: 0.9956 - val_accuracy: 0.5288\n",
            "Epoch 26/300\n",
            "6/6 [==============================] - 1s 106ms/step - loss: 0.7820 - accuracy: 0.7426 - val_loss: 0.9946 - val_accuracy: 0.5319\n",
            "Epoch 27/300\n",
            "6/6 [==============================] - 1s 99ms/step - loss: 0.7751 - accuracy: 0.7497 - val_loss: 0.9939 - val_accuracy: 0.5307\n",
            "Epoch 28/300\n",
            "6/6 [==============================] - 1s 95ms/step - loss: 0.7612 - accuracy: 0.7548 - val_loss: 0.9928 - val_accuracy: 0.5307\n",
            "Epoch 29/300\n",
            "6/6 [==============================] - 1s 107ms/step - loss: 0.7576 - accuracy: 0.7529 - val_loss: 0.9919 - val_accuracy: 0.5313\n",
            "Epoch 30/300\n",
            "6/6 [==============================] - 1s 93ms/step - loss: 0.7500 - accuracy: 0.7603 - val_loss: 0.9911 - val_accuracy: 0.5313\n",
            "Epoch 31/300\n",
            "6/6 [==============================] - 1s 106ms/step - loss: 0.7388 - accuracy: 0.7630 - val_loss: 0.9905 - val_accuracy: 0.5319\n",
            "Epoch 32/300\n",
            "6/6 [==============================] - 1s 98ms/step - loss: 0.7347 - accuracy: 0.7612 - val_loss: 0.9899 - val_accuracy: 0.5307\n",
            "Epoch 33/300\n",
            "6/6 [==============================] - 1s 109ms/step - loss: 0.7233 - accuracy: 0.7711 - val_loss: 0.9894 - val_accuracy: 0.5313\n",
            "Epoch 34/300\n",
            "6/6 [==============================] - 1s 93ms/step - loss: 0.7185 - accuracy: 0.7692 - val_loss: 0.9887 - val_accuracy: 0.5301\n",
            "Epoch 35/300\n",
            "6/6 [==============================] - 1s 104ms/step - loss: 0.7126 - accuracy: 0.7697 - val_loss: 0.9883 - val_accuracy: 0.5294\n",
            "Epoch 36/300\n",
            "6/6 [==============================] - 1s 102ms/step - loss: 0.7038 - accuracy: 0.7728 - val_loss: 0.9875 - val_accuracy: 0.5282\n",
            "Epoch 37/300\n",
            "6/6 [==============================] - 1s 98ms/step - loss: 0.7015 - accuracy: 0.7737 - val_loss: 0.9869 - val_accuracy: 0.5276\n",
            "Epoch 38/300\n",
            "6/6 [==============================] - 1s 94ms/step - loss: 0.6874 - accuracy: 0.7778 - val_loss: 0.9864 - val_accuracy: 0.5270\n",
            "Epoch 39/300\n",
            "6/6 [==============================] - 1s 98ms/step - loss: 0.6853 - accuracy: 0.7728 - val_loss: 0.9858 - val_accuracy: 0.5258\n",
            "Epoch 40/300\n",
            "6/6 [==============================] - 1s 95ms/step - loss: 0.6774 - accuracy: 0.7861 - val_loss: 0.9851 - val_accuracy: 0.5258\n",
            "Epoch 41/300\n",
            "6/6 [==============================] - 1s 102ms/step - loss: 0.6699 - accuracy: 0.7783 - val_loss: 0.9846 - val_accuracy: 0.5264\n",
            "Epoch 42/300\n",
            "6/6 [==============================] - 1s 107ms/step - loss: 0.6648 - accuracy: 0.7866 - val_loss: 0.9844 - val_accuracy: 0.5270\n",
            "Epoch 43/300\n",
            "6/6 [==============================] - 1s 102ms/step - loss: 0.6567 - accuracy: 0.7873 - val_loss: 0.9837 - val_accuracy: 0.5276\n",
            "Epoch 44/300\n",
            "6/6 [==============================] - 1s 104ms/step - loss: 0.6521 - accuracy: 0.7886 - val_loss: 0.9833 - val_accuracy: 0.5288\n",
            "Epoch 45/300\n",
            "6/6 [==============================] - 1s 96ms/step - loss: 0.6467 - accuracy: 0.7919 - val_loss: 0.9830 - val_accuracy: 0.5282\n",
            "Epoch 46/300\n",
            "6/6 [==============================] - 1s 102ms/step - loss: 0.6405 - accuracy: 0.7916 - val_loss: 0.9827 - val_accuracy: 0.5301\n",
            "Epoch 47/300\n",
            "6/6 [==============================] - 1s 100ms/step - loss: 0.6364 - accuracy: 0.7957 - val_loss: 0.9823 - val_accuracy: 0.5325\n",
            "Epoch 48/300\n",
            "6/6 [==============================] - 1s 92ms/step - loss: 0.6290 - accuracy: 0.7972 - val_loss: 0.9816 - val_accuracy: 0.5325\n",
            "Epoch 49/300\n",
            "6/6 [==============================] - 1s 105ms/step - loss: 0.6320 - accuracy: 0.7938 - val_loss: 0.9810 - val_accuracy: 0.5325\n",
            "Epoch 50/300\n",
            "6/6 [==============================] - 1s 97ms/step - loss: 0.6229 - accuracy: 0.7933 - val_loss: 0.9805 - val_accuracy: 0.5325\n",
            "Epoch 51/300\n",
            "6/6 [==============================] - 1s 101ms/step - loss: 0.6136 - accuracy: 0.7957 - val_loss: 0.9798 - val_accuracy: 0.5319\n",
            "Epoch 52/300\n",
            "6/6 [==============================] - 1s 105ms/step - loss: 0.6112 - accuracy: 0.8010 - val_loss: 0.9792 - val_accuracy: 0.5325\n",
            "Epoch 53/300\n",
            "6/6 [==============================] - 1s 100ms/step - loss: 0.6035 - accuracy: 0.8007 - val_loss: 0.9782 - val_accuracy: 0.5325\n",
            "Epoch 54/300\n",
            "6/6 [==============================] - 1s 91ms/step - loss: 0.6026 - accuracy: 0.8036 - val_loss: 0.9774 - val_accuracy: 0.5337\n",
            "Epoch 55/300\n",
            "6/6 [==============================] - 1s 99ms/step - loss: 0.5972 - accuracy: 0.8051 - val_loss: 0.9768 - val_accuracy: 0.5344\n",
            "Epoch 56/300\n",
            "6/6 [==============================] - 1s 91ms/step - loss: 0.5919 - accuracy: 0.8073 - val_loss: 0.9760 - val_accuracy: 0.5356\n",
            "Epoch 57/300\n",
            "6/6 [==============================] - 1s 111ms/step - loss: 0.5847 - accuracy: 0.8127 - val_loss: 0.9752 - val_accuracy: 0.5350\n",
            "Epoch 58/300\n",
            "6/6 [==============================] - 1s 94ms/step - loss: 0.5814 - accuracy: 0.8060 - val_loss: 0.9745 - val_accuracy: 0.5350\n",
            "Epoch 59/300\n",
            "6/6 [==============================] - 1s 101ms/step - loss: 0.5771 - accuracy: 0.8140 - val_loss: 0.9737 - val_accuracy: 0.5331\n",
            "Epoch 60/300\n",
            "6/6 [==============================] - 1s 99ms/step - loss: 0.5783 - accuracy: 0.8063 - val_loss: 0.9733 - val_accuracy: 0.5331\n",
            "Epoch 61/300\n",
            "6/6 [==============================] - 1s 99ms/step - loss: 0.5734 - accuracy: 0.8080 - val_loss: 0.9728 - val_accuracy: 0.5337\n",
            "Epoch 62/300\n",
            "6/6 [==============================] - 1s 101ms/step - loss: 0.5701 - accuracy: 0.8091 - val_loss: 0.9720 - val_accuracy: 0.5344\n",
            "Epoch 63/300\n",
            "6/6 [==============================] - 1s 106ms/step - loss: 0.5652 - accuracy: 0.8070 - val_loss: 0.9712 - val_accuracy: 0.5337\n",
            "Epoch 64/300\n",
            "6/6 [==============================] - 1s 103ms/step - loss: 0.5607 - accuracy: 0.8146 - val_loss: 0.9704 - val_accuracy: 0.5344\n",
            "Epoch 65/300\n",
            "6/6 [==============================] - 1s 101ms/step - loss: 0.5591 - accuracy: 0.8170 - val_loss: 0.9695 - val_accuracy: 0.5356\n",
            "Epoch 66/300\n",
            "6/6 [==============================] - 1s 96ms/step - loss: 0.5570 - accuracy: 0.8149 - val_loss: 0.9688 - val_accuracy: 0.5356\n",
            "Epoch 67/300\n",
            "6/6 [==============================] - 1s 99ms/step - loss: 0.5522 - accuracy: 0.8127 - val_loss: 0.9681 - val_accuracy: 0.5374\n",
            "Epoch 68/300\n",
            "6/6 [==============================] - 1s 93ms/step - loss: 0.5450 - accuracy: 0.8140 - val_loss: 0.9674 - val_accuracy: 0.5374\n",
            "Epoch 69/300\n",
            "6/6 [==============================] - 1s 103ms/step - loss: 0.5433 - accuracy: 0.8185 - val_loss: 0.9668 - val_accuracy: 0.5380\n",
            "Epoch 70/300\n",
            "6/6 [==============================] - 1s 93ms/step - loss: 0.5480 - accuracy: 0.8156 - val_loss: 0.9663 - val_accuracy: 0.5374\n",
            "Epoch 71/300\n",
            "6/6 [==============================] - 1s 101ms/step - loss: 0.5376 - accuracy: 0.8209 - val_loss: 0.9657 - val_accuracy: 0.5362\n",
            "Epoch 72/300\n",
            "6/6 [==============================] - 1s 94ms/step - loss: 0.5364 - accuracy: 0.8219 - val_loss: 0.9650 - val_accuracy: 0.5356\n",
            "Epoch 73/300\n",
            "6/6 [==============================] - 1s 100ms/step - loss: 0.5340 - accuracy: 0.8152 - val_loss: 0.9645 - val_accuracy: 0.5362\n",
            "Epoch 74/300\n",
            "6/6 [==============================] - 1s 94ms/step - loss: 0.5298 - accuracy: 0.8230 - val_loss: 0.9639 - val_accuracy: 0.5368\n",
            "Epoch 75/300\n",
            "6/6 [==============================] - 1s 107ms/step - loss: 0.5261 - accuracy: 0.8255 - val_loss: 0.9634 - val_accuracy: 0.5362\n",
            "Epoch 76/300\n",
            "6/6 [==============================] - 1s 91ms/step - loss: 0.5243 - accuracy: 0.8199 - val_loss: 0.9629 - val_accuracy: 0.5356\n",
            "Epoch 77/300\n",
            "6/6 [==============================] - 1s 102ms/step - loss: 0.5215 - accuracy: 0.8255 - val_loss: 0.9621 - val_accuracy: 0.5368\n",
            "Epoch 78/300\n",
            "6/6 [==============================] - 1s 103ms/step - loss: 0.5199 - accuracy: 0.8207 - val_loss: 0.9612 - val_accuracy: 0.5368\n",
            "Epoch 79/300\n",
            "6/6 [==============================] - 1s 99ms/step - loss: 0.5192 - accuracy: 0.8175 - val_loss: 0.9603 - val_accuracy: 0.5362\n",
            "Epoch 80/300\n",
            "6/6 [==============================] - 1s 94ms/step - loss: 0.5156 - accuracy: 0.8211 - val_loss: 0.9592 - val_accuracy: 0.5362\n",
            "Epoch 81/300\n",
            "6/6 [==============================] - 1s 102ms/step - loss: 0.5142 - accuracy: 0.8189 - val_loss: 0.9585 - val_accuracy: 0.5362\n",
            "Epoch 82/300\n",
            "6/6 [==============================] - 1s 98ms/step - loss: 0.5133 - accuracy: 0.8231 - val_loss: 0.9579 - val_accuracy: 0.5374\n",
            "Epoch 83/300\n",
            "6/6 [==============================] - 1s 108ms/step - loss: 0.5075 - accuracy: 0.8273 - val_loss: 0.9571 - val_accuracy: 0.5374\n",
            "Epoch 84/300\n",
            "6/6 [==============================] - 1s 94ms/step - loss: 0.5058 - accuracy: 0.8292 - val_loss: 0.9566 - val_accuracy: 0.5380\n",
            "Epoch 85/300\n",
            "6/6 [==============================] - 1s 107ms/step - loss: 0.5084 - accuracy: 0.8219 - val_loss: 0.9560 - val_accuracy: 0.5387\n",
            "Epoch 86/300\n",
            "6/6 [==============================] - 1s 93ms/step - loss: 0.4976 - accuracy: 0.8333 - val_loss: 0.9556 - val_accuracy: 0.5393\n",
            "Epoch 87/300\n",
            "6/6 [==============================] - 1s 107ms/step - loss: 0.4966 - accuracy: 0.8274 - val_loss: 0.9549 - val_accuracy: 0.5405\n",
            "Epoch 88/300\n",
            "6/6 [==============================] - 1s 108ms/step - loss: 0.4976 - accuracy: 0.8278 - val_loss: 0.9544 - val_accuracy: 0.5417\n",
            "Epoch 89/300\n",
            "6/6 [==============================] - 1s 98ms/step - loss: 0.4981 - accuracy: 0.8288 - val_loss: 0.9535 - val_accuracy: 0.5423\n",
            "Epoch 90/300\n",
            "6/6 [==============================] - 1s 94ms/step - loss: 0.4927 - accuracy: 0.8326 - val_loss: 0.9530 - val_accuracy: 0.5429\n",
            "Epoch 91/300\n",
            "6/6 [==============================] - 1s 105ms/step - loss: 0.4901 - accuracy: 0.8345 - val_loss: 0.9523 - val_accuracy: 0.5436\n",
            "Epoch 92/300\n",
            "6/6 [==============================] - 1s 96ms/step - loss: 0.4833 - accuracy: 0.8328 - val_loss: 0.9517 - val_accuracy: 0.5429\n",
            "Epoch 93/300\n",
            "6/6 [==============================] - 1s 105ms/step - loss: 0.4888 - accuracy: 0.8336 - val_loss: 0.9508 - val_accuracy: 0.5454\n",
            "Epoch 94/300\n",
            "6/6 [==============================] - 1s 100ms/step - loss: 0.4827 - accuracy: 0.8302 - val_loss: 0.9495 - val_accuracy: 0.5479\n",
            "Epoch 95/300\n",
            "6/6 [==============================] - 1s 97ms/step - loss: 0.4803 - accuracy: 0.8367 - val_loss: 0.9489 - val_accuracy: 0.5479\n",
            "Epoch 96/300\n",
            "6/6 [==============================] - 1s 104ms/step - loss: 0.4747 - accuracy: 0.8376 - val_loss: 0.9478 - val_accuracy: 0.5485\n",
            "Epoch 97/300\n",
            "6/6 [==============================] - 1s 94ms/step - loss: 0.4794 - accuracy: 0.8338 - val_loss: 0.9468 - val_accuracy: 0.5485\n",
            "Epoch 98/300\n",
            "6/6 [==============================] - 1s 110ms/step - loss: 0.4757 - accuracy: 0.8371 - val_loss: 0.9459 - val_accuracy: 0.5491\n",
            "Epoch 99/300\n",
            "6/6 [==============================] - 1s 103ms/step - loss: 0.4713 - accuracy: 0.8381 - val_loss: 0.9446 - val_accuracy: 0.5503\n",
            "Epoch 100/300\n",
            "6/6 [==============================] - 1s 95ms/step - loss: 0.4728 - accuracy: 0.8309 - val_loss: 0.9438 - val_accuracy: 0.5509\n",
            "Epoch 101/300\n",
            "6/6 [==============================] - 1s 104ms/step - loss: 0.4699 - accuracy: 0.8360 - val_loss: 0.9431 - val_accuracy: 0.5528\n",
            "Epoch 102/300\n",
            "6/6 [==============================] - 1s 94ms/step - loss: 0.4686 - accuracy: 0.8372 - val_loss: 0.9425 - val_accuracy: 0.5546\n",
            "Epoch 103/300\n",
            "6/6 [==============================] - 1s 100ms/step - loss: 0.4692 - accuracy: 0.8345 - val_loss: 0.9417 - val_accuracy: 0.5546\n",
            "Epoch 104/300\n",
            "6/6 [==============================] - 1s 97ms/step - loss: 0.4604 - accuracy: 0.8393 - val_loss: 0.9404 - val_accuracy: 0.5552\n",
            "Epoch 105/300\n",
            "6/6 [==============================] - 1s 104ms/step - loss: 0.4668 - accuracy: 0.8407 - val_loss: 0.9398 - val_accuracy: 0.5558\n",
            "Epoch 106/300\n",
            "6/6 [==============================] - 1s 94ms/step - loss: 0.4607 - accuracy: 0.8431 - val_loss: 0.9386 - val_accuracy: 0.5564\n",
            "Epoch 107/300\n",
            "6/6 [==============================] - 1s 102ms/step - loss: 0.4609 - accuracy: 0.8372 - val_loss: 0.9381 - val_accuracy: 0.5564\n",
            "Epoch 108/300\n",
            "6/6 [==============================] - 1s 99ms/step - loss: 0.4595 - accuracy: 0.8434 - val_loss: 0.9375 - val_accuracy: 0.5577\n",
            "Epoch 109/300\n",
            "6/6 [==============================] - 1s 107ms/step - loss: 0.4566 - accuracy: 0.8377 - val_loss: 0.9367 - val_accuracy: 0.5577\n",
            "Epoch 110/300\n",
            "6/6 [==============================] - 1s 97ms/step - loss: 0.4552 - accuracy: 0.8439 - val_loss: 0.9361 - val_accuracy: 0.5589\n",
            "Epoch 111/300\n",
            "6/6 [==============================] - 1s 104ms/step - loss: 0.4551 - accuracy: 0.8424 - val_loss: 0.9351 - val_accuracy: 0.5607\n",
            "Epoch 112/300\n",
            "6/6 [==============================] - 1s 98ms/step - loss: 0.4541 - accuracy: 0.8415 - val_loss: 0.9338 - val_accuracy: 0.5613\n",
            "Epoch 113/300\n",
            "6/6 [==============================] - 1s 106ms/step - loss: 0.4519 - accuracy: 0.8446 - val_loss: 0.9334 - val_accuracy: 0.5620\n",
            "Epoch 114/300\n",
            "6/6 [==============================] - 1s 93ms/step - loss: 0.4475 - accuracy: 0.8451 - val_loss: 0.9326 - val_accuracy: 0.5626\n",
            "Epoch 115/300\n",
            "6/6 [==============================] - 1s 94ms/step - loss: 0.4472 - accuracy: 0.8425 - val_loss: 0.9316 - val_accuracy: 0.5632\n",
            "Epoch 116/300\n",
            "6/6 [==============================] - 1s 104ms/step - loss: 0.4467 - accuracy: 0.8465 - val_loss: 0.9306 - val_accuracy: 0.5638\n",
            "Epoch 117/300\n",
            "6/6 [==============================] - 1s 111ms/step - loss: 0.4460 - accuracy: 0.8439 - val_loss: 0.9299 - val_accuracy: 0.5638\n",
            "Epoch 118/300\n",
            "6/6 [==============================] - 1s 94ms/step - loss: 0.4471 - accuracy: 0.8455 - val_loss: 0.9291 - val_accuracy: 0.5638\n",
            "Epoch 119/300\n",
            "6/6 [==============================] - 1s 104ms/step - loss: 0.4437 - accuracy: 0.8458 - val_loss: 0.9284 - val_accuracy: 0.5656\n",
            "Epoch 120/300\n",
            "6/6 [==============================] - 1s 110ms/step - loss: 0.4426 - accuracy: 0.8438 - val_loss: 0.9276 - val_accuracy: 0.5663\n",
            "Epoch 121/300\n",
            "6/6 [==============================] - 1s 104ms/step - loss: 0.4432 - accuracy: 0.8420 - val_loss: 0.9264 - val_accuracy: 0.5675\n",
            "Epoch 122/300\n",
            "6/6 [==============================] - 1s 96ms/step - loss: 0.4406 - accuracy: 0.8474 - val_loss: 0.9252 - val_accuracy: 0.5693\n",
            "Epoch 123/300\n",
            "6/6 [==============================] - 1s 99ms/step - loss: 0.4361 - accuracy: 0.8436 - val_loss: 0.9248 - val_accuracy: 0.5693\n",
            "Epoch 124/300\n",
            "6/6 [==============================] - 1s 108ms/step - loss: 0.4394 - accuracy: 0.8420 - val_loss: 0.9240 - val_accuracy: 0.5699\n",
            "Epoch 125/300\n",
            "6/6 [==============================] - 1s 102ms/step - loss: 0.4338 - accuracy: 0.8501 - val_loss: 0.9234 - val_accuracy: 0.5706\n",
            "Epoch 126/300\n",
            "6/6 [==============================] - 1s 100ms/step - loss: 0.4333 - accuracy: 0.8475 - val_loss: 0.9227 - val_accuracy: 0.5718\n",
            "Epoch 127/300\n",
            "6/6 [==============================] - 1s 105ms/step - loss: 0.4350 - accuracy: 0.8474 - val_loss: 0.9221 - val_accuracy: 0.5712\n",
            "Epoch 128/300\n",
            "6/6 [==============================] - 1s 96ms/step - loss: 0.4303 - accuracy: 0.8458 - val_loss: 0.9220 - val_accuracy: 0.5706\n",
            "Epoch 129/300\n",
            "6/6 [==============================] - 1s 109ms/step - loss: 0.4312 - accuracy: 0.8456 - val_loss: 0.9216 - val_accuracy: 0.5706\n",
            "Epoch 130/300\n",
            "6/6 [==============================] - 1s 104ms/step - loss: 0.4342 - accuracy: 0.8475 - val_loss: 0.9211 - val_accuracy: 0.5712\n",
            "Epoch 131/300\n",
            "6/6 [==============================] - 1s 104ms/step - loss: 0.4233 - accuracy: 0.8498 - val_loss: 0.9205 - val_accuracy: 0.5712\n",
            "Epoch 132/300\n",
            "6/6 [==============================] - 1s 96ms/step - loss: 0.4340 - accuracy: 0.8468 - val_loss: 0.9197 - val_accuracy: 0.5718\n",
            "Epoch 133/300\n",
            "6/6 [==============================] - 1s 111ms/step - loss: 0.4312 - accuracy: 0.8498 - val_loss: 0.9195 - val_accuracy: 0.5724\n",
            "Epoch 134/300\n",
            "6/6 [==============================] - 1s 96ms/step - loss: 0.4259 - accuracy: 0.8489 - val_loss: 0.9194 - val_accuracy: 0.5730\n",
            "Epoch 135/300\n",
            "6/6 [==============================] - 1s 114ms/step - loss: 0.4275 - accuracy: 0.8501 - val_loss: 0.9191 - val_accuracy: 0.5724\n",
            "Epoch 136/300\n",
            "6/6 [==============================] - 1s 108ms/step - loss: 0.4195 - accuracy: 0.8518 - val_loss: 0.9180 - val_accuracy: 0.5742\n",
            "Epoch 137/300\n",
            "6/6 [==============================] - 1s 106ms/step - loss: 0.4243 - accuracy: 0.8491 - val_loss: 0.9170 - val_accuracy: 0.5748\n",
            "Epoch 138/300\n",
            "6/6 [==============================] - 1s 91ms/step - loss: 0.4208 - accuracy: 0.8506 - val_loss: 0.9164 - val_accuracy: 0.5755\n",
            "Epoch 139/300\n",
            "6/6 [==============================] - 1s 108ms/step - loss: 0.4213 - accuracy: 0.8486 - val_loss: 0.9156 - val_accuracy: 0.5767\n",
            "Epoch 140/300\n",
            "6/6 [==============================] - 1s 102ms/step - loss: 0.4197 - accuracy: 0.8518 - val_loss: 0.9146 - val_accuracy: 0.5779\n",
            "Epoch 141/300\n",
            "6/6 [==============================] - 1s 101ms/step - loss: 0.4173 - accuracy: 0.8546 - val_loss: 0.9137 - val_accuracy: 0.5779\n",
            "Epoch 142/300\n",
            "6/6 [==============================] - 1s 95ms/step - loss: 0.4202 - accuracy: 0.8479 - val_loss: 0.9128 - val_accuracy: 0.5785\n",
            "Epoch 143/300\n",
            "6/6 [==============================] - 1s 95ms/step - loss: 0.4129 - accuracy: 0.8561 - val_loss: 0.9122 - val_accuracy: 0.5779\n",
            "Epoch 144/300\n",
            "6/6 [==============================] - 1s 103ms/step - loss: 0.4169 - accuracy: 0.8547 - val_loss: 0.9116 - val_accuracy: 0.5779\n",
            "Epoch 145/300\n",
            "6/6 [==============================] - 1s 107ms/step - loss: 0.4151 - accuracy: 0.8503 - val_loss: 0.9109 - val_accuracy: 0.5785\n",
            "Epoch 146/300\n",
            "6/6 [==============================] - 1s 96ms/step - loss: 0.4172 - accuracy: 0.8504 - val_loss: 0.9102 - val_accuracy: 0.5785\n",
            "Epoch 147/300\n",
            "6/6 [==============================] - 1s 107ms/step - loss: 0.4124 - accuracy: 0.8549 - val_loss: 0.9100 - val_accuracy: 0.5785\n",
            "Epoch 148/300\n",
            "6/6 [==============================] - 1s 103ms/step - loss: 0.4114 - accuracy: 0.8546 - val_loss: 0.9100 - val_accuracy: 0.5785\n",
            "Epoch 149/300\n",
            "6/6 [==============================] - 1s 97ms/step - loss: 0.4060 - accuracy: 0.8563 - val_loss: 0.9095 - val_accuracy: 0.5785\n",
            "Epoch 150/300\n",
            "6/6 [==============================] - 1s 105ms/step - loss: 0.4127 - accuracy: 0.8573 - val_loss: 0.9089 - val_accuracy: 0.5785\n",
            "Epoch 151/300\n",
            "6/6 [==============================] - 1s 105ms/step - loss: 0.4108 - accuracy: 0.8546 - val_loss: 0.9082 - val_accuracy: 0.5798\n",
            "Epoch 152/300\n",
            "6/6 [==============================] - 1s 104ms/step - loss: 0.4086 - accuracy: 0.8527 - val_loss: 0.9078 - val_accuracy: 0.5798\n",
            "Epoch 153/300\n",
            "6/6 [==============================] - 1s 101ms/step - loss: 0.4075 - accuracy: 0.8563 - val_loss: 0.9067 - val_accuracy: 0.5798\n",
            "Epoch 154/300\n",
            "6/6 [==============================] - 1s 107ms/step - loss: 0.4043 - accuracy: 0.8590 - val_loss: 0.9062 - val_accuracy: 0.5816\n",
            "Epoch 155/300\n",
            "6/6 [==============================] - 1s 95ms/step - loss: 0.4058 - accuracy: 0.8568 - val_loss: 0.9060 - val_accuracy: 0.5816\n",
            "Epoch 156/300\n",
            "6/6 [==============================] - 1s 103ms/step - loss: 0.4033 - accuracy: 0.8611 - val_loss: 0.9057 - val_accuracy: 0.5822\n",
            "Epoch 157/300\n",
            "6/6 [==============================] - 1s 92ms/step - loss: 0.4042 - accuracy: 0.8553 - val_loss: 0.9052 - val_accuracy: 0.5822\n",
            "Epoch 158/300\n",
            "6/6 [==============================] - 1s 104ms/step - loss: 0.4029 - accuracy: 0.8583 - val_loss: 0.9048 - val_accuracy: 0.5828\n",
            "Epoch 159/300\n",
            "6/6 [==============================] - 1s 105ms/step - loss: 0.4029 - accuracy: 0.8568 - val_loss: 0.9039 - val_accuracy: 0.5834\n",
            "Epoch 160/300\n",
            "6/6 [==============================] - 1s 97ms/step - loss: 0.3986 - accuracy: 0.8602 - val_loss: 0.9032 - val_accuracy: 0.5834\n",
            "Epoch 161/300\n",
            "6/6 [==============================] - 1s 103ms/step - loss: 0.4039 - accuracy: 0.8558 - val_loss: 0.9028 - val_accuracy: 0.5834\n",
            "Epoch 162/300\n",
            "6/6 [==============================] - 1s 94ms/step - loss: 0.3983 - accuracy: 0.8609 - val_loss: 0.9024 - val_accuracy: 0.5828\n",
            "Epoch 163/300\n",
            "6/6 [==============================] - 1s 103ms/step - loss: 0.4008 - accuracy: 0.8585 - val_loss: 0.9019 - val_accuracy: 0.5853\n",
            "Epoch 164/300\n",
            "6/6 [==============================] - 1s 107ms/step - loss: 0.3996 - accuracy: 0.8589 - val_loss: 0.9015 - val_accuracy: 0.5859\n",
            "Epoch 165/300\n",
            "6/6 [==============================] - 1s 108ms/step - loss: 0.3984 - accuracy: 0.8623 - val_loss: 0.9010 - val_accuracy: 0.5859\n",
            "Epoch 166/300\n",
            "6/6 [==============================] - 1s 96ms/step - loss: 0.3944 - accuracy: 0.8613 - val_loss: 0.9011 - val_accuracy: 0.5859\n",
            "Epoch 167/300\n",
            "6/6 [==============================] - 1s 97ms/step - loss: 0.3929 - accuracy: 0.8585 - val_loss: 0.9013 - val_accuracy: 0.5859\n",
            "Epoch 168/300\n",
            "6/6 [==============================] - 1s 99ms/step - loss: 0.3944 - accuracy: 0.8599 - val_loss: 0.9006 - val_accuracy: 0.5859\n",
            "Epoch 169/300\n",
            "6/6 [==============================] - 1s 110ms/step - loss: 0.3921 - accuracy: 0.8606 - val_loss: 0.8998 - val_accuracy: 0.5871\n",
            "Epoch 170/300\n",
            "6/6 [==============================] - 1s 102ms/step - loss: 0.3917 - accuracy: 0.8613 - val_loss: 0.8991 - val_accuracy: 0.5877\n",
            "Epoch 171/300\n",
            "6/6 [==============================] - 1s 95ms/step - loss: 0.3906 - accuracy: 0.8676 - val_loss: 0.8984 - val_accuracy: 0.5877\n",
            "Epoch 172/300\n",
            "6/6 [==============================] - 1s 104ms/step - loss: 0.3939 - accuracy: 0.8590 - val_loss: 0.8974 - val_accuracy: 0.5877\n",
            "Epoch 173/300\n",
            "6/6 [==============================] - 1s 112ms/step - loss: 0.3925 - accuracy: 0.8609 - val_loss: 0.8968 - val_accuracy: 0.5883\n",
            "Epoch 174/300\n",
            "6/6 [==============================] - 1s 108ms/step - loss: 0.3916 - accuracy: 0.8623 - val_loss: 0.8965 - val_accuracy: 0.5883\n",
            "Epoch 175/300\n",
            "6/6 [==============================] - 1s 107ms/step - loss: 0.3898 - accuracy: 0.8599 - val_loss: 0.8968 - val_accuracy: 0.5883\n",
            "Epoch 176/300\n",
            "6/6 [==============================] - 1s 97ms/step - loss: 0.3863 - accuracy: 0.8666 - val_loss: 0.8967 - val_accuracy: 0.5883\n",
            "Epoch 177/300\n",
            "6/6 [==============================] - 1s 101ms/step - loss: 0.3849 - accuracy: 0.8638 - val_loss: 0.8960 - val_accuracy: 0.5890\n",
            "Epoch 178/300\n",
            "6/6 [==============================] - 1s 98ms/step - loss: 0.3889 - accuracy: 0.8623 - val_loss: 0.8955 - val_accuracy: 0.5890\n",
            "Epoch 179/300\n",
            "6/6 [==============================] - 1s 104ms/step - loss: 0.3878 - accuracy: 0.8635 - val_loss: 0.8951 - val_accuracy: 0.5883\n",
            "Epoch 180/300\n",
            "6/6 [==============================] - 1s 103ms/step - loss: 0.3857 - accuracy: 0.8601 - val_loss: 0.8944 - val_accuracy: 0.5883\n",
            "Epoch 181/300\n",
            "6/6 [==============================] - 1s 96ms/step - loss: 0.3879 - accuracy: 0.8599 - val_loss: 0.8938 - val_accuracy: 0.5890\n",
            "Epoch 182/300\n",
            "6/6 [==============================] - 1s 96ms/step - loss: 0.3899 - accuracy: 0.8611 - val_loss: 0.8942 - val_accuracy: 0.5890\n",
            "Epoch 183/300\n",
            "6/6 [==============================] - 1s 97ms/step - loss: 0.3832 - accuracy: 0.8652 - val_loss: 0.8943 - val_accuracy: 0.5890\n",
            "Epoch 184/300\n",
            "6/6 [==============================] - 1s 108ms/step - loss: 0.3817 - accuracy: 0.8633 - val_loss: 0.8937 - val_accuracy: 0.5890\n",
            "Epoch 185/300\n",
            "6/6 [==============================] - 1s 96ms/step - loss: 0.3838 - accuracy: 0.8683 - val_loss: 0.8930 - val_accuracy: 0.5890\n",
            "Epoch 186/300\n",
            "6/6 [==============================] - 1s 100ms/step - loss: 0.3819 - accuracy: 0.8664 - val_loss: 0.8923 - val_accuracy: 0.5883\n",
            "Epoch 187/300\n",
            "6/6 [==============================] - 1s 107ms/step - loss: 0.3817 - accuracy: 0.8657 - val_loss: 0.8916 - val_accuracy: 0.5883\n",
            "Epoch 188/300\n",
            "6/6 [==============================] - 1s 95ms/step - loss: 0.3771 - accuracy: 0.8654 - val_loss: 0.8914 - val_accuracy: 0.5883\n",
            "Epoch 189/300\n",
            "6/6 [==============================] - 1s 106ms/step - loss: 0.3769 - accuracy: 0.8645 - val_loss: 0.8913 - val_accuracy: 0.5908\n",
            "Epoch 190/300\n",
            "6/6 [==============================] - 1s 105ms/step - loss: 0.3828 - accuracy: 0.8628 - val_loss: 0.8913 - val_accuracy: 0.5914\n",
            "Epoch 191/300\n",
            "6/6 [==============================] - 1s 104ms/step - loss: 0.3828 - accuracy: 0.8650 - val_loss: 0.8914 - val_accuracy: 0.5908\n",
            "Epoch 192/300\n",
            "6/6 [==============================] - 1s 94ms/step - loss: 0.3782 - accuracy: 0.8650 - val_loss: 0.8910 - val_accuracy: 0.5914\n",
            "Epoch 193/300\n",
            "6/6 [==============================] - 1s 104ms/step - loss: 0.3781 - accuracy: 0.8628 - val_loss: 0.8910 - val_accuracy: 0.5914\n",
            "Epoch 194/300\n",
            "6/6 [==============================] - 1s 97ms/step - loss: 0.3790 - accuracy: 0.8657 - val_loss: 0.8902 - val_accuracy: 0.5920\n",
            "Epoch 195/300\n",
            "6/6 [==============================] - 1s 106ms/step - loss: 0.3775 - accuracy: 0.8662 - val_loss: 0.8907 - val_accuracy: 0.5926\n",
            "Epoch 196/300\n",
            "6/6 [==============================] - 1s 101ms/step - loss: 0.3749 - accuracy: 0.8702 - val_loss: 0.8901 - val_accuracy: 0.5926\n",
            "Epoch 197/300\n",
            "6/6 [==============================] - 1s 107ms/step - loss: 0.3755 - accuracy: 0.8683 - val_loss: 0.8896 - val_accuracy: 0.5926\n",
            "Epoch 198/300\n",
            "6/6 [==============================] - 1s 97ms/step - loss: 0.3718 - accuracy: 0.8674 - val_loss: 0.8888 - val_accuracy: 0.5945\n",
            "Epoch 199/300\n",
            "6/6 [==============================] - 1s 93ms/step - loss: 0.3735 - accuracy: 0.8652 - val_loss: 0.8885 - val_accuracy: 0.5951\n",
            "Epoch 200/300\n",
            "6/6 [==============================] - 1s 105ms/step - loss: 0.3742 - accuracy: 0.8673 - val_loss: 0.8878 - val_accuracy: 0.5951\n",
            "Epoch 201/300\n",
            "6/6 [==============================] - 1s 93ms/step - loss: 0.3721 - accuracy: 0.8698 - val_loss: 0.8872 - val_accuracy: 0.5957\n",
            "Epoch 202/300\n",
            "6/6 [==============================] - 1s 105ms/step - loss: 0.3717 - accuracy: 0.8681 - val_loss: 0.8866 - val_accuracy: 0.5969\n",
            "Epoch 203/300\n",
            "6/6 [==============================] - 1s 95ms/step - loss: 0.3731 - accuracy: 0.8678 - val_loss: 0.8860 - val_accuracy: 0.5969\n",
            "Epoch 204/300\n",
            "6/6 [==============================] - 1s 105ms/step - loss: 0.3707 - accuracy: 0.8709 - val_loss: 0.8852 - val_accuracy: 0.5975\n",
            "Epoch 205/300\n",
            "6/6 [==============================] - 1s 98ms/step - loss: 0.3730 - accuracy: 0.8671 - val_loss: 0.8847 - val_accuracy: 0.5975\n",
            "Epoch 206/300\n",
            "6/6 [==============================] - 1s 106ms/step - loss: 0.3702 - accuracy: 0.8673 - val_loss: 0.8847 - val_accuracy: 0.5975\n",
            "Epoch 207/300\n",
            "6/6 [==============================] - 1s 105ms/step - loss: 0.3702 - accuracy: 0.8662 - val_loss: 0.8845 - val_accuracy: 0.5988\n",
            "Epoch 208/300\n",
            "6/6 [==============================] - 1s 98ms/step - loss: 0.3667 - accuracy: 0.8697 - val_loss: 0.8842 - val_accuracy: 0.5988\n",
            "Epoch 209/300\n",
            "6/6 [==============================] - 1s 103ms/step - loss: 0.3680 - accuracy: 0.8695 - val_loss: 0.8833 - val_accuracy: 0.5994\n",
            "Epoch 210/300\n",
            "6/6 [==============================] - 1s 100ms/step - loss: 0.3670 - accuracy: 0.8721 - val_loss: 0.8825 - val_accuracy: 0.6000\n",
            "Epoch 211/300\n",
            "6/6 [==============================] - 1s 98ms/step - loss: 0.3671 - accuracy: 0.8709 - val_loss: 0.8820 - val_accuracy: 0.5994\n",
            "Epoch 212/300\n",
            "6/6 [==============================] - 1s 107ms/step - loss: 0.3699 - accuracy: 0.8700 - val_loss: 0.8824 - val_accuracy: 0.5994\n",
            "Epoch 213/300\n",
            "6/6 [==============================] - 1s 104ms/step - loss: 0.3629 - accuracy: 0.8723 - val_loss: 0.8829 - val_accuracy: 0.6000\n",
            "Epoch 214/300\n",
            "6/6 [==============================] - 1s 111ms/step - loss: 0.3614 - accuracy: 0.8750 - val_loss: 0.8836 - val_accuracy: 0.5994\n",
            "CPU times: user 5min 31s, sys: 5.76 s, total: 5min 37s\n",
            "Wall time: 4min 7s\n"
          ],
          "name": "stdout"
        }
      ]
    },
    {
      "cell_type": "markdown",
      "metadata": {
        "id": "eBBqPTPGM05Y"
      },
      "source": [
        "<h3 align=\"center\">RESULTS</h3>"
      ]
    },
    {
      "cell_type": "code",
      "metadata": {
        "colab": {
          "base_uri": "https://localhost:8080/"
        },
        "id": "qNa_DUbeRfUe",
        "outputId": "6a4cb456-2088-4d98-b42a-af31ed571ed6"
      },
      "source": [
        "%%time\n",
        "\n",
        "# ---------------- Testing on valentina's data -------------------\n",
        "\n",
        "start_time = time.time()\n",
        "\n",
        "loss, accuracy = my_model.evaluate(test_ds, batch_size=CONFIG['batch_size'])\n",
        "\n",
        "print(\"Loss: \", loss)\n",
        "print(\"Accuracy: \", accuracy)\n",
        "\n",
        "testing_time = time.time() - start_time"
      ],
      "execution_count": 16,
      "outputs": [
        {
          "output_type": "stream",
          "text": [
            "5/5 [==============================] - 34s 6s/step - loss: 0.3884 - accuracy: 0.8706\n",
            "Loss:  0.38836169242858887\n",
            "Accuracy:  0.8705952763557434\n",
            "CPU times: user 45.1 s, sys: 1.22 s, total: 46.3 s\n",
            "Wall time: 34.1 s\n"
          ],
          "name": "stdout"
        }
      ]
    },
    {
      "cell_type": "code",
      "metadata": {
        "colab": {
          "base_uri": "https://localhost:8080/",
          "height": 269
        },
        "id": "tNlI2jCwYMP2",
        "outputId": "c226f768-d412-4f3c-8762-96cedacd415f"
      },
      "source": [
        "metrics = history.history\n",
        "plt.plot(history.epoch, metrics['loss'], metrics['val_loss'])\n",
        "plt.legend(['loss', 'val_loss'])\n",
        "plt.show()"
      ],
      "execution_count": 17,
      "outputs": [
        {
          "output_type": "display_data",
          "data": {
            "image/png": "[encoded data removed]",
            "text/plain": [
              "<Figure size 432x288 with 1 Axes>"
            ]
          },
          "metadata": {
            "tags": [],
            "needs_background": "light"
          }
        }
      ]
    },
    {
      "cell_type": "code",
      "metadata": {
        "colab": {
          "base_uri": "https://localhost:8080/"
        },
        "id": "64yDjLXOO6Ot",
        "outputId": "f4aa2f95-ba3a-48cb-97bd-2ced20fae96d"
      },
      "source": [
        "# ------------------ Testing on Aticks's data -----------------\n",
        "\n",
        "test_labels = []\n",
        "for _, label in val_ds:\n",
        "    test_labels += (label.numpy().tolist())\n",
        "\n",
        "y_true = np.squeeze(np.array(test_labels))\n",
        "y_pred = np.argmax(my_model.predict(val_ds), axis=1)\n",
        "\n",
        "result_atick = classification_report(y_true, y_pred)\n",
        "print(result_atick)"
      ],
      "execution_count": 18,
      "outputs": [
        {
          "output_type": "stream",
          "text": [
            "              precision    recall  f1-score   support\n",
            "\n",
            "           0       0.60      0.38      0.47       715\n",
            "           1       0.41      0.85      0.55       279\n",
            "           2       0.79      0.73      0.76       636\n",
            "\n",
            "    accuracy                           0.60      1630\n",
            "   macro avg       0.60      0.66      0.59      1630\n",
            "weighted avg       0.64      0.60      0.60      1630\n",
            "\n"
          ],
          "name": "stdout"
        }
      ]
    },
    {
      "cell_type": "code",
      "metadata": {
        "colab": {
          "base_uri": "https://localhost:8080/",
          "height": 497
        },
        "id": "WASkxAEVfq4T",
        "outputId": "6a6f638d-0f7c-4d32-f93a-c2dea97ff725"
      },
      "source": [
        "# confusion_mtx_atick = tf.math.confusion_matrix(y_true, y_pred) \n",
        "confusion_mtx_atick = (confusion_matrix(y_true, y_pred, normalize='true') * 100).astype('int')\n",
        "plt.figure(figsize=(10, 8))\n",
        "sns.heatmap(confusion_mtx_atick, xticklabels=EMOTIONS, yticklabels=EMOTIONS, \n",
        "            annot=True, fmt='g')\n",
        "plt.xlabel('Prediction')\n",
        "plt.ylabel('Label')\n",
        "plt.show()"
      ],
      "execution_count": 19,
      "outputs": [
        {
          "output_type": "display_data",
          "data": {
            "image/png": "[encoded data removed]",
            "text/plain": [
              "<Figure size 720x576 with 2 Axes>"
            ]
          },
          "metadata": {
            "tags": [],
            "needs_background": "light"
          }
        }
      ]
    },
    {
      "cell_type": "code",
      "metadata": {
        "colab": {
          "base_uri": "https://localhost:8080/"
        },
        "id": "gfB9RI7mY6kD",
        "outputId": "a2ea5491-2d75-4e4e-bf45-a675721f181d"
      },
      "source": [
        "# ------------------ Testing on Valentina's data -----------------\n",
        "\n",
        "test_labels = []\n",
        "for _, label in test_ds:\n",
        "    test_labels += (label.numpy().tolist())\n",
        "\n",
        "y_true = np.squeeze(np.array(test_labels))\n",
        "y_pred = np.argmax(my_model.predict(test_ds), axis=1)\n",
        "\n",
        "result_valentina = classification_report(y_true, y_pred)\n",
        "print(result_valentina)"
      ],
      "execution_count": 20,
      "outputs": [
        {
          "output_type": "stream",
          "text": [
            "              precision    recall  f1-score   support\n",
            "\n",
            "           0       0.85      0.93      0.89       973\n",
            "           1       0.16      0.35      0.22       217\n",
            "           2       0.97      0.89      0.93      3833\n",
            "\n",
            "    accuracy                           0.87      5023\n",
            "   macro avg       0.66      0.72      0.68      5023\n",
            "weighted avg       0.91      0.87      0.89      5023\n",
            "\n"
          ],
          "name": "stdout"
        }
      ]
    },
    {
      "cell_type": "code",
      "metadata": {
        "colab": {
          "base_uri": "https://localhost:8080/",
          "height": 497
        },
        "id": "IWYlkA31PW11",
        "outputId": "47177a9f-d28f-4e68-a077-9ce2d1b7dad8"
      },
      "source": [
        "# confusion_mtx_valentina = tf.math.confusion_matrix(y_true, y_pred) \n",
        "confusion_mtx_valentina = (confusion_matrix(y_true, y_pred, normalize='true') * 100).astype('int')\n",
        "plt.figure(figsize=(10, 8))\n",
        "sns.heatmap(confusion_mtx_valentina, xticklabels=EMOTIONS, yticklabels=EMOTIONS, \n",
        "            annot=True, fmt='g')\n",
        "plt.xlabel('Prediction')\n",
        "plt.ylabel('Label')\n",
        "plt.show()"
      ],
      "execution_count": 21,
      "outputs": [
        {
          "output_type": "display_data",
          "data": {
            "image/png": "[encoded data removed]",
            "text/plain": [
              "<Figure size 720x576 with 2 Axes>"
            ]
          },
          "metadata": {
            "tags": [],
            "needs_background": "light"
          }
        }
      ]
    },
    {
      "cell_type": "code",
      "metadata": {
        "id": "BUz83N2Blu0L"
      },
      "source": [
        "summary = []\n",
        "my_model.summary(print_fn=lambda x: summary.append(x))\n",
        "CONFIG['architecture'] = summary\n",
        "CONFIG['epochs'] = max(history.epoch)\n",
        "CONFIG['training_time'] = training_time\n",
        "CONFIG['testing_time'] = testing_time\n",
        "CONFIG['cm_atick'] = np.array2string(confusion_mtx_atick)\n",
        "result_list_atick = result_atick.split('\\n')\n",
        "CONFIG['cr_atick'] = result_list_atick\n",
        "CONFIG['cm_valentina'] = np.array2string(confusion_mtx_valentina)\n",
        "result_list_valentina = result_valentina.split('\\n')\n",
        "CONFIG['cr_valentina'] = result_list_valentina"
      ],
      "execution_count": 22,
      "outputs": []
    },
    {
      "cell_type": "code",
      "metadata": {
        "colab": {
          "base_uri": "https://localhost:8080/"
        },
        "id": "rMRTCk5hpljM",
        "outputId": "cc514336-186c-4ca2-f00e-b36d7b4ece76"
      },
      "source": [
        "config = json.dumps(CONFIG, indent=4)\n",
        "print(config)"
      ],
      "execution_count": 23,
      "outputs": [
        {
          "output_type": "stream",
          "text": [
            "{\n",
            "    \"timestamp\": \"2021-05-16 16:28:45.974361\",\n",
            "    \"model\": \"Transfer Learning on YAMNET\",\n",
            "    \"test_fold\": \"Fold 5\",\n",
            "    \"architecture\": [\n",
            "        \"Model: \\\"my_model\\\"\",\n",
            "        \"_________________________________________________________________\",\n",
            "        \"Layer (type)                 Output Shape              Param #   \",\n",
            "        \"=================================================================\",\n",
            "        \"dense (Dense)                (None, 512)               524800    \",\n",
            "        \"_________________________________________________________________\",\n",
            "        \"dropout (Dropout)            (None, 512)               0         \",\n",
            "        \"_________________________________________________________________\",\n",
            "        \"dense_1 (Dense)              (None, 3)                 1539      \",\n",
            "        \"=================================================================\",\n",
            "        \"Total params: 526,339\",\n",
            "        \"Trainable params: 526,339\",\n",
            "        \"Non-trainable params: 0\",\n",
            "        \"_________________________________________________________________\"\n",
            "    ],\n",
            "    \"batch_size\": 1024,\n",
            "    \"epochs\": 213,\n",
            "    \"learning_rate\": 5e-05,\n",
            "    \"monitor\": \"val_loss\",\n",
            "    \"patience\": 3,\n",
            "    \"class_weight\": {\n",
            "        \"0\": 0.71,\n",
            "        \"1\": 2.32,\n",
            "        \"2\": 0.86\n",
            "    },\n",
            "    \"training_time\": 247.90080070495605,\n",
            "    \"testing_time\": 34.13383412361145,\n",
            "    \"cm_atick\": \"[[38 44 17]\\n [14 84  0]\\n [22  4 73]]\",\n",
            "    \"cr_atick\": [\n",
            "        \"              precision    recall  f1-score   support\",\n",
            "        \"\",\n",
            "        \"           0       0.60      0.38      0.47       715\",\n",
            "        \"           1       0.41      0.85      0.55       279\",\n",
            "        \"           2       0.79      0.73      0.76       636\",\n",
            "        \"\",\n",
            "        \"    accuracy                           0.60      1630\",\n",
            "        \"   macro avg       0.60      0.66      0.59      1630\",\n",
            "        \"weighted avg       0.64      0.60      0.60      1630\",\n",
            "        \"\"\n",
            "    ],\n",
            "    \"cm_valentina\": \"[[92  3  3]\\n [35 35 29]\\n [ 2  9 88]]\",\n",
            "    \"cr_valentina\": [\n",
            "        \"              precision    recall  f1-score   support\",\n",
            "        \"\",\n",
            "        \"           0       0.85      0.93      0.89       973\",\n",
            "        \"           1       0.16      0.35      0.22       217\",\n",
            "        \"           2       0.97      0.89      0.93      3833\",\n",
            "        \"\",\n",
            "        \"    accuracy                           0.87      5023\",\n",
            "        \"   macro avg       0.66      0.72      0.68      5023\",\n",
            "        \"weighted avg       0.91      0.87      0.89      5023\",\n",
            "        \"\"\n",
            "    ]\n",
            "}\n"
          ],
          "name": "stdout"
        }
      ]
    },
    {
      "cell_type": "code",
      "metadata": {
        "id": "H2EetqkNN4Je"
      },
      "source": [
        "f = open(LOG_FILE, 'a')\n",
        "f.write('\\n')\n",
        "f.write(config)\n",
        "f.write('\\n')\n",
        "f.close()"
      ],
      "execution_count": 24,
      "outputs": []
    }
  ]
}