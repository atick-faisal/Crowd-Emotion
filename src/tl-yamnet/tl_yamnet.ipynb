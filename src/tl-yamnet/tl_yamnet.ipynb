{
  "nbformat": 4,
  "nbformat_minor": 0,
  "metadata": {
    "accelerator": "GPU",
    "colab": {
      "name": "CE_TE_YAMNET_v4.ipynb",
      "provenance": [],
      "collapsed_sections": [],
      "include_colab_link": true
    },
    "kernelspec": {
      "display_name": "Python 3",
      "language": "python",
      "name": "python3"
    },
    "language_info": {
      "codemirror_mode": {
        "name": "ipython",
        "version": 3
      },
      "file_extension": ".py",
      "mimetype": "text/x-python",
      "name": "python",
      "nbconvert_exporter": "python",
      "pygments_lexer": "ipython3",
      "version": "3.8.5"
    }
  },
  "cells": [
    {
      "cell_type": "markdown",
      "metadata": {
        "id": "view-in-github",
        "colab_type": "text"
      },
      "source": [
        "<a href=\"https://colab.research.google.com/github/atick-faisal/Crowd-Emotion/blob/main/src/tl-yamnet/tl_yamnet.ipynb\" target=\"_parent\"><img src=\"https://colab.research.google.com/assets/colab-badge.svg\" alt=\"Open In Colab\"/></a>"
      ]
    },
    {
      "cell_type": "code",
      "metadata": {
        "id": "vFBbvu88oWgI",
        "colab": {
          "base_uri": "https://localhost:8080/"
        },
        "outputId": "7c95be30-8605-4be8-8c7d-6d481eb8e442"
      },
      "source": [
        "from google.colab import drive\n",
        "drive.mount('/content/drive')"
      ],
      "execution_count": 1,
      "outputs": [
        {
          "output_type": "stream",
          "text": [
            "Drive already mounted at /content/drive; to attempt to forcibly remount, call drive.mount(\"/content/drive\", force_remount=True).\n"
          ],
          "name": "stdout"
        }
      ]
    },
    {
      "cell_type": "code",
      "metadata": {
        "id": "xXm9QHXCkyPe"
      },
      "source": [
        "!pip install -q tensorflow_io\n",
        "!pip install -q tensorflow_datasets\n",
        "!pip install -q tensorflow_hub"
      ],
      "execution_count": 2,
      "outputs": []
    },
    {
      "cell_type": "code",
      "metadata": {
        "colab": {
          "base_uri": "https://localhost:8080/",
          "height": 35
        },
        "id": "ybtLyX0-G9gp",
        "outputId": "8e8e39e8-cd6c-4391-9ddf-c617d32f4ad1"
      },
      "source": [
        "import os\n",
        "import time\n",
        "import json\n",
        "import datetime\n",
        "\n",
        "import numpy as np\n",
        "import seaborn as sns\n",
        "import matplotlib.pyplot as plt\n",
        "\n",
        "import tensorflow as tf\n",
        "import tensorflow_datasets as tfds\n",
        "import tensorflow_hub as hub\n",
        "import tensorflow_io as tfio\n",
        "\n",
        "from sklearn.metrics import classification_report, confusion_matrix\n",
        "\n",
        "tf.random.set_seed(42)\n",
        "\n",
        "tf.__version__"
      ],
      "execution_count": 3,
      "outputs": [
        {
          "output_type": "execute_result",
          "data": {
            "application/vnd.google.colaboratory.intrinsic+json": {
              "type": "string"
            },
            "text/plain": [
              "'2.5.0'"
            ]
          },
          "metadata": {
            "tags": []
          },
          "execution_count": 3
        }
      ]
    },
    {
      "cell_type": "code",
      "metadata": {
        "id": "aKj-FBtiV5px"
      },
      "source": [
        "CONFIG = {\n",
        "    'timestamp'             : str(datetime.datetime.now()),\n",
        "    'model'                 : 'Transfer Learning on YAMNET',\n",
        "    'test_fold'             : 'Valentina Dataset',\n",
        "    'architecture'          : '',\n",
        "    'batch_size'            : 1024,\n",
        "    'epochs'                : 0,\n",
        "    'learning_rate'         : 0.00005,\n",
        "    'monitor'               : 'val_loss',\n",
        "    'patience'              : 3,\n",
        "    'class_weight'          : { 0: 0.71, 1:  2.32, 2: 0.86 },\n",
        "    'training_time'         : 0,\n",
        "    'testing_time'          : 0,\n",
        "    'cm_atick'              : '',\n",
        "    'cr_atick'              : '',\n",
        "    'cm_valentina'          : '',\n",
        "    'cr_valentina'          : ''\n",
        "}"
      ],
      "execution_count": 4,
      "outputs": []
    },
    {
      "cell_type": "code",
      "metadata": {
        "id": "sKEM7cZZOBwG"
      },
      "source": [
        "BASE_DIR            = os.getcwd()\n",
        "LOG_FILE             = '/content/drive/MyDrive/Research/Crowd Emotion Logs/tl_yamnet.txt'\n",
        "FOLDS               = ['Fold 1', 'Fold 2', 'Fold 3', 'Fold 4', 'Fold 5']\n",
        "EMOTIONS            = ['Approval', 'Disapproval', 'Neutral']\n",
        "\n",
        "ATICK_DATA_DIR      = '/content/Dataset-Atick/'\n",
        "VALENTINA_DATA_DIR  = '/content/Dataset-Valentina/'"
      ],
      "execution_count": 5,
      "outputs": []
    },
    {
      "cell_type": "code",
      "metadata": {
        "colab": {
          "base_uri": "https://localhost:8080/"
        },
        "id": "FVSxpCMtHVAN",
        "outputId": "b993d143-7e20-4343-8905-05084b101bd3"
      },
      "source": [
        "%%time\n",
        "\n",
        "# # ----------------- Loading my dataset -------------------\n",
        "# !mkdir /content/Dataset-Atick/\n",
        "# !gdown --id '1zGfANn9GKi9OUMbMehkfzk_Pvhc-b68N'\n",
        "# !tar -xf /content/Atick_CE_Dataset.tar.xz -C /content/Dataset-Atick/\n",
        "\n",
        "# # ----------------- Loading Valentina's dataset -------------------\n",
        "# !mkdir /content/Dataset-Valentina/\n",
        "# !gdown --id '11tC2Nmie9v3ljo60oQJ3sN1rVkorV-N1'\n",
        "# !tar -xf /content/Valentina_CE_Dataset.tar.xz -C /content/Dataset-Valentina/\n"
      ],
      "execution_count": 6,
      "outputs": [
        {
          "output_type": "stream",
          "text": [
            "CPU times: user 2 µs, sys: 0 ns, total: 2 µs\n",
            "Wall time: 5.25 µs\n"
          ],
          "name": "stdout"
        }
      ]
    },
    {
      "cell_type": "code",
      "metadata": {
        "id": "ADFLnQBwHQFt"
      },
      "source": [
        "# ------------- Load YAMNET fron TF-Hub ------------------\n",
        "\n",
        "yamnet_model_handle = 'https://tfhub.dev/google/yamnet/1'\n",
        "yamnet_model = hub.load(yamnet_model_handle)\n"
      ],
      "execution_count": 7,
      "outputs": []
    },
    {
      "cell_type": "code",
      "metadata": {
        "id": "SYbR0YjWI1lL"
      },
      "source": [
        "# --------------- File loading utilities ------------------\n",
        "\n",
        "@tf.function\n",
        "def load_wav_16k_mono(filename):\n",
        "    \"\"\" read in a waveform file and convert to 16 kHz mono \"\"\"\n",
        "    file_contents = tf.io.read_file(filename)\n",
        "    wav, sample_rate = tf.audio.decode_wav(\n",
        "          file_contents,\n",
        "          desired_channels=1)\n",
        "    wav = tf.squeeze(wav, axis=-1)\n",
        "    sample_rate = tf.cast(sample_rate, dtype=tf.int64)\n",
        "    wav = tfio.audio.resample(wav, rate_in=sample_rate, rate_out=16000)\n",
        "    return wav\n",
        "\n",
        "def load_wav_for_map(filename, label, fold):\n",
        "      return load_wav_16k_mono(filename), label, fold\n",
        "\n",
        "def load_ds(path, class_names, fold_names=['']):\n",
        "\n",
        "    filenames = []\n",
        "    labels = []\n",
        "    folds = []\n",
        "\n",
        "    for class_name in class_names:\n",
        "        print('processing files for ' + class_name, end=' ... ')\n",
        "\n",
        "        for fold in fold_names:\n",
        "            files_path = os.path.join(path, class_name, fold)\n",
        "\n",
        "            for filename in os.listdir(files_path):\n",
        "                filenames.append(os.path.join(files_path, filename))\n",
        "                labels.append(class_names.index(class_name))\n",
        "\n",
        "                try:\n",
        "                    folds.append(FOLDS.index(fold))\n",
        "                except ValueError:\n",
        "                    folds.append(0)\n",
        "\n",
        "        print('√')\n",
        "\n",
        "    return tf.data.Dataset.from_tensor_slices((filenames, labels, folds))"
      ],
      "execution_count": 8,
      "outputs": []
    },
    {
      "cell_type": "code",
      "metadata": {
        "colab": {
          "base_uri": "https://localhost:8080/"
        },
        "id": "GITkVJBJM5kw",
        "outputId": "e8f1f151-a759-42c1-bd95-a24cd7bd0f0b"
      },
      "source": [
        "atick_ds = load_ds(ATICK_DATA_DIR, EMOTIONS, FOLDS)\n",
        "valentina_ds = load_ds(VALENTINA_DATA_DIR, EMOTIONS)\n",
        "\n",
        "# atick_ds.element_spec"
      ],
      "execution_count": 9,
      "outputs": [
        {
          "output_type": "stream",
          "text": [
            "processing files for Approval ... √\n",
            "processing files for Disapproval ... √\n",
            "processing files for Neutral ... √\n",
            "processing files for Approval ... √\n",
            "processing files for Disapproval ... √\n",
            "processing files for Neutral ... √\n"
          ],
          "name": "stdout"
        }
      ]
    },
    {
      "cell_type": "code",
      "metadata": {
        "id": "seqQrNJLlwCH",
        "colab": {
          "base_uri": "https://localhost:8080/"
        },
        "outputId": "6650c8c5-4e45-4a3e-eeee-b50c1c779eb3"
      },
      "source": [
        "atick_ds = atick_ds.map(load_wav_for_map)\n",
        "valentina_ds = valentina_ds.map(load_wav_for_map)"
      ],
      "execution_count": 10,
      "outputs": [
        {
          "output_type": "stream",
          "text": [
            "WARNING:tensorflow:From /usr/local/lib/python3.7/dist-packages/tensorflow/python/ops/parallel_for/pfor.py:2382: calling gather (from tensorflow.python.ops.array_ops) with validate_indices is deprecated and will be removed in a future version.\n",
            "Instructions for updating:\n",
            "The `validate_indices` argument has no effect. Indices are always validated on CPU and never validated on GPU.\n"
          ],
          "name": "stdout"
        },
        {
          "output_type": "stream",
          "text": [
            "WARNING:tensorflow:From /usr/local/lib/python3.7/dist-packages/tensorflow/python/ops/parallel_for/pfor.py:2382: calling gather (from tensorflow.python.ops.array_ops) with validate_indices is deprecated and will be removed in a future version.\n",
            "Instructions for updating:\n",
            "The `validate_indices` argument has no effect. Indices are always validated on CPU and never validated on GPU.\n"
          ],
          "name": "stderr"
        },
        {
          "output_type": "stream",
          "text": [
            "WARNING:tensorflow:Using a while_loop for converting IO>AudioResample\n"
          ],
          "name": "stdout"
        },
        {
          "output_type": "stream",
          "text": [
            "WARNING:tensorflow:Using a while_loop for converting IO>AudioResample\n"
          ],
          "name": "stderr"
        }
      ]
    },
    {
      "cell_type": "code",
      "metadata": {
        "colab": {
          "base_uri": "https://localhost:8080/"
        },
        "id": "air3bRfrPYh7",
        "outputId": "8185de34-5eed-4145-df16-9681cf8d594c"
      },
      "source": [
        "# --------- Embeddings extraction using YAMNET -------------\n",
        "def extract_embedding(wav_data, label, fold):\n",
        "    ''' run YAMNet to extract embedding from the wav data '''\n",
        "    scores, embeddings, spectrogram = yamnet_model(wav_data)\n",
        "    num_embeddings = tf.shape(embeddings)[0]\n",
        "    return (\n",
        "            embeddings,\n",
        "            tf.repeat(label, num_embeddings),\n",
        "            tf.repeat(fold, num_embeddings)\n",
        ")\n",
        "\n",
        "atick_ds = atick_ds.map(extract_embedding).unbatch()\n",
        "valentina_ds = valentina_ds.map(extract_embedding).unbatch()\n",
        "\n",
        "atick_ds.element_spec"
      ],
      "execution_count": 11,
      "outputs": [
        {
          "output_type": "execute_result",
          "data": {
            "text/plain": [
              "(TensorSpec(shape=(1024,), dtype=tf.float32, name=None),\n",
              " TensorSpec(shape=(), dtype=tf.int32, name=None),\n",
              " TensorSpec(shape=(), dtype=tf.int32, name=None))"
            ]
          },
          "metadata": {
            "tags": []
          },
          "execution_count": 11
        }
      ]
    },
    {
      "cell_type": "code",
      "metadata": {
        "id": "m9Dalx5jQtCh"
      },
      "source": [
        "cached_ds_atick = atick_ds.cache()\n",
        "cached_ds_valentina = valentina_ds.cache()\n",
        "\n",
        "# train_ds = cached_ds_atick.filter(\n",
        "#     lambda embedding, label, fold: fold != FOLDS.index(CONFIG['test_fold'])\n",
        "# )\n",
        "# val_ds = cached_ds_atick.filter(\n",
        "#     lambda embedding, label, fold: fold == FOLDS.index(CONFIG['test_fold'])\n",
        "# )\n",
        "\n",
        "# test_ds = cached_ds_valentina\n",
        "\n",
        "train_ds = cached_ds_atick\n",
        "val_ds = cached_ds_valentina\n",
        "test_ds = cached_ds_valentina\n",
        "\n",
        "# remove the folds column now that it's not needed anymore\n",
        "remove_fold_column = lambda embedding, label, fold: (embedding, label)\n",
        "\n",
        "train_ds = train_ds.map(remove_fold_column)\n",
        "val_ds = val_ds.map(remove_fold_column)\n",
        "test_ds = test_ds.map(remove_fold_column)\n",
        "\n",
        "train_ds = train_ds.cache().shuffle(1000) .batch(CONFIG['batch_size']) \\\n",
        "                    .prefetch(tf.data.AUTOTUNE)\n",
        "val_ds = val_ds.cache().batch(CONFIG['batch_size']).prefetch(tf.data.AUTOTUNE)\n",
        "test_ds = test_ds.cache().batch(CONFIG['batch_size']).prefetch(tf.data.AUTOTUNE)"
      ],
      "execution_count": 12,
      "outputs": []
    },
    {
      "cell_type": "code",
      "metadata": {
        "colab": {
          "base_uri": "https://localhost:8080/"
        },
        "id": "EHLR-u5fQySE",
        "outputId": "8154fd02-b59b-4897-a486-6991d9aba0fe"
      },
      "source": [
        "my_model = tf.keras.Sequential([\n",
        "    tf.keras.layers.Input(shape=(1024), dtype=tf.float32,\n",
        "                          name='input_embedding'),\n",
        "    tf.keras.layers.Dense(512, activation='relu'),\n",
        "    tf.keras.layers.Dropout(0.5),\n",
        "    tf.keras.layers.Dense(len(EMOTIONS))\n",
        "], name='my_model')\n",
        "\n",
        "my_model.summary()"
      ],
      "execution_count": 13,
      "outputs": [
        {
          "output_type": "stream",
          "text": [
            "WARNING:tensorflow:Please add `keras.layers.InputLayer` instead of `keras.Input` to Sequential model. `keras.Input` is intended to be used by Functional model.\n"
          ],
          "name": "stdout"
        },
        {
          "output_type": "stream",
          "text": [
            "WARNING:tensorflow:Please add `keras.layers.InputLayer` instead of `keras.Input` to Sequential model. `keras.Input` is intended to be used by Functional model.\n"
          ],
          "name": "stderr"
        },
        {
          "output_type": "stream",
          "text": [
            "Model: \"my_model\"\n",
            "_________________________________________________________________\n",
            "Layer (type)                 Output Shape              Param #   \n",
            "=================================================================\n",
            "dense (Dense)                (None, 512)               524800    \n",
            "_________________________________________________________________\n",
            "dropout (Dropout)            (None, 512)               0         \n",
            "_________________________________________________________________\n",
            "dense_1 (Dense)              (None, 3)                 1539      \n",
            "=================================================================\n",
            "Total params: 526,339\n",
            "Trainable params: 526,339\n",
            "Non-trainable params: 0\n",
            "_________________________________________________________________\n"
          ],
          "name": "stdout"
        }
      ]
    },
    {
      "cell_type": "code",
      "metadata": {
        "id": "Ah5HL32GRbKP"
      },
      "source": [
        "my_model.compile(\n",
        "    loss=tf.keras.losses.SparseCategoricalCrossentropy(from_logits=True),\n",
        "    optimizer=tf.keras.optimizers.Adam(learning_rate=CONFIG['learning_rate']),\n",
        "    metrics=['accuracy']\n",
        ")\n",
        "\n",
        "callback = tf.keras.callbacks.EarlyStopping(\n",
        "    monitor=CONFIG['monitor'],\n",
        "    patience=CONFIG['patience'],\n",
        "    restore_best_weights=True\n",
        ")"
      ],
      "execution_count": 14,
      "outputs": []
    },
    {
      "cell_type": "code",
      "metadata": {
        "colab": {
          "base_uri": "https://localhost:8080/"
        },
        "id": "XZg2kaaiRdoh",
        "outputId": "2c5f4831-cd8d-4683-c197-34663affd216"
      },
      "source": [
        "%%time\n",
        "start_time = time.time()\n",
        "\n",
        "history = my_model.fit(\n",
        "    train_ds,\n",
        "    epochs              = 300,\n",
        "    validation_data     = val_ds,\n",
        "    callbacks           = callback,\n",
        "    # class_weight        = CONFIG['class_weight']\n",
        ")\n",
        "\n",
        "training_time = time.time() - start_time"
      ],
      "execution_count": 15,
      "outputs": [
        {
          "output_type": "stream",
          "text": [
            "Epoch 1/300\n",
            "8/8 [==============================] - 99s 12s/step - loss: 1.1075 - accuracy: 0.3589 - val_loss: 0.9371 - val_accuracy: 0.8696\n",
            "Epoch 2/300\n",
            "8/8 [==============================] - 1s 111ms/step - loss: 1.0487 - accuracy: 0.4347 - val_loss: 0.8920 - val_accuracy: 0.8945\n",
            "Epoch 3/300\n",
            "8/8 [==============================] - 1s 109ms/step - loss: 1.0110 - accuracy: 0.4795 - val_loss: 0.8494 - val_accuracy: 0.9096\n",
            "Epoch 4/300\n",
            "8/8 [==============================] - 1s 122ms/step - loss: 0.9860 - accuracy: 0.5079 - val_loss: 0.8109 - val_accuracy: 0.9174\n",
            "Epoch 5/300\n",
            "8/8 [==============================] - 1s 112ms/step - loss: 0.9637 - accuracy: 0.5272 - val_loss: 0.7759 - val_accuracy: 0.9218\n",
            "Epoch 6/300\n",
            "8/8 [==============================] - 1s 115ms/step - loss: 0.9379 - accuracy: 0.5565 - val_loss: 0.7443 - val_accuracy: 0.9249\n",
            "Epoch 7/300\n",
            "8/8 [==============================] - 1s 113ms/step - loss: 0.9228 - accuracy: 0.5696 - val_loss: 0.7158 - val_accuracy: 0.9275\n",
            "Epoch 8/300\n",
            "8/8 [==============================] - 1s 125ms/step - loss: 0.9017 - accuracy: 0.5898 - val_loss: 0.6904 - val_accuracy: 0.9281\n",
            "Epoch 9/300\n",
            "8/8 [==============================] - 1s 122ms/step - loss: 0.8882 - accuracy: 0.6050 - val_loss: 0.6674 - val_accuracy: 0.9297\n",
            "Epoch 10/300\n",
            "8/8 [==============================] - 1s 116ms/step - loss: 0.8698 - accuracy: 0.6291 - val_loss: 0.6460 - val_accuracy: 0.9305\n",
            "Epoch 11/300\n",
            "8/8 [==============================] - 1s 113ms/step - loss: 0.8561 - accuracy: 0.6372 - val_loss: 0.6265 - val_accuracy: 0.9311\n",
            "Epoch 12/300\n",
            "8/8 [==============================] - 1s 108ms/step - loss: 0.8464 - accuracy: 0.6515 - val_loss: 0.6082 - val_accuracy: 0.9315\n",
            "Epoch 13/300\n",
            "8/8 [==============================] - 1s 122ms/step - loss: 0.8312 - accuracy: 0.6661 - val_loss: 0.5914 - val_accuracy: 0.9329\n",
            "Epoch 14/300\n",
            "8/8 [==============================] - 1s 115ms/step - loss: 0.8159 - accuracy: 0.6799 - val_loss: 0.5757 - val_accuracy: 0.9331\n",
            "Epoch 15/300\n",
            "8/8 [==============================] - 1s 109ms/step - loss: 0.8064 - accuracy: 0.6830 - val_loss: 0.5611 - val_accuracy: 0.9323\n",
            "Epoch 16/300\n",
            "8/8 [==============================] - 1s 116ms/step - loss: 0.7935 - accuracy: 0.6999 - val_loss: 0.5475 - val_accuracy: 0.9323\n",
            "Epoch 17/300\n",
            "8/8 [==============================] - 1s 112ms/step - loss: 0.7851 - accuracy: 0.6969 - val_loss: 0.5345 - val_accuracy: 0.9327\n",
            "Epoch 18/300\n",
            "8/8 [==============================] - 1s 112ms/step - loss: 0.7717 - accuracy: 0.7059 - val_loss: 0.5223 - val_accuracy: 0.9327\n",
            "Epoch 19/300\n",
            "8/8 [==============================] - 1s 118ms/step - loss: 0.7601 - accuracy: 0.7200 - val_loss: 0.5106 - val_accuracy: 0.9321\n",
            "Epoch 20/300\n",
            "8/8 [==============================] - 1s 121ms/step - loss: 0.7516 - accuracy: 0.7239 - val_loss: 0.4998 - val_accuracy: 0.9315\n",
            "Epoch 21/300\n",
            "8/8 [==============================] - 1s 110ms/step - loss: 0.7403 - accuracy: 0.7312 - val_loss: 0.4896 - val_accuracy: 0.9309\n",
            "Epoch 22/300\n",
            "8/8 [==============================] - 1s 118ms/step - loss: 0.7354 - accuracy: 0.7279 - val_loss: 0.4802 - val_accuracy: 0.9299\n",
            "Epoch 23/300\n",
            "8/8 [==============================] - 1s 112ms/step - loss: 0.7232 - accuracy: 0.7466 - val_loss: 0.4713 - val_accuracy: 0.9289\n",
            "Epoch 24/300\n",
            "8/8 [==============================] - 1s 113ms/step - loss: 0.7128 - accuracy: 0.7430 - val_loss: 0.4628 - val_accuracy: 0.9283\n",
            "Epoch 25/300\n",
            "8/8 [==============================] - 1s 116ms/step - loss: 0.7016 - accuracy: 0.7460 - val_loss: 0.4547 - val_accuracy: 0.9281\n",
            "Epoch 26/300\n",
            "8/8 [==============================] - 1s 121ms/step - loss: 0.6931 - accuracy: 0.7515 - val_loss: 0.4474 - val_accuracy: 0.9281\n",
            "Epoch 27/300\n",
            "8/8 [==============================] - 1s 125ms/step - loss: 0.6869 - accuracy: 0.7558 - val_loss: 0.4403 - val_accuracy: 0.9267\n",
            "Epoch 28/300\n",
            "8/8 [==============================] - 1s 112ms/step - loss: 0.6786 - accuracy: 0.7636 - val_loss: 0.4335 - val_accuracy: 0.9261\n",
            "Epoch 29/300\n",
            "8/8 [==============================] - 1s 123ms/step - loss: 0.6703 - accuracy: 0.7648 - val_loss: 0.4269 - val_accuracy: 0.9257\n",
            "Epoch 30/300\n",
            "8/8 [==============================] - 1s 113ms/step - loss: 0.6635 - accuracy: 0.7638 - val_loss: 0.4206 - val_accuracy: 0.9251\n",
            "Epoch 31/300\n",
            "8/8 [==============================] - 1s 119ms/step - loss: 0.6520 - accuracy: 0.7699 - val_loss: 0.4147 - val_accuracy: 0.9249\n",
            "Epoch 32/300\n",
            "8/8 [==============================] - 1s 112ms/step - loss: 0.6481 - accuracy: 0.7722 - val_loss: 0.4092 - val_accuracy: 0.9243\n",
            "Epoch 33/300\n",
            "8/8 [==============================] - 1s 116ms/step - loss: 0.6433 - accuracy: 0.7766 - val_loss: 0.4040 - val_accuracy: 0.9239\n",
            "Epoch 34/300\n",
            "8/8 [==============================] - 1s 117ms/step - loss: 0.6329 - accuracy: 0.7766 - val_loss: 0.3991 - val_accuracy: 0.9230\n",
            "Epoch 35/300\n",
            "8/8 [==============================] - 1s 117ms/step - loss: 0.6285 - accuracy: 0.7798 - val_loss: 0.3943 - val_accuracy: 0.9210\n",
            "Epoch 36/300\n",
            "8/8 [==============================] - 1s 119ms/step - loss: 0.6220 - accuracy: 0.7863 - val_loss: 0.3897 - val_accuracy: 0.9200\n",
            "Epoch 37/300\n",
            "8/8 [==============================] - 1s 117ms/step - loss: 0.6154 - accuracy: 0.7858 - val_loss: 0.3855 - val_accuracy: 0.9194\n",
            "Epoch 38/300\n",
            "8/8 [==============================] - 1s 128ms/step - loss: 0.6083 - accuracy: 0.7904 - val_loss: 0.3813 - val_accuracy: 0.9186\n",
            "Epoch 39/300\n",
            "8/8 [==============================] - 1s 111ms/step - loss: 0.6046 - accuracy: 0.7935 - val_loss: 0.3776 - val_accuracy: 0.9184\n",
            "Epoch 40/300\n",
            "8/8 [==============================] - 1s 123ms/step - loss: 0.5987 - accuracy: 0.7921 - val_loss: 0.3738 - val_accuracy: 0.9176\n",
            "Epoch 41/300\n",
            "8/8 [==============================] - 1s 120ms/step - loss: 0.5918 - accuracy: 0.7925 - val_loss: 0.3702 - val_accuracy: 0.9170\n",
            "Epoch 42/300\n",
            "8/8 [==============================] - 1s 123ms/step - loss: 0.5896 - accuracy: 0.7925 - val_loss: 0.3669 - val_accuracy: 0.9170\n",
            "Epoch 43/300\n",
            "8/8 [==============================] - 1s 118ms/step - loss: 0.5843 - accuracy: 0.7961 - val_loss: 0.3638 - val_accuracy: 0.9164\n",
            "Epoch 44/300\n",
            "8/8 [==============================] - 1s 112ms/step - loss: 0.5808 - accuracy: 0.7942 - val_loss: 0.3609 - val_accuracy: 0.9158\n",
            "Epoch 45/300\n",
            "8/8 [==============================] - 1s 110ms/step - loss: 0.5755 - accuracy: 0.7982 - val_loss: 0.3583 - val_accuracy: 0.9156\n",
            "Epoch 46/300\n",
            "8/8 [==============================] - 1s 118ms/step - loss: 0.5699 - accuracy: 0.8008 - val_loss: 0.3557 - val_accuracy: 0.9148\n",
            "Epoch 47/300\n",
            "8/8 [==============================] - 1s 122ms/step - loss: 0.5666 - accuracy: 0.7994 - val_loss: 0.3532 - val_accuracy: 0.9140\n",
            "Epoch 48/300\n",
            "8/8 [==============================] - 1s 122ms/step - loss: 0.5611 - accuracy: 0.8047 - val_loss: 0.3508 - val_accuracy: 0.9144\n",
            "Epoch 49/300\n",
            "8/8 [==============================] - 1s 116ms/step - loss: 0.5557 - accuracy: 0.8032 - val_loss: 0.3484 - val_accuracy: 0.9138\n",
            "Epoch 50/300\n",
            "8/8 [==============================] - 1s 109ms/step - loss: 0.5543 - accuracy: 0.8019 - val_loss: 0.3463 - val_accuracy: 0.9146\n",
            "Epoch 51/300\n",
            "8/8 [==============================] - 1s 111ms/step - loss: 0.5475 - accuracy: 0.8074 - val_loss: 0.3441 - val_accuracy: 0.9134\n",
            "Epoch 52/300\n",
            "8/8 [==============================] - 1s 119ms/step - loss: 0.5468 - accuracy: 0.8035 - val_loss: 0.3420 - val_accuracy: 0.9130\n",
            "Epoch 53/300\n",
            "8/8 [==============================] - 1s 115ms/step - loss: 0.5422 - accuracy: 0.8082 - val_loss: 0.3405 - val_accuracy: 0.9120\n",
            "Epoch 54/300\n",
            "8/8 [==============================] - 1s 122ms/step - loss: 0.5368 - accuracy: 0.8110 - val_loss: 0.3394 - val_accuracy: 0.9114\n",
            "Epoch 55/300\n",
            "8/8 [==============================] - 1s 119ms/step - loss: 0.5324 - accuracy: 0.8149 - val_loss: 0.3377 - val_accuracy: 0.9110\n",
            "Epoch 56/300\n",
            "8/8 [==============================] - 1s 114ms/step - loss: 0.5284 - accuracy: 0.8133 - val_loss: 0.3360 - val_accuracy: 0.9108\n",
            "Epoch 57/300\n",
            "8/8 [==============================] - 1s 110ms/step - loss: 0.5257 - accuracy: 0.8135 - val_loss: 0.3344 - val_accuracy: 0.9104\n",
            "Epoch 58/300\n",
            "8/8 [==============================] - 1s 114ms/step - loss: 0.5234 - accuracy: 0.8108 - val_loss: 0.3329 - val_accuracy: 0.9090\n",
            "Epoch 59/300\n",
            "8/8 [==============================] - 1s 121ms/step - loss: 0.5219 - accuracy: 0.8115 - val_loss: 0.3315 - val_accuracy: 0.9090\n",
            "Epoch 60/300\n",
            "8/8 [==============================] - 1s 113ms/step - loss: 0.5147 - accuracy: 0.8119 - val_loss: 0.3303 - val_accuracy: 0.9082\n",
            "Epoch 61/300\n",
            "8/8 [==============================] - 1s 114ms/step - loss: 0.5143 - accuracy: 0.8161 - val_loss: 0.3294 - val_accuracy: 0.9082\n",
            "Epoch 62/300\n",
            "8/8 [==============================] - 1s 126ms/step - loss: 0.5103 - accuracy: 0.8184 - val_loss: 0.3285 - val_accuracy: 0.9080\n",
            "Epoch 63/300\n",
            "8/8 [==============================] - 1s 126ms/step - loss: 0.5073 - accuracy: 0.8139 - val_loss: 0.3276 - val_accuracy: 0.9076\n",
            "Epoch 64/300\n",
            "8/8 [==============================] - 1s 121ms/step - loss: 0.5071 - accuracy: 0.8166 - val_loss: 0.3267 - val_accuracy: 0.9074\n",
            "Epoch 65/300\n",
            "8/8 [==============================] - 1s 114ms/step - loss: 0.5014 - accuracy: 0.8214 - val_loss: 0.3256 - val_accuracy: 0.9072\n",
            "Epoch 66/300\n",
            "8/8 [==============================] - 1s 115ms/step - loss: 0.5023 - accuracy: 0.8161 - val_loss: 0.3248 - val_accuracy: 0.9064\n",
            "Epoch 67/300\n",
            "8/8 [==============================] - 1s 123ms/step - loss: 0.4938 - accuracy: 0.8194 - val_loss: 0.3238 - val_accuracy: 0.9062\n",
            "Epoch 68/300\n",
            "8/8 [==============================] - 1s 114ms/step - loss: 0.4940 - accuracy: 0.8200 - val_loss: 0.3228 - val_accuracy: 0.9064\n",
            "Epoch 69/300\n",
            "8/8 [==============================] - 1s 112ms/step - loss: 0.4936 - accuracy: 0.8197 - val_loss: 0.3217 - val_accuracy: 0.9062\n",
            "Epoch 70/300\n",
            "8/8 [==============================] - 1s 113ms/step - loss: 0.4926 - accuracy: 0.8189 - val_loss: 0.3208 - val_accuracy: 0.9058\n",
            "Epoch 71/300\n",
            "8/8 [==============================] - 1s 117ms/step - loss: 0.4906 - accuracy: 0.8230 - val_loss: 0.3199 - val_accuracy: 0.9056\n",
            "Epoch 72/300\n",
            "8/8 [==============================] - 1s 113ms/step - loss: 0.4857 - accuracy: 0.8255 - val_loss: 0.3190 - val_accuracy: 0.9058\n",
            "Epoch 73/300\n",
            "8/8 [==============================] - 1s 111ms/step - loss: 0.4827 - accuracy: 0.8241 - val_loss: 0.3183 - val_accuracy: 0.9060\n",
            "Epoch 74/300\n",
            "8/8 [==============================] - 1s 118ms/step - loss: 0.4812 - accuracy: 0.8190 - val_loss: 0.3177 - val_accuracy: 0.9056\n",
            "Epoch 75/300\n",
            "8/8 [==============================] - 1s 112ms/step - loss: 0.4796 - accuracy: 0.8260 - val_loss: 0.3170 - val_accuracy: 0.9060\n",
            "Epoch 76/300\n",
            "8/8 [==============================] - 1s 124ms/step - loss: 0.4769 - accuracy: 0.8265 - val_loss: 0.3163 - val_accuracy: 0.9056\n",
            "Epoch 77/300\n",
            "8/8 [==============================] - 1s 119ms/step - loss: 0.4732 - accuracy: 0.8253 - val_loss: 0.3157 - val_accuracy: 0.9056\n",
            "Epoch 78/300\n",
            "8/8 [==============================] - 1s 111ms/step - loss: 0.4735 - accuracy: 0.8276 - val_loss: 0.3152 - val_accuracy: 0.9058\n",
            "Epoch 79/300\n",
            "8/8 [==============================] - 1s 116ms/step - loss: 0.4704 - accuracy: 0.8248 - val_loss: 0.3148 - val_accuracy: 0.9056\n",
            "Epoch 80/300\n",
            "8/8 [==============================] - 1s 119ms/step - loss: 0.4676 - accuracy: 0.8273 - val_loss: 0.3144 - val_accuracy: 0.9048\n",
            "Epoch 81/300\n",
            "8/8 [==============================] - 1s 119ms/step - loss: 0.4654 - accuracy: 0.8268 - val_loss: 0.3140 - val_accuracy: 0.9042\n",
            "Epoch 82/300\n",
            "8/8 [==============================] - 1s 125ms/step - loss: 0.4647 - accuracy: 0.8279 - val_loss: 0.3138 - val_accuracy: 0.9034\n",
            "Epoch 83/300\n",
            "8/8 [==============================] - 1s 110ms/step - loss: 0.4630 - accuracy: 0.8323 - val_loss: 0.3135 - val_accuracy: 0.9034\n",
            "Epoch 84/300\n",
            "8/8 [==============================] - 1s 116ms/step - loss: 0.4609 - accuracy: 0.8302 - val_loss: 0.3129 - val_accuracy: 0.9026\n",
            "Epoch 85/300\n",
            "8/8 [==============================] - 1s 116ms/step - loss: 0.4596 - accuracy: 0.8327 - val_loss: 0.3125 - val_accuracy: 0.9026\n",
            "Epoch 86/300\n",
            "8/8 [==============================] - 1s 125ms/step - loss: 0.4621 - accuracy: 0.8273 - val_loss: 0.3119 - val_accuracy: 0.9028\n",
            "Epoch 87/300\n",
            "8/8 [==============================] - 1s 123ms/step - loss: 0.4558 - accuracy: 0.8322 - val_loss: 0.3114 - val_accuracy: 0.9028\n",
            "Epoch 88/300\n",
            "8/8 [==============================] - 1s 124ms/step - loss: 0.4554 - accuracy: 0.8302 - val_loss: 0.3108 - val_accuracy: 0.9032\n",
            "Epoch 89/300\n",
            "8/8 [==============================] - 1s 124ms/step - loss: 0.4555 - accuracy: 0.8331 - val_loss: 0.3106 - val_accuracy: 0.9030\n",
            "Epoch 90/300\n",
            "8/8 [==============================] - 1s 125ms/step - loss: 0.4486 - accuracy: 0.8359 - val_loss: 0.3107 - val_accuracy: 0.9028\n",
            "Epoch 91/300\n",
            "8/8 [==============================] - 1s 126ms/step - loss: 0.4486 - accuracy: 0.8366 - val_loss: 0.3108 - val_accuracy: 0.9024\n",
            "Epoch 92/300\n",
            "8/8 [==============================] - 1s 124ms/step - loss: 0.4502 - accuracy: 0.8319 - val_loss: 0.3108 - val_accuracy: 0.9021\n",
            "CPU times: user 4min 50s, sys: 5.54 s, total: 4min 55s\n",
            "Wall time: 4min 7s\n"
          ],
          "name": "stdout"
        }
      ]
    },
    {
      "cell_type": "markdown",
      "metadata": {
        "id": "eBBqPTPGM05Y"
      },
      "source": [
        "<h3 align=\"center\">RESULTS</h3>"
      ]
    },
    {
      "cell_type": "code",
      "metadata": {
        "colab": {
          "base_uri": "https://localhost:8080/"
        },
        "id": "qNa_DUbeRfUe",
        "outputId": "1ea70696-b6d1-4d3f-e6d9-b2e2a0f35b70"
      },
      "source": [
        "%%time\n",
        "\n",
        "# ---------------- Testing on valentina's data -------------------\n",
        "\n",
        "start_time = time.time()\n",
        "\n",
        "loss, accuracy = my_model.evaluate(test_ds, batch_size=CONFIG['batch_size'])\n",
        "\n",
        "print(\"Loss: \", loss)\n",
        "print(\"Accuracy: \", accuracy)\n",
        "\n",
        "testing_time = time.time() - start_time"
      ],
      "execution_count": 16,
      "outputs": [
        {
          "output_type": "stream",
          "text": [
            "5/5 [==============================] - 1s 53ms/step - loss: 0.3106 - accuracy: 0.9030\n",
            "Loss:  0.31056076288223267\n",
            "Accuracy:  0.9030460119247437\n",
            "CPU times: user 978 ms, sys: 58 ms, total: 1.04 s\n",
            "Wall time: 588 ms\n"
          ],
          "name": "stdout"
        }
      ]
    },
    {
      "cell_type": "code",
      "metadata": {
        "colab": {
          "base_uri": "https://localhost:8080/",
          "height": 265
        },
        "id": "tNlI2jCwYMP2",
        "outputId": "f0559075-3e8d-4ba4-a4f0-ea0a1ecbe009"
      },
      "source": [
        "metrics = history.history\n",
        "plt.plot(history.epoch, metrics['loss'], metrics['val_loss'])\n",
        "plt.legend(['loss', 'val_loss'])\n",
        "plt.show()"
      ],
      "execution_count": 17,
      "outputs": [
        {
          "output_type": "display_data",
          "data": {
            "image/png": "[encoded data removed]",
            "text/plain": [
              "<Figure size 432x288 with 1 Axes>"
            ]
          },
          "metadata": {
            "tags": [],
            "needs_background": "light"
          }
        }
      ]
    },
    {
      "cell_type": "code",
      "metadata": {
        "colab": {
          "base_uri": "https://localhost:8080/"
        },
        "id": "64yDjLXOO6Ot",
        "outputId": "faf21b18-e984-4e62-b225-7949d7bd67c0"
      },
      "source": [
        "# ------------------ Testing on Aticks's data -----------------\n",
        "\n",
        "test_labels = []\n",
        "for _, label in val_ds:\n",
        "    test_labels += (label.numpy().tolist())\n",
        "\n",
        "y_true = np.squeeze(np.array(test_labels))\n",
        "y_pred = np.argmax(my_model.predict(val_ds), axis=1)\n",
        "\n",
        "result_atick = classification_report(y_true, y_pred)\n",
        "print(result_atick)"
      ],
      "execution_count": 18,
      "outputs": [
        {
          "output_type": "stream",
          "text": [
            "              precision    recall  f1-score   support\n",
            "\n",
            "           0       0.85      0.95      0.90       973\n",
            "           1       0.22      0.29      0.25       217\n",
            "           2       0.97      0.93      0.95      3833\n",
            "\n",
            "    accuracy                           0.90      5023\n",
            "   macro avg       0.68      0.72      0.70      5023\n",
            "weighted avg       0.92      0.90      0.91      5023\n",
            "\n"
          ],
          "name": "stdout"
        }
      ]
    },
    {
      "cell_type": "code",
      "metadata": {
        "colab": {
          "base_uri": "https://localhost:8080/",
          "height": 497
        },
        "id": "WASkxAEVfq4T",
        "outputId": "7e2fa6e1-54d6-46a4-ba79-ecad0704e77e"
      },
      "source": [
        "# confusion_mtx_atick = tf.math.confusion_matrix(y_true, y_pred) \n",
        "confusion_mtx_atick = (confusion_matrix(y_true, y_pred, normalize='true') * 100).astype('int')\n",
        "plt.figure(figsize=(10, 8))\n",
        "sns.heatmap(confusion_mtx_atick, xticklabels=EMOTIONS, yticklabels=EMOTIONS, \n",
        "            annot=True, fmt='g')\n",
        "plt.xlabel('Prediction')\n",
        "plt.ylabel('Label')\n",
        "plt.show()"
      ],
      "execution_count": 19,
      "outputs": [
        {
          "output_type": "display_data",
          "data": {
            "image/png": "[encoded data removed]",
            "text/plain": [
              "<Figure size 720x576 with 2 Axes>"
            ]
          },
          "metadata": {
            "tags": [],
            "needs_background": "light"
          }
        }
      ]
    },
    {
      "cell_type": "code",
      "metadata": {
        "colab": {
          "base_uri": "https://localhost:8080/"
        },
        "id": "gfB9RI7mY6kD",
        "outputId": "ca1f5b96-7f0d-4ce4-fa9f-1bebdddebfb8"
      },
      "source": [
        "# ------------------ Testing on Valentina's data -----------------\n",
        "\n",
        "test_labels = []\n",
        "for _, label in test_ds:\n",
        "    test_labels += (label.numpy().tolist())\n",
        "\n",
        "y_true = np.squeeze(np.array(test_labels))\n",
        "y_pred = np.argmax(my_model.predict(test_ds), axis=1)\n",
        "\n",
        "result_valentina = classification_report(y_true, y_pred)\n",
        "print(result_valentina)"
      ],
      "execution_count": 20,
      "outputs": [
        {
          "output_type": "stream",
          "text": [
            "              precision    recall  f1-score   support\n",
            "\n",
            "           0       0.85      0.95      0.90       973\n",
            "           1       0.22      0.29      0.25       217\n",
            "           2       0.97      0.93      0.95      3833\n",
            "\n",
            "    accuracy                           0.90      5023\n",
            "   macro avg       0.68      0.72      0.70      5023\n",
            "weighted avg       0.92      0.90      0.91      5023\n",
            "\n"
          ],
          "name": "stdout"
        }
      ]
    },
    {
      "cell_type": "code",
      "metadata": {
        "colab": {
          "base_uri": "https://localhost:8080/",
          "height": 497
        },
        "id": "IWYlkA31PW11",
        "outputId": "e1ecf0db-4008-4b65-f6c3-eedfc89a443a"
      },
      "source": [
        "# confusion_mtx_valentina = tf.math.confusion_matrix(y_true, y_pred) \n",
        "confusion_mtx_valentina = (confusion_matrix(y_true, y_pred, normalize='true') * 100).astype('int')\n",
        "plt.figure(figsize=(10, 8))\n",
        "sns.heatmap(confusion_mtx_valentina, xticklabels=EMOTIONS, yticklabels=EMOTIONS, \n",
        "            annot=True, fmt='g')\n",
        "plt.xlabel('Prediction')\n",
        "plt.ylabel('Label')\n",
        "plt.show()"
      ],
      "execution_count": 21,
      "outputs": [
        {
          "output_type": "display_data",
          "data": {
            "image/png": "[encoded data removed]",
            "text/plain": [
              "<Figure size 720x576 with 2 Axes>"
            ]
          },
          "metadata": {
            "tags": [],
            "needs_background": "light"
          }
        }
      ]
    },
    {
      "cell_type": "code",
      "metadata": {
        "id": "BUz83N2Blu0L"
      },
      "source": [
        "summary = []\n",
        "my_model.summary(print_fn=lambda x: summary.append(x))\n",
        "CONFIG['architecture'] = summary\n",
        "CONFIG['epochs'] = max(history.epoch)\n",
        "CONFIG['training_time'] = training_time\n",
        "CONFIG['testing_time'] = testing_time\n",
        "CONFIG['cm_atick'] = np.array2string(confusion_mtx_atick)\n",
        "result_list_atick = result_atick.split('\\n')\n",
        "CONFIG['cr_atick'] = result_list_atick\n",
        "CONFIG['cm_valentina'] = np.array2string(confusion_mtx_valentina)\n",
        "result_list_valentina = result_valentina.split('\\n')\n",
        "CONFIG['cr_valentina'] = result_list_valentina"
      ],
      "execution_count": 22,
      "outputs": []
    },
    {
      "cell_type": "code",
      "metadata": {
        "colab": {
          "base_uri": "https://localhost:8080/"
        },
        "id": "rMRTCk5hpljM",
        "outputId": "9f03b12c-ed61-4d93-c3e0-fe00ce5f59f1"
      },
      "source": [
        "config = json.dumps(CONFIG, indent=4)\n",
        "print(config)"
      ],
      "execution_count": 23,
      "outputs": [
        {
          "output_type": "stream",
          "text": [
            "{\n",
            "    \"timestamp\": \"2021-05-19 08:12:59.208230\",\n",
            "    \"model\": \"Transfer Learning on YAMNET\",\n",
            "    \"test_fold\": \"Valentina Dataset\",\n",
            "    \"architecture\": [\n",
            "        \"Model: \\\"my_model\\\"\",\n",
            "        \"_________________________________________________________________\",\n",
            "        \"Layer (type)                 Output Shape              Param #   \",\n",
            "        \"=================================================================\",\n",
            "        \"dense (Dense)                (None, 512)               524800    \",\n",
            "        \"_________________________________________________________________\",\n",
            "        \"dropout (Dropout)            (None, 512)               0         \",\n",
            "        \"_________________________________________________________________\",\n",
            "        \"dense_1 (Dense)              (None, 3)                 1539      \",\n",
            "        \"=================================================================\",\n",
            "        \"Total params: 526,339\",\n",
            "        \"Trainable params: 526,339\",\n",
            "        \"Non-trainable params: 0\",\n",
            "        \"_________________________________________________________________\"\n",
            "    ],\n",
            "    \"batch_size\": 1024,\n",
            "    \"epochs\": 91,\n",
            "    \"learning_rate\": 5e-05,\n",
            "    \"monitor\": \"val_loss\",\n",
            "    \"patience\": 3,\n",
            "    \"class_weight\": {\n",
            "        \"0\": 0.71,\n",
            "        \"1\": 2.32,\n",
            "        \"2\": 0.86\n",
            "    },\n",
            "    \"training_time\": 247.85676980018616,\n",
            "    \"testing_time\": 0.5884304046630859,\n",
            "    \"cm_atick\": \"[[95  1  3]\\n [41 28 29]\\n [ 2  5 92]]\",\n",
            "    \"cr_atick\": [\n",
            "        \"              precision    recall  f1-score   support\",\n",
            "        \"\",\n",
            "        \"           0       0.85      0.95      0.90       973\",\n",
            "        \"           1       0.22      0.29      0.25       217\",\n",
            "        \"           2       0.97      0.93      0.95      3833\",\n",
            "        \"\",\n",
            "        \"    accuracy                           0.90      5023\",\n",
            "        \"   macro avg       0.68      0.72      0.70      5023\",\n",
            "        \"weighted avg       0.92      0.90      0.91      5023\",\n",
            "        \"\"\n",
            "    ],\n",
            "    \"cm_valentina\": \"[[95  1  3]\\n [41 28 29]\\n [ 2  5 92]]\",\n",
            "    \"cr_valentina\": [\n",
            "        \"              precision    recall  f1-score   support\",\n",
            "        \"\",\n",
            "        \"           0       0.85      0.95      0.90       973\",\n",
            "        \"           1       0.22      0.29      0.25       217\",\n",
            "        \"           2       0.97      0.93      0.95      3833\",\n",
            "        \"\",\n",
            "        \"    accuracy                           0.90      5023\",\n",
            "        \"   macro avg       0.68      0.72      0.70      5023\",\n",
            "        \"weighted avg       0.92      0.90      0.91      5023\",\n",
            "        \"\"\n",
            "    ]\n",
            "}\n"
          ],
          "name": "stdout"
        }
      ]
    },
    {
      "cell_type": "code",
      "metadata": {
        "id": "H2EetqkNN4Je"
      },
      "source": [
        "f = open(LOG_FILE, 'a')\n",
        "f.write('\\n')\n",
        "f.write(config)\n",
        "f.write('\\n')\n",
        "f.close()"
      ],
      "execution_count": 24,
      "outputs": []
    }
  ]
}