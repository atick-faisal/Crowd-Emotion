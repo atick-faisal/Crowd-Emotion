{
 "cells": [
  {
   "cell_type": "markdown",
   "metadata": {
    "colab_type": "text",
    "id": "view-in-github"
   },
   "source": [
    "<a href=\"https://colab.research.google.com/github/atick-faisal/Crowd-Emotion/blob/main/src_v4/CE_TE_YAMNET_v4.ipynb\" target=\"_parent\"><img src=\"https://colab.research.google.com/assets/colab-badge.svg\" alt=\"Open In Colab\"/></a>"
   ]
  },
  {
   "cell_type": "code",
   "execution_count": 1,
   "metadata": {
    "id": "xXm9QHXCkyPe"
   },
   "outputs": [],
   "source": [
    "!pip install -q tensorflow_io\n",
    "!pip install -q tensorflow_datasets\n",
    "!pip install -q tensorflow_hub"
   ]
  },
  {
   "cell_type": "code",
   "execution_count": 10,
   "metadata": {
    "colab": {
     "base_uri": "https://localhost:8080/",
     "height": 35
    },
    "id": "ybtLyX0-G9gp",
    "outputId": "c375a751-7f65-4ad5-c23a-1d98051515eb"
   },
   "outputs": [
    {
     "data": {
      "text/plain": [
       "'2.4.1'"
      ]
     },
     "execution_count": 10,
     "metadata": {},
     "output_type": "execute_result"
    }
   ],
   "source": [
    "import os\n",
    "import time\n",
    "import json\n",
    "import datetime\n",
    "\n",
    "import numpy as np\n",
    "import seaborn as sns\n",
    "import pyloudnorm as pyln\n",
    "import matplotlib.pyplot as plt\n",
    "\n",
    "import tensorflow as tf\n",
    "import tensorflow_datasets as tfds\n",
    "import tensorflow_hub as hub\n",
    "import tensorflow_io as tfio\n",
    "\n",
    "from sklearn.metrics import classification_report, confusion_matrix\n",
    "\n",
    "tf.random.set_seed(42)\n",
    "\n",
    "tf.__version__"
   ]
  },
  {
   "cell_type": "code",
   "execution_count": 3,
   "metadata": {
    "id": "aKj-FBtiV5px"
   },
   "outputs": [],
   "source": [
    "CONFIG = {\n",
    "    'timestamp'             : str(datetime.datetime.now()),\n",
    "    'model'                 : 'Transfer Learning on YAMNET',\n",
    "    'test_fold'             : 'Fold 5',\n",
    "    'architecture'          : '',\n",
    "    'batch_size'            : 1024,\n",
    "    'epochs'                : 0,\n",
    "    'learning_rate'         : 0.000005,\n",
    "    'monitor'               : 'val_loss',\n",
    "    'patience'              : 3,\n",
    "    'class_weight'          : { 0: 0.71, 1:  2.32, 2: 0.86 },\n",
    "    'training_time'         : 0,\n",
    "    'testing_time'          : 0,\n",
    "    'cm_atick'              : '',\n",
    "    'cr_atick'              : '',\n",
    "    'cm_valentina'          : '',\n",
    "    'cr_valentina'          : ''\n",
    "}"
   ]
  },
  {
   "cell_type": "code",
   "execution_count": 6,
   "metadata": {
    "id": "sKEM7cZZOBwG"
   },
   "outputs": [],
   "source": [
    "# BASE_DIR            = os.getcwd()\n",
    "# LOG_FILE             = '/content/drive/MyDrive/Research/Crowd Emotion Logs/tl_yamnet.txt'\n",
    "# FOLDS               = ['Fold 1', 'Fold 2', 'Fold 3', 'Fold 4', 'Fold 5']\n",
    "# EMOTIONS            = ['Approval', 'Disapproval', 'Neutral']\n",
    "\n",
    "# ATICK_DATA_DIR      = '/content/Dataset-Atick/'\n",
    "# VALENTINA_DATA_DIR  = '/content/Dataset-Valentina/'\n",
    "\n",
    "BASE_DIR            = os.getcwd()\n",
    "LOG_FILE             = '../logs/tl_yamnet.txt'\n",
    "FOLDS               = ['Fold 1', 'Fold 2', 'Fold 3', 'Fold 4', 'Fold 5']\n",
    "EMOTIONS            = ['Approval', 'Disapproval', 'Neutral']\n",
    "\n",
    "ATICK_DATA_DIR      = '../../Dataset/Audio-AF/'\n",
    "VALENTINA_DATA_DIR  = '../../Dataset/Audio-VAL/'\n",
    "MODELS_DIR          = '../models/'"
   ]
  },
  {
   "cell_type": "code",
   "execution_count": 5,
   "metadata": {
    "colab": {
     "base_uri": "https://localhost:8080/"
    },
    "id": "FVSxpCMtHVAN",
    "outputId": "19aba9fb-85da-4875-9a42-8c90d93eea88"
   },
   "outputs": [
    {
     "name": "stdout",
     "output_type": "stream",
     "text": [
      "CPU times: user 4 µs, sys: 0 ns, total: 4 µs\n",
      "Wall time: 7.63 µs\n"
     ]
    }
   ],
   "source": [
    "%%time\n",
    "\n",
    "# # ----------------- Loading my dataset -------------------\n",
    "# !mkdir /content/Dataset-Atick/\n",
    "# !gdown --id '1HOe5sJe_Juf5uib4f-8pPv-Z64lmqQ4X'\n",
    "# !tar -xf /content/Crowd-Emotion-Dataset.tar.xz -C /content/Dataset-Atick/\n",
    "\n",
    "# # ----------------- Loading Valentina's dataset -------------------\n",
    "# !mkdir /content/Dataset-Valentina/\n",
    "# !gdown --id '11tC2Nmie9v3ljo60oQJ3sN1rVkorV-N1'\n",
    "# !tar -xf /content/Valentina_CE_Dataset.tar.xz -C /content/Dataset-Valentina/\n"
   ]
  },
  {
   "cell_type": "code",
   "execution_count": 5,
   "metadata": {
    "id": "ADFLnQBwHQFt"
   },
   "outputs": [],
   "source": [
    "# ------------- Load YAMNET fron TF-Hub ------------------\n",
    "\n",
    "yamnet_model_handle = 'https://tfhub.dev/google/yamnet/1'\n",
    "yamnet_model = hub.load(yamnet_model_handle)\n"
   ]
  },
  {
   "cell_type": "code",
   "execution_count": 8,
   "metadata": {},
   "outputs": [
    {
     "name": "stdout",
     "output_type": "stream",
     "text": [
      "INFO:tensorflow:Assets written to: ../models/yamnet/assets\n"
     ]
    },
    {
     "name": "stderr",
     "output_type": "stream",
     "text": [
      "INFO:tensorflow:Assets written to: ../models/yamnet/assets\n"
     ]
    }
   ],
   "source": [
    "model_path = os.path.join(MODELS_DIR, 'yamnet')\n",
    "tf.saved_model.save(yamnet_model, model_path)\n",
    "# yamnet_model = tf.saved_model.load(model_path)"
   ]
  },
  {
   "cell_type": "code",
   "execution_count": 26,
   "metadata": {
    "id": "SYbR0YjWI1lL"
   },
   "outputs": [],
   "source": [
    "# --------------- File loading utilities ------------------\n",
    "\n",
    "# @tf.function\n",
    "def load_wav_16k_mono(filename):\n",
    "    \"\"\" read in a waveform file and convert to 16 kHz mono \"\"\"\n",
    "    file_contents = tf.io.read_file(filename)\n",
    "    wav, sample_rate = tf.audio.decode_wav(\n",
    "          file_contents,\n",
    "          desired_channels=1)\n",
    "    \n",
    "#     wav = tf.squeeze(wav, axis=-1)\n",
    "    sample_rate = tf.cast(sample_rate, dtype=tf.int64)\n",
    "    \n",
    "#     with tf.compat.v1.Session() as sess:\n",
    "#         wav.eval()\n",
    "#         sample_rate.eval()\n",
    "    \n",
    "    meter = pyln.Meter(sample_rate.numpy())\n",
    "    loudness = meter.integrated_loudness(wav.numpy())\n",
    "    wav_norm = pyln.normalize.loudness(wav.numpy(), loudness, -23.0)\n",
    "    wav_norm = tfio.audio.resample(wav_norm, rate_in=sample_rate, rate_out=16000)\n",
    "    \n",
    "    return wav_norm\n",
    "\n",
    "def load_wav_for_map(filename, label, fold):\n",
    "      return load_wav_16k_mono(filename), label, fold\n",
    "\n",
    "def load_ds(path, class_names, fold_names=['']):\n",
    "\n",
    "    wavs = []\n",
    "    labels = []\n",
    "    folds = []\n",
    "\n",
    "    for class_name in class_names:\n",
    "        print('processing files for ' + class_name, end=' ... ')\n",
    "\n",
    "        for fold in fold_names:\n",
    "            fold_path = os.path.join(path, class_name, fold)\n",
    "\n",
    "            for filename in os.listdir(fold_path):\n",
    "                \n",
    "                file_path = os.path.join(fold_path, filename)\n",
    "                wav = load_wav_16k_mono(file_path)\n",
    "                wavs.append(wav)\n",
    "                labels.append(class_names.index(class_name))\n",
    "\n",
    "                try:\n",
    "                    folds.append(FOLDS.index(fold))\n",
    "                except ValueError:\n",
    "                    folds.append(0)\n",
    "\n",
    "        print('√')\n",
    "\n",
    "    return tf.data.Dataset.from_tensor_slices((wavs, labels, folds))"
   ]
  },
  {
   "cell_type": "code",
   "execution_count": 27,
   "metadata": {
    "colab": {
     "base_uri": "https://localhost:8080/"
    },
    "id": "GITkVJBJM5kw",
    "outputId": "b58469e6-559f-455f-b7b8-cb0ae73297b4"
   },
   "outputs": [
    {
     "name": "stdout",
     "output_type": "stream",
     "text": [
      "processing files for Approval ... √\n",
      "processing files for Disapproval ... √\n",
      "processing files for Neutral ... "
     ]
    },
    {
     "name": "stderr",
     "output_type": "stream",
     "text": [
      "/home/andromeda/Ai/lib/python3.8/site-packages/pyloudnorm/normalize.py:62: UserWarning: Possible clipped samples in output.\n",
      "  warnings.warn(\"Possible clipped samples in output.\")\n",
      "/home/andromeda/Ai/lib/python3.8/site-packages/pyloudnorm/normalize.py:62: UserWarning: Possible clipped samples in output.\n",
      "  warnings.warn(\"Possible clipped samples in output.\")\n",
      "/home/andromeda/Ai/lib/python3.8/site-packages/pyloudnorm/normalize.py:62: UserWarning: Possible clipped samples in output.\n",
      "  warnings.warn(\"Possible clipped samples in output.\")\n",
      "/home/andromeda/Ai/lib/python3.8/site-packages/pyloudnorm/normalize.py:62: UserWarning: Possible clipped samples in output.\n",
      "  warnings.warn(\"Possible clipped samples in output.\")\n",
      "/home/andromeda/Ai/lib/python3.8/site-packages/pyloudnorm/normalize.py:62: UserWarning: Possible clipped samples in output.\n",
      "  warnings.warn(\"Possible clipped samples in output.\")\n",
      "/home/andromeda/Ai/lib/python3.8/site-packages/pyloudnorm/normalize.py:62: UserWarning: Possible clipped samples in output.\n",
      "  warnings.warn(\"Possible clipped samples in output.\")\n",
      "/home/andromeda/Ai/lib/python3.8/site-packages/pyloudnorm/normalize.py:62: UserWarning: Possible clipped samples in output.\n",
      "  warnings.warn(\"Possible clipped samples in output.\")\n",
      "/home/andromeda/Ai/lib/python3.8/site-packages/pyloudnorm/normalize.py:62: UserWarning: Possible clipped samples in output.\n",
      "  warnings.warn(\"Possible clipped samples in output.\")\n",
      "/home/andromeda/Ai/lib/python3.8/site-packages/pyloudnorm/normalize.py:62: UserWarning: Possible clipped samples in output.\n",
      "  warnings.warn(\"Possible clipped samples in output.\")\n"
     ]
    },
    {
     "name": "stdout",
     "output_type": "stream",
     "text": [
      "√\n"
     ]
    },
    {
     "ename": "InvalidArgumentError",
     "evalue": "Shapes of all inputs must match: values[0].shape = [78034] != values[1].shape = [104532] [Op:Pack] name: component_0",
     "output_type": "error",
     "traceback": [
      "\u001b[0;31m---------------------------------------------------------------------------\u001b[0m",
      "\u001b[0;31mInvalidArgumentError\u001b[0m                      Traceback (most recent call last)",
      "\u001b[0;32m<ipython-input-27-1d550fad6af8>\u001b[0m in \u001b[0;36m<module>\u001b[0;34m\u001b[0m\n\u001b[0;32m----> 1\u001b[0;31m \u001b[0matick_ds\u001b[0m \u001b[0;34m=\u001b[0m \u001b[0mload_ds\u001b[0m\u001b[0;34m(\u001b[0m\u001b[0mATICK_DATA_DIR\u001b[0m\u001b[0;34m,\u001b[0m \u001b[0mEMOTIONS\u001b[0m\u001b[0;34m,\u001b[0m \u001b[0mFOLDS\u001b[0m\u001b[0;34m)\u001b[0m\u001b[0;34m\u001b[0m\u001b[0;34m\u001b[0m\u001b[0m\n\u001b[0m\u001b[1;32m      2\u001b[0m \u001b[0mvalentina_ds\u001b[0m \u001b[0;34m=\u001b[0m \u001b[0mload_ds\u001b[0m\u001b[0;34m(\u001b[0m\u001b[0mVALENTINA_DATA_DIR\u001b[0m\u001b[0;34m,\u001b[0m \u001b[0mEMOTIONS\u001b[0m\u001b[0;34m)\u001b[0m\u001b[0;34m\u001b[0m\u001b[0;34m\u001b[0m\u001b[0m\n\u001b[1;32m      3\u001b[0m \u001b[0;34m\u001b[0m\u001b[0m\n\u001b[1;32m      4\u001b[0m \u001b[0;31m# atick_ds.element_spec\u001b[0m\u001b[0;34m\u001b[0m\u001b[0;34m\u001b[0m\u001b[0;34m\u001b[0m\u001b[0m\n",
      "\u001b[0;32m<ipython-input-26-ac71c1e69d7a>\u001b[0m in \u001b[0;36mload_ds\u001b[0;34m(path, class_names, fold_names)\u001b[0m\n\u001b[1;32m     52\u001b[0m         \u001b[0mprint\u001b[0m\u001b[0;34m(\u001b[0m\u001b[0;34m'√'\u001b[0m\u001b[0;34m)\u001b[0m\u001b[0;34m\u001b[0m\u001b[0;34m\u001b[0m\u001b[0m\n\u001b[1;32m     53\u001b[0m \u001b[0;34m\u001b[0m\u001b[0m\n\u001b[0;32m---> 54\u001b[0;31m     \u001b[0;32mreturn\u001b[0m \u001b[0mtf\u001b[0m\u001b[0;34m.\u001b[0m\u001b[0mdata\u001b[0m\u001b[0;34m.\u001b[0m\u001b[0mDataset\u001b[0m\u001b[0;34m.\u001b[0m\u001b[0mfrom_tensor_slices\u001b[0m\u001b[0;34m(\u001b[0m\u001b[0;34m(\u001b[0m\u001b[0mwavs\u001b[0m\u001b[0;34m,\u001b[0m \u001b[0mlabels\u001b[0m\u001b[0;34m,\u001b[0m \u001b[0mfolds\u001b[0m\u001b[0;34m)\u001b[0m\u001b[0;34m)\u001b[0m\u001b[0;34m\u001b[0m\u001b[0;34m\u001b[0m\u001b[0m\n\u001b[0m",
      "\u001b[0;32m~/Ai/lib/python3.8/site-packages/tensorflow/python/data/ops/dataset_ops.py\u001b[0m in \u001b[0;36mfrom_tensor_slices\u001b[0;34m(tensors)\u001b[0m\n\u001b[1;32m    689\u001b[0m       \u001b[0mDataset\u001b[0m\u001b[0;34m:\u001b[0m \u001b[0mA\u001b[0m\u001b[0;31m \u001b[0m\u001b[0;31m`\u001b[0m\u001b[0mDataset\u001b[0m\u001b[0;31m`\u001b[0m\u001b[0;34m.\u001b[0m\u001b[0;34m\u001b[0m\u001b[0;34m\u001b[0m\u001b[0m\n\u001b[1;32m    690\u001b[0m     \"\"\"\n\u001b[0;32m--> 691\u001b[0;31m     \u001b[0;32mreturn\u001b[0m \u001b[0mTensorSliceDataset\u001b[0m\u001b[0;34m(\u001b[0m\u001b[0mtensors\u001b[0m\u001b[0;34m)\u001b[0m\u001b[0;34m\u001b[0m\u001b[0;34m\u001b[0m\u001b[0m\n\u001b[0m\u001b[1;32m    692\u001b[0m \u001b[0;34m\u001b[0m\u001b[0m\n\u001b[1;32m    693\u001b[0m   \u001b[0;32mclass\u001b[0m \u001b[0m_GeneratorState\u001b[0m\u001b[0;34m(\u001b[0m\u001b[0mobject\u001b[0m\u001b[0;34m)\u001b[0m\u001b[0;34m:\u001b[0m\u001b[0;34m\u001b[0m\u001b[0;34m\u001b[0m\u001b[0m\n",
      "\u001b[0;32m~/Ai/lib/python3.8/site-packages/tensorflow/python/data/ops/dataset_ops.py\u001b[0m in \u001b[0;36m__init__\u001b[0;34m(self, element)\u001b[0m\n\u001b[1;32m   3153\u001b[0m   \u001b[0;32mdef\u001b[0m \u001b[0m__init__\u001b[0m\u001b[0;34m(\u001b[0m\u001b[0mself\u001b[0m\u001b[0;34m,\u001b[0m \u001b[0melement\u001b[0m\u001b[0;34m)\u001b[0m\u001b[0;34m:\u001b[0m\u001b[0;34m\u001b[0m\u001b[0;34m\u001b[0m\u001b[0m\n\u001b[1;32m   3154\u001b[0m     \u001b[0;34m\"\"\"See `Dataset.from_tensor_slices()` for details.\"\"\"\u001b[0m\u001b[0;34m\u001b[0m\u001b[0;34m\u001b[0m\u001b[0m\n\u001b[0;32m-> 3155\u001b[0;31m     \u001b[0melement\u001b[0m \u001b[0;34m=\u001b[0m \u001b[0mstructure\u001b[0m\u001b[0;34m.\u001b[0m\u001b[0mnormalize_element\u001b[0m\u001b[0;34m(\u001b[0m\u001b[0melement\u001b[0m\u001b[0;34m)\u001b[0m\u001b[0;34m\u001b[0m\u001b[0;34m\u001b[0m\u001b[0m\n\u001b[0m\u001b[1;32m   3156\u001b[0m     \u001b[0mbatched_spec\u001b[0m \u001b[0;34m=\u001b[0m \u001b[0mstructure\u001b[0m\u001b[0;34m.\u001b[0m\u001b[0mtype_spec_from_value\u001b[0m\u001b[0;34m(\u001b[0m\u001b[0melement\u001b[0m\u001b[0;34m)\u001b[0m\u001b[0;34m\u001b[0m\u001b[0;34m\u001b[0m\u001b[0m\n\u001b[1;32m   3157\u001b[0m     \u001b[0mself\u001b[0m\u001b[0;34m.\u001b[0m\u001b[0m_tensors\u001b[0m \u001b[0;34m=\u001b[0m \u001b[0mstructure\u001b[0m\u001b[0;34m.\u001b[0m\u001b[0mto_batched_tensor_list\u001b[0m\u001b[0;34m(\u001b[0m\u001b[0mbatched_spec\u001b[0m\u001b[0;34m,\u001b[0m \u001b[0melement\u001b[0m\u001b[0;34m)\u001b[0m\u001b[0;34m\u001b[0m\u001b[0;34m\u001b[0m\u001b[0m\n",
      "\u001b[0;32m~/Ai/lib/python3.8/site-packages/tensorflow/python/data/util/structure.py\u001b[0m in \u001b[0;36mnormalize_element\u001b[0;34m(element, element_signature)\u001b[0m\n\u001b[1;32m    127\u001b[0m           \u001b[0mdtype\u001b[0m \u001b[0;34m=\u001b[0m \u001b[0mgetattr\u001b[0m\u001b[0;34m(\u001b[0m\u001b[0mspec\u001b[0m\u001b[0;34m,\u001b[0m \u001b[0;34m\"dtype\"\u001b[0m\u001b[0;34m,\u001b[0m \u001b[0;32mNone\u001b[0m\u001b[0;34m)\u001b[0m\u001b[0;34m\u001b[0m\u001b[0;34m\u001b[0m\u001b[0m\n\u001b[1;32m    128\u001b[0m           normalized_components.append(\n\u001b[0;32m--> 129\u001b[0;31m               ops.convert_to_tensor(t, name=\"component_%d\" % i, dtype=dtype))\n\u001b[0m\u001b[1;32m    130\u001b[0m   \u001b[0;32mreturn\u001b[0m \u001b[0mnest\u001b[0m\u001b[0;34m.\u001b[0m\u001b[0mpack_sequence_as\u001b[0m\u001b[0;34m(\u001b[0m\u001b[0mpack_as\u001b[0m\u001b[0;34m,\u001b[0m \u001b[0mnormalized_components\u001b[0m\u001b[0;34m)\u001b[0m\u001b[0;34m\u001b[0m\u001b[0;34m\u001b[0m\u001b[0m\n\u001b[1;32m    131\u001b[0m \u001b[0;34m\u001b[0m\u001b[0m\n",
      "\u001b[0;32m~/Ai/lib/python3.8/site-packages/tensorflow/python/profiler/trace.py\u001b[0m in \u001b[0;36mwrapped\u001b[0;34m(*args, **kwargs)\u001b[0m\n\u001b[1;32m    161\u001b[0m         \u001b[0;32mwith\u001b[0m \u001b[0mTrace\u001b[0m\u001b[0;34m(\u001b[0m\u001b[0mtrace_name\u001b[0m\u001b[0;34m,\u001b[0m \u001b[0;34m**\u001b[0m\u001b[0mtrace_kwargs\u001b[0m\u001b[0;34m)\u001b[0m\u001b[0;34m:\u001b[0m\u001b[0;34m\u001b[0m\u001b[0;34m\u001b[0m\u001b[0m\n\u001b[1;32m    162\u001b[0m           \u001b[0;32mreturn\u001b[0m \u001b[0mfunc\u001b[0m\u001b[0;34m(\u001b[0m\u001b[0;34m*\u001b[0m\u001b[0margs\u001b[0m\u001b[0;34m,\u001b[0m \u001b[0;34m**\u001b[0m\u001b[0mkwargs\u001b[0m\u001b[0;34m)\u001b[0m\u001b[0;34m\u001b[0m\u001b[0;34m\u001b[0m\u001b[0m\n\u001b[0;32m--> 163\u001b[0;31m       \u001b[0;32mreturn\u001b[0m \u001b[0mfunc\u001b[0m\u001b[0;34m(\u001b[0m\u001b[0;34m*\u001b[0m\u001b[0margs\u001b[0m\u001b[0;34m,\u001b[0m \u001b[0;34m**\u001b[0m\u001b[0mkwargs\u001b[0m\u001b[0;34m)\u001b[0m\u001b[0;34m\u001b[0m\u001b[0;34m\u001b[0m\u001b[0m\n\u001b[0m\u001b[1;32m    164\u001b[0m \u001b[0;34m\u001b[0m\u001b[0m\n\u001b[1;32m    165\u001b[0m     \u001b[0;32mreturn\u001b[0m \u001b[0mwrapped\u001b[0m\u001b[0;34m\u001b[0m\u001b[0;34m\u001b[0m\u001b[0m\n",
      "\u001b[0;32m~/Ai/lib/python3.8/site-packages/tensorflow/python/framework/ops.py\u001b[0m in \u001b[0;36mconvert_to_tensor\u001b[0;34m(value, dtype, name, as_ref, preferred_dtype, dtype_hint, ctx, accepted_result_types)\u001b[0m\n\u001b[1;32m   1538\u001b[0m \u001b[0;34m\u001b[0m\u001b[0m\n\u001b[1;32m   1539\u001b[0m     \u001b[0;32mif\u001b[0m \u001b[0mret\u001b[0m \u001b[0;32mis\u001b[0m \u001b[0;32mNone\u001b[0m\u001b[0;34m:\u001b[0m\u001b[0;34m\u001b[0m\u001b[0;34m\u001b[0m\u001b[0m\n\u001b[0;32m-> 1540\u001b[0;31m       \u001b[0mret\u001b[0m \u001b[0;34m=\u001b[0m \u001b[0mconversion_func\u001b[0m\u001b[0;34m(\u001b[0m\u001b[0mvalue\u001b[0m\u001b[0;34m,\u001b[0m \u001b[0mdtype\u001b[0m\u001b[0;34m=\u001b[0m\u001b[0mdtype\u001b[0m\u001b[0;34m,\u001b[0m \u001b[0mname\u001b[0m\u001b[0;34m=\u001b[0m\u001b[0mname\u001b[0m\u001b[0;34m,\u001b[0m \u001b[0mas_ref\u001b[0m\u001b[0;34m=\u001b[0m\u001b[0mas_ref\u001b[0m\u001b[0;34m)\u001b[0m\u001b[0;34m\u001b[0m\u001b[0;34m\u001b[0m\u001b[0m\n\u001b[0m\u001b[1;32m   1541\u001b[0m \u001b[0;34m\u001b[0m\u001b[0m\n\u001b[1;32m   1542\u001b[0m     \u001b[0;32mif\u001b[0m \u001b[0mret\u001b[0m \u001b[0;32mis\u001b[0m \u001b[0mNotImplemented\u001b[0m\u001b[0;34m:\u001b[0m\u001b[0;34m\u001b[0m\u001b[0;34m\u001b[0m\u001b[0m\n",
      "\u001b[0;32m~/Ai/lib/python3.8/site-packages/tensorflow/python/ops/array_ops.py\u001b[0m in \u001b[0;36m_autopacking_conversion_function\u001b[0;34m(v, dtype, name, as_ref)\u001b[0m\n\u001b[1;32m   1523\u001b[0m   \u001b[0;32melif\u001b[0m \u001b[0mdtype\u001b[0m \u001b[0;34m!=\u001b[0m \u001b[0minferred_dtype\u001b[0m\u001b[0;34m:\u001b[0m\u001b[0;34m\u001b[0m\u001b[0;34m\u001b[0m\u001b[0m\n\u001b[1;32m   1524\u001b[0m     \u001b[0mv\u001b[0m \u001b[0;34m=\u001b[0m \u001b[0mnest\u001b[0m\u001b[0;34m.\u001b[0m\u001b[0mmap_structure\u001b[0m\u001b[0;34m(\u001b[0m\u001b[0m_cast_nested_seqs_to_dtype\u001b[0m\u001b[0;34m(\u001b[0m\u001b[0mdtype\u001b[0m\u001b[0;34m)\u001b[0m\u001b[0;34m,\u001b[0m \u001b[0mv\u001b[0m\u001b[0;34m)\u001b[0m\u001b[0;34m\u001b[0m\u001b[0;34m\u001b[0m\u001b[0m\n\u001b[0;32m-> 1525\u001b[0;31m   \u001b[0;32mreturn\u001b[0m \u001b[0m_autopacking_helper\u001b[0m\u001b[0;34m(\u001b[0m\u001b[0mv\u001b[0m\u001b[0;34m,\u001b[0m \u001b[0mdtype\u001b[0m\u001b[0;34m,\u001b[0m \u001b[0mname\u001b[0m \u001b[0;32mor\u001b[0m \u001b[0;34m\"packed\"\u001b[0m\u001b[0;34m)\u001b[0m\u001b[0;34m\u001b[0m\u001b[0;34m\u001b[0m\u001b[0m\n\u001b[0m\u001b[1;32m   1526\u001b[0m \u001b[0;34m\u001b[0m\u001b[0m\n\u001b[1;32m   1527\u001b[0m \u001b[0;34m\u001b[0m\u001b[0m\n",
      "\u001b[0;32m~/Ai/lib/python3.8/site-packages/tensorflow/python/ops/array_ops.py\u001b[0m in \u001b[0;36m_autopacking_helper\u001b[0;34m(list_or_tuple, dtype, name)\u001b[0m\n\u001b[1;32m   1429\u001b[0m     \u001b[0;31m# checking.\u001b[0m\u001b[0;34m\u001b[0m\u001b[0;34m\u001b[0m\u001b[0;34m\u001b[0m\u001b[0m\n\u001b[1;32m   1430\u001b[0m     \u001b[0;32mif\u001b[0m \u001b[0mall\u001b[0m\u001b[0;34m(\u001b[0m\u001b[0misinstance\u001b[0m\u001b[0;34m(\u001b[0m\u001b[0melem\u001b[0m\u001b[0;34m,\u001b[0m \u001b[0mcore\u001b[0m\u001b[0;34m.\u001b[0m\u001b[0mTensor\u001b[0m\u001b[0;34m)\u001b[0m \u001b[0;32mfor\u001b[0m \u001b[0melem\u001b[0m \u001b[0;32min\u001b[0m \u001b[0mlist_or_tuple\u001b[0m\u001b[0;34m)\u001b[0m\u001b[0;34m:\u001b[0m\u001b[0;34m\u001b[0m\u001b[0;34m\u001b[0m\u001b[0m\n\u001b[0;32m-> 1431\u001b[0;31m       \u001b[0;32mreturn\u001b[0m \u001b[0mgen_array_ops\u001b[0m\u001b[0;34m.\u001b[0m\u001b[0mpack\u001b[0m\u001b[0;34m(\u001b[0m\u001b[0mlist_or_tuple\u001b[0m\u001b[0;34m,\u001b[0m \u001b[0mname\u001b[0m\u001b[0;34m=\u001b[0m\u001b[0mname\u001b[0m\u001b[0;34m)\u001b[0m\u001b[0;34m\u001b[0m\u001b[0;34m\u001b[0m\u001b[0m\n\u001b[0m\u001b[1;32m   1432\u001b[0m   \u001b[0mmust_pack\u001b[0m \u001b[0;34m=\u001b[0m \u001b[0;32mFalse\u001b[0m\u001b[0;34m\u001b[0m\u001b[0;34m\u001b[0m\u001b[0m\n\u001b[1;32m   1433\u001b[0m   \u001b[0mconverted_elems\u001b[0m \u001b[0;34m=\u001b[0m \u001b[0;34m[\u001b[0m\u001b[0;34m]\u001b[0m\u001b[0;34m\u001b[0m\u001b[0;34m\u001b[0m\u001b[0m\n",
      "\u001b[0;32m~/Ai/lib/python3.8/site-packages/tensorflow/python/ops/gen_array_ops.py\u001b[0m in \u001b[0;36mpack\u001b[0;34m(values, axis, name)\u001b[0m\n\u001b[1;32m   6378\u001b[0m       \u001b[0;32mreturn\u001b[0m \u001b[0m_result\u001b[0m\u001b[0;34m\u001b[0m\u001b[0;34m\u001b[0m\u001b[0m\n\u001b[1;32m   6379\u001b[0m     \u001b[0;32mexcept\u001b[0m \u001b[0m_core\u001b[0m\u001b[0;34m.\u001b[0m\u001b[0m_NotOkStatusException\u001b[0m \u001b[0;32mas\u001b[0m \u001b[0me\u001b[0m\u001b[0;34m:\u001b[0m\u001b[0;34m\u001b[0m\u001b[0;34m\u001b[0m\u001b[0m\n\u001b[0;32m-> 6380\u001b[0;31m       \u001b[0m_ops\u001b[0m\u001b[0;34m.\u001b[0m\u001b[0mraise_from_not_ok_status\u001b[0m\u001b[0;34m(\u001b[0m\u001b[0me\u001b[0m\u001b[0;34m,\u001b[0m \u001b[0mname\u001b[0m\u001b[0;34m)\u001b[0m\u001b[0;34m\u001b[0m\u001b[0;34m\u001b[0m\u001b[0m\n\u001b[0m\u001b[1;32m   6381\u001b[0m     \u001b[0;32mexcept\u001b[0m \u001b[0m_core\u001b[0m\u001b[0;34m.\u001b[0m\u001b[0m_FallbackException\u001b[0m\u001b[0;34m:\u001b[0m\u001b[0;34m\u001b[0m\u001b[0;34m\u001b[0m\u001b[0m\n\u001b[1;32m   6382\u001b[0m       \u001b[0;32mpass\u001b[0m\u001b[0;34m\u001b[0m\u001b[0;34m\u001b[0m\u001b[0m\n",
      "\u001b[0;32m~/Ai/lib/python3.8/site-packages/tensorflow/python/framework/ops.py\u001b[0m in \u001b[0;36mraise_from_not_ok_status\u001b[0;34m(e, name)\u001b[0m\n\u001b[1;32m   6860\u001b[0m   \u001b[0mmessage\u001b[0m \u001b[0;34m=\u001b[0m \u001b[0me\u001b[0m\u001b[0;34m.\u001b[0m\u001b[0mmessage\u001b[0m \u001b[0;34m+\u001b[0m \u001b[0;34m(\u001b[0m\u001b[0;34m\" name: \"\u001b[0m \u001b[0;34m+\u001b[0m \u001b[0mname\u001b[0m \u001b[0;32mif\u001b[0m \u001b[0mname\u001b[0m \u001b[0;32mis\u001b[0m \u001b[0;32mnot\u001b[0m \u001b[0;32mNone\u001b[0m \u001b[0;32melse\u001b[0m \u001b[0;34m\"\"\u001b[0m\u001b[0;34m)\u001b[0m\u001b[0;34m\u001b[0m\u001b[0;34m\u001b[0m\u001b[0m\n\u001b[1;32m   6861\u001b[0m   \u001b[0;31m# pylint: disable=protected-access\u001b[0m\u001b[0;34m\u001b[0m\u001b[0;34m\u001b[0m\u001b[0;34m\u001b[0m\u001b[0m\n\u001b[0;32m-> 6862\u001b[0;31m   \u001b[0msix\u001b[0m\u001b[0;34m.\u001b[0m\u001b[0mraise_from\u001b[0m\u001b[0;34m(\u001b[0m\u001b[0mcore\u001b[0m\u001b[0;34m.\u001b[0m\u001b[0m_status_to_exception\u001b[0m\u001b[0;34m(\u001b[0m\u001b[0me\u001b[0m\u001b[0;34m.\u001b[0m\u001b[0mcode\u001b[0m\u001b[0;34m,\u001b[0m \u001b[0mmessage\u001b[0m\u001b[0;34m)\u001b[0m\u001b[0;34m,\u001b[0m \u001b[0;32mNone\u001b[0m\u001b[0;34m)\u001b[0m\u001b[0;34m\u001b[0m\u001b[0;34m\u001b[0m\u001b[0m\n\u001b[0m\u001b[1;32m   6863\u001b[0m   \u001b[0;31m# pylint: enable=protected-access\u001b[0m\u001b[0;34m\u001b[0m\u001b[0;34m\u001b[0m\u001b[0;34m\u001b[0m\u001b[0m\n\u001b[1;32m   6864\u001b[0m \u001b[0;34m\u001b[0m\u001b[0m\n",
      "\u001b[0;32m~/Ai/lib/python3.8/site-packages/six.py\u001b[0m in \u001b[0;36mraise_from\u001b[0;34m(value, from_value)\u001b[0m\n",
      "\u001b[0;31mInvalidArgumentError\u001b[0m: Shapes of all inputs must match: values[0].shape = [78034] != values[1].shape = [104532] [Op:Pack] name: component_0"
     ]
    }
   ],
   "source": [
    "atick_ds = load_ds(ATICK_DATA_DIR, EMOTIONS, FOLDS)\n",
    "valentina_ds = load_ds(VALENTINA_DATA_DIR, EMOTIONS)\n",
    "\n",
    "# atick_ds.element_spec"
   ]
  },
  {
   "cell_type": "code",
   "execution_count": 25,
   "metadata": {
    "id": "LE2EB7GuOpEV"
   },
   "outputs": [
    {
     "data": {
      "text/plain": [
       "(TensorSpec(shape=(), dtype=tf.string, name=None),\n",
       " TensorSpec(shape=(), dtype=tf.int32, name=None),\n",
       " TensorSpec(shape=(), dtype=tf.int32, name=None))"
      ]
     },
     "execution_count": 25,
     "metadata": {},
     "output_type": "execute_result"
    }
   ],
   "source": [
    "atick_ds.element_spec"
   ]
  },
  {
   "cell_type": "code",
   "execution_count": 10,
   "metadata": {
    "colab": {
     "base_uri": "https://localhost:8080/"
    },
    "id": "air3bRfrPYh7",
    "outputId": "28f94e7d-b06f-40d3-a9c3-1a3951b53bea"
   },
   "outputs": [
    {
     "data": {
      "text/plain": [
       "(TensorSpec(shape=(1024,), dtype=tf.float32, name=None),\n",
       " TensorSpec(shape=(), dtype=tf.int32, name=None),\n",
       " TensorSpec(shape=(), dtype=tf.int32, name=None))"
      ]
     },
     "execution_count": 10,
     "metadata": {
      "tags": []
     },
     "output_type": "execute_result"
    }
   ],
   "source": [
    "# --------- Embeddings extraction using YAMNET -------------\n",
    "def extract_embedding(wav_data, label, fold):\n",
    "    ''' run YAMNet to extract embedding from the wav data '''\n",
    "    scores, embeddings, spectrogram = yamnet_model(wav_data)\n",
    "    num_embeddings = tf.shape(embeddings)[0]\n",
    "    return (\n",
    "            embeddings,\n",
    "            tf.repeat(label, num_embeddings),\n",
    "            tf.repeat(fold, num_embeddings)\n",
    ")\n",
    "\n",
    "atick_ds = atick_ds.map(extract_embedding).unbatch()\n",
    "valentina_ds = valentina_ds.map(extract_embedding).unbatch()\n",
    "\n",
    "atick_ds.element_spec"
   ]
  },
  {
   "cell_type": "code",
   "execution_count": 11,
   "metadata": {
    "id": "m9Dalx5jQtCh"
   },
   "outputs": [],
   "source": [
    "cached_ds_atick = atick_ds.cache()\n",
    "cached_ds_valentina = valentina_ds.cache()\n",
    "\n",
    "train_ds = cached_ds_atick.filter(\n",
    "    lambda embedding, label, fold: fold != FOLDS.index(CONFIG['test_fold'])\n",
    ")\n",
    "val_ds = cached_ds_atick.filter(\n",
    "    lambda embedding, label, fold: fold == FOLDS.index(CONFIG['test_fold'])\n",
    ")\n",
    "\n",
    "test_ds = cached_ds_valentina\n",
    "\n",
    "# train_ds = cached_ds_atick\n",
    "# val_ds = cached_ds_valentina\n",
    "# test_ds = cached_ds_valentina\n",
    "\n",
    "# remove the folds column now that it's not needed anymore\n",
    "remove_fold_column = lambda embedding, label, fold: (embedding, label)\n",
    "\n",
    "train_ds = train_ds.map(remove_fold_column)\n",
    "val_ds = val_ds.map(remove_fold_column)\n",
    "test_ds = test_ds.map(remove_fold_column)\n",
    "\n",
    "train_ds = train_ds.cache().shuffle(1000) .batch(CONFIG['batch_size']) \\\n",
    "                    .prefetch(tf.data.AUTOTUNE)\n",
    "val_ds = val_ds.cache().batch(CONFIG['batch_size']).prefetch(tf.data.AUTOTUNE)\n",
    "test_ds = test_ds.cache().batch(CONFIG['batch_size']).prefetch(tf.data.AUTOTUNE)"
   ]
  },
  {
   "cell_type": "code",
   "execution_count": 12,
   "metadata": {
    "colab": {
     "base_uri": "https://localhost:8080/"
    },
    "id": "EHLR-u5fQySE",
    "outputId": "c8132cb6-669d-417d-92e7-acc07ce9529f"
   },
   "outputs": [
    {
     "name": "stdout",
     "output_type": "stream",
     "text": [
      "Model: \"my_model\"\n",
      "_________________________________________________________________\n",
      "Layer (type)                 Output Shape              Param #   \n",
      "=================================================================\n",
      "dense (Dense)                (None, 512)               524800    \n",
      "_________________________________________________________________\n",
      "dropout (Dropout)            (None, 512)               0         \n",
      "_________________________________________________________________\n",
      "dense_1 (Dense)              (None, 3)                 1539      \n",
      "=================================================================\n",
      "Total params: 526,339\n",
      "Trainable params: 526,339\n",
      "Non-trainable params: 0\n",
      "_________________________________________________________________\n"
     ]
    }
   ],
   "source": [
    "my_model = tf.keras.Sequential([\n",
    "    tf.keras.layers.Input(shape=(1024), dtype=tf.float32,\n",
    "                          name='input_embedding'),\n",
    "    tf.keras.layers.Dense(512, activation='relu'),\n",
    "    tf.keras.layers.Dropout(0.5),\n",
    "    tf.keras.layers.Dense(len(EMOTIONS))\n",
    "], name='my_model')\n",
    "\n",
    "my_model.summary()"
   ]
  },
  {
   "cell_type": "code",
   "execution_count": 13,
   "metadata": {
    "id": "Ah5HL32GRbKP"
   },
   "outputs": [],
   "source": [
    "my_model.compile(\n",
    "    loss=tf.keras.losses.SparseCategoricalCrossentropy(from_logits=True),\n",
    "    optimizer=tf.keras.optimizers.Adam(learning_rate=CONFIG['learning_rate']),\n",
    "    metrics=['accuracy']\n",
    ")\n",
    "\n",
    "callback = tf.keras.callbacks.EarlyStopping(\n",
    "    monitor=CONFIG['monitor'],\n",
    "    patience=CONFIG['patience'],\n",
    "    restore_best_weights=True\n",
    ")"
   ]
  },
  {
   "cell_type": "code",
   "execution_count": 14,
   "metadata": {
    "colab": {
     "base_uri": "https://localhost:8080/"
    },
    "id": "XZg2kaaiRdoh",
    "outputId": "6fac68d2-d020-4c9a-e21b-e01fb9bfffdb"
   },
   "outputs": [
    {
     "name": "stdout",
     "output_type": "stream",
     "text": [
      "Epoch 1/300\n",
      "7/7 [==============================] - 82s 10s/step - loss: 1.0937 - accuracy: 0.2398 - val_loss: 1.0674 - val_accuracy: 0.3963\n",
      "Epoch 2/300\n",
      "7/7 [==============================] - 0s 64ms/step - loss: 1.0913 - accuracy: 0.2454 - val_loss: 1.0662 - val_accuracy: 0.3988\n",
      "Epoch 3/300\n",
      "7/7 [==============================] - 0s 64ms/step - loss: 1.0899 - accuracy: 0.2442 - val_loss: 1.0651 - val_accuracy: 0.4006\n",
      "Epoch 4/300\n",
      "7/7 [==============================] - 0s 67ms/step - loss: 1.0874 - accuracy: 0.2444 - val_loss: 1.0640 - val_accuracy: 0.4049\n",
      "Epoch 5/300\n",
      "7/7 [==============================] - 0s 70ms/step - loss: 1.0803 - accuracy: 0.2657 - val_loss: 1.0630 - val_accuracy: 0.4061\n",
      "Epoch 6/300\n",
      "7/7 [==============================] - 0s 70ms/step - loss: 1.0846 - accuracy: 0.2616 - val_loss: 1.0620 - val_accuracy: 0.4074\n",
      "Epoch 7/300\n",
      "7/7 [==============================] - 0s 64ms/step - loss: 1.0790 - accuracy: 0.2667 - val_loss: 1.0610 - val_accuracy: 0.4117\n",
      "Epoch 8/300\n",
      "7/7 [==============================] - 0s 67ms/step - loss: 1.0818 - accuracy: 0.2552 - val_loss: 1.0600 - val_accuracy: 0.4166\n",
      "Epoch 9/300\n",
      "7/7 [==============================] - 0s 68ms/step - loss: 1.0773 - accuracy: 0.2608 - val_loss: 1.0590 - val_accuracy: 0.4184\n",
      "Epoch 10/300\n",
      "7/7 [==============================] - 0s 71ms/step - loss: 1.0785 - accuracy: 0.2657 - val_loss: 1.0581 - val_accuracy: 0.4196\n",
      "Epoch 11/300\n",
      "7/7 [==============================] - 0s 70ms/step - loss: 1.0689 - accuracy: 0.2803 - val_loss: 1.0571 - val_accuracy: 0.4227\n",
      "Epoch 12/300\n",
      "7/7 [==============================] - 0s 72ms/step - loss: 1.0656 - accuracy: 0.2851 - val_loss: 1.0561 - val_accuracy: 0.4239\n",
      "Epoch 13/300\n",
      "7/7 [==============================] - 0s 68ms/step - loss: 1.0600 - accuracy: 0.2966 - val_loss: 1.0552 - val_accuracy: 0.4264\n",
      "Epoch 14/300\n",
      "7/7 [==============================] - 0s 71ms/step - loss: 1.0621 - accuracy: 0.2863 - val_loss: 1.0543 - val_accuracy: 0.4307\n",
      "Epoch 15/300\n",
      "7/7 [==============================] - 0s 68ms/step - loss: 1.0598 - accuracy: 0.2915 - val_loss: 1.0534 - val_accuracy: 0.4337\n",
      "Epoch 16/300\n",
      "7/7 [==============================] - 0s 69ms/step - loss: 1.0572 - accuracy: 0.2953 - val_loss: 1.0525 - val_accuracy: 0.4337\n",
      "Epoch 17/300\n",
      "7/7 [==============================] - 0s 68ms/step - loss: 1.0570 - accuracy: 0.2920 - val_loss: 1.0516 - val_accuracy: 0.4344\n",
      "Epoch 18/300\n",
      "7/7 [==============================] - 0s 70ms/step - loss: 1.0525 - accuracy: 0.3018 - val_loss: 1.0507 - val_accuracy: 0.4380\n",
      "Epoch 19/300\n",
      "7/7 [==============================] - 0s 74ms/step - loss: 1.0484 - accuracy: 0.2977 - val_loss: 1.0499 - val_accuracy: 0.4374\n",
      "Epoch 20/300\n",
      "7/7 [==============================] - 0s 73ms/step - loss: 1.0518 - accuracy: 0.3001 - val_loss: 1.0490 - val_accuracy: 0.4380\n",
      "Epoch 21/300\n",
      "7/7 [==============================] - 0s 71ms/step - loss: 1.0492 - accuracy: 0.3075 - val_loss: 1.0482 - val_accuracy: 0.4405\n",
      "Epoch 22/300\n",
      "7/7 [==============================] - 0s 72ms/step - loss: 1.0479 - accuracy: 0.3068 - val_loss: 1.0474 - val_accuracy: 0.4448\n",
      "Epoch 23/300\n",
      "7/7 [==============================] - 0s 69ms/step - loss: 1.0448 - accuracy: 0.3242 - val_loss: 1.0466 - val_accuracy: 0.4466\n",
      "Epoch 24/300\n",
      "7/7 [==============================] - 0s 73ms/step - loss: 1.0413 - accuracy: 0.3140 - val_loss: 1.0457 - val_accuracy: 0.4479\n",
      "Epoch 25/300\n",
      "7/7 [==============================] - 0s 67ms/step - loss: 1.0418 - accuracy: 0.3156 - val_loss: 1.0449 - val_accuracy: 0.4485\n",
      "Epoch 26/300\n",
      "7/7 [==============================] - 0s 71ms/step - loss: 1.0388 - accuracy: 0.3189 - val_loss: 1.0441 - val_accuracy: 0.4497\n",
      "Epoch 27/300\n",
      "7/7 [==============================] - 0s 69ms/step - loss: 1.0324 - accuracy: 0.3294 - val_loss: 1.0433 - val_accuracy: 0.4521\n",
      "Epoch 28/300\n",
      "7/7 [==============================] - 0s 73ms/step - loss: 1.0295 - accuracy: 0.3358 - val_loss: 1.0426 - val_accuracy: 0.4509\n",
      "Epoch 29/300\n",
      "7/7 [==============================] - 0s 71ms/step - loss: 1.0330 - accuracy: 0.3329 - val_loss: 1.0418 - val_accuracy: 0.4528\n",
      "Epoch 30/300\n",
      "7/7 [==============================] - 0s 68ms/step - loss: 1.0274 - accuracy: 0.3412 - val_loss: 1.0411 - val_accuracy: 0.4515\n",
      "Epoch 31/300\n",
      "7/7 [==============================] - 0s 69ms/step - loss: 1.0235 - accuracy: 0.3443 - val_loss: 1.0404 - val_accuracy: 0.4552\n",
      "Epoch 32/300\n",
      "7/7 [==============================] - 0s 71ms/step - loss: 1.0181 - accuracy: 0.3391 - val_loss: 1.0396 - val_accuracy: 0.4564\n",
      "Epoch 33/300\n",
      "7/7 [==============================] - 0s 72ms/step - loss: 1.0230 - accuracy: 0.3477 - val_loss: 1.0389 - val_accuracy: 0.4558\n",
      "Epoch 34/300\n",
      "7/7 [==============================] - 0s 69ms/step - loss: 1.0193 - accuracy: 0.3430 - val_loss: 1.0382 - val_accuracy: 0.4571\n",
      "Epoch 35/300\n",
      "7/7 [==============================] - 0s 70ms/step - loss: 1.0147 - accuracy: 0.3573 - val_loss: 1.0375 - val_accuracy: 0.4571\n",
      "Epoch 36/300\n",
      "7/7 [==============================] - 0s 69ms/step - loss: 1.0151 - accuracy: 0.3560 - val_loss: 1.0368 - val_accuracy: 0.4577\n",
      "Epoch 37/300\n",
      "7/7 [==============================] - 0s 75ms/step - loss: 1.0127 - accuracy: 0.3597 - val_loss: 1.0361 - val_accuracy: 0.4577\n",
      "Epoch 38/300\n",
      "7/7 [==============================] - 0s 73ms/step - loss: 1.0134 - accuracy: 0.3658 - val_loss: 1.0355 - val_accuracy: 0.4601\n",
      "Epoch 39/300\n",
      "7/7 [==============================] - 0s 68ms/step - loss: 1.0103 - accuracy: 0.3594 - val_loss: 1.0347 - val_accuracy: 0.4601\n",
      "Epoch 40/300\n",
      "7/7 [==============================] - 0s 70ms/step - loss: 1.0035 - accuracy: 0.3731 - val_loss: 1.0341 - val_accuracy: 0.4626\n",
      "Epoch 41/300\n",
      "7/7 [==============================] - 0s 67ms/step - loss: 1.0045 - accuracy: 0.3690 - val_loss: 1.0334 - val_accuracy: 0.4656\n",
      "Epoch 42/300\n",
      "7/7 [==============================] - 0s 75ms/step - loss: 1.0047 - accuracy: 0.3758 - val_loss: 1.0327 - val_accuracy: 0.4687\n",
      "Epoch 43/300\n",
      "7/7 [==============================] - 0s 70ms/step - loss: 1.0028 - accuracy: 0.3816 - val_loss: 1.0320 - val_accuracy: 0.4712\n",
      "Epoch 44/300\n",
      "7/7 [==============================] - 0s 73ms/step - loss: 0.9940 - accuracy: 0.3907 - val_loss: 1.0314 - val_accuracy: 0.4724\n",
      "Epoch 45/300\n",
      "7/7 [==============================] - 0s 66ms/step - loss: 0.9997 - accuracy: 0.3815 - val_loss: 1.0307 - val_accuracy: 0.4730\n",
      "Epoch 46/300\n",
      "7/7 [==============================] - 0s 75ms/step - loss: 0.9953 - accuracy: 0.3936 - val_loss: 1.0300 - val_accuracy: 0.4736\n",
      "Epoch 47/300\n",
      "7/7 [==============================] - 0s 72ms/step - loss: 0.9878 - accuracy: 0.4035 - val_loss: 1.0294 - val_accuracy: 0.4767\n",
      "Epoch 48/300\n",
      "7/7 [==============================] - 0s 71ms/step - loss: 0.9947 - accuracy: 0.3884 - val_loss: 1.0287 - val_accuracy: 0.4773\n",
      "Epoch 49/300\n",
      "7/7 [==============================] - 0s 68ms/step - loss: 0.9922 - accuracy: 0.4010 - val_loss: 1.0281 - val_accuracy: 0.4779\n",
      "Epoch 50/300\n",
      "7/7 [==============================] - 0s 68ms/step - loss: 0.9897 - accuracy: 0.3987 - val_loss: 1.0275 - val_accuracy: 0.4785\n",
      "Epoch 51/300\n",
      "7/7 [==============================] - 0s 71ms/step - loss: 0.9900 - accuracy: 0.4025 - val_loss: 1.0268 - val_accuracy: 0.4810\n",
      "Epoch 52/300\n",
      "7/7 [==============================] - 0s 69ms/step - loss: 0.9814 - accuracy: 0.4198 - val_loss: 1.0262 - val_accuracy: 0.4816\n",
      "Epoch 53/300\n",
      "7/7 [==============================] - 0s 70ms/step - loss: 0.9870 - accuracy: 0.4121 - val_loss: 1.0256 - val_accuracy: 0.4847\n",
      "Epoch 54/300\n",
      "7/7 [==============================] - 0s 70ms/step - loss: 0.9791 - accuracy: 0.4100 - val_loss: 1.0251 - val_accuracy: 0.4840\n",
      "Epoch 55/300\n",
      "7/7 [==============================] - 0s 70ms/step - loss: 0.9787 - accuracy: 0.4127 - val_loss: 1.0245 - val_accuracy: 0.4853\n",
      "Epoch 56/300\n",
      "7/7 [==============================] - 0s 75ms/step - loss: 0.9783 - accuracy: 0.4166 - val_loss: 1.0240 - val_accuracy: 0.4883\n",
      "Epoch 57/300\n",
      "7/7 [==============================] - 0s 69ms/step - loss: 0.9740 - accuracy: 0.4241 - val_loss: 1.0234 - val_accuracy: 0.4883\n",
      "Epoch 58/300\n",
      "7/7 [==============================] - 0s 70ms/step - loss: 0.9721 - accuracy: 0.4269 - val_loss: 1.0229 - val_accuracy: 0.4883\n",
      "Epoch 59/300\n",
      "7/7 [==============================] - 0s 72ms/step - loss: 0.9668 - accuracy: 0.4207 - val_loss: 1.0224 - val_accuracy: 0.4908\n",
      "Epoch 60/300\n",
      "7/7 [==============================] - 0s 70ms/step - loss: 0.9689 - accuracy: 0.4321 - val_loss: 1.0219 - val_accuracy: 0.4933\n",
      "Epoch 61/300\n",
      "7/7 [==============================] - 0s 73ms/step - loss: 0.9625 - accuracy: 0.4423 - val_loss: 1.0214 - val_accuracy: 0.4914\n",
      "Epoch 62/300\n",
      "7/7 [==============================] - 0s 68ms/step - loss: 0.9673 - accuracy: 0.4390 - val_loss: 1.0208 - val_accuracy: 0.4914\n",
      "Epoch 63/300\n",
      "7/7 [==============================] - 0s 71ms/step - loss: 0.9655 - accuracy: 0.4294 - val_loss: 1.0203 - val_accuracy: 0.4933\n",
      "Epoch 64/300\n",
      "7/7 [==============================] - 0s 71ms/step - loss: 0.9640 - accuracy: 0.4424 - val_loss: 1.0198 - val_accuracy: 0.4945\n",
      "Epoch 65/300\n",
      "7/7 [==============================] - 0s 71ms/step - loss: 0.9632 - accuracy: 0.4395 - val_loss: 1.0193 - val_accuracy: 0.4951\n",
      "Epoch 66/300\n",
      "7/7 [==============================] - 0s 70ms/step - loss: 0.9621 - accuracy: 0.4400 - val_loss: 1.0189 - val_accuracy: 0.4933\n",
      "Epoch 67/300\n",
      "7/7 [==============================] - 0s 68ms/step - loss: 0.9556 - accuracy: 0.4569 - val_loss: 1.0184 - val_accuracy: 0.4945\n",
      "Epoch 68/300\n",
      "7/7 [==============================] - 0s 71ms/step - loss: 0.9573 - accuracy: 0.4510 - val_loss: 1.0179 - val_accuracy: 0.4945\n",
      "Epoch 69/300\n",
      "7/7 [==============================] - 0s 70ms/step - loss: 0.9571 - accuracy: 0.4511 - val_loss: 1.0175 - val_accuracy: 0.4939\n",
      "Epoch 70/300\n",
      "7/7 [==============================] - 0s 73ms/step - loss: 0.9531 - accuracy: 0.4598 - val_loss: 1.0170 - val_accuracy: 0.4945\n",
      "Epoch 71/300\n",
      "7/7 [==============================] - 0s 68ms/step - loss: 0.9518 - accuracy: 0.4624 - val_loss: 1.0166 - val_accuracy: 0.4957\n",
      "Epoch 72/300\n",
      "7/7 [==============================] - 0s 71ms/step - loss: 0.9506 - accuracy: 0.4618 - val_loss: 1.0161 - val_accuracy: 0.4957\n",
      "Epoch 73/300\n",
      "7/7 [==============================] - 0s 73ms/step - loss: 0.9521 - accuracy: 0.4585 - val_loss: 1.0157 - val_accuracy: 0.4975\n",
      "Epoch 74/300\n",
      "7/7 [==============================] - 0s 77ms/step - loss: 0.9494 - accuracy: 0.4661 - val_loss: 1.0152 - val_accuracy: 0.4982\n",
      "Epoch 75/300\n",
      "7/7 [==============================] - 0s 73ms/step - loss: 0.9466 - accuracy: 0.4637 - val_loss: 1.0148 - val_accuracy: 0.4982\n",
      "Epoch 76/300\n",
      "7/7 [==============================] - 0s 68ms/step - loss: 0.9444 - accuracy: 0.4669 - val_loss: 1.0143 - val_accuracy: 0.4969\n",
      "Epoch 77/300\n",
      "7/7 [==============================] - 0s 70ms/step - loss: 0.9444 - accuracy: 0.4677 - val_loss: 1.0139 - val_accuracy: 0.4982\n",
      "Epoch 78/300\n",
      "7/7 [==============================] - 0s 68ms/step - loss: 0.9429 - accuracy: 0.4716 - val_loss: 1.0135 - val_accuracy: 0.4975\n",
      "Epoch 79/300\n",
      "7/7 [==============================] - 0s 72ms/step - loss: 0.9381 - accuracy: 0.4795 - val_loss: 1.0131 - val_accuracy: 0.5000\n",
      "Epoch 80/300\n",
      "7/7 [==============================] - 0s 74ms/step - loss: 0.9386 - accuracy: 0.4831 - val_loss: 1.0127 - val_accuracy: 0.4975\n",
      "Epoch 81/300\n",
      "7/7 [==============================] - 0s 69ms/step - loss: 0.9475 - accuracy: 0.4638 - val_loss: 1.0123 - val_accuracy: 0.4982\n",
      "Epoch 82/300\n",
      "7/7 [==============================] - 0s 71ms/step - loss: 0.9327 - accuracy: 0.4853 - val_loss: 1.0119 - val_accuracy: 0.4963\n",
      "Epoch 83/300\n",
      "7/7 [==============================] - 0s 68ms/step - loss: 0.9324 - accuracy: 0.4923 - val_loss: 1.0114 - val_accuracy: 0.4975\n",
      "Epoch 84/300\n",
      "7/7 [==============================] - 0s 71ms/step - loss: 0.9313 - accuracy: 0.4947 - val_loss: 1.0110 - val_accuracy: 0.4982\n",
      "Epoch 85/300\n",
      "7/7 [==============================] - 0s 69ms/step - loss: 0.9365 - accuracy: 0.4924 - val_loss: 1.0106 - val_accuracy: 0.4969\n",
      "Epoch 86/300\n",
      "7/7 [==============================] - 0s 70ms/step - loss: 0.9279 - accuracy: 0.4977 - val_loss: 1.0102 - val_accuracy: 0.4982\n",
      "Epoch 87/300\n",
      "7/7 [==============================] - 0s 74ms/step - loss: 0.9304 - accuracy: 0.4921 - val_loss: 1.0098 - val_accuracy: 0.4982\n",
      "Epoch 88/300\n",
      "7/7 [==============================] - 0s 69ms/step - loss: 0.9251 - accuracy: 0.4991 - val_loss: 1.0094 - val_accuracy: 0.4988\n",
      "Epoch 89/300\n",
      "7/7 [==============================] - 0s 72ms/step - loss: 0.9275 - accuracy: 0.4937 - val_loss: 1.0091 - val_accuracy: 0.5000\n",
      "Epoch 90/300\n",
      "7/7 [==============================] - 0s 70ms/step - loss: 0.9195 - accuracy: 0.5031 - val_loss: 1.0087 - val_accuracy: 0.4982\n",
      "Epoch 91/300\n",
      "7/7 [==============================] - 0s 72ms/step - loss: 0.9277 - accuracy: 0.4877 - val_loss: 1.0084 - val_accuracy: 0.4982\n",
      "Epoch 92/300\n",
      "7/7 [==============================] - 0s 69ms/step - loss: 0.9195 - accuracy: 0.5137 - val_loss: 1.0080 - val_accuracy: 0.4963\n",
      "Epoch 93/300\n",
      "7/7 [==============================] - 0s 73ms/step - loss: 0.9249 - accuracy: 0.5042 - val_loss: 1.0077 - val_accuracy: 0.4951\n",
      "Epoch 94/300\n",
      "7/7 [==============================] - 0s 72ms/step - loss: 0.9200 - accuracy: 0.5068 - val_loss: 1.0074 - val_accuracy: 0.4951\n",
      "Epoch 95/300\n",
      "7/7 [==============================] - 0s 67ms/step - loss: 0.9155 - accuracy: 0.5182 - val_loss: 1.0071 - val_accuracy: 0.4945\n",
      "Epoch 96/300\n",
      "7/7 [==============================] - 0s 73ms/step - loss: 0.9199 - accuracy: 0.5101 - val_loss: 1.0067 - val_accuracy: 0.4951\n",
      "Epoch 97/300\n",
      "7/7 [==============================] - 0s 79ms/step - loss: 0.9157 - accuracy: 0.5218 - val_loss: 1.0064 - val_accuracy: 0.4945\n",
      "Epoch 98/300\n",
      "7/7 [==============================] - 0s 68ms/step - loss: 0.9155 - accuracy: 0.5101 - val_loss: 1.0061 - val_accuracy: 0.4957\n",
      "Epoch 99/300\n",
      "7/7 [==============================] - 0s 73ms/step - loss: 0.9153 - accuracy: 0.5202 - val_loss: 1.0058 - val_accuracy: 0.4957\n",
      "Epoch 100/300\n",
      "7/7 [==============================] - 0s 73ms/step - loss: 0.9124 - accuracy: 0.5116 - val_loss: 1.0055 - val_accuracy: 0.4951\n",
      "Epoch 101/300\n",
      "7/7 [==============================] - 0s 74ms/step - loss: 0.9114 - accuracy: 0.5182 - val_loss: 1.0051 - val_accuracy: 0.4945\n",
      "Epoch 102/300\n",
      "7/7 [==============================] - 0s 71ms/step - loss: 0.9034 - accuracy: 0.5379 - val_loss: 1.0048 - val_accuracy: 0.4957\n",
      "Epoch 103/300\n",
      "7/7 [==============================] - 0s 69ms/step - loss: 0.9078 - accuracy: 0.5261 - val_loss: 1.0045 - val_accuracy: 0.4957\n",
      "Epoch 104/300\n",
      "7/7 [==============================] - 0s 72ms/step - loss: 0.9020 - accuracy: 0.5453 - val_loss: 1.0041 - val_accuracy: 0.4994\n",
      "Epoch 105/300\n",
      "7/7 [==============================] - 0s 72ms/step - loss: 0.9065 - accuracy: 0.5284 - val_loss: 1.0038 - val_accuracy: 0.5000\n",
      "Epoch 106/300\n",
      "7/7 [==============================] - 0s 75ms/step - loss: 0.9002 - accuracy: 0.5364 - val_loss: 1.0035 - val_accuracy: 0.5000\n",
      "Epoch 107/300\n",
      "7/7 [==============================] - 0s 69ms/step - loss: 0.9016 - accuracy: 0.5271 - val_loss: 1.0032 - val_accuracy: 0.5031\n",
      "Epoch 108/300\n",
      "7/7 [==============================] - 0s 69ms/step - loss: 0.8966 - accuracy: 0.5357 - val_loss: 1.0029 - val_accuracy: 0.5012\n",
      "Epoch 109/300\n",
      "7/7 [==============================] - 0s 69ms/step - loss: 0.9009 - accuracy: 0.5371 - val_loss: 1.0026 - val_accuracy: 0.5025\n",
      "Epoch 110/300\n",
      "7/7 [==============================] - 0s 74ms/step - loss: 0.8943 - accuracy: 0.5450 - val_loss: 1.0023 - val_accuracy: 0.5018\n",
      "Epoch 111/300\n",
      "7/7 [==============================] - 0s 71ms/step - loss: 0.8970 - accuracy: 0.5405 - val_loss: 1.0020 - val_accuracy: 0.5018\n",
      "Epoch 112/300\n",
      "7/7 [==============================] - 0s 71ms/step - loss: 0.8949 - accuracy: 0.5371 - val_loss: 1.0016 - val_accuracy: 0.5000\n",
      "Epoch 113/300\n",
      "7/7 [==============================] - 0s 71ms/step - loss: 0.8945 - accuracy: 0.5374 - val_loss: 1.0013 - val_accuracy: 0.5031\n",
      "Epoch 114/300\n",
      "7/7 [==============================] - 0s 74ms/step - loss: 0.8928 - accuracy: 0.5510 - val_loss: 1.0011 - val_accuracy: 0.5037\n",
      "Epoch 115/300\n",
      "7/7 [==============================] - 0s 75ms/step - loss: 0.8904 - accuracy: 0.5554 - val_loss: 1.0008 - val_accuracy: 0.5037\n",
      "Epoch 116/300\n",
      "7/7 [==============================] - 0s 71ms/step - loss: 0.8849 - accuracy: 0.5556 - val_loss: 1.0005 - val_accuracy: 0.5043\n",
      "Epoch 117/300\n",
      "7/7 [==============================] - 0s 71ms/step - loss: 0.8896 - accuracy: 0.5491 - val_loss: 1.0002 - val_accuracy: 0.5043\n",
      "Epoch 118/300\n",
      "7/7 [==============================] - 0s 75ms/step - loss: 0.8883 - accuracy: 0.5462 - val_loss: 0.9999 - val_accuracy: 0.5049\n",
      "Epoch 119/300\n",
      "7/7 [==============================] - 0s 71ms/step - loss: 0.8874 - accuracy: 0.5460 - val_loss: 0.9996 - val_accuracy: 0.5049\n",
      "Epoch 120/300\n",
      "7/7 [==============================] - 0s 71ms/step - loss: 0.8820 - accuracy: 0.5630 - val_loss: 0.9994 - val_accuracy: 0.5037\n",
      "Epoch 121/300\n",
      "7/7 [==============================] - 0s 72ms/step - loss: 0.8825 - accuracy: 0.5614 - val_loss: 0.9992 - val_accuracy: 0.5055\n",
      "Epoch 122/300\n",
      "7/7 [==============================] - 0s 70ms/step - loss: 0.8805 - accuracy: 0.5616 - val_loss: 0.9989 - val_accuracy: 0.5043\n",
      "Epoch 123/300\n",
      "7/7 [==============================] - 0s 75ms/step - loss: 0.8801 - accuracy: 0.5602 - val_loss: 0.9987 - val_accuracy: 0.5037\n",
      "Epoch 124/300\n",
      "7/7 [==============================] - 0s 75ms/step - loss: 0.8809 - accuracy: 0.5674 - val_loss: 0.9984 - val_accuracy: 0.5037\n",
      "Epoch 125/300\n",
      "7/7 [==============================] - 0s 72ms/step - loss: 0.8796 - accuracy: 0.5515 - val_loss: 0.9982 - val_accuracy: 0.5031\n",
      "Epoch 126/300\n",
      "7/7 [==============================] - 0s 72ms/step - loss: 0.8779 - accuracy: 0.5698 - val_loss: 0.9979 - val_accuracy: 0.5037\n",
      "Epoch 127/300\n",
      "7/7 [==============================] - 0s 76ms/step - loss: 0.8763 - accuracy: 0.5683 - val_loss: 0.9977 - val_accuracy: 0.5043\n",
      "Epoch 128/300\n",
      "7/7 [==============================] - 0s 76ms/step - loss: 0.8749 - accuracy: 0.5641 - val_loss: 0.9975 - val_accuracy: 0.5031\n",
      "Epoch 129/300\n",
      "7/7 [==============================] - 0s 70ms/step - loss: 0.8770 - accuracy: 0.5691 - val_loss: 0.9972 - val_accuracy: 0.5043\n",
      "Epoch 130/300\n",
      "7/7 [==============================] - 0s 72ms/step - loss: 0.8741 - accuracy: 0.5705 - val_loss: 0.9970 - val_accuracy: 0.5049\n",
      "Epoch 131/300\n",
      "7/7 [==============================] - 0s 74ms/step - loss: 0.8762 - accuracy: 0.5716 - val_loss: 0.9967 - val_accuracy: 0.5043\n",
      "Epoch 132/300\n",
      "7/7 [==============================] - 0s 73ms/step - loss: 0.8735 - accuracy: 0.5704 - val_loss: 0.9965 - val_accuracy: 0.5043\n",
      "Epoch 133/300\n",
      "7/7 [==============================] - 0s 72ms/step - loss: 0.8754 - accuracy: 0.5715 - val_loss: 0.9963 - val_accuracy: 0.5031\n",
      "Epoch 134/300\n",
      "7/7 [==============================] - 0s 73ms/step - loss: 0.8710 - accuracy: 0.5734 - val_loss: 0.9960 - val_accuracy: 0.5018\n",
      "Epoch 135/300\n",
      "7/7 [==============================] - 0s 72ms/step - loss: 0.8648 - accuracy: 0.5866 - val_loss: 0.9958 - val_accuracy: 0.5018\n",
      "Epoch 136/300\n",
      "7/7 [==============================] - 0s 77ms/step - loss: 0.8696 - accuracy: 0.5682 - val_loss: 0.9956 - val_accuracy: 0.5018\n",
      "Epoch 137/300\n",
      "7/7 [==============================] - 0s 77ms/step - loss: 0.8684 - accuracy: 0.5765 - val_loss: 0.9954 - val_accuracy: 0.5018\n",
      "Epoch 138/300\n",
      "7/7 [==============================] - 0s 72ms/step - loss: 0.8655 - accuracy: 0.5783 - val_loss: 0.9952 - val_accuracy: 0.5031\n",
      "Epoch 139/300\n",
      "7/7 [==============================] - 0s 72ms/step - loss: 0.8611 - accuracy: 0.5899 - val_loss: 0.9950 - val_accuracy: 0.5037\n",
      "Epoch 140/300\n",
      "7/7 [==============================] - 0s 75ms/step - loss: 0.8612 - accuracy: 0.5858 - val_loss: 0.9948 - val_accuracy: 0.5043\n",
      "Epoch 141/300\n",
      "7/7 [==============================] - 0s 71ms/step - loss: 0.8611 - accuracy: 0.5824 - val_loss: 0.9945 - val_accuracy: 0.5043\n",
      "Epoch 142/300\n",
      "7/7 [==============================] - 0s 71ms/step - loss: 0.8587 - accuracy: 0.5801 - val_loss: 0.9943 - val_accuracy: 0.5049\n",
      "Epoch 143/300\n",
      "7/7 [==============================] - 0s 70ms/step - loss: 0.8560 - accuracy: 0.5886 - val_loss: 0.9942 - val_accuracy: 0.5049\n",
      "Epoch 144/300\n",
      "7/7 [==============================] - 0s 71ms/step - loss: 0.8547 - accuracy: 0.5902 - val_loss: 0.9940 - val_accuracy: 0.5049\n",
      "Epoch 145/300\n",
      "7/7 [==============================] - 0s 78ms/step - loss: 0.8557 - accuracy: 0.6001 - val_loss: 0.9938 - val_accuracy: 0.5031\n",
      "Epoch 146/300\n",
      "7/7 [==============================] - 0s 72ms/step - loss: 0.8524 - accuracy: 0.5971 - val_loss: 0.9935 - val_accuracy: 0.5031\n",
      "Epoch 147/300\n",
      "7/7 [==============================] - 0s 68ms/step - loss: 0.8512 - accuracy: 0.5956 - val_loss: 0.9934 - val_accuracy: 0.5031\n",
      "Epoch 148/300\n",
      "7/7 [==============================] - 0s 71ms/step - loss: 0.8531 - accuracy: 0.5944 - val_loss: 0.9932 - val_accuracy: 0.5037\n",
      "Epoch 149/300\n",
      "7/7 [==============================] - 0s 78ms/step - loss: 0.8510 - accuracy: 0.6005 - val_loss: 0.9931 - val_accuracy: 0.5043\n",
      "Epoch 150/300\n",
      "7/7 [==============================] - 0s 72ms/step - loss: 0.8519 - accuracy: 0.5986 - val_loss: 0.9929 - val_accuracy: 0.5043\n",
      "Epoch 151/300\n",
      "7/7 [==============================] - 0s 69ms/step - loss: 0.8485 - accuracy: 0.5999 - val_loss: 0.9927 - val_accuracy: 0.5031\n",
      "Epoch 152/300\n",
      "7/7 [==============================] - 0s 71ms/step - loss: 0.8474 - accuracy: 0.6037 - val_loss: 0.9925 - val_accuracy: 0.5037\n",
      "Epoch 153/300\n",
      "7/7 [==============================] - 0s 69ms/step - loss: 0.8441 - accuracy: 0.6094 - val_loss: 0.9923 - val_accuracy: 0.5037\n",
      "Epoch 154/300\n",
      "7/7 [==============================] - 0s 72ms/step - loss: 0.8432 - accuracy: 0.6097 - val_loss: 0.9922 - val_accuracy: 0.5055\n",
      "Epoch 155/300\n",
      "7/7 [==============================] - 0s 71ms/step - loss: 0.8443 - accuracy: 0.5993 - val_loss: 0.9920 - val_accuracy: 0.5055\n",
      "Epoch 156/300\n",
      "7/7 [==============================] - 0s 68ms/step - loss: 0.8391 - accuracy: 0.6128 - val_loss: 0.9919 - val_accuracy: 0.5067\n",
      "Epoch 157/300\n",
      "7/7 [==============================] - 0s 74ms/step - loss: 0.8380 - accuracy: 0.6165 - val_loss: 0.9918 - val_accuracy: 0.5074\n",
      "Epoch 158/300\n",
      "7/7 [==============================] - 0s 74ms/step - loss: 0.8446 - accuracy: 0.6028 - val_loss: 0.9916 - val_accuracy: 0.5080\n",
      "Epoch 159/300\n",
      "7/7 [==============================] - 0s 75ms/step - loss: 0.8383 - accuracy: 0.6083 - val_loss: 0.9915 - val_accuracy: 0.5098\n",
      "Epoch 160/300\n",
      "7/7 [==============================] - 0s 68ms/step - loss: 0.8400 - accuracy: 0.6109 - val_loss: 0.9913 - val_accuracy: 0.5092\n",
      "Epoch 161/300\n",
      "7/7 [==============================] - 0s 71ms/step - loss: 0.8389 - accuracy: 0.6162 - val_loss: 0.9911 - val_accuracy: 0.5098\n",
      "Epoch 162/300\n",
      "7/7 [==============================] - 0s 70ms/step - loss: 0.8337 - accuracy: 0.6168 - val_loss: 0.9909 - val_accuracy: 0.5104\n",
      "Epoch 163/300\n",
      "7/7 [==============================] - 0s 71ms/step - loss: 0.8364 - accuracy: 0.6119 - val_loss: 0.9907 - val_accuracy: 0.5104\n",
      "Epoch 164/300\n",
      "7/7 [==============================] - 0s 75ms/step - loss: 0.8384 - accuracy: 0.6060 - val_loss: 0.9906 - val_accuracy: 0.5098\n",
      "Epoch 165/300\n",
      "7/7 [==============================] - 0s 72ms/step - loss: 0.8294 - accuracy: 0.6259 - val_loss: 0.9904 - val_accuracy: 0.5104\n",
      "Epoch 166/300\n",
      "7/7 [==============================] - 0s 70ms/step - loss: 0.8326 - accuracy: 0.6148 - val_loss: 0.9902 - val_accuracy: 0.5117\n",
      "Epoch 167/300\n",
      "7/7 [==============================] - 0s 74ms/step - loss: 0.8337 - accuracy: 0.6202 - val_loss: 0.9901 - val_accuracy: 0.5123\n",
      "Epoch 168/300\n",
      "7/7 [==============================] - 0s 76ms/step - loss: 0.8305 - accuracy: 0.6196 - val_loss: 0.9899 - val_accuracy: 0.5129\n",
      "Epoch 169/300\n",
      "7/7 [==============================] - 0s 73ms/step - loss: 0.8269 - accuracy: 0.6208 - val_loss: 0.9898 - val_accuracy: 0.5129\n",
      "Epoch 170/300\n",
      "7/7 [==============================] - 0s 74ms/step - loss: 0.8312 - accuracy: 0.6159 - val_loss: 0.9896 - val_accuracy: 0.5141\n",
      "Epoch 171/300\n",
      "7/7 [==============================] - 0s 71ms/step - loss: 0.8297 - accuracy: 0.6271 - val_loss: 0.9895 - val_accuracy: 0.5147\n",
      "Epoch 172/300\n",
      "7/7 [==============================] - 0s 69ms/step - loss: 0.8319 - accuracy: 0.6168 - val_loss: 0.9893 - val_accuracy: 0.5160\n",
      "Epoch 173/300\n",
      "7/7 [==============================] - 0s 73ms/step - loss: 0.8270 - accuracy: 0.6264 - val_loss: 0.9891 - val_accuracy: 0.5166\n",
      "Epoch 174/300\n",
      "7/7 [==============================] - 0s 72ms/step - loss: 0.8254 - accuracy: 0.6258 - val_loss: 0.9890 - val_accuracy: 0.5172\n",
      "Epoch 175/300\n",
      "7/7 [==============================] - 0s 71ms/step - loss: 0.8235 - accuracy: 0.6270 - val_loss: 0.9888 - val_accuracy: 0.5166\n",
      "Epoch 176/300\n",
      "7/7 [==============================] - 0s 77ms/step - loss: 0.8259 - accuracy: 0.6300 - val_loss: 0.9887 - val_accuracy: 0.5166\n",
      "Epoch 177/300\n",
      "7/7 [==============================] - 0s 69ms/step - loss: 0.8243 - accuracy: 0.6197 - val_loss: 0.9885 - val_accuracy: 0.5166\n",
      "Epoch 178/300\n",
      "7/7 [==============================] - 0s 72ms/step - loss: 0.8212 - accuracy: 0.6235 - val_loss: 0.9883 - val_accuracy: 0.5166\n",
      "Epoch 179/300\n",
      "7/7 [==============================] - 0s 68ms/step - loss: 0.8227 - accuracy: 0.6279 - val_loss: 0.9882 - val_accuracy: 0.5172\n",
      "Epoch 180/300\n",
      "7/7 [==============================] - 0s 68ms/step - loss: 0.8206 - accuracy: 0.6366 - val_loss: 0.9880 - val_accuracy: 0.5166\n",
      "Epoch 181/300\n",
      "7/7 [==============================] - 0s 72ms/step - loss: 0.8174 - accuracy: 0.6275 - val_loss: 0.9878 - val_accuracy: 0.5184\n",
      "Epoch 182/300\n",
      "7/7 [==============================] - 0s 73ms/step - loss: 0.8165 - accuracy: 0.6281 - val_loss: 0.9877 - val_accuracy: 0.5184\n",
      "Epoch 183/300\n",
      "7/7 [==============================] - 0s 70ms/step - loss: 0.8148 - accuracy: 0.6272 - val_loss: 0.9875 - val_accuracy: 0.5190\n",
      "Epoch 184/300\n",
      "7/7 [==============================] - 0s 69ms/step - loss: 0.8208 - accuracy: 0.6333 - val_loss: 0.9874 - val_accuracy: 0.5190\n",
      "Epoch 185/300\n",
      "7/7 [==============================] - 0s 72ms/step - loss: 0.8163 - accuracy: 0.6315 - val_loss: 0.9872 - val_accuracy: 0.5184\n",
      "Epoch 186/300\n",
      "7/7 [==============================] - 0s 70ms/step - loss: 0.8166 - accuracy: 0.6280 - val_loss: 0.9870 - val_accuracy: 0.5178\n",
      "Epoch 187/300\n",
      "7/7 [==============================] - 0s 67ms/step - loss: 0.8135 - accuracy: 0.6374 - val_loss: 0.9869 - val_accuracy: 0.5178\n",
      "Epoch 188/300\n",
      "7/7 [==============================] - 0s 70ms/step - loss: 0.8120 - accuracy: 0.6356 - val_loss: 0.9868 - val_accuracy: 0.5172\n",
      "Epoch 189/300\n",
      "7/7 [==============================] - 0s 71ms/step - loss: 0.8114 - accuracy: 0.6416 - val_loss: 0.9867 - val_accuracy: 0.5172\n",
      "Epoch 190/300\n",
      "7/7 [==============================] - 0s 72ms/step - loss: 0.8102 - accuracy: 0.6402 - val_loss: 0.9866 - val_accuracy: 0.5172\n",
      "Epoch 191/300\n",
      "7/7 [==============================] - 0s 70ms/step - loss: 0.8106 - accuracy: 0.6342 - val_loss: 0.9864 - val_accuracy: 0.5178\n",
      "Epoch 192/300\n",
      "7/7 [==============================] - 0s 71ms/step - loss: 0.8062 - accuracy: 0.6476 - val_loss: 0.9863 - val_accuracy: 0.5190\n",
      "Epoch 193/300\n",
      "7/7 [==============================] - 0s 69ms/step - loss: 0.8082 - accuracy: 0.6357 - val_loss: 0.9862 - val_accuracy: 0.5190\n",
      "Epoch 194/300\n",
      "7/7 [==============================] - 0s 71ms/step - loss: 0.8104 - accuracy: 0.6353 - val_loss: 0.9861 - val_accuracy: 0.5190\n",
      "Epoch 195/300\n",
      "7/7 [==============================] - 0s 75ms/step - loss: 0.8068 - accuracy: 0.6389 - val_loss: 0.9860 - val_accuracy: 0.5196\n",
      "Epoch 196/300\n",
      "7/7 [==============================] - 0s 71ms/step - loss: 0.8026 - accuracy: 0.6476 - val_loss: 0.9858 - val_accuracy: 0.5190\n",
      "Epoch 197/300\n",
      "7/7 [==============================] - 0s 69ms/step - loss: 0.8043 - accuracy: 0.6399 - val_loss: 0.9857 - val_accuracy: 0.5190\n",
      "Epoch 198/300\n",
      "7/7 [==============================] - 0s 71ms/step - loss: 0.8060 - accuracy: 0.6373 - val_loss: 0.9856 - val_accuracy: 0.5190\n",
      "Epoch 199/300\n",
      "7/7 [==============================] - 0s 71ms/step - loss: 0.8028 - accuracy: 0.6306 - val_loss: 0.9855 - val_accuracy: 0.5196\n",
      "Epoch 200/300\n",
      "7/7 [==============================] - 0s 71ms/step - loss: 0.8034 - accuracy: 0.6482 - val_loss: 0.9853 - val_accuracy: 0.5196\n",
      "Epoch 201/300\n",
      "7/7 [==============================] - 0s 71ms/step - loss: 0.7945 - accuracy: 0.6512 - val_loss: 0.9852 - val_accuracy: 0.5190\n",
      "Epoch 202/300\n",
      "7/7 [==============================] - 0s 72ms/step - loss: 0.7996 - accuracy: 0.6493 - val_loss: 0.9851 - val_accuracy: 0.5196\n",
      "Epoch 203/300\n",
      "7/7 [==============================] - 0s 72ms/step - loss: 0.8026 - accuracy: 0.6451 - val_loss: 0.9849 - val_accuracy: 0.5202\n",
      "Epoch 204/300\n",
      "7/7 [==============================] - 0s 75ms/step - loss: 0.8010 - accuracy: 0.6418 - val_loss: 0.9848 - val_accuracy: 0.5202\n",
      "Epoch 205/300\n",
      "7/7 [==============================] - 0s 70ms/step - loss: 0.7983 - accuracy: 0.6458 - val_loss: 0.9846 - val_accuracy: 0.5209\n",
      "Epoch 206/300\n",
      "7/7 [==============================] - 0s 73ms/step - loss: 0.7969 - accuracy: 0.6485 - val_loss: 0.9845 - val_accuracy: 0.5202\n",
      "Epoch 207/300\n",
      "7/7 [==============================] - 0s 73ms/step - loss: 0.7933 - accuracy: 0.6556 - val_loss: 0.9844 - val_accuracy: 0.5209\n",
      "Epoch 208/300\n",
      "7/7 [==============================] - 0s 78ms/step - loss: 0.7973 - accuracy: 0.6509 - val_loss: 0.9843 - val_accuracy: 0.5215\n",
      "Epoch 209/300\n",
      "7/7 [==============================] - 0s 71ms/step - loss: 0.7948 - accuracy: 0.6511 - val_loss: 0.9842 - val_accuracy: 0.5221\n",
      "Epoch 210/300\n",
      "7/7 [==============================] - 0s 70ms/step - loss: 0.7934 - accuracy: 0.6465 - val_loss: 0.9841 - val_accuracy: 0.5215\n",
      "Epoch 211/300\n",
      "7/7 [==============================] - 0s 71ms/step - loss: 0.7878 - accuracy: 0.6579 - val_loss: 0.9840 - val_accuracy: 0.5215\n",
      "Epoch 212/300\n",
      "7/7 [==============================] - 0s 74ms/step - loss: 0.7890 - accuracy: 0.6546 - val_loss: 0.9839 - val_accuracy: 0.5215\n",
      "Epoch 213/300\n",
      "7/7 [==============================] - 0s 73ms/step - loss: 0.7914 - accuracy: 0.6512 - val_loss: 0.9838 - val_accuracy: 0.5215\n",
      "Epoch 214/300\n",
      "7/7 [==============================] - 0s 74ms/step - loss: 0.7911 - accuracy: 0.6517 - val_loss: 0.9837 - val_accuracy: 0.5215\n",
      "Epoch 215/300\n",
      "7/7 [==============================] - 0s 70ms/step - loss: 0.7852 - accuracy: 0.6544 - val_loss: 0.9837 - val_accuracy: 0.5215\n",
      "Epoch 216/300\n",
      "7/7 [==============================] - 0s 73ms/step - loss: 0.7890 - accuracy: 0.6462 - val_loss: 0.9836 - val_accuracy: 0.5209\n",
      "Epoch 217/300\n",
      "7/7 [==============================] - 0s 71ms/step - loss: 0.7846 - accuracy: 0.6595 - val_loss: 0.9834 - val_accuracy: 0.5209\n",
      "Epoch 218/300\n",
      "7/7 [==============================] - 0s 71ms/step - loss: 0.7882 - accuracy: 0.6520 - val_loss: 0.9833 - val_accuracy: 0.5209\n",
      "Epoch 219/300\n",
      "7/7 [==============================] - 0s 69ms/step - loss: 0.7861 - accuracy: 0.6565 - val_loss: 0.9833 - val_accuracy: 0.5209\n",
      "Epoch 220/300\n",
      "7/7 [==============================] - 0s 68ms/step - loss: 0.7832 - accuracy: 0.6589 - val_loss: 0.9832 - val_accuracy: 0.5209\n",
      "Epoch 221/300\n",
      "7/7 [==============================] - 0s 73ms/step - loss: 0.7860 - accuracy: 0.6603 - val_loss: 0.9831 - val_accuracy: 0.5215\n",
      "Epoch 222/300\n",
      "7/7 [==============================] - 0s 72ms/step - loss: 0.7869 - accuracy: 0.6561 - val_loss: 0.9830 - val_accuracy: 0.5209\n",
      "Epoch 223/300\n",
      "7/7 [==============================] - 0s 73ms/step - loss: 0.7855 - accuracy: 0.6588 - val_loss: 0.9828 - val_accuracy: 0.5215\n",
      "Epoch 224/300\n",
      "7/7 [==============================] - 0s 73ms/step - loss: 0.7823 - accuracy: 0.6610 - val_loss: 0.9828 - val_accuracy: 0.5209\n",
      "Epoch 225/300\n",
      "7/7 [==============================] - 0s 75ms/step - loss: 0.7789 - accuracy: 0.6642 - val_loss: 0.9827 - val_accuracy: 0.5202\n",
      "Epoch 226/300\n",
      "7/7 [==============================] - 0s 73ms/step - loss: 0.7784 - accuracy: 0.6653 - val_loss: 0.9826 - val_accuracy: 0.5202\n",
      "Epoch 227/300\n",
      "7/7 [==============================] - 0s 73ms/step - loss: 0.7777 - accuracy: 0.6591 - val_loss: 0.9825 - val_accuracy: 0.5209\n",
      "Epoch 228/300\n",
      "7/7 [==============================] - 0s 73ms/step - loss: 0.7776 - accuracy: 0.6714 - val_loss: 0.9824 - val_accuracy: 0.5202\n",
      "Epoch 229/300\n",
      "7/7 [==============================] - 0s 72ms/step - loss: 0.7792 - accuracy: 0.6586 - val_loss: 0.9823 - val_accuracy: 0.5202\n",
      "Epoch 230/300\n",
      "7/7 [==============================] - 0s 73ms/step - loss: 0.7701 - accuracy: 0.6644 - val_loss: 0.9822 - val_accuracy: 0.5202\n",
      "Epoch 231/300\n",
      "7/7 [==============================] - 0s 79ms/step - loss: 0.7763 - accuracy: 0.6642 - val_loss: 0.9821 - val_accuracy: 0.5202\n",
      "Epoch 232/300\n",
      "7/7 [==============================] - 0s 69ms/step - loss: 0.7773 - accuracy: 0.6597 - val_loss: 0.9820 - val_accuracy: 0.5202\n",
      "Epoch 233/300\n",
      "7/7 [==============================] - 0s 73ms/step - loss: 0.7737 - accuracy: 0.6666 - val_loss: 0.9820 - val_accuracy: 0.5196\n",
      "Epoch 234/300\n",
      "7/7 [==============================] - 0s 70ms/step - loss: 0.7735 - accuracy: 0.6561 - val_loss: 0.9819 - val_accuracy: 0.5202\n",
      "Epoch 235/300\n",
      "7/7 [==============================] - 0s 76ms/step - loss: 0.7723 - accuracy: 0.6709 - val_loss: 0.9818 - val_accuracy: 0.5209\n",
      "Epoch 236/300\n",
      "7/7 [==============================] - 0s 76ms/step - loss: 0.7713 - accuracy: 0.6639 - val_loss: 0.9816 - val_accuracy: 0.5215\n",
      "Epoch 237/300\n",
      "7/7 [==============================] - 0s 74ms/step - loss: 0.7744 - accuracy: 0.6640 - val_loss: 0.9815 - val_accuracy: 0.5202\n",
      "Epoch 238/300\n",
      "7/7 [==============================] - 0s 76ms/step - loss: 0.7711 - accuracy: 0.6682 - val_loss: 0.9814 - val_accuracy: 0.5202\n",
      "Epoch 239/300\n",
      "7/7 [==============================] - 0s 74ms/step - loss: 0.7692 - accuracy: 0.6588 - val_loss: 0.9813 - val_accuracy: 0.5202\n",
      "Epoch 240/300\n",
      "7/7 [==============================] - 0s 73ms/step - loss: 0.7687 - accuracy: 0.6658 - val_loss: 0.9812 - val_accuracy: 0.5209\n",
      "Epoch 241/300\n",
      "7/7 [==============================] - 0s 72ms/step - loss: 0.7673 - accuracy: 0.6734 - val_loss: 0.9811 - val_accuracy: 0.5209\n",
      "Epoch 242/300\n",
      "7/7 [==============================] - 0s 71ms/step - loss: 0.7646 - accuracy: 0.6745 - val_loss: 0.9810 - val_accuracy: 0.5209\n",
      "Epoch 243/300\n",
      "7/7 [==============================] - 0s 77ms/step - loss: 0.7646 - accuracy: 0.6771 - val_loss: 0.9810 - val_accuracy: 0.5209\n",
      "Epoch 244/300\n",
      "7/7 [==============================] - 0s 78ms/step - loss: 0.7646 - accuracy: 0.6676 - val_loss: 0.9809 - val_accuracy: 0.5202\n",
      "Epoch 245/300\n",
      "7/7 [==============================] - 0s 72ms/step - loss: 0.7632 - accuracy: 0.6665 - val_loss: 0.9808 - val_accuracy: 0.5202\n",
      "Epoch 246/300\n",
      "7/7 [==============================] - 0s 73ms/step - loss: 0.7599 - accuracy: 0.6689 - val_loss: 0.9807 - val_accuracy: 0.5202\n",
      "Epoch 247/300\n",
      "7/7 [==============================] - 0s 74ms/step - loss: 0.7709 - accuracy: 0.6696 - val_loss: 0.9807 - val_accuracy: 0.5202\n",
      "Epoch 248/300\n",
      "7/7 [==============================] - 0s 77ms/step - loss: 0.7625 - accuracy: 0.6711 - val_loss: 0.9806 - val_accuracy: 0.5202\n",
      "Epoch 249/300\n",
      "7/7 [==============================] - 0s 78ms/step - loss: 0.7639 - accuracy: 0.6721 - val_loss: 0.9805 - val_accuracy: 0.5202\n",
      "Epoch 250/300\n",
      "7/7 [==============================] - 0s 70ms/step - loss: 0.7594 - accuracy: 0.6816 - val_loss: 0.9804 - val_accuracy: 0.5202\n",
      "Epoch 251/300\n",
      "7/7 [==============================] - 1s 81ms/step - loss: 0.7593 - accuracy: 0.6822 - val_loss: 0.9804 - val_accuracy: 0.5202\n",
      "Epoch 252/300\n",
      "7/7 [==============================] - 0s 74ms/step - loss: 0.7542 - accuracy: 0.6827 - val_loss: 0.9803 - val_accuracy: 0.5196\n",
      "Epoch 253/300\n",
      "7/7 [==============================] - 0s 75ms/step - loss: 0.7623 - accuracy: 0.6695 - val_loss: 0.9803 - val_accuracy: 0.5202\n",
      "Epoch 254/300\n",
      "7/7 [==============================] - 0s 71ms/step - loss: 0.7558 - accuracy: 0.6798 - val_loss: 0.9801 - val_accuracy: 0.5209\n",
      "Epoch 255/300\n",
      "7/7 [==============================] - 0s 75ms/step - loss: 0.7586 - accuracy: 0.6763 - val_loss: 0.9801 - val_accuracy: 0.5202\n",
      "Epoch 256/300\n",
      "7/7 [==============================] - 0s 77ms/step - loss: 0.7562 - accuracy: 0.6694 - val_loss: 0.9800 - val_accuracy: 0.5202\n",
      "Epoch 257/300\n",
      "7/7 [==============================] - 0s 71ms/step - loss: 0.7542 - accuracy: 0.6794 - val_loss: 0.9799 - val_accuracy: 0.5190\n",
      "Epoch 258/300\n",
      "7/7 [==============================] - 0s 73ms/step - loss: 0.7535 - accuracy: 0.6782 - val_loss: 0.9798 - val_accuracy: 0.5190\n",
      "Epoch 259/300\n",
      "7/7 [==============================] - 0s 74ms/step - loss: 0.7543 - accuracy: 0.6863 - val_loss: 0.9797 - val_accuracy: 0.5190\n",
      "Epoch 260/300\n",
      "7/7 [==============================] - 0s 74ms/step - loss: 0.7517 - accuracy: 0.6834 - val_loss: 0.9796 - val_accuracy: 0.5196\n",
      "Epoch 261/300\n",
      "7/7 [==============================] - 0s 80ms/step - loss: 0.7553 - accuracy: 0.6781 - val_loss: 0.9796 - val_accuracy: 0.5196\n",
      "Epoch 262/300\n",
      "7/7 [==============================] - 0s 75ms/step - loss: 0.7498 - accuracy: 0.6811 - val_loss: 0.9795 - val_accuracy: 0.5196\n",
      "Epoch 263/300\n",
      "7/7 [==============================] - 0s 70ms/step - loss: 0.7547 - accuracy: 0.6794 - val_loss: 0.9794 - val_accuracy: 0.5196\n",
      "Epoch 264/300\n",
      "7/7 [==============================] - 1s 82ms/step - loss: 0.7537 - accuracy: 0.6778 - val_loss: 0.9793 - val_accuracy: 0.5196\n",
      "Epoch 265/300\n",
      "7/7 [==============================] - 0s 77ms/step - loss: 0.7539 - accuracy: 0.6793 - val_loss: 0.9793 - val_accuracy: 0.5196\n",
      "Epoch 266/300\n",
      "7/7 [==============================] - 0s 78ms/step - loss: 0.7522 - accuracy: 0.6705 - val_loss: 0.9792 - val_accuracy: 0.5196\n",
      "Epoch 267/300\n",
      "7/7 [==============================] - 0s 79ms/step - loss: 0.7455 - accuracy: 0.6838 - val_loss: 0.9791 - val_accuracy: 0.5196\n",
      "Epoch 268/300\n",
      "7/7 [==============================] - 0s 76ms/step - loss: 0.7515 - accuracy: 0.6835 - val_loss: 0.9790 - val_accuracy: 0.5196\n",
      "Epoch 269/300\n",
      "7/7 [==============================] - 0s 78ms/step - loss: 0.7512 - accuracy: 0.6774 - val_loss: 0.9789 - val_accuracy: 0.5202\n",
      "Epoch 270/300\n",
      "7/7 [==============================] - 0s 71ms/step - loss: 0.7466 - accuracy: 0.6846 - val_loss: 0.9789 - val_accuracy: 0.5202\n",
      "Epoch 271/300\n",
      "7/7 [==============================] - 0s 73ms/step - loss: 0.7425 - accuracy: 0.6887 - val_loss: 0.9788 - val_accuracy: 0.5202\n",
      "Epoch 272/300\n",
      "7/7 [==============================] - 0s 75ms/step - loss: 0.7456 - accuracy: 0.6889 - val_loss: 0.9788 - val_accuracy: 0.5202\n",
      "Epoch 273/300\n",
      "7/7 [==============================] - 0s 75ms/step - loss: 0.7471 - accuracy: 0.6833 - val_loss: 0.9787 - val_accuracy: 0.5196\n",
      "Epoch 274/300\n",
      "7/7 [==============================] - 0s 74ms/step - loss: 0.7454 - accuracy: 0.6804 - val_loss: 0.9786 - val_accuracy: 0.5202\n",
      "Epoch 275/300\n",
      "7/7 [==============================] - 0s 74ms/step - loss: 0.7439 - accuracy: 0.6914 - val_loss: 0.9785 - val_accuracy: 0.5202\n",
      "Epoch 276/300\n",
      "7/7 [==============================] - 0s 79ms/step - loss: 0.7438 - accuracy: 0.6819 - val_loss: 0.9784 - val_accuracy: 0.5202\n",
      "Epoch 277/300\n",
      "7/7 [==============================] - 0s 78ms/step - loss: 0.7409 - accuracy: 0.6854 - val_loss: 0.9784 - val_accuracy: 0.5202\n",
      "Epoch 278/300\n",
      "7/7 [==============================] - 0s 78ms/step - loss: 0.7406 - accuracy: 0.6834 - val_loss: 0.9783 - val_accuracy: 0.5202\n",
      "Epoch 279/300\n",
      "7/7 [==============================] - 0s 77ms/step - loss: 0.7447 - accuracy: 0.6864 - val_loss: 0.9782 - val_accuracy: 0.5202\n",
      "Epoch 280/300\n",
      "7/7 [==============================] - 0s 72ms/step - loss: 0.7392 - accuracy: 0.6827 - val_loss: 0.9782 - val_accuracy: 0.5196\n",
      "Epoch 281/300\n",
      "7/7 [==============================] - 1s 81ms/step - loss: 0.7397 - accuracy: 0.6891 - val_loss: 0.9781 - val_accuracy: 0.5196\n",
      "Epoch 282/300\n",
      "7/7 [==============================] - 0s 77ms/step - loss: 0.7398 - accuracy: 0.6809 - val_loss: 0.9780 - val_accuracy: 0.5190\n",
      "Epoch 283/300\n",
      "7/7 [==============================] - 0s 79ms/step - loss: 0.7353 - accuracy: 0.6918 - val_loss: 0.9780 - val_accuracy: 0.5190\n",
      "Epoch 284/300\n",
      "7/7 [==============================] - 0s 75ms/step - loss: 0.7362 - accuracy: 0.6913 - val_loss: 0.9779 - val_accuracy: 0.5190\n",
      "Epoch 285/300\n",
      "7/7 [==============================] - 1s 85ms/step - loss: 0.7360 - accuracy: 0.6913 - val_loss: 0.9779 - val_accuracy: 0.5196\n",
      "Epoch 286/300\n",
      "7/7 [==============================] - 0s 78ms/step - loss: 0.7342 - accuracy: 0.6950 - val_loss: 0.9779 - val_accuracy: 0.5196\n",
      "Epoch 287/300\n",
      "7/7 [==============================] - 0s 74ms/step - loss: 0.7355 - accuracy: 0.6907 - val_loss: 0.9779 - val_accuracy: 0.5196\n",
      "Epoch 288/300\n",
      "7/7 [==============================] - 0s 76ms/step - loss: 0.7340 - accuracy: 0.6914 - val_loss: 0.9779 - val_accuracy: 0.5202\n",
      "CPU times: user 6min 16s, sys: 15.4 s, total: 6min 31s\n",
      "Wall time: 4min 12s\n"
     ]
    }
   ],
   "source": [
    "%%time\n",
    "start_time = time.time()\n",
    "\n",
    "history = my_model.fit(\n",
    "    train_ds,\n",
    "    epochs              = 300,\n",
    "    validation_data     = val_ds,\n",
    "    callbacks           = callback,\n",
    "    class_weight        = CONFIG['class_weight']\n",
    ")\n",
    "\n",
    "training_time = time.time() - start_time"
   ]
  },
  {
   "cell_type": "markdown",
   "metadata": {
    "id": "eBBqPTPGM05Y"
   },
   "source": [
    "<h3 align=\"center\">RESULTS</h3>"
   ]
  },
  {
   "cell_type": "code",
   "execution_count": 15,
   "metadata": {
    "colab": {
     "base_uri": "https://localhost:8080/"
    },
    "id": "qNa_DUbeRfUe",
    "outputId": "d9c15261-e70b-4c73-d672-504467675103"
   },
   "outputs": [
    {
     "name": "stdout",
     "output_type": "stream",
     "text": [
      "5/5 [==============================] - 54s 10s/step - loss: 0.6533 - accuracy: 0.8278\n",
      "Loss:  0.6533326506614685\n",
      "Accuracy:  0.8277921676635742\n",
      "CPU times: user 51.1 s, sys: 4.67 s, total: 55.8 s\n",
      "Wall time: 53.9 s\n"
     ]
    }
   ],
   "source": [
    "%%time\n",
    "\n",
    "# ---------------- Testing on valentina's data -------------------\n",
    "\n",
    "start_time = time.time()\n",
    "\n",
    "loss, accuracy = my_model.evaluate(test_ds, batch_size=CONFIG['batch_size'])\n",
    "\n",
    "print(\"Loss: \", loss)\n",
    "print(\"Accuracy: \", accuracy)\n",
    "\n",
    "testing_time = time.time() - start_time"
   ]
  },
  {
   "cell_type": "code",
   "execution_count": 16,
   "metadata": {
    "colab": {
     "base_uri": "https://localhost:8080/",
     "height": 267
    },
    "id": "tNlI2jCwYMP2",
    "outputId": "f1bbe923-aa69-4e9c-98ea-b7e17eef67f7"
   },
   "outputs": [
    {
     "data": {
      "image/png": "[encoded data removed]",
      "text/plain": [
       "<Figure size 432x288 with 1 Axes>"
      ]
     },
     "metadata": {
      "needs_background": "light",
      "tags": []
     },
     "output_type": "display_data"
    }
   ],
   "source": [
    "metrics = history.history\n",
    "plt.plot(history.epoch, metrics['loss'], metrics['val_loss'])\n",
    "plt.legend(['loss', 'val_loss'])\n",
    "plt.show()"
   ]
  },
  {
   "cell_type": "code",
   "execution_count": 17,
   "metadata": {
    "colab": {
     "base_uri": "https://localhost:8080/"
    },
    "id": "64yDjLXOO6Ot",
    "outputId": "debb6cc7-3bbd-4ca5-c2eb-bd35a049af0f"
   },
   "outputs": [
    {
     "name": "stdout",
     "output_type": "stream",
     "text": [
      "              precision    recall  f1-score   support\n",
      "\n",
      "           0       0.46      0.24      0.31       715\n",
      "           1       0.48      0.86      0.61       279\n",
      "           2       0.57      0.69      0.63       636\n",
      "\n",
      "    accuracy                           0.52      1630\n",
      "   macro avg       0.51      0.60      0.52      1630\n",
      "weighted avg       0.51      0.52      0.49      1630\n",
      "\n"
     ]
    }
   ],
   "source": [
    "# ------------------ Testing on Aticks's data -----------------\n",
    "\n",
    "test_labels = []\n",
    "for _, label in val_ds:\n",
    "    test_labels += (label.numpy().tolist())\n",
    "\n",
    "y_true = np.squeeze(np.array(test_labels))\n",
    "y_pred = np.argmax(my_model.predict(val_ds), axis=1)\n",
    "\n",
    "result_atick = classification_report(y_true, y_pred)\n",
    "print(result_atick)"
   ]
  },
  {
   "cell_type": "code",
   "execution_count": 18,
   "metadata": {
    "colab": {
     "base_uri": "https://localhost:8080/",
     "height": 497
    },
    "id": "WASkxAEVfq4T",
    "outputId": "31a0bbe9-894f-48db-83e1-1ed665d5302e"
   },
   "outputs": [
    {
     "data": {
      "image/png": "[encoded data removed]",
      "text/plain": [
       "<Figure size 720x576 with 2 Axes>"
      ]
     },
     "metadata": {
      "needs_background": "light",
      "tags": []
     },
     "output_type": "display_data"
    }
   ],
   "source": [
    "# confusion_mtx_atick = tf.math.confusion_matrix(y_true, y_pred) \n",
    "confusion_mtx_atick = (confusion_matrix(y_true, y_pred, normalize='true') * 100).astype('int')\n",
    "plt.figure(figsize=(10, 8))\n",
    "sns.heatmap(confusion_mtx_atick, xticklabels=EMOTIONS, yticklabels=EMOTIONS, \n",
    "            annot=True, fmt='g')\n",
    "plt.xlabel('Prediction')\n",
    "plt.ylabel('Label')\n",
    "plt.show()"
   ]
  },
  {
   "cell_type": "code",
   "execution_count": 19,
   "metadata": {
    "colab": {
     "base_uri": "https://localhost:8080/"
    },
    "id": "gfB9RI7mY6kD",
    "outputId": "65ab9050-3f37-45b0-aaae-b4233dd95c3d"
   },
   "outputs": [
    {
     "name": "stdout",
     "output_type": "stream",
     "text": [
      "              precision    recall  f1-score   support\n",
      "\n",
      "           0       0.78      0.92      0.84       973\n",
      "           1       0.10      0.27      0.14       217\n",
      "           2       0.98      0.84      0.90      3833\n",
      "\n",
      "    accuracy                           0.83      5023\n",
      "   macro avg       0.62      0.67      0.63      5023\n",
      "weighted avg       0.90      0.83      0.86      5023\n",
      "\n"
     ]
    }
   ],
   "source": [
    "# ------------------ Testing on Valentina's data -----------------\n",
    "\n",
    "test_labels = []\n",
    "for _, label in test_ds:\n",
    "    test_labels += (label.numpy().tolist())\n",
    "\n",
    "y_true = np.squeeze(np.array(test_labels))\n",
    "y_pred = np.argmax(my_model.predict(test_ds), axis=1)\n",
    "\n",
    "result_valentina = classification_report(y_true, y_pred)\n",
    "print(result_valentina)"
   ]
  },
  {
   "cell_type": "code",
   "execution_count": 20,
   "metadata": {
    "colab": {
     "base_uri": "https://localhost:8080/",
     "height": 497
    },
    "id": "IWYlkA31PW11",
    "outputId": "18df3979-740e-4070-c6c9-954e3dca7bd1"
   },
   "outputs": [
    {
     "data": {
      "image/png": "[encoded data removed]",
      "text/plain": [
       "<Figure size 720x576 with 2 Axes>"
      ]
     },
     "metadata": {
      "needs_background": "light",
      "tags": []
     },
     "output_type": "display_data"
    }
   ],
   "source": [
    "# confusion_mtx_valentina = tf.math.confusion_matrix(y_true, y_pred) \n",
    "confusion_mtx_valentina = (confusion_matrix(y_true, y_pred, normalize='true') * 100).astype('int')\n",
    "plt.figure(figsize=(10, 8))\n",
    "sns.heatmap(confusion_mtx_valentina, xticklabels=EMOTIONS, yticklabels=EMOTIONS, \n",
    "            annot=True, fmt='g')\n",
    "plt.xlabel('Prediction')\n",
    "plt.ylabel('Label')\n",
    "plt.show()"
   ]
  },
  {
   "cell_type": "code",
   "execution_count": 21,
   "metadata": {
    "id": "BUz83N2Blu0L"
   },
   "outputs": [],
   "source": [
    "summary = []\n",
    "my_model.summary(print_fn=lambda x: summary.append(x))\n",
    "CONFIG['architecture'] = summary\n",
    "CONFIG['epochs'] = max(history.epoch)\n",
    "CONFIG['training_time'] = training_time\n",
    "CONFIG['testing_time'] = testing_time\n",
    "CONFIG['cm_atick'] = np.array2string(confusion_mtx_atick)\n",
    "result_list_atick = result_atick.split('\\n')\n",
    "CONFIG['cr_atick'] = result_list_atick\n",
    "CONFIG['cm_valentina'] = np.array2string(confusion_mtx_valentina)\n",
    "result_list_valentina = result_valentina.split('\\n')\n",
    "CONFIG['cr_valentina'] = result_list_valentina"
   ]
  },
  {
   "cell_type": "code",
   "execution_count": 22,
   "metadata": {
    "colab": {
     "base_uri": "https://localhost:8080/"
    },
    "id": "rMRTCk5hpljM",
    "outputId": "47796da1-5524-45bc-d990-3fb36685bb0d"
   },
   "outputs": [
    {
     "name": "stdout",
     "output_type": "stream",
     "text": [
      "{\n",
      "    \"timestamp\": \"2021-05-09 12:04:38.173176\",\n",
      "    \"model\": \"Transfer Learning on YAMNET\",\n",
      "    \"test_fold\": \"Fold 5\",\n",
      "    \"architecture\": [\n",
      "        \"Model: \\\"my_model\\\"\",\n",
      "        \"_________________________________________________________________\",\n",
      "        \"Layer (type)                 Output Shape              Param #   \",\n",
      "        \"=================================================================\",\n",
      "        \"dense (Dense)                (None, 512)               524800    \",\n",
      "        \"_________________________________________________________________\",\n",
      "        \"dropout (Dropout)            (None, 512)               0         \",\n",
      "        \"_________________________________________________________________\",\n",
      "        \"dense_1 (Dense)              (None, 3)                 1539      \",\n",
      "        \"=================================================================\",\n",
      "        \"Total params: 526,339\",\n",
      "        \"Trainable params: 526,339\",\n",
      "        \"Non-trainable params: 0\",\n",
      "        \"_________________________________________________________________\"\n",
      "    ],\n",
      "    \"batch_size\": 1024,\n",
      "    \"epochs\": 287,\n",
      "    \"learning_rate\": 5e-06,\n",
      "    \"monitor\": \"val_loss\",\n",
      "    \"patience\": 3,\n",
      "    \"class_weight\": {\n",
      "        \"0\": 0.71,\n",
      "        \"1\": 2.32,\n",
      "        \"2\": 0.86\n",
      "    },\n",
      "    \"training_time\": 252.9903712272644,\n",
      "    \"testing_time\": 53.9340295791626,\n",
      "    \"cm_atick\": \"[[23 33 42]\\n [ 7 86  6]\\n [27  3 68]]\",\n",
      "    \"cr_atick\": [\n",
      "        \"              precision    recall  f1-score   support\",\n",
      "        \"\",\n",
      "        \"           0       0.46      0.24      0.31       715\",\n",
      "        \"           1       0.48      0.86      0.61       279\",\n",
      "        \"           2       0.57      0.69      0.63       636\",\n",
      "        \"\",\n",
      "        \"    accuracy                           0.52      1630\",\n",
      "        \"   macro avg       0.51      0.60      0.52      1630\",\n",
      "        \"weighted avg       0.51      0.52      0.49      1630\",\n",
      "        \"\"\n",
      "    ],\n",
      "    \"cm_valentina\": \"[[91  4  3]\\n [58 26 15]\\n [ 3 12 83]]\",\n",
      "    \"cr_valentina\": [\n",
      "        \"              precision    recall  f1-score   support\",\n",
      "        \"\",\n",
      "        \"           0       0.78      0.92      0.84       973\",\n",
      "        \"           1       0.10      0.27      0.14       217\",\n",
      "        \"           2       0.98      0.84      0.90      3833\",\n",
      "        \"\",\n",
      "        \"    accuracy                           0.83      5023\",\n",
      "        \"   macro avg       0.62      0.67      0.63      5023\",\n",
      "        \"weighted avg       0.90      0.83      0.86      5023\",\n",
      "        \"\"\n",
      "    ]\n",
      "}\n"
     ]
    }
   ],
   "source": [
    "config = json.dumps(CONFIG, indent=4)\n",
    "print(config)"
   ]
  },
  {
   "cell_type": "code",
   "execution_count": 23,
   "metadata": {
    "id": "H2EetqkNN4Je"
   },
   "outputs": [],
   "source": [
    "f = open(LOG_FILE, 'a')\n",
    "f.write('\\n')\n",
    "f.write(config)\n",
    "f.write('\\n')\n",
    "f.close()"
   ]
  },
  {
   "cell_type": "code",
   "execution_count": 23,
   "metadata": {
    "id": "5-lWDVZd1mcF"
   },
   "outputs": [],
   "source": []
  }
 ],
 "metadata": {
  "accelerator": "GPU",
  "colab": {
   "authorship_tag": "ABX9TyPiYwuMchn1gKCM8PqkqiV9",
   "collapsed_sections": [],
   "include_colab_link": true,
   "mount_file_id": "https://github.com/atick-faisal/Crowd-Emotion/blob/main/src_v4/CE_TE_YAMNET_v4.ipynb",
   "name": "CE_TE_YAMNET_v4.ipynb",
   "provenance": []
  },
  "kernelspec": {
   "display_name": "Python 3",
   "language": "python",
   "name": "python3"
  },
  "language_info": {
   "codemirror_mode": {
    "name": "ipython",
    "version": 3
   },
   "file_extension": ".py",
   "mimetype": "text/x-python",
   "name": "python",
   "nbconvert_exporter": "python",
   "pygments_lexer": "ipython3",
   "version": "3.8.5"
  }
 },
 "nbformat": 4,
 "nbformat_minor": 1
}
