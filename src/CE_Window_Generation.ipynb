{
  "nbformat": 4,
  "nbformat_minor": 0,
  "metadata": {
    "colab": {
      "name": "CE_Audio_File_Processing.ipynb",
      "provenance": [],
      "mount_file_id": "https://github.com/atick-faisal/Crowd-Emotion/blob/main/src/CE_Window_Generation.ipynb",
      "authorship_tag": "ABX9TyMbbRHqzGi0EOKojPhUpPP5",
      "include_colab_link": true
    },
    "kernelspec": {
      "name": "python3",
      "display_name": "Python 3"
    }
  },
  "cells": [
    {
      "cell_type": "markdown",
      "metadata": {
        "id": "view-in-github",
        "colab_type": "text"
      },
      "source": [
        "<a href=\"https://colab.research.google.com/github/atick-faisal/Crowd-Emotion/blob/main/src/CE_Window_Generation.ipynb\" target=\"_parent\"><img src=\"https://colab.research.google.com/assets/colab-badge.svg\" alt=\"Open In Colab\"/></a>"
      ]
    },
    {
      "cell_type": "code",
      "metadata": {
        "id": "eUF63NHBnDTg"
      },
      "source": [
        "import os\n",
        "import numpy as np\n",
        "from librosa import load\n",
        "from joblib import dump\n",
        "from tqdm import tqdm"
      ],
      "execution_count": 17,
      "outputs": []
    },
    {
      "cell_type": "code",
      "metadata": {
        "id": "mMT9GDkT9JKW"
      },
      "source": [
        "audio = '/content/drive/MyDrive/Research/Crowd Emotion v3/Audio/'\n",
        "dataset = '/content/drive/MyDrive/Research/Crowd Emotion v3/Samples/'"
      ],
      "execution_count": 43,
      "outputs": []
    },
    {
      "cell_type": "markdown",
      "metadata": {
        "id": "6ewi4aDK2b0C"
      },
      "source": [
        "<h3 align=\"center\">1s Window Generation</h3>"
      ]
    },
    {
      "cell_type": "code",
      "metadata": {
        "id": "WmaiLJnY8BUh"
      },
      "source": [
        "def get_windows(signal, length=44100, overlap=0.75):\n",
        "    increment = length - round(length * overlap)\n",
        "    num_windows = int((len(signal) - length) / increment) + 1\n",
        "    samples = np.zeros((num_windows, length))\n",
        "    for i in range(num_windows):\n",
        "        temp = i * increment\n",
        "        samples[i] = signal[temp:(temp + length)]\n",
        "    return np.array(samples)"
      ],
      "execution_count": 3,
      "outputs": []
    },
    {
      "cell_type": "code",
      "metadata": {
        "id": "8XtjqzabdY42",
        "outputId": "0942f9f3-e033-413e-fa04-c3799b878d8f",
        "colab": {
          "base_uri": "https://localhost:8080/"
        }
      },
      "source": [
        "for dir in os.listdir(audio):\n",
        "    for counter, file_name in enumerate(tqdm(os.listdir(audio + dir), desc='Sampling... ')):\n",
        "        x, Fs = load(audio + dir + '/' + file_name, sr=44100, mono=True)\n",
        "        extension = x.shape[0] % Fs\n",
        "        windows = get_windows(x, length=Fs)\n",
        "        sample_name = dataset + dir + '/' + file_name[0: 9] + '_s.joblib'\n",
        "        dump(windows, sample_name)"
      ],
      "execution_count": 44,
      "outputs": [
        {
          "output_type": "stream",
          "text": [
            "\n",
            "Sampling... :   0%|          | 0/71 [00:00<?, ?it/s]\u001b[A\n",
            "Sampling... :   1%|▏         | 1/71 [00:00<00:14,  4.71it/s]\u001b[A\n",
            "Sampling... :   6%|▌         | 4/71 [00:00<00:11,  6.09it/s]\u001b[A\n",
            "Sampling... :   8%|▊         | 6/71 [00:00<00:08,  7.58it/s]\u001b[A\n",
            "Sampling... :  11%|█▏        | 8/71 [00:00<00:07,  8.99it/s]\u001b[A\n",
            "Sampling... :  14%|█▍        | 10/71 [00:00<00:05, 10.39it/s]\u001b[A\n",
            "Sampling... :  17%|█▋        | 12/71 [00:00<00:05, 11.08it/s]\u001b[A\n",
            "Sampling... :  20%|█▉        | 14/71 [00:01<00:04, 11.41it/s]\u001b[A\n",
            "Sampling... :  23%|██▎       | 16/71 [00:01<00:04, 11.74it/s]\u001b[A\n",
            "Sampling... :  25%|██▌       | 18/71 [00:01<00:08,  6.56it/s]\u001b[A\n",
            "Sampling... :  28%|██▊       | 20/71 [00:01<00:06,  7.98it/s]\u001b[A\n",
            "Sampling... :  31%|███       | 22/71 [00:02<00:05,  9.46it/s]\u001b[A\n",
            "Sampling... :  34%|███▍      | 24/71 [00:02<00:04, 10.63it/s]\u001b[A\n",
            "Sampling... :  37%|███▋      | 26/71 [00:02<00:03, 11.38it/s]\u001b[A\n",
            "Sampling... :  39%|███▉      | 28/71 [00:02<00:04, 10.74it/s]\u001b[A\n",
            "Sampling... :  42%|████▏     | 30/71 [00:02<00:03, 10.58it/s]\u001b[A\n",
            "Sampling... :  45%|████▌     | 32/71 [00:02<00:03, 11.16it/s]\u001b[A\n",
            "Sampling... :  48%|████▊     | 34/71 [00:03<00:03, 11.09it/s]\u001b[A\n",
            "Sampling... :  51%|█████     | 36/71 [00:03<00:03, 11.17it/s]\u001b[A\n",
            "Sampling... :  54%|█████▎    | 38/71 [00:03<00:05,  6.01it/s]\u001b[A\n",
            "Sampling... :  56%|█████▋    | 40/71 [00:04<00:04,  7.35it/s]\u001b[A\n",
            "Sampling... :  59%|█████▉    | 42/71 [00:04<00:03,  8.95it/s]\u001b[A\n",
            "Sampling... :  62%|██████▏   | 44/71 [00:04<00:02,  9.80it/s]\u001b[A\n",
            "Sampling... :  65%|██████▍   | 46/71 [00:04<00:02, 10.82it/s]\u001b[A\n",
            "Sampling... :  68%|██████▊   | 48/71 [00:04<00:02,  9.74it/s]\u001b[A\n",
            "Sampling... :  70%|███████   | 50/71 [00:04<00:02,  9.48it/s]\u001b[A\n",
            "Sampling... :  73%|███████▎  | 52/71 [00:05<00:01, 10.67it/s]\u001b[A\n",
            "Sampling... :  76%|███████▌  | 54/71 [00:05<00:01, 10.81it/s]\u001b[A\n",
            "Sampling... :  79%|███████▉  | 56/71 [00:05<00:01, 11.34it/s]\u001b[A\n",
            "Sampling... :  82%|████████▏ | 58/71 [00:05<00:01, 11.41it/s]\u001b[A\n",
            "Sampling... :  85%|████████▍ | 60/71 [00:05<00:00, 12.35it/s]\u001b[A\n",
            "Sampling... :  87%|████████▋ | 62/71 [00:05<00:00, 12.54it/s]\u001b[A\n",
            "Sampling... :  90%|█████████ | 64/71 [00:06<00:00, 12.25it/s]\u001b[A\n",
            "Sampling... :  93%|█████████▎| 66/71 [00:06<00:00, 12.23it/s]\u001b[A\n",
            "Sampling... :  96%|█████████▌| 68/71 [00:06<00:00, 12.04it/s]\u001b[A\n",
            "Sampling... : 100%|██████████| 71/71 [00:06<00:00, 10.67it/s]\n",
            "\n",
            "Sampling... :   0%|          | 0/50 [00:00<?, ?it/s]\u001b[A\n",
            "Sampling... :   2%|▏         | 1/50 [00:00<00:10,  4.50it/s]\u001b[A\n",
            "Sampling... :  10%|█         | 5/50 [00:00<00:09,  4.97it/s]\u001b[A\n",
            "Sampling... :  16%|█▌        | 8/50 [00:00<00:06,  6.58it/s]\u001b[A\n",
            "Sampling... :  22%|██▏       | 11/50 [00:01<00:04,  8.36it/s]\u001b[A\n",
            "Sampling... :  30%|███       | 15/50 [00:01<00:03, 10.78it/s]\u001b[A\n",
            "Sampling... :  34%|███▍      | 17/50 [00:01<00:02, 12.12it/s]\u001b[A\n",
            "Sampling... :  38%|███▊      | 19/50 [00:01<00:02, 13.05it/s]\u001b[A\n",
            "Sampling... :  42%|████▏     | 21/50 [00:01<00:02, 12.59it/s]\u001b[A\n",
            "Sampling... :  46%|████▌     | 23/50 [00:01<00:02, 10.43it/s]\u001b[A\n",
            "Sampling... :  50%|█████     | 25/50 [00:02<00:04,  5.56it/s]\u001b[A\n",
            "Sampling... :  54%|█████▍    | 27/50 [00:02<00:03,  6.71it/s]\u001b[A\n",
            "Sampling... :  58%|█████▊    | 29/50 [00:02<00:02,  8.12it/s]\u001b[A\n",
            "Sampling... :  62%|██████▏   | 31/50 [00:03<00:02,  8.90it/s]\u001b[A\n",
            "Sampling... :  66%|██████▌   | 33/50 [00:03<00:01,  9.29it/s]\u001b[A\n",
            "Sampling... :  70%|███████   | 35/50 [00:03<00:01,  9.97it/s]\u001b[A\n",
            "Sampling... :  74%|███████▍  | 37/50 [00:03<00:01, 11.26it/s]\u001b[A\n",
            "Sampling... :  78%|███████▊  | 39/50 [00:03<00:00, 12.30it/s]\u001b[A\n",
            "Sampling... :  82%|████████▏ | 41/50 [00:03<00:00, 13.80it/s]\u001b[A\n",
            "Sampling... :  86%|████████▌ | 43/50 [00:04<00:00, 11.94it/s]\u001b[A\n",
            "Sampling... :  90%|█████████ | 45/50 [00:04<00:00, 12.38it/s]\u001b[A\n",
            "Sampling... :  94%|█████████▍| 47/50 [00:04<00:00, 12.79it/s]\u001b[A\n",
            "Sampling... : 100%|██████████| 50/50 [00:04<00:00, 10.75it/s]\n",
            "\n",
            "Sampling... :   0%|          | 0/58 [00:00<?, ?it/s]\u001b[A\n",
            "Sampling... :   2%|▏         | 1/58 [00:00<00:18,  3.14it/s]\u001b[A\n",
            "Sampling... :   3%|▎         | 2/58 [00:00<00:14,  3.77it/s]\u001b[A\n",
            "Sampling... :   5%|▌         | 3/58 [00:00<00:11,  4.60it/s]\u001b[A\n",
            "Sampling... :   9%|▊         | 5/58 [00:00<00:09,  5.58it/s]\u001b[A\n",
            "Sampling... :  10%|█         | 6/58 [00:00<00:10,  5.16it/s]\u001b[A\n",
            "Sampling... :  12%|█▏        | 7/58 [00:01<00:08,  5.96it/s]\u001b[A\n",
            "Sampling... :  14%|█▍        | 8/58 [00:01<00:07,  6.51it/s]\u001b[A\n",
            "Sampling... :  16%|█▌        | 9/58 [00:01<00:08,  5.95it/s]\u001b[A\n",
            "Sampling... :  17%|█▋        | 10/58 [00:01<00:13,  3.60it/s]\u001b[A\n",
            "Sampling... :  19%|█▉        | 11/58 [00:02<00:10,  4.41it/s]\u001b[A\n",
            "Sampling... :  24%|██▍       | 14/58 [00:02<00:07,  5.89it/s]\u001b[A\n",
            "Sampling... :  29%|██▉       | 17/58 [00:02<00:05,  7.30it/s]\u001b[A\n",
            "Sampling... :  36%|███▌      | 21/58 [00:02<00:04,  8.89it/s]\u001b[A\n",
            "Sampling... :  40%|███▉      | 23/58 [00:02<00:03,  8.79it/s]\u001b[A\n",
            "Sampling... :  43%|████▎     | 25/58 [00:02<00:03,  9.57it/s]\u001b[A\n",
            "Sampling... :  47%|████▋     | 27/58 [00:03<00:03,  8.85it/s]\u001b[A\n",
            "Sampling... :  50%|█████     | 29/58 [00:03<00:03,  7.51it/s]\u001b[A\n",
            "Sampling... :  53%|█████▎    | 31/58 [00:03<00:03,  8.69it/s]\u001b[A\n",
            "Sampling... :  57%|█████▋    | 33/58 [00:03<00:02,  8.74it/s]\u001b[A\n",
            "Sampling... :  60%|██████    | 35/58 [00:04<00:02,  9.08it/s]\u001b[A\n",
            "Sampling... :  64%|██████▍   | 37/58 [00:04<00:02,  8.96it/s]\u001b[A\n",
            "Sampling... :  67%|██████▋   | 39/58 [00:04<00:01,  9.83it/s]\u001b[A\n",
            "Sampling... :  71%|███████   | 41/58 [00:04<00:01, 10.66it/s]\u001b[A\n",
            "Sampling... :  74%|███████▍  | 43/58 [00:04<00:01, 11.42it/s]\u001b[A\n",
            "Sampling... :  78%|███████▊  | 45/58 [00:05<00:01, 11.59it/s]\u001b[A\n",
            "Sampling... :  81%|████████  | 47/58 [00:05<00:00, 11.71it/s]\u001b[A\n",
            "Sampling... :  84%|████████▍ | 49/58 [00:05<00:00, 10.77it/s]\u001b[A\n",
            "Sampling... :  88%|████████▊ | 51/58 [00:05<00:00, 10.75it/s]\u001b[A\n",
            "Sampling... :  91%|█████████▏| 53/58 [00:05<00:00, 10.36it/s]\u001b[A\n",
            "Sampling... :  95%|█████████▍| 55/58 [00:06<00:00,  9.75it/s]\u001b[A\n",
            "Sampling... :  97%|█████████▋| 56/58 [00:06<00:00,  9.52it/s]\u001b[A\n",
            "Sampling... : 100%|██████████| 58/58 [00:06<00:00,  9.16it/s]\n"
          ],
          "name": "stderr"
        }
      ]
    },
    {
      "cell_type": "code",
      "metadata": {
        "id": "cJUUol_wn3ws"
      },
      "source": [
        ""
      ],
      "execution_count": null,
      "outputs": []
    }
  ]
}