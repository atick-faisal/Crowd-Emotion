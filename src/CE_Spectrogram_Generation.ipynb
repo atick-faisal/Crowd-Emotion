{
  "nbformat": 4,
  "nbformat_minor": 0,
  "metadata": {
    "colab": {
      "name": "CE_Spectrogram_Generation.ipynb",
      "provenance": [],
      "mount_file_id": "https://github.com/atick-faisal/Crowd-Emotion/blob/main/src/CE_Spectrogram_Generation.ipynb",
      "authorship_tag": "ABX9TyOclffLAoeLs8XQT8WSue9Q",
      "include_colab_link": true
    },
    "kernelspec": {
      "name": "python3",
      "display_name": "Python 3"
    }
  },
  "cells": [
    {
      "cell_type": "markdown",
      "metadata": {
        "id": "view-in-github",
        "colab_type": "text"
      },
      "source": [
        "<a href=\"https://colab.research.google.com/github/atick-faisal/Crowd-Emotion/blob/main/src/CE_Spectrogram_Generation.ipynb\" target=\"_parent\"><img src=\"https://colab.research.google.com/assets/colab-badge.svg\" alt=\"Open In Colab\"/></a>"
      ]
    },
    {
      "cell_type": "code",
      "metadata": {
        "id": "2l05CGpF2oED"
      },
      "source": [
        "import os\n",
        "import numpy as np\n",
        "import matplotlib.pyplot as plt\n",
        "from joblib import load, dump\n",
        "from matplotlib.cm import jet"
      ],
      "execution_count": 1,
      "outputs": []
    },
    {
      "cell_type": "code",
      "metadata": {
        "id": "g_jXc6Az3x5c"
      },
      "source": [
        "dataset = '/content/drive/MyDrive/Research/Crowd Emotion/Dataset/'\n",
        "spectrogram = '/content/drive/MyDrive/Research/Crowd Emotion/Spectrograms/Mel/'"
      ],
      "execution_count": 2,
      "outputs": []
    },
    {
      "cell_type": "code",
      "metadata": {
        "id": "SmUuEi6tbJ6y"
      },
      "source": [
        "MEL     = [4000, 6000]\n",
        "ERB     = [2000, 4000]\n",
        "LOG     = [  20, 2000]\n",
        "BARK    = [   0, 3500]"
      ],
      "execution_count": 3,
      "outputs": []
    },
    {
      "cell_type": "code",
      "metadata": {
        "id": "nLvrPgYEbuAT"
      },
      "source": [
        "for dir in os.listdir(dataset):\n",
        "    counter = 1\n",
        "    for file_name in os.listdir(dataset + dir):\n",
        "        x = load(dataset + dir + '/' + str(counter) + '.joblib')\n",
        "        for i in range(x.shape[0]):\n",
        "            fig = plt.figure(frameon=False, figsize=(4, 4))\n",
        "            ax = fig.add_axes([0, 0, 1, 1])\n",
        "            ax.axis('off')\n",
        "            _, _, _, _ = plt.specgram(\n",
        "                x           = x[i, :],\n",
        "                Fs          = 44100,\n",
        "                window      = np.hamming(400),\n",
        "                NFFT        = 400,\n",
        "                cmap        = jet,\n",
        "                noverlap    = 200\n",
        "            )\n",
        "            plt.ylim(MEL)\n",
        "            plt.savefig(\n",
        "                spectrogram + dir + '/' + str(counter) + '_w' + str(i) + '.jpg'\n",
        "            )\n",
        "            plt.close()\n",
        "        counter = counter + 1"
      ],
      "execution_count": null,
      "outputs": []
    }
  ]
}