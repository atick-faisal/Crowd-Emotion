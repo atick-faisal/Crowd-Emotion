{
  "nbformat": 4,
  "nbformat_minor": 0,
  "metadata": {
    "colab": {
      "name": "CE_Spectrogram_Generation.ipynb",
      "provenance": [],
      "mount_file_id": "https://github.com/atick-faisal/Crowd-Emotion/blob/main/src/CE_Spectrogram_Generation.ipynb",
      "authorship_tag": "ABX9TyP5qL1TkMgvYgP5ZnoS6mBi",
      "include_colab_link": true
    },
    "kernelspec": {
      "name": "python3",
      "display_name": "Python 3"
    }
  },
  "cells": [
    {
      "cell_type": "markdown",
      "metadata": {
        "id": "view-in-github",
        "colab_type": "text"
      },
      "source": [
        "<a href=\"https://colab.research.google.com/github/atick-faisal/Crowd-Emotion/blob/main/src/CE_Spectrogram_Generation.ipynb\" target=\"_parent\"><img src=\"https://colab.research.google.com/assets/colab-badge.svg\" alt=\"Open In Colab\"/></a>"
      ]
    },
    {
      "cell_type": "code",
      "metadata": {
        "id": "2l05CGpF2oED"
      },
      "source": [
        "import os\n",
        "import numpy as np\n",
        "import matplotlib.pyplot as plt\n",
        "from joblib import load\n",
        "from matplotlib import cm\n",
        "from matplotlib.cm import jet"
      ],
      "execution_count": 25,
      "outputs": []
    },
    {
      "cell_type": "code",
      "metadata": {
        "id": "5lZjPI7krFj6"
      },
      "source": [
        "RANGE = [20, 20000]"
      ],
      "execution_count": 26,
      "outputs": []
    },
    {
      "cell_type": "code",
      "metadata": {
        "id": "YhyyYNkZQbze"
      },
      "source": [
        "samples_dir = '/content/drive/MyDrive/Research/Crowd Emotion v3/Samples/'\n",
        "spectrograms_dir = '/content/drive/MyDrive/Research/Crowd Emotion v3/Spectrograms/Log/'"
      ],
      "execution_count": 27,
      "outputs": []
    },
    {
      "cell_type": "code",
      "metadata": {
        "id": "nLvrPgYEbuAT"
      },
      "source": [
        "for dir in os.listdir(samples_dir):\n",
        "    for file_name in os.listdir(samples_dir + dir):\n",
        "        x = load(samples_dir + dir + '/' + file_name)\n",
        "        for i in range(x.shape[0]):\n",
        "            fig = plt.figure(frameon=False, figsize=(4, 4))\n",
        "            ax = fig.add_axes([0, 0, 1, 1])\n",
        "            ax.axis('off')\n",
        "            jet_cmap = cm.get_cmap('jet', 64)\n",
        "            psd, _, _, spec_img = plt.specgram(\n",
        "                x               = x[i, :],\n",
        "                Fs              = 44100,\n",
        "                window          = np.hamming(400),\n",
        "                NFFT            = 400,\n",
        "                cmap            = jet,\n",
        "                noverlap        = 200,\n",
        "                mode            = 'psd',\n",
        "                scale           = 'dB',\n",
        "                detrend         = None,\n",
        "                scale_by_freq   = True,\n",
        "                vmin            = -160,\n",
        "                vmax            = -25,\n",
        "                interpolation   = 'hamming'      \n",
        "            )\n",
        "            plt.set_cmap(jet_cmap)\n",
        "            plt.yscale('symlog')\n",
        "            plt.ylim(RANGE)\n",
        "            plt.savefig(\n",
        "                spectrograms_dir + dir + '/' + file_name[0: 11] + '{:0>8d}'.format(i + 1) + '.jpg'\n",
        "            )\n",
        "            plt.close()"
      ],
      "execution_count": 28,
      "outputs": []
    },
    {
      "cell_type": "code",
      "metadata": {
        "id": "1yMEM08rTwRh",
        "colab": {
          "base_uri": "https://localhost:8080/"
        },
        "outputId": "1b36cde2-2699-4bd4-ddd9-1211735972a7"
      },
      "source": [
        "import os\n",
        "sum([len(files) for r, d, files in os.walk(spectrograms_dir)])"
      ],
      "execution_count": 32,
      "outputs": [
        {
          "output_type": "execute_result",
          "data": {
            "text/plain": [
              "6108"
            ]
          },
          "metadata": {
            "tags": []
          },
          "execution_count": 32
        }
      ]
    },
    {
      "cell_type": "code",
      "metadata": {
        "id": "lZttow9U08DC"
      },
      "source": [
        ""
      ],
      "execution_count": 29,
      "outputs": []
    }
  ]
}